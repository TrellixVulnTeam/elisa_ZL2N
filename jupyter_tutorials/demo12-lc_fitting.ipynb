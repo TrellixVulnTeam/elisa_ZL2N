{
 "cells": [
  {
   "cell_type": "markdown",
   "metadata": {},
   "source": [
    "# Demo No. 12 - Light curve fitting."
   ]
  },
  {
   "cell_type": "markdown",
   "metadata": {},
   "source": [
    "This demo will guide you trough a process of inferring a parameters of the eclipsing binary from the shape of the light curve. We will stat again by importing necessary modules and setting our loging:"
   ]
  },
  {
   "cell_type": "code",
   "execution_count": 1,
   "metadata": {},
   "outputs": [],
   "source": [
    "import os\n",
    "\n",
    "import astropy.units as u\n",
    "\n",
    "from elisa.conf import config\n",
    "from elisa.analytics import LCData\n",
    "from elisa.analytics import BinarySystemAnalyticsTask\n",
    "\n",
    "\n",
    "# setting up a custom logging config to prevent unreasonably long log messages during fit\n",
    "config.LOG_CONFIG ='jupyter_fit_logging.json'\n",
    "config.set_up_logging() "
   ]
  },
  {
   "cell_type": "markdown",
   "metadata": {},
   "source": [
    "In this particular case of KIC 4851217, we will help ourselves by using previous results obtained from radial velocity fit. In particular, radial velocities are much more sensitive to mass ratio of the components, therefore we will adopt the value obtained in previous demo and we will keep it fixed. \n",
    "\n",
    "The procedure itself is very similar to the one mentioned in the previous demo 11. Initially, we will initiate the dataset with our Kepler phase curve:"
   ]
  },
  {
   "cell_type": "code",
   "execution_count": 2,
   "metadata": {},
   "outputs": [],
   "source": [
    "kepler_data = LCData.load_from_file(filename='demo_data/lc_data/kepler_phs_crv.dat', \n",
    "                                    x_unit=u.dimensionless_unscaled, \n",
    "                                    y_unit=u.dimensionless_unscaled\n",
    "                                   )"
   ]
  },
  {
   "cell_type": "markdown",
   "metadata": {},
   "source": [
    "This will be followed by initialization of `BinarySystemAnalyticsTask`, where light curves are provided as values of dictionary with filter names as their corresponding keys:"
   ]
  },
  {
   "cell_type": "code",
   "execution_count": 3,
   "metadata": {},
   "outputs": [],
   "source": [
    "task = BinarySystemAnalyticsTask(light_curves={'Kepler': kepler_data})"
   ]
  },
  {
   "cell_type": "markdown",
   "metadata": {},
   "source": [
    "Similarly to rv_fit module, we can also pick from `standard` and `community` approach. We can acces lists of available parameters in a similar fashion:"
   ]
  },
  {
   "cell_type": "code",
   "execution_count": 4,
   "metadata": {},
   "outputs": [
    {
     "data": {
      "text/plain": [
       "{'standard': ['p__mass',\n",
       "  's__mass',\n",
       "  'inclination',\n",
       "  'eccentricity',\n",
       "  'argument_of_periastron',\n",
       "  'period',\n",
       "  'primary_minimum_time',\n",
       "  'p__t_eff',\n",
       "  's__t_eff',\n",
       "  'p__surface_potential',\n",
       "  's__surface_potential',\n",
       "  'p__gravity_darkening',\n",
       "  's__gravity_darkening',\n",
       "  'p__albedo',\n",
       "  's__albedo',\n",
       "  'additional_light',\n",
       "  'phase_shift'],\n",
       " 'community': ['mass_ratio',\n",
       "  'semi_major_axis',\n",
       "  'inclination',\n",
       "  'eccentricity',\n",
       "  'argument_of_periastron',\n",
       "  'period',\n",
       "  'primary_minimum_time',\n",
       "  'p__t_eff',\n",
       "  's__t_eff',\n",
       "  'p__surface_potential',\n",
       "  's__surface_potential',\n",
       "  'p__gravity_darkening',\n",
       "  's__gravity_darkening',\n",
       "  'p__albedo',\n",
       "  's__albedo',\n",
       "  'additional_light',\n",
       "  'phase_shift']}"
      ]
     },
     "execution_count": 4,
     "metadata": {},
     "output_type": "execute_result"
    }
   ],
   "source": [
    "task.lc_fit.FIT_PARAMS_COMBINATIONS"
   ]
  },
  {
   "cell_type": "markdown",
   "metadata": {},
   "source": [
    "Using this dictionary, we can define our starting parameters:"
   ]
  },
  {
   "cell_type": "code",
   "execution_count": 5,
   "metadata": {},
   "outputs": [],
   "source": [
    "lc_initial = {\n",
    "    'inclination': {\n",
    "        'value': 81.0,\n",
    "        'fixed': False,\n",
    "        'min': 79,\n",
    "        'max': 83\n",
    "    },\n",
    "    'eccentricity': {\n",
    "        'value': 0.01,\n",
    "        'fixed': False,\n",
    "        'min': 0.00,\n",
    "        'max': 0.05,\n",
    "    },  # value obtained during RV fit but kept variable due to poor coverage of RV measurements and sensitivity of LC \n",
    "        # on eccentricity\n",
    "    'mass_ratio': {\n",
    "        'value': 1.077,\n",
    "        'fixed': True,\n",
    "    },  # value obtained during RV fit\n",
    "    'argument_of_periastron': {\n",
    "        'value': 285,\n",
    "        'fixed': False,\n",
    "        'min': 0,\n",
    "        'max': 360,\n",
    "    },  # similar case to eccentricity\n",
    "    'p__t_eff': {\n",
    "        'value': 7022.0,\n",
    "        'fixed': True,\n",
    "    },  # fixed to value found in literature\n",
    "    's__t_eff': {\n",
    "        'value': 6961.75240,\n",
    "        'fixed': False,\n",
    "        'min': 6700.0,\n",
    "        'max': 7300.0\n",
    "    },\n",
    "    'p__surface_potential': {\n",
    "        'value': 8.1,\n",
    "        'fixed': False,\n",
    "        'min': 7.6,\n",
    "        'max': 8.7,\n",
    "    },\n",
    "    's__surface_potential': {\n",
    "        'value': 5.2,\n",
    "        'fixed': False,\n",
    "        'min': 4.8,\n",
    "        'max': 5.8,\n",
    "    },\n",
    "    'p__albedo': {\n",
    "        'value': 1.0,\n",
    "        'fixed': True\n",
    "    },  \n",
    "    's__albedo': {\n",
    "        'value': 1.0,\n",
    "        'fixed': True\n",
    "    },\n",
    "    'p__gravity_darkening': {\n",
    "        'value': 1.0,\n",
    "        'fixed': True\n",
    "    },  \n",
    "    's__gravity_darkening': {\n",
    "        'value': 1.0,\n",
    "        'fixed': True\n",
    "    },  # we are presuming radiative envelopes on both components\n",
    "    'semi_major_axis': {\n",
    "        'constraint': '11.86 / sin(radians({inclination}))'\n",
    "    },  # using parameter asin(i) obtained from RV fit\n",
    "    'period': {\n",
    "        'value': 2.47028376,\n",
    "        'fixed': True,\n",
    "    },\n",
    "    'additional_light': {\n",
    "        'value': 0.2415143632,\n",
    "        'fixed': False,\n",
    "        'min': 0.20,\n",
    "        'max': 0.30,\n",
    "    },  # there is strong evidence for the presence of the third body\n",
    "    'phase_shift': {\n",
    "        'value': 0,\n",
    "        'fixed': False,\n",
    "        'min': -0.02,\n",
    "        'max': 0.02,\n",
    "    },  # accounting for missalignment of the phase curve\n",
    "}"
   ]
  },
  {
   "cell_type": "markdown",
   "metadata": {},
   "source": [
    "Where we used \"constrained\" parameter `semi_major_axis` to make use of the `asini` parameter obtained during RV fit. Constraint itself is provided in form of a string where other fit parameters to which constraint is attached are in curly brackets. List of available operators and numerals that can be used to form constraint can be accesed here:"
   ]
  },
  {
   "cell_type": "code",
   "execution_count": 6,
   "metadata": {},
   "outputs": [
    {
     "data": {
      "text/plain": [
       "['arcsin',\n",
       " 'arccos',\n",
       " 'arctan',\n",
       " 'log',\n",
       " 'sin',\n",
       " 'cos',\n",
       " 'tan',\n",
       " 'exp',\n",
       " 'degrees',\n",
       " 'radians',\n",
       " '(',\n",
       " ')',\n",
       " '+',\n",
       " '-',\n",
       " '*',\n",
       " '/',\n",
       " '.',\n",
       " '0',\n",
       " '1',\n",
       " '2',\n",
       " '3',\n",
       " '4',\n",
       " '5',\n",
       " '6',\n",
       " '7',\n",
       " '8',\n",
       " '9']"
      ]
     },
     "execution_count": 6,
     "metadata": {},
     "output_type": "execute_result"
    }
   ],
   "source": [
    "task.CONSTRAINT_OPERATORS"
   ]
  },
  {
   "cell_type": "markdown",
   "metadata": {},
   "source": [
    "## Least squares method "
   ]
  },
  {
   "cell_type": "markdown",
   "metadata": {},
   "source": [
    "Before fit itself, it is recommended to make use of multiprocessig capabilities of this package. The least squares method is serially executed method, therefore parallelization has to be implemented during claculation of each light curve. This can be achieved by setting configuration variable `NUMBER_OF_PROCESSES` in this script or by setting `number_of_processes` parameter in you config file: "
   ]
  },
  {
   "cell_type": "code",
   "execution_count": 7,
   "metadata": {},
   "outputs": [],
   "source": [
    "config.NUMBER_OF_PROCESSES = os.cpu_count()  # this will make sure to utilize all processors"
   ]
  },
  {
   "cell_type": "markdown",
   "metadata": {},
   "source": [
    "We can now finally perfom the fit itself. As in the previous demo, we will start with the least squares method. Due to the fact that we expect the system to be detached, we specified the `morphology` argument to be 'detached' instead of 'over-contact'. We also reduced the discredization factor of the primary component to 10 since we expect much larger secondary component compared to the primary component. Suitable value of discredization factor can reduce computational time significantly. Interpolation treshold `interp_treshold` defines maximum number of points in observed data, above which synthetic light curve will be calculated on `interp_treshold` equidistant phases that will be subsequently interpolated to produce residuals for every observed data point. "
   ]
  },
  {
   "cell_type": "code",
   "execution_count": 9,
   "metadata": {
    "scrolled": false
   },
   "outputs": [
    {
     "data": {
      "text/plain": [
       "{'inclination': {'value': 81.31249747137586,\n",
       "  'unit': 'deg',\n",
       "  'param': 'inclination'},\n",
       " 'eccentricity': {'value': 0.03156733949551813,\n",
       "  'unit': '',\n",
       "  'param': 'eccentricity'},\n",
       " 'argument_of_periastron': {'value': 170.88848449779323,\n",
       "  'unit': 'deg',\n",
       "  'param': 'argument_of_periastron'},\n",
       " 's__t_eff': {'value': 6964.964221767688, 'unit': 'K', 'param': 's__t_eff'},\n",
       " 'p__surface_potential': {'value': 8.060166008142827,\n",
       "  'unit': '',\n",
       "  'param': 'p__surface_potential'},\n",
       " 's__surface_potential': {'value': 5.195655285029926,\n",
       "  'unit': '',\n",
       "  'param': 's__surface_potential'},\n",
       " 'additional_light': {'value': 0.23855969358860374,\n",
       "  'unit': '',\n",
       "  'param': 'additional_light'},\n",
       " 'phase_shift': {'value': -0.0003634533938261346,\n",
       "  'unit': '',\n",
       "  'param': 'phase_shift'},\n",
       " 'mass_ratio': {'value': 1.077, 'unit': '', 'param': 'mass_ratio'},\n",
       " 'p__t_eff': {'value': 7022.0, 'unit': 'K', 'param': 'p__t_eff'},\n",
       " 'p__albedo': {'value': 1.0, 'unit': '', 'param': 'p__albedo'},\n",
       " 's__albedo': {'value': 1.0, 'unit': '', 'param': 's__albedo'},\n",
       " 'p__gravity_darkening': {'value': 1.0,\n",
       "  'unit': '',\n",
       "  'param': 'p__gravity_darkening'},\n",
       " 's__gravity_darkening': {'value': 1.0,\n",
       "  'unit': '',\n",
       "  'param': 's__gravity_darkening'},\n",
       " 'semi_major_axis': {'value': 11.997650767602922,\n",
       "  'unit': 'solRad',\n",
       "  'param': 'semi_major_axis'},\n",
       " 'r_squared': {'value': 0.9995675149129067, 'param': 'r_squared'},\n",
       " 'period': {'value': 2.47028376, 'unit': 'd', 'param': 'period'}}"
      ]
     },
     "execution_count": 9,
     "metadata": {},
     "output_type": "execute_result"
    }
   ],
   "source": [
    "param_file = 'demo_data/aux/lc_least_squares.json'\n",
    "\n",
    "# # this part can take a few hours to complete in case of eccentric orbit\n",
    "# fit_params = task.lc_fit.fit(x0=lc_initial, method='least_squares', morphology='detached', discretization=10,\n",
    "#                              interp_treshold=150)\n",
    "# task.lc_fit.store_parameters(filename=param_file)\n",
    "\n",
    "# loading stored results\n",
    "task.lc_fit.load_parameters(filename='demo_data/aux/lc_least_squares.json')\n"
   ]
  },
  {
   "cell_type": "markdown",
   "metadata": {},
   "source": [
    "The resulting model can be visualized as well:"
   ]
  },
  {
   "cell_type": "code",
   "execution_count": 10,
   "metadata": {
    "scrolled": false
   },
   "outputs": [
    {
     "name": "stdout",
     "output_type": "stream",
     "text": [
      "2020-03-03 17:01:35,177 - 21663 - observer.mp - INFO: starting observation worker for batch index 0\n",
      "2020-03-03 17:01:35,178 - 21664 - observer.mp - INFO: starting observation worker for batch index 1\n",
      "2020-03-03 17:01:35,178 - 21665 - observer.mp - INFO: starting observation worker for batch index 2\n",
      "2020-03-03 17:01:35,180 - 21666 - observer.mp - INFO: starting observation worker for batch index 3\n",
      "2020-03-03 17:01:35,182 - 21667 - observer.mp - INFO: starting observation worker for batch index 4\n",
      "2020-03-03 17:01:35,185 - 21669 - observer.mp - INFO: starting observation worker for batch index 6\n",
      "2020-03-03 17:01:35,183 - 21668 - observer.mp - INFO: starting observation worker for batch index 5\n",
      "2020-03-03 17:01:35,186 - 21670 - observer.mp - INFO: starting observation worker for batch index 7\n",
      "2020-03-03 17:01:35,203 - 21665 - binary_system.curves.lc - INFO: lc will be calculated in a rigorous `phase to phase manner` without approximations\n",
      "2020-03-03 17:01:35,204 - 21666 - binary_system.curves.lc - INFO: lc will be calculated in a rigorous `phase to phase manner` without approximations\n",
      "2020-03-03 17:01:35,205 - 21663 - binary_system.curves.lc - INFO: lc will be calculated in a rigorous `phase to phase manner` without approximations\n",
      "2020-03-03 17:01:35,207 - 21667 - binary_system.curves.lc - INFO: lc will be calculated in a rigorous `phase to phase manner` without approximations\n",
      "2020-03-03 17:01:35,210 - 21664 - binary_system.curves.lc - INFO: lc will be calculated in a rigorous `phase to phase manner` without approximations\n",
      "2020-03-03 17:01:35,213 - 21669 - binary_system.curves.lc - INFO: lc will be calculated in a rigorous `phase to phase manner` without approximations\n",
      "2020-03-03 17:01:35,236 - 21668 - binary_system.curves.lc - INFO: lc will be calculated in a rigorous `phase to phase manner` without approximations\n",
      "2020-03-03 17:01:35,257 - 21670 - binary_system.curves.lc - INFO: lc will be calculated in a rigorous `phase to phase manner` without approximations\n",
      "2020-03-03 17:02:01,112 - 21670 - observer.mp - INFO: observation worker for batch index 7 finished\n",
      "2020-03-03 17:02:01,701 - 21665 - observer.mp - INFO: observation worker for batch index 2 finished\n",
      "2020-03-03 17:02:01,794 - 21669 - observer.mp - INFO: observation worker for batch index 6 finished\n",
      "2020-03-03 17:02:02,039 - 21663 - observer.mp - INFO: observation worker for batch index 0 finished\n",
      "2020-03-03 17:02:02,055 - 21667 - observer.mp - INFO: observation worker for batch index 4 finished\n",
      "2020-03-03 17:02:02,117 - 21668 - observer.mp - INFO: observation worker for batch index 5 finished\n",
      "2020-03-03 17:02:02,580 - 21664 - observer.mp - INFO: observation worker for batch index 1 finished\n",
      "2020-03-03 17:02:03,010 - 21666 - observer.mp - INFO: observation worker for batch index 3 finished\n"
     ]
    },
    {
     "data": {
      "image/png": "[encoded data removed]",
      "text/plain": [
       "<matplotlib.figure.Figure at 0x7f004eea69e8>"
      ]
     },
     "metadata": {
      "needs_background": "light"
     },
     "output_type": "display_data"
    }
   ],
   "source": [
    "task.lc_fit.plot.model(discretization=10, number_of_points=150, start_phase=-0.6, stop_phase=0.6)"
   ]
  },
  {
   "cell_type": "markdown",
   "metadata": {},
   "source": [
    "## Markov chain Monte Carlo (MCMC)"
   ]
  },
  {
   "cell_type": "markdown",
   "metadata": {},
   "source": [
    "Markov chain Monte Carlo (MCMC) is also implemented for light curve fitting module and it similarly serves to produce reliable error estimates on your eclipsing binary parameters. Since this method supports parallel approach, we can change our approach to paralelism by changing few config variables since it turns out to be much more efficient to prallelize the process on the level of the MCMC method itself:"
   ]
  },
  {
   "cell_type": "code",
   "execution_count": 12,
   "metadata": {},
   "outputs": [],
   "source": [
    "config.NUMBER_OF_PROCESSES = 1  # we want a single process approach on the light curve calculation level\n",
    "config.NUMBER_OF_MCMC_PROCESSES = os.cpu_count()"
   ]
  },
  {
   "cell_type": "code",
   "execution_count": null,
   "metadata": {},
   "outputs": [],
   "source": []
  }
 ],
 "metadata": {
  "kernelspec": {
   "display_name": "Python 3",
   "language": "python",
   "name": "python3"
  },
  "language_info": {
   "codemirror_mode": {
    "name": "ipython",
    "version": 3
   },
   "file_extension": ".py",
   "mimetype": "text/x-python",
   "name": "python",
   "nbconvert_exporter": "python",
   "pygments_lexer": "ipython3",
   "version": "3.6.10"
  }
 },
 "nbformat": 4,
 "nbformat_minor": 4
}
