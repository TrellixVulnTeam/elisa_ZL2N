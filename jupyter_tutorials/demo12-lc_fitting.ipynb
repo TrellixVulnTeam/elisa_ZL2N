{
 "cells": [
  {
   "cell_type": "markdown",
   "metadata": {},
   "source": [
    "# Demo No. 12 - Light curve fitting."
   ]
  },
  {
   "cell_type": "markdown",
   "metadata": {},
   "source": [
    "This demo will guide you trough a process of inferring a parameters of the eclipsing binary from the shape of the light curve. We will stat again by importing necessary modules and setting our loging:"
   ]
  },
  {
   "cell_type": "code",
   "execution_count": 1,
   "metadata": {},
   "outputs": [],
   "source": [
    "import os\n",
    "\n",
    "import astropy.units as u\n",
    "\n",
    "from elisa.conf import config\n",
    "from elisa.analytics import LCData\n",
    "from elisa.analytics import BinarySystemAnalyticsTask\n",
    "\n",
    "\n",
    "# setting up a custom logging config to prevent unreasonably long log messages during fit\n",
    "config.LOG_CONFIG ='jupyter_fit_logging.json'\n",
    "config.set_up_logging() "
   ]
  },
  {
   "cell_type": "markdown",
   "metadata": {},
   "source": [
    "In this particular case of KIC 4851217, we will help ourselves by using previous results obtained from radial velocity fit. In particular, radial velocities are much more sensitive to mass ratio of the components, therefore we will adopt the value obtained in previous demo and we will keep it fixed. \n",
    "\n",
    "The procedure itself is very similar to the one mentioned in the previous demo 11. Initially, we will initiate the dataset with our Kepler phase curve:"
   ]
  },
  {
   "cell_type": "code",
   "execution_count": 2,
   "metadata": {},
   "outputs": [],
   "source": [
    "kepler_data = LCData.load_from_file(filename='demo_data/lc_data/kepler_phs_crv.dat', \n",
    "                                    x_unit=u.dimensionless_unscaled, \n",
    "                                    y_unit=u.dimensionless_unscaled\n",
    "                                   )"
   ]
  },
  {
   "cell_type": "markdown",
   "metadata": {},
   "source": [
    "This will be followed by initialization of `BinarySystemAnalyticsTask`, where light curves are provided as values of dictionary with filter names as their corresponding keys:"
   ]
  },
  {
   "cell_type": "code",
   "execution_count": 3,
   "metadata": {},
   "outputs": [],
   "source": [
    "task = BinarySystemAnalyticsTask(light_curves={'Kepler': kepler_data})"
   ]
  },
  {
   "cell_type": "markdown",
   "metadata": {},
   "source": [
    "Similarly to rv_fit module, we can also pick from `standard` and `community` approach. We can acces lists of available parameters in a similar fashion:"
   ]
  },
  {
   "cell_type": "code",
   "execution_count": 5,
   "metadata": {},
   "outputs": [
    {
     "data": {
      "text/plain": [
       "{'standard': ['p__mass',\n",
       "  's__mass',\n",
       "  'inclination',\n",
       "  'eccentricity',\n",
       "  'argument_of_periastron',\n",
       "  'period',\n",
       "  'primary_minimum_time',\n",
       "  'p__t_eff',\n",
       "  's__t_eff',\n",
       "  'p__surface_potential',\n",
       "  's__surface_potential',\n",
       "  'p__gravity_darkening',\n",
       "  's__gravity_darkening',\n",
       "  'p__albedo',\n",
       "  's__albedo',\n",
       "  'additional_light',\n",
       "  'phase_shift'],\n",
       " 'community': ['mass_ratio',\n",
       "  'semi_major_axis',\n",
       "  'inclination',\n",
       "  'eccentricity',\n",
       "  'argument_of_periastron',\n",
       "  'period',\n",
       "  'primary_minimum_time',\n",
       "  'p__t_eff',\n",
       "  's__t_eff',\n",
       "  'p__surface_potential',\n",
       "  's__surface_potential',\n",
       "  'p__gravity_darkening',\n",
       "  's__gravity_darkening',\n",
       "  'p__albedo',\n",
       "  's__albedo',\n",
       "  'additional_light',\n",
       "  'phase_shift']}"
      ]
     },
     "execution_count": 5,
     "metadata": {},
     "output_type": "execute_result"
    }
   ],
   "source": [
    "task.lc_fit.FIT_PARAMS_COMBINATIONS"
   ]
  },
  {
   "cell_type": "markdown",
   "metadata": {},
   "source": [
    "Using this dictionary, we can define our starting parameters:"
   ]
  },
  {
   "cell_type": "code",
   "execution_count": null,
   "metadata": {},
   "outputs": [],
   "source": [
    "lc_initial = {\n",
    "    'inclination': {\n",
    "        'value': 81.0,\n",
    "        'fixed': False,\n",
    "        'min': 79,\n",
    "        'max': 83\n",
    "    },\n",
    "    'eccentricity': {\n",
    "        'value': 0.01,\n",
    "        'fixed': False,\n",
    "        'min': 0.00,\n",
    "        'max': 0.05,\n",
    "    },  # value obtained during RV fit but kept variable due to poor coverage of RV measurements and sensitivity of LC \n",
    "        # on eccentricity\n",
    "    'mass_ratio': {\n",
    "        'value': 1.077,\n",
    "        'fixed': True,\n",
    "    },  # value obtained during RV fit\n",
    "    'argument_of_periastron': {\n",
    "        'value': 285,\n",
    "        'fixed': False,\n",
    "        'min': 0,\n",
    "        'max': 360,\n",
    "    },  # similar case to eccentricity\n",
    "    'p__t_eff': {\n",
    "        'value': 7022.0,\n",
    "        'fixed': True,\n",
    "    },  # fixed to value found in literature\n",
    "    's__t_eff': {\n",
    "        'value': 6961.75240,\n",
    "        'fixed': False,\n",
    "        'min': 6700.0,\n",
    "        'max': 7300.0\n",
    "    },\n",
    "    'p__surface_potential': {\n",
    "        'value': 8.1,\n",
    "        'fixed': False,\n",
    "        'min': 7.6,\n",
    "        'max': 8.7,\n",
    "    },\n",
    "    's__surface_potential': {\n",
    "        'value': 5.2,\n",
    "        'fixed': False,\n",
    "        'min': 4.8,\n",
    "        'max': 5.8,\n",
    "    },\n",
    "    'p__albedo': {\n",
    "        'value': 1.0,\n",
    "        'fixed': True\n",
    "    },  \n",
    "    's__albedo': {\n",
    "        'value': 1.0,\n",
    "        'fixed': True\n",
    "    },\n",
    "    'p__gravity_darkening': {\n",
    "        'value': 1.0,\n",
    "        'fixed': True\n",
    "    },  \n",
    "    's__gravity_darkening': {\n",
    "        'value': 1.0,\n",
    "        'fixed': True\n",
    "    },  # we are presuming radiative envelopes on both components\n",
    "    'semi_major_axis': {\n",
    "        'constraint': '11.86 / sin(radians({inclination}))'\n",
    "    },  # using parameter asin(i) obtained from RV fit\n",
    "    'period': {\n",
    "        'value': 2.47028376,\n",
    "        'fixed': True,\n",
    "    },\n",
    "    'additional_light': {\n",
    "        'value': 0.2415143632,\n",
    "        'fixed': False,\n",
    "        'min': 0.20,\n",
    "        'max': 0.30,\n",
    "    },  # there is strong evidence for the presence of the third body\n",
    "    'phase_shift': {\n",
    "        'value': 0,\n",
    "        'fixed': False,\n",
    "        'min': -0.02,\n",
    "        'max': 0.02,\n",
    "    },  # accounting for missalignment of the phase curve\n",
    "}"
   ]
  }
 ],
 "metadata": {
  "kernelspec": {
   "display_name": "Python 3",
   "language": "python",
   "name": "python3"
  },
  "language_info": {
   "codemirror_mode": {
    "name": "ipython",
    "version": 3
   },
   "file_extension": ".py",
   "mimetype": "text/x-python",
   "name": "python",
   "nbconvert_exporter": "python",
   "pygments_lexer": "ipython3",
   "version": "3.6.10"
  }
 },
 "nbformat": 4,
 "nbformat_minor": 4
}
