{
 "cells": [
  {
   "cell_type": "markdown",
   "metadata": {},
   "source": [
    "# Demo No. 12 - Light curve fitting."
   ]
  },
  {
   "cell_type": "markdown",
   "metadata": {},
   "source": [
    "This demo will guide you trough a process of inferring a parameters of the eclipsing binary from the shape of the light curve. We will stat again by importing necessary modules and setting our loging:"
   ]
  },
  {
   "cell_type": "code",
   "execution_count": 1,
   "metadata": {},
   "outputs": [],
   "source": [
    "import os\n",
    "\n",
    "import astropy.units as u\n",
    "\n",
    "from elisa.conf import config\n",
    "from elisa.analytics import LCData\n",
    "from elisa.analytics import BinarySystemAnalyticsTask\n",
    "\n",
    "\n",
    "# setting up a custom logging config to prevent unreasonably long log messages during fit\n",
    "config.LOG_CONFIG ='jupyter_fit_logging.json'\n",
    "config.set_up_logging() "
   ]
  },
  {
   "cell_type": "markdown",
   "metadata": {},
   "source": [
    "In this particular case of KIC 4851217, we will help ourselves by using previous results obtained from radial velocity fit. In particular, radial velocities are much more sensitive to mass ratio of the components, therefore we will adopt the value obtained in previous demo and we will keep it fixed. \n",
    "\n",
    "The procedure itself is very similar to the one mentioned in the previous demo 11. Initially, we will initiate the dataset with our Kepler phase curve:"
   ]
  },
  {
   "cell_type": "code",
   "execution_count": 2,
   "metadata": {},
   "outputs": [],
   "source": [
    "kepler_data = LCData.load_from_file(filename='demo_data/lc_data/kepler_phs_crv.dat', \n",
    "                                    x_unit=u.dimensionless_unscaled, \n",
    "                                    y_unit=u.dimensionless_unscaled\n",
    "                                   )"
   ]
  },
  {
   "cell_type": "markdown",
   "metadata": {},
   "source": [
    "This will be followed by initialization of `BinarySystemAnalyticsTask`, where light curves are provided as values of dictionary with filter names as their corresponding keys:"
   ]
  },
  {
   "cell_type": "code",
   "execution_count": 3,
   "metadata": {},
   "outputs": [],
   "source": [
    "task = BinarySystemAnalyticsTask(light_curves={'Kepler': kepler_data})"
   ]
  },
  {
   "cell_type": "markdown",
   "metadata": {},
   "source": [
    "Similarly to rv_fit module, we can also pick from `standard` and `community` approach. We can acces lists of available parameters in a similar fashion:"
   ]
  },
  {
   "cell_type": "code",
   "execution_count": 4,
   "metadata": {},
   "outputs": [
    {
     "data": {
      "text/plain": [
       "{'standard': ['p__mass',\n",
       "  's__mass',\n",
       "  'inclination',\n",
       "  'eccentricity',\n",
       "  'argument_of_periastron',\n",
       "  'period',\n",
       "  'primary_minimum_time',\n",
       "  'p__t_eff',\n",
       "  's__t_eff',\n",
       "  'p__surface_potential',\n",
       "  's__surface_potential',\n",
       "  'p__gravity_darkening',\n",
       "  's__gravity_darkening',\n",
       "  'p__albedo',\n",
       "  's__albedo',\n",
       "  'additional_light',\n",
       "  'phase_shift'],\n",
       " 'community': ['mass_ratio',\n",
       "  'semi_major_axis',\n",
       "  'inclination',\n",
       "  'eccentricity',\n",
       "  'argument_of_periastron',\n",
       "  'period',\n",
       "  'primary_minimum_time',\n",
       "  'p__t_eff',\n",
       "  's__t_eff',\n",
       "  'p__surface_potential',\n",
       "  's__surface_potential',\n",
       "  'p__gravity_darkening',\n",
       "  's__gravity_darkening',\n",
       "  'p__albedo',\n",
       "  's__albedo',\n",
       "  'additional_light',\n",
       "  'phase_shift']}"
      ]
     },
     "execution_count": 4,
     "metadata": {},
     "output_type": "execute_result"
    }
   ],
   "source": [
    "task.lc_fit.FIT_PARAMS_COMBINATIONS"
   ]
  },
  {
   "cell_type": "markdown",
   "metadata": {},
   "source": [
    "Using this dictionary, we can define our starting parameters:"
   ]
  },
  {
   "cell_type": "code",
   "execution_count": 5,
   "metadata": {},
   "outputs": [],
   "source": [
    "lc_initial = {\n",
    "    'inclination': {\n",
    "        'value': 81.0,\n",
    "        'fixed': False,\n",
    "        'min': 79,\n",
    "        'max': 83\n",
    "    },\n",
    "    'eccentricity': {\n",
    "        'value': 0.01,\n",
    "        'fixed': False,\n",
    "        'min': 0.00,\n",
    "        'max': 0.05,\n",
    "    },  # value obtained during RV fit but kept variable due to poor coverage of RV measurements and sensitivity of LC \n",
    "        # on eccentricity\n",
    "    'mass_ratio': {\n",
    "        'value': 1.077,\n",
    "        'fixed': True,\n",
    "    },  # value obtained during RV fit\n",
    "    'argument_of_periastron': {\n",
    "        'value': 285,\n",
    "        'fixed': False,\n",
    "        'min': 0,\n",
    "        'max': 360,\n",
    "    },  # similar case to eccentricity\n",
    "    'p__t_eff': {\n",
    "        'value': 7022.0,\n",
    "        'fixed': True,\n",
    "    },  # fixed to value found in literature\n",
    "    's__t_eff': {\n",
    "        'value': 6961.75240,\n",
    "        'fixed': False,\n",
    "        'min': 6700.0,\n",
    "        'max': 7300.0\n",
    "    },\n",
    "    'p__surface_potential': {\n",
    "        'value': 8.1,\n",
    "        'fixed': False,\n",
    "        'min': 7.6,\n",
    "        'max': 8.7,\n",
    "    },\n",
    "    's__surface_potential': {\n",
    "        'value': 5.2,\n",
    "        'fixed': False,\n",
    "        'min': 4.8,\n",
    "        'max': 5.8,\n",
    "    },\n",
    "    'p__albedo': {\n",
    "        'value': 1.0,\n",
    "        'fixed': True\n",
    "    },  \n",
    "    's__albedo': {\n",
    "        'value': 1.0,\n",
    "        'fixed': True\n",
    "    },\n",
    "    'p__gravity_darkening': {\n",
    "        'value': 1.0,\n",
    "        'fixed': True\n",
    "    },  \n",
    "    's__gravity_darkening': {\n",
    "        'value': 1.0,\n",
    "        'fixed': True\n",
    "    },  # we are presuming radiative envelopes on both components\n",
    "    'semi_major_axis': {\n",
    "        'constraint': '11.86 / sin(radians({inclination}))'\n",
    "    },  # using parameter asin(i) obtained from RV fit\n",
    "    'period': {\n",
    "        'value': 2.47028376,\n",
    "        'fixed': True,\n",
    "    },\n",
    "    'additional_light': {\n",
    "        'value': 0.2415143632,\n",
    "        'fixed': False,\n",
    "        'min': 0.20,\n",
    "        'max': 0.30,\n",
    "    },  # there is strong evidence for the presence of the third body\n",
    "    'phase_shift': {\n",
    "        'value': 0,\n",
    "        'fixed': False,\n",
    "        'min': -0.02,\n",
    "        'max': 0.02,\n",
    "    },  # accounting for missalignment of the phase curve\n",
    "}"
   ]
  },
  {
   "cell_type": "markdown",
   "metadata": {},
   "source": [
    "Where we used \"constrained\" parameter `semi_major_axis` to make use of the `asini` parameter obtained during RV fit. Constraint itself is provided in form of a string where other fit parameters to which constraint is attached are in curly brackets. List of available operators and numerals that can be used to form constraint can be accesed here:"
   ]
  },
  {
   "cell_type": "code",
   "execution_count": 6,
   "metadata": {},
   "outputs": [
    {
     "data": {
      "text/plain": [
       "['arcsin',\n",
       " 'arccos',\n",
       " 'arctan',\n",
       " 'log',\n",
       " 'sin',\n",
       " 'cos',\n",
       " 'tan',\n",
       " 'exp',\n",
       " 'degrees',\n",
       " 'radians',\n",
       " '(',\n",
       " ')',\n",
       " '+',\n",
       " '-',\n",
       " '*',\n",
       " '/',\n",
       " '.',\n",
       " '0',\n",
       " '1',\n",
       " '2',\n",
       " '3',\n",
       " '4',\n",
       " '5',\n",
       " '6',\n",
       " '7',\n",
       " '8',\n",
       " '9']"
      ]
     },
     "execution_count": 6,
     "metadata": {},
     "output_type": "execute_result"
    }
   ],
   "source": [
    "task.CONSTRAINT_OPERATORS"
   ]
  },
  {
   "cell_type": "markdown",
   "metadata": {},
   "source": [
    "## Least squares method "
   ]
  },
  {
   "cell_type": "markdown",
   "metadata": {},
   "source": [
    "Before fit itself, it is recommended to make use of multiprocessig capabilities of this package. The least squares method is serially executed method, therefore parallelization has to be implemented during claculation of each light curve. This can be achieved by setting configuration variable `NUMBER_OF_PROCESSES` in this script or by setting `number_of_processes` parameter in you config file: "
   ]
  },
  {
   "cell_type": "code",
   "execution_count": 7,
   "metadata": {},
   "outputs": [],
   "source": [
    "config.NUMBER_OF_PROCESSES = os.cpu_count()  # this will make sure to utilize all available processors"
   ]
  },
  {
   "cell_type": "markdown",
   "metadata": {},
   "source": [
    "We can now finally perfom the fit itself. As in the previous demo, we will start with the least squares method. Due to the fact that we expect the system to be detached, we specified the `morphology` argument to be 'detached' instead of 'over-contact'. We also reduced the discredization factor of the primary component to 10 since we expect much larger secondary component compared to the primary component. Suitable value of discredization factor can reduce computational time significantly. Interpolation treshold `interp_treshold` defines maximum number of points in observed data, above which synthetic light curve will be calculated on `interp_treshold` equidistant phases that will be subsequently interpolated to produce residuals for every observed data point. "
   ]
  },
  {
   "cell_type": "code",
   "execution_count": 8,
   "metadata": {
    "scrolled": false
   },
   "outputs": [
    {
     "data": {
      "text/plain": [
       "{'inclination': {'value': 81.31249747137586,\n",
       "  'unit': 'deg',\n",
       "  'param': 'inclination'},\n",
       " 'eccentricity': {'value': 0.03156733949551813,\n",
       "  'unit': '',\n",
       "  'param': 'eccentricity'},\n",
       " 'argument_of_periastron': {'value': 170.88848449779323,\n",
       "  'unit': 'deg',\n",
       "  'param': 'argument_of_periastron'},\n",
       " 's__t_eff': {'value': 6964.964221767688, 'unit': 'K', 'param': 's__t_eff'},\n",
       " 'p__surface_potential': {'value': 8.060166008142827,\n",
       "  'unit': '',\n",
       "  'param': 'p__surface_potential'},\n",
       " 's__surface_potential': {'value': 5.195655285029926,\n",
       "  'unit': '',\n",
       "  'param': 's__surface_potential'},\n",
       " 'additional_light': {'value': 0.23855969358860374,\n",
       "  'unit': '',\n",
       "  'param': 'additional_light'},\n",
       " 'phase_shift': {'value': -0.0003634533938261346,\n",
       "  'unit': '',\n",
       "  'param': 'phase_shift'},\n",
       " 'mass_ratio': {'value': 1.077, 'unit': '', 'param': 'mass_ratio'},\n",
       " 'p__t_eff': {'value': 7022.0, 'unit': 'K', 'param': 'p__t_eff'},\n",
       " 'p__albedo': {'value': 1.0, 'unit': '', 'param': 'p__albedo'},\n",
       " 's__albedo': {'value': 1.0, 'unit': '', 'param': 's__albedo'},\n",
       " 'p__gravity_darkening': {'value': 1.0,\n",
       "  'unit': '',\n",
       "  'param': 'p__gravity_darkening'},\n",
       " 's__gravity_darkening': {'value': 1.0,\n",
       "  'unit': '',\n",
       "  'param': 's__gravity_darkening'},\n",
       " 'semi_major_axis': {'value': 11.997650767602922,\n",
       "  'unit': 'solRad',\n",
       "  'param': 'semi_major_axis'},\n",
       " 'r_squared': {'value': 0.9995675149129067, 'param': 'r_squared'},\n",
       " 'period': {'value': 2.47028376, 'unit': 'd', 'param': 'period'}}"
      ]
     },
     "execution_count": 8,
     "metadata": {},
     "output_type": "execute_result"
    }
   ],
   "source": [
    "param_file = 'demo_data/aux/lc_least_squares.json'\n",
    "\n",
    "# # this part can take a few hours to complete in case of eccentric orbit\n",
    "# fit_params = task.lc_fit.fit(x0=lc_initial, method='least_squares', morphology='detached', discretization=10,\n",
    "#                              interp_treshold=150)\n",
    "# task.lc_fit.store_parameters(filename=param_file)\n",
    "\n",
    "# loading stored results\n",
    "fit_params = task.lc_fit.load_parameters(filename='demo_data/aux/lc_least_squares_params.json')\n",
    "fit_params"
   ]
  },
  {
   "cell_type": "markdown",
   "metadata": {},
   "source": [
    "The resulting model can be visualized as well:"
   ]
  },
  {
   "cell_type": "code",
   "execution_count": 9,
   "metadata": {
    "scrolled": false
   },
   "outputs": [
    {
     "name": "stdout",
     "output_type": "stream",
     "text": [
      "2020-04-04 12:53:49,131 - 1246 - observer.mp - INFO: starting observation worker for batch index 0\n",
      "2020-04-04 12:53:49,132 - 1249 - observer.mp - INFO: starting observation worker for batch index 2\n",
      "2020-04-04 12:53:49,131 - 1248 - observer.mp - INFO: starting observation worker for batch index 1\n",
      "2020-04-04 12:53:49,139 - 1249 - binary_system.curves.lc - INFO: lc will be calculated in a rigorous `phase to phase manner` without approximations\n",
      "2020-04-04 12:53:49,134 - 1250 - observer.mp - INFO: starting observation worker for batch index 3\n",
      "2020-04-04 12:53:49,146 - 1248 - binary_system.curves.lc - INFO: lc will be calculated in a rigorous `phase to phase manner` without approximations\n",
      "2020-04-04 12:53:49,150 - 1250 - binary_system.curves.lc - INFO: lc will be calculated in a rigorous `phase to phase manner` without approximations\n",
      "2020-04-04 12:53:49,150 - 1246 - binary_system.curves.lc - INFO: lc will be calculated in a rigorous `phase to phase manner` without approximations\n",
      "2020-04-04 12:54:25,457 - 1250 - observer.mp - INFO: observation worker for batch index 3 finished\n",
      "2020-04-04 12:54:26,174 - 1246 - observer.mp - INFO: observation worker for batch index 0 finished\n",
      "2020-04-04 12:54:26,373 - 1249 - observer.mp - INFO: observation worker for batch index 2 finished\n",
      "2020-04-04 12:54:26,459 - 1248 - observer.mp - INFO: observation worker for batch index 1 finished\n"
     ]
    },
    {
     "data": {
      "image/png": "[encoded data removed]",
      "text/plain": [
       "<matplotlib.figure.Figure at 0x7f9138fcbfd0>"
      ]
     },
     "metadata": {
      "needs_background": "light"
     },
     "output_type": "display_data"
    }
   ],
   "source": [
    "task.lc_fit.plot.model(discretization=10, number_of_points=150, start_phase=-0.6, stop_phase=0.6)"
   ]
  },
  {
   "cell_type": "markdown",
   "metadata": {},
   "source": [
    "## Markov chain Monte Carlo (MCMC)"
   ]
  },
  {
   "cell_type": "markdown",
   "metadata": {},
   "source": [
    "Markov chain Monte Carlo (MCMC) is also implemented for light curve fitting module and it serves similar purpose to produce a reliable error estimates on your eclipsing binary parameters. Since this method supports parallel approach, we can change our approach to paralelism by changing few config variables since it turns out to be much more efficient to parallelize the process on the level of the MCMC method itself:"
   ]
  },
  {
   "cell_type": "code",
   "execution_count": 10,
   "metadata": {},
   "outputs": [],
   "source": [
    "config.NUMBER_OF_PROCESSES = 1  # we want a single process approach on the light curve integration level\n",
    "config.NUMBER_OF_MCMC_PROCESSES = os.cpu_count()"
   ]
  },
  {
   "cell_type": "markdown",
   "metadata": {},
   "source": [
    "Least squares method already found approximate position of the solution and the good coverage of the phase curve means that we can probably trust that solution and use it as a starting point for our MCMC sampling and for the reduction in the size of the search space in order to speed up the burn-in phase. Estimation on the size of the searching box for each parameter is left to user, however, the validity of the selected interval can be asserted aposteriori by studying the traces where you should avoid any clipping of your chain distribution by the borders of the searching box:"
   ]
  },
  {
   "cell_type": "code",
   "execution_count": 11,
   "metadata": {},
   "outputs": [],
   "source": [
    "lc_initial = {\n",
    "    'inclination': {\n",
    "        'value': fit_params['inclination']['value'],\n",
    "        'fixed': False,\n",
    "        'min': fit_params['inclination']['value'] - 2,\n",
    "        'max': fit_params['inclination']['value'] + 2\n",
    "    },\n",
    "    'eccentricity': {\n",
    "        'value': fit_params['eccentricity']['value'],\n",
    "        'fixed': False,\n",
    "        'min': fit_params['eccentricity']['value'] - 0.01,\n",
    "        'max': fit_params['eccentricity']['value'] + 0.01,\n",
    "    },\n",
    "    'mass_ratio': {\n",
    "        'value': 1.077,\n",
    "        'fixed': True,\n",
    "    },  # value obtained during RV fit\n",
    "    'argument_of_periastron': {\n",
    "        'value': fit_params['argument_of_periastron']['value'],\n",
    "        'fixed': False,\n",
    "        'min': fit_params['argument_of_periastron']['value'] - 30,\n",
    "        'max': fit_params['argument_of_periastron']['value'] + 30,\n",
    "    },  \n",
    "    'p__t_eff': {\n",
    "        'value': 7022.0,\n",
    "        'fixed': True,\n",
    "    },  # fixed to value found in literature\n",
    "    's__t_eff': {\n",
    "        'value': fit_params['s__t_eff']['value'],\n",
    "        'fixed': False,\n",
    "        'min': fit_params['s__t_eff']['value'] - 100,\n",
    "        'max': fit_params['s__t_eff']['value'] + 100\n",
    "    },\n",
    "    'p__surface_potential': {\n",
    "        'value': fit_params['p__surface_potential']['value'],\n",
    "        'fixed': False,\n",
    "        'min': fit_params['p__surface_potential']['value'] - 0.2,\n",
    "        'max': fit_params['p__surface_potential']['value'] + 0.2,\n",
    "    },\n",
    "    's__surface_potential': {\n",
    "        'value': fit_params['s__surface_potential']['value'],\n",
    "        'fixed': False,\n",
    "        'min': fit_params['s__surface_potential']['value'] - 0.1,\n",
    "        'max': fit_params['s__surface_potential']['value'] + 0.1,\n",
    "    },\n",
    "    'p__albedo': {\n",
    "        'value': 1.0,\n",
    "        'fixed': True\n",
    "    },  \n",
    "    's__albedo': {\n",
    "        'value': 1.0,\n",
    "        'fixed': True\n",
    "    },\n",
    "    'p__gravity_darkening': {\n",
    "        'value': 1.0,\n",
    "        'fixed': True\n",
    "    },  \n",
    "    's__gravity_darkening': {\n",
    "        'value': 1.0,\n",
    "        'fixed': True\n",
    "    },  # we are presuming radiative envelopes on both components\n",
    "    'semi_major_axis': {\n",
    "        'constraint': '11.86 / sin(radians({inclination}))'\n",
    "    },  # using parameter asin(i) obtained from RV fit\n",
    "    'period': {\n",
    "        'value': 2.47028376,\n",
    "        'fixed': True,\n",
    "    },\n",
    "    'additional_light': {\n",
    "        'value': fit_params['additional_light']['value'],\n",
    "        'fixed': False,\n",
    "        'min': fit_params['additional_light']['value'] - 0.03,\n",
    "        'max': fit_params['additional_light']['value'] + 0.03,\n",
    "    },  # there is strong evidence for the presence of the third body\n",
    "    'phase_shift': {\n",
    "        'value': fit_params['phase_shift']['value'],\n",
    "        'fixed': True,\n",
    "    },  # phase shift parameter was determined sufficiently in least squares method \n",
    "        # and its main purpose was to remove any imperfections in supplied phase curve or ephemeris, \n",
    "        # therefore, its error estimation is not of any significant importance to us\n",
    "}"
   ]
  },
  {
   "cell_type": "markdown",
   "metadata": {},
   "source": [
    "This initial vector can now be used to perform MCMC sampling:"
   ]
  },
  {
   "cell_type": "code",
   "execution_count": 14,
   "metadata": {},
   "outputs": [
    {
     "ename": "FileNotFoundError",
     "evalue": "[Errno 2] No such file or directory: '/home/miro/.elisa/demo_data/demo_data/aux/lc_mcmc_chain.json'",
     "output_type": "error",
     "traceback": [
      "\u001b[0;31m---------------------------------------------------------------------------\u001b[0m",
      "\u001b[0;31mFileNotFoundError\u001b[0m                         Traceback (most recent call last)",
      "\u001b[0;32m<ipython-input-14-c54fb54c6826>\u001b[0m in \u001b[0;36m<module>\u001b[0;34m\u001b[0m\n\u001b[1;32m      8\u001b[0m \u001b[0mchain_file\u001b[0m \u001b[0;34m=\u001b[0m \u001b[0;34m'demo_data/aux/lc_mcmc_chain.json'\u001b[0m\u001b[0;34m\u001b[0m\u001b[0;34m\u001b[0m\u001b[0m\n\u001b[1;32m      9\u001b[0m \u001b[0mtask\u001b[0m\u001b[0;34m.\u001b[0m\u001b[0mlc_fit\u001b[0m\u001b[0;34m.\u001b[0m\u001b[0mload_parameters\u001b[0m\u001b[0;34m(\u001b[0m\u001b[0mfilename\u001b[0m\u001b[0;34m=\u001b[0m\u001b[0mparam_file\u001b[0m\u001b[0;34m)\u001b[0m\u001b[0;34m\u001b[0m\u001b[0;34m\u001b[0m\u001b[0m\n\u001b[0;32m---> 10\u001b[0;31m \u001b[0mtask\u001b[0m\u001b[0;34m.\u001b[0m\u001b[0mlc_fit\u001b[0m\u001b[0;34m.\u001b[0m\u001b[0mload_chain\u001b[0m\u001b[0;34m(\u001b[0m\u001b[0mfilename\u001b[0m\u001b[0;34m=\u001b[0m\u001b[0mchain_file\u001b[0m\u001b[0;34m)\u001b[0m\u001b[0;34m\u001b[0m\u001b[0;34m\u001b[0m\u001b[0m\n\u001b[0m",
      "\u001b[0;32m~/ELISA_installed_virt/venv/lib/python3.6/site-packages/elisa/analytics/binary_fit/lc_fit.py\u001b[0m in \u001b[0;36mload_chain\u001b[0;34m(self, filename)\u001b[0m\n\u001b[1;32m    127\u001b[0m                                                    \u001b[0mto\u001b[0m \u001b[0mreconstruct\u001b[0m \u001b[0mreal\u001b[0m \u001b[0mvalues\u001b[0m \u001b[0;32mfrom\u001b[0m \u001b[0mnormalized\u001b[0m\u001b[0;31m \u001b[0m\u001b[0;31m`\u001b[0m\u001b[0mflat_chain\u001b[0m\u001b[0;31m`\u001b[0m \u001b[0marray\u001b[0m\u001b[0;34m\u001b[0m\u001b[0;34m\u001b[0m\u001b[0m\n\u001b[1;32m    128\u001b[0m         \"\"\"\n\u001b[0;32m--> 129\u001b[0;31m         \u001b[0;32mreturn\u001b[0m \u001b[0mshared\u001b[0m\u001b[0;34m.\u001b[0m\u001b[0mload_mcmc_chain\u001b[0m\u001b[0;34m(\u001b[0m\u001b[0mself\u001b[0m\u001b[0;34m,\u001b[0m \u001b[0mfilename\u001b[0m\u001b[0;34m)\u001b[0m\u001b[0;34m\u001b[0m\u001b[0;34m\u001b[0m\u001b[0m\n\u001b[0m\u001b[1;32m    130\u001b[0m \u001b[0;34m\u001b[0m\u001b[0m\n\u001b[1;32m    131\u001b[0m     \u001b[0;32mdef\u001b[0m \u001b[0mstore_parameters\u001b[0m\u001b[0;34m(\u001b[0m\u001b[0mself\u001b[0m\u001b[0;34m,\u001b[0m \u001b[0mparameters\u001b[0m\u001b[0;34m=\u001b[0m\u001b[0;32mNone\u001b[0m\u001b[0;34m,\u001b[0m \u001b[0mfilename\u001b[0m\u001b[0;34m=\u001b[0m\u001b[0;32mNone\u001b[0m\u001b[0;34m)\u001b[0m\u001b[0;34m:\u001b[0m\u001b[0;34m\u001b[0m\u001b[0;34m\u001b[0m\u001b[0m\n",
      "\u001b[0;32m~/ELISA_installed_virt/venv/lib/python3.6/site-packages/elisa/analytics/binary_fit/shared.py\u001b[0m in \u001b[0;36mload_mcmc_chain\u001b[0;34m(fit_instance, filename)\u001b[0m\n\u001b[1;32m      7\u001b[0m \u001b[0;32mdef\u001b[0m \u001b[0mload_mcmc_chain\u001b[0m\u001b[0;34m(\u001b[0m\u001b[0mfit_instance\u001b[0m\u001b[0;34m,\u001b[0m \u001b[0mfilename\u001b[0m\u001b[0;34m)\u001b[0m\u001b[0;34m:\u001b[0m\u001b[0;34m\u001b[0m\u001b[0;34m\u001b[0m\u001b[0m\n\u001b[1;32m      8\u001b[0m     \u001b[0mfilename\u001b[0m \u001b[0;34m=\u001b[0m \u001b[0mfilename\u001b[0m\u001b[0;34m[\u001b[0m\u001b[0;34m:\u001b[0m\u001b[0;34m-\u001b[0m\u001b[0;36m5\u001b[0m\u001b[0;34m]\u001b[0m \u001b[0;32mif\u001b[0m \u001b[0mfilename\u001b[0m\u001b[0;34m[\u001b[0m\u001b[0;34m-\u001b[0m\u001b[0;36m5\u001b[0m\u001b[0;34m:\u001b[0m\u001b[0;34m]\u001b[0m \u001b[0;34m==\u001b[0m \u001b[0;34m'.json'\u001b[0m \u001b[0;32melse\u001b[0m \u001b[0mfilename\u001b[0m\u001b[0;34m\u001b[0m\u001b[0;34m\u001b[0m\u001b[0m\n\u001b[0;32m----> 9\u001b[0;31m     \u001b[0mdata\u001b[0m \u001b[0;34m=\u001b[0m \u001b[0mMcMcMixin\u001b[0m\u001b[0;34m.\u001b[0m\u001b[0mrestore_flat_chain\u001b[0m\u001b[0;34m(\u001b[0m\u001b[0mfname\u001b[0m\u001b[0;34m=\u001b[0m\u001b[0mfilename\u001b[0m\u001b[0;34m)\u001b[0m\u001b[0;34m\u001b[0m\u001b[0;34m\u001b[0m\u001b[0m\n\u001b[0m\u001b[1;32m     10\u001b[0m     \u001b[0mfit_instance\u001b[0m\u001b[0;34m.\u001b[0m\u001b[0mflat_chain\u001b[0m \u001b[0;34m=\u001b[0m \u001b[0mnp\u001b[0m\u001b[0;34m.\u001b[0m\u001b[0marray\u001b[0m\u001b[0;34m(\u001b[0m\u001b[0mdata\u001b[0m\u001b[0;34m[\u001b[0m\u001b[0;34m'flat_chain'\u001b[0m\u001b[0;34m]\u001b[0m\u001b[0;34m)\u001b[0m\u001b[0;34m\u001b[0m\u001b[0;34m\u001b[0m\u001b[0m\n\u001b[1;32m     11\u001b[0m     \u001b[0mfit_instance\u001b[0m\u001b[0;34m.\u001b[0m\u001b[0mvariable_labels\u001b[0m \u001b[0;34m=\u001b[0m \u001b[0mdata\u001b[0m\u001b[0;34m[\u001b[0m\u001b[0;34m'labels'\u001b[0m\u001b[0;34m]\u001b[0m\u001b[0;34m\u001b[0m\u001b[0;34m\u001b[0m\u001b[0m\n",
      "\u001b[0;32m~/ELISA_installed_virt/venv/lib/python3.6/site-packages/elisa/analytics/binary/mcmc.py\u001b[0m in \u001b[0;36mrestore_flat_chain\u001b[0;34m(fname)\u001b[0m\n\u001b[1;32m     96\u001b[0m         \u001b[0mfname\u001b[0m \u001b[0;34m=\u001b[0m \u001b[0;34mf'{fname}.json'\u001b[0m\u001b[0;34m\u001b[0m\u001b[0;34m\u001b[0m\u001b[0m\n\u001b[1;32m     97\u001b[0m         \u001b[0mfpath\u001b[0m \u001b[0;34m=\u001b[0m \u001b[0mop\u001b[0m\u001b[0;34m.\u001b[0m\u001b[0mjoin\u001b[0m\u001b[0;34m(\u001b[0m\u001b[0mconfig\u001b[0m\u001b[0;34m.\u001b[0m\u001b[0mHOME\u001b[0m\u001b[0;34m,\u001b[0m \u001b[0mfdir\u001b[0m\u001b[0;34m,\u001b[0m \u001b[0mfname\u001b[0m\u001b[0;34m)\u001b[0m\u001b[0;34m\u001b[0m\u001b[0;34m\u001b[0m\u001b[0m\n\u001b[0;32m---> 98\u001b[0;31m         \u001b[0;32mwith\u001b[0m \u001b[0mopen\u001b[0m\u001b[0;34m(\u001b[0m\u001b[0mfpath\u001b[0m\u001b[0;34m,\u001b[0m \u001b[0;34m\"r\"\u001b[0m\u001b[0;34m)\u001b[0m \u001b[0;32mas\u001b[0m \u001b[0mf\u001b[0m\u001b[0;34m:\u001b[0m\u001b[0;34m\u001b[0m\u001b[0;34m\u001b[0m\u001b[0m\n\u001b[0m\u001b[1;32m     99\u001b[0m             \u001b[0;32mreturn\u001b[0m \u001b[0mjson\u001b[0m\u001b[0;34m.\u001b[0m\u001b[0mloads\u001b[0m\u001b[0;34m(\u001b[0m\u001b[0mf\u001b[0m\u001b[0;34m.\u001b[0m\u001b[0mread\u001b[0m\u001b[0;34m(\u001b[0m\u001b[0;34m)\u001b[0m\u001b[0;34m)\u001b[0m\u001b[0;34m\u001b[0m\u001b[0;34m\u001b[0m\u001b[0m\n\u001b[1;32m    100\u001b[0m \u001b[0;34m\u001b[0m\u001b[0m\n",
      "\u001b[0;31mFileNotFoundError\u001b[0m: [Errno 2] No such file or directory: '/home/miro/.elisa/demo_data/demo_data/aux/lc_mcmc_chain.json'"
     ]
    }
   ],
   "source": [
    "param_file = 'demo_data/aux/lc_mcmc_params.json'\n",
    "# fit_params = task.lc_fit.fit(x0=lc_initial, method='mcmc', nsteps=1000, burn_in=0, morphology='detached',\n",
    "#                              discretization=10, interp_treshold=150, progress=True)\n",
    "\n",
    "# task.lc_fit.store_parameters(filename=param_file)\n",
    "\n",
    "# again, due to very time consuming nature of a MCMC sampling, we will load pre-calculated results\n",
    "chain_file = 'demo_data/aux/lc_mcmc_chain.json'\n",
    "task.lc_fit.load_parameters(filename=param_file)\n",
    "task.lc_fit.load_chain(filename=chain_file)"
   ]
  },
  {
   "cell_type": "markdown",
   "metadata": {},
   "source": [
    "With `burn_in` parameter 0 we have to inspect traces not only for any sign of clipping but also we have to determine how big portion of the chain belongs to the thermalization state and has to be discarded:"
   ]
  },
  {
   "cell_type": "code",
   "execution_count": null,
   "metadata": {},
   "outputs": [],
   "source": [
    "task.lc_fit.plot.traces()"
   ]
  },
  {
   "cell_type": "markdown",
   "metadata": {},
   "source": [
    "Here we can see that chain reaches sampling phase after roughly <insert value> steps. Therefore, we have to discard the first <insert value> steps by using `discard` argument:"
   ]
  },
  {
   "cell_type": "code",
   "execution_count": null,
   "metadata": {},
   "outputs": [],
   "source": [
    "task.lc_fit.load_chain(filename=chain_file, discard=0)"
   ]
  }
 ],
 "metadata": {
  "kernelspec": {
   "display_name": "Python 3",
   "language": "python",
   "name": "python3"
  },
  "language_info": {
   "codemirror_mode": {
    "name": "ipython",
    "version": 3
   },
   "file_extension": ".py",
   "mimetype": "text/x-python",
   "name": "python",
   "nbconvert_exporter": "python",
   "pygments_lexer": "ipython3",
   "version": "3.6.9"
  }
 },
 "nbformat": 4,
 "nbformat_minor": 4
}
