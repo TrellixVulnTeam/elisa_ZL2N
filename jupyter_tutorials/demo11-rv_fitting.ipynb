{
 "cells": [
  {
   "cell_type": "markdown",
   "metadata": {},
   "source": [
    "# Demo No. 11 - Radial velocities fitting."
   ]
  },
  {
   "cell_type": "markdown",
   "metadata": {},
   "source": [
    "Following 2 demos will illustrate, how to proceed in case of the binary system with available radial velocities and photometric data. In this demo, we will focus on radial velocity data fitting using couple of methods.\n"
   ]
  },
  {
   "cell_type": "code",
   "execution_count": 1,
   "metadata": {},
   "outputs": [],
   "source": [
    "import numpy as np\n",
    "import astropy.units as u\n",
    "\n",
    "from elisa.analytics import RVData\n",
    "from elisa.analytics import BinarySystemAnalyticsTask"
   ]
  },
  {
   "cell_type": "markdown",
   "metadata": {},
   "source": [
    "As a start, we will create datasets containing our observations:"
   ]
  },
  {
   "cell_type": "code",
   "execution_count": 2,
   "metadata": {},
   "outputs": [],
   "source": [
    "rv_primary = RVData.load_from_file(filename='demo_data/rv_data/rv1.dat', \n",
    "                                   x_unit=u.d, y_unit=u.km/u.s)\n",
    "\n",
    "rv_secondary = RVData.load_from_file(filename='demo_data/rv_data/rv2.dat', \n",
    "                                     x_unit=u.d, y_unit=u.km/u.s)"
   ]
  },
  {
   "cell_type": "markdown",
   "metadata": {},
   "source": [
    "As a next step, we will create an `BinarySystemAnalyticsTask`:"
   ]
  },
  {
   "cell_type": "code",
   "execution_count": 3,
   "metadata": {},
   "outputs": [],
   "source": [
    "task = BinarySystemAnalyticsTask(radial_velocities={'primary': rv_primary, 'secondary': rv_secondary})"
   ]
  },
  {
   "cell_type": "markdown",
   "metadata": {},
   "source": [
    "This `task` instance now contains `rv_fit` attribute in which our radial velocity fitting methods can be accessed. \n",
    "\n",
    "Now we have to define a dictionary containing starting values of a fit. The list of necessary fitting parameters depends in a fact, which approach to fit is used. In `standard` approach, component masses are fitted. On the other side, `community` approach enables to fit the model using mass ratio and parameter a sin(i) which is much more suitable for radial velocity curve fit. List of necessary fit parameters for each approach can be accessed here:"
   ]
  },
  {
   "cell_type": "code",
   "execution_count": 4,
   "metadata": {},
   "outputs": [
    {
     "ename": "AttributeError",
     "evalue": "'RVFit' object has no attribute 'FIT_PARAMS_COMBINATIONS'",
     "output_type": "error",
     "traceback": [
      "\u001b[0;31m---------------------------------------------------------------------------\u001b[0m",
      "\u001b[0;31mAttributeError\u001b[0m                            Traceback (most recent call last)",
      "\u001b[0;32m<ipython-input-4-8b3b5a512e38>\u001b[0m in \u001b[0;36m<module>\u001b[0;34m\u001b[0m\n\u001b[0;32m----> 1\u001b[0;31m \u001b[0mtask\u001b[0m\u001b[0;34m.\u001b[0m\u001b[0mrv_fit\u001b[0m\u001b[0;34m.\u001b[0m\u001b[0mFIT_PARAMS_COMBINATIONS\u001b[0m\u001b[0;34m\u001b[0m\u001b[0;34m\u001b[0m\u001b[0m\n\u001b[0m",
      "\u001b[0;31mAttributeError\u001b[0m: 'RVFit' object has no attribute 'FIT_PARAMS_COMBINATIONS'"
     ]
    }
   ],
   "source": [
    "task.rv_fit.FIT_PARAMS_COMBINATIONS"
   ]
  },
  {
   "cell_type": "markdown",
   "metadata": {},
   "source": [
    "The list of necessary parameters differs in case of `standard` approach, where component masses are fitted and `comunity` approach, where mass ratio and semi major axis or rather parameter a sin(i) is fitted. In case of fitting radial velocity data we highly recommend to use `comunity` aproach. The approach used is resolved automatically from the listed starting parameters."
   ]
  },
  {
   "cell_type": "code",
   "execution_count": null,
   "metadata": {},
   "outputs": [],
   "source": []
  }
 ],
 "metadata": {
  "kernelspec": {
   "display_name": "Python 3",
   "language": "python",
   "name": "python3"
  },
  "language_info": {
   "codemirror_mode": {
    "name": "ipython",
    "version": 3
   },
   "file_extension": ".py",
   "mimetype": "text/x-python",
   "name": "python",
   "nbconvert_exporter": "python",
   "pygments_lexer": "ipython3",
   "version": "3.6.10"
  }
 },
 "nbformat": 4,
 "nbformat_minor": 4
}
