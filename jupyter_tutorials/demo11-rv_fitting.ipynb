{
 "cells": [
  {
   "cell_type": "markdown",
   "metadata": {},
   "source": [
    "# Demo No. 11 - Radial velocities fitting."
   ]
  },
  {
   "cell_type": "markdown",
   "metadata": {},
   "source": [
    "Following 2 demos will illustrate, how to proceed in case of the binary system with available radial velocities and photometric data. In this demo, we will focus on radial velocity data fitting using couple of methods.\n"
   ]
  },
  {
   "cell_type": "code",
   "execution_count": 17,
   "metadata": {},
   "outputs": [],
   "source": [
    "import numpy as np\n",
    "import astropy.units as u\n",
    "\n",
    "from elisa.conf import config\n",
    "from elisa.analytics import RVData\n",
    "from elisa.analytics import BinarySystemAnalyticsTask\n",
    "\n",
    "\n",
    "# setting up a custom logging config to prevent unreasonably long log messages during fit\n",
    "config.LOG_CONFIG ='jupyter_fit_logging.json'\n",
    "config.set_up_logging()  "
   ]
  },
  {
   "cell_type": "markdown",
   "metadata": {},
   "source": [
    "As a start, we will create datasets containing our observations:"
   ]
  },
  {
   "cell_type": "code",
   "execution_count": 18,
   "metadata": {},
   "outputs": [],
   "source": [
    "rv_primary = RVData.load_from_file(filename='demo_data/rv_data/rv1.dat', \n",
    "                                   x_unit=u.d, y_unit=u.km/u.s)\n",
    "\n",
    "rv_secondary = RVData.load_from_file(filename='demo_data/rv_data/rv2.dat', \n",
    "                                     x_unit=u.d, y_unit=u.km/u.s)"
   ]
  },
  {
   "cell_type": "markdown",
   "metadata": {},
   "source": [
    "As a next step, we will create an `BinarySystemAnalyticsTask`:"
   ]
  },
  {
   "cell_type": "code",
   "execution_count": 19,
   "metadata": {},
   "outputs": [],
   "source": [
    "task = BinarySystemAnalyticsTask(radial_velocities={'primary': rv_primary, 'secondary': rv_secondary})"
   ]
  },
  {
   "cell_type": "markdown",
   "metadata": {},
   "source": [
    "This `task` instance now contains `rv_fit` attribute in which our radial velocity fitting methods can be accessed. \n",
    "\n",
    "Now we have to define a dictionary containing starting values of a fit. The list of necessary fit parameters depends on which fit approach is used. In `standard` approach, component masses are fitted. On the other side, `community` approach enables to fit the model using mass ratio and parameter a sin(i) which is much more suitable for radial velocity curve fit. List of necessary fit parameters for each approach can be accessed here:"
   ]
  },
  {
   "cell_type": "code",
   "execution_count": 20,
   "metadata": {},
   "outputs": [
    {
     "data": {
      "text/plain": [
       "{'standard': ['p__mass',\n",
       "  's__mass',\n",
       "  'inclination',\n",
       "  'eccentricity',\n",
       "  'argument_of_periastron',\n",
       "  'gamma',\n",
       "  'period',\n",
       "  'primary_minimum_time'],\n",
       " 'community': ['mass_ratio',\n",
       "  'asini',\n",
       "  'eccentricity',\n",
       "  'argument_of_periastron',\n",
       "  'gamma',\n",
       "  'period',\n",
       "  'primary_minimum_time']}"
      ]
     },
     "execution_count": 20,
     "metadata": {},
     "output_type": "execute_result"
    }
   ],
   "source": [
    "task.rv_fit.FIT_PARAMS_COMBINATIONS"
   ]
  },
  {
   "cell_type": "markdown",
   "metadata": {},
   "source": [
    "In case of radial velocities fitting, it is much more suitable to use `community` approach which will in general remove degeneracies in a fittimg model. \n",
    "\n",
    "Lets finally define our starting parameters. Starting parameters are listed in form of dictionary that contain name of the variable as a key and values contains dictionary characterizing starting value of the parameter, status of the parameter (`fixed`: True/False), the boundaries of the fitted parameter defined by `min`, `max` values and the unit in astropy format."
   ]
  },
  {
   "cell_type": "code",
   "execution_count": 21,
   "metadata": {},
   "outputs": [],
   "source": [
    "rv_initial = {\n",
    "    'eccentricity': {\n",
    "        'value': 0.03,\n",
    "        'fixed': False,\n",
    "        'min': 0.0,\n",
    "        'max': 0.05\n",
    "    },\n",
    "    'asini': {\n",
    "        'value': 12,\n",
    "        'fixed': False,\n",
    "        'min': 7.0,\n",
    "        'max': 15,\n",
    "        'unit': u.solRad\n",
    "    },\n",
    "    'mass_ratio': {\n",
    "        'value': 1.0,\n",
    "        'fixed': False,\n",
    "        'min': 0.9,\n",
    "        'max': 1.2\n",
    "    },\n",
    "    'argument_of_periastron': {\n",
    "        'value': 170,\n",
    "        'fixed': False,\n",
    "        'min': 100,\n",
    "        'max': 240,\n",
    "        'unit': u.deg\n",
    "    },\n",
    "    'gamma': {\n",
    "        'value': -25.0,\n",
    "        'fixed': False,\n",
    "        'min': -10.0,\n",
    "        'max': -30.0,\n",
    "        'unit': u.km/u.s\n",
    "    },\n",
    "    'period': {\n",
    "        'value': 2.47028376,\n",
    "        'fixed': True,\n",
    "    },\n",
    "    'primary_minimum_time': {\n",
    "        'value': 54953.8691,\n",
    "        'fixed': False,\n",
    "        'min': 54953.800,\n",
    "        'max': 54954.000,\n",
    "        'unit': u.d\n",
    "    }\n",
    "}"
   ]
  },
  {
   "cell_type": "markdown",
   "metadata": {},
   "source": [
    "## Least squares method "
   ]
  },
  {
   "cell_type": "markdown",
   "metadata": {},
   "source": [
    "At this point, we can perform actual fit. In current version of Elisa, two fitting methods are available, least-squares and Markov chain Monte Carlo. Lets start with the first one (this may take a few seconds):"
   ]
  },
  {
   "cell_type": "code",
   "execution_count": 22,
   "metadata": {},
   "outputs": [
    {
     "name": "stdout",
     "output_type": "stream",
     "text": [
      "2020-02-28 15:41:11,652 - 9258 - analytics.binary.least_squares - INFO: fitting radial velocity light curve...\n",
      "2020-02-28 15:41:46,764 - 9258 - analytics.binary.least_squares - INFO: fitting finished...\n",
      "2020-02-28 15:41:46,775 - 9258 - analytics.binary_fit.rv_fit - INFO: Fitting and processing of results succesfully finished.\n"
     ]
    }
   ],
   "source": [
    "fit_params = task.rv_fit.fit(x0=rv_initial, method='least_squares')"
   ]
  },
  {
   "cell_type": "markdown",
   "metadata": {},
   "source": [
    "The resluts of the fitting procedure are stored in `fit_params`:"
   ]
  },
  {
   "cell_type": "code",
   "execution_count": 23,
   "metadata": {},
   "outputs": [
    {
     "data": {
      "text/plain": [
       "{'eccentricity': {'value': 0.014621063899195964, 'unit': ''},\n",
       " 'asini': {'value': 11.800520255224722, 'unit': 'solRad'},\n",
       " 'mass_ratio': {'value': 1.0768512722796373, 'unit': ''},\n",
       " 'argument_of_periastron': {'value': 220.08763506615372, 'unit': 'degree'},\n",
       " 'gamma': {'value': -24291.056877061077, 'unit': 'm/s'},\n",
       " 'primary_minimum_time': {'value': 54953.881016724685, 'unit': 'd'},\n",
       " 'period': {'value': 2.47028376, 'unit': 'd'},\n",
       " 'r_squared': {'value': 0.9934356152347638}}"
      ]
     },
     "execution_count": 23,
     "metadata": {},
     "output_type": "execute_result"
    }
   ],
   "source": [
    "fit_params"
   ]
  },
  {
   "cell_type": "markdown",
   "metadata": {},
   "source": [
    "These results can be stored and reloaded in json format using commands `task.rv_fit.store_parameters(filename=)` and `task.rv_fit.load_parameters(filename=)`.\n",
    "\n",
    "Finally, we can visualize the resulting fit:"
   ]
  },
  {
   "cell_type": "code",
   "execution_count": 24,
   "metadata": {},
   "outputs": [
    {
     "data": {
      "image/png": "[encoded data removed]",
      "text/plain": [
       "<matplotlib.figure.Figure at 0x7f4593c686a0>"
      ]
     },
     "metadata": {
      "needs_background": "light"
     },
     "output_type": "display_data"
    }
   ],
   "source": [
    "task.rv_fit.plot.model()"
   ]
  },
  {
   "cell_type": "markdown",
   "metadata": {},
   "source": [
    "## Markov chain Monte Carlo (MCMC)"
   ]
  },
  {
   "cell_type": "markdown",
   "metadata": {},
   "source": [
    "Using the MCMC we can estimate confidence intervals of the fitted parameters which was not possible in least squares method. Unfortunatelly, this capability is at the expense of speed and therefore this method is meant as a follow-up to the least squares method. To speed-up the initiall burn-in phase, we will update the current initial values to the results obtained in least squares method:"
   ]
  },
  {
   "cell_type": "code",
   "execution_count": 25,
   "metadata": {},
   "outputs": [],
   "source": [
    "for param in rv_initial.keys():\n",
    "    rv_initial[param]['value'] = fit_params[param]['value'] "
   ]
  },
  {
   "cell_type": "markdown",
   "metadata": {},
   "source": [
    "Updated starting parameters can be now used in a very similar fashion to perform MCMC sampling"
   ]
  },
  {
   "cell_type": "code",
   "execution_count": 26,
   "metadata": {},
   "outputs": [
    {
     "name": "stdout",
     "output_type": "stream",
     "text": [
      "2020-02-28 15:42:00,648 - 9258 - analytics.binary.mcmc - INFO: starting singlecore mcmc\n",
      "2020-02-28 15:42:00,650 - 9258 - analytics.binary.mcmc - INFO: running burn-in...\n",
      "2020-02-28 15:42:00,669 - 9258 - analytics.binary.mcmc - INFO: eval counter = 11357, likehood = -79.0042914937464\n",
      "2020-02-28 15:42:00,687 - 9258 - analytics.binary.mcmc - INFO: eval counter = 11358, likehood = -1940.626454567009\n",
      "2020-02-28 15:42:00,705 - 9258 - analytics.binary.mcmc - INFO: eval counter = 11359, likehood = -293.02845061199764\n",
      "2020-02-28 15:42:00,723 - 9258 - analytics.binary.mcmc - INFO: eval counter = 11360, likehood = -832.9375327761645\n",
      "2020-02-28 15:42:00,735 - 9258 - analytics.binary.mcmc - INFO: eval counter = 11361, likehood = -402.4066417893332\n",
      "2020-02-28 15:42:00,748 - 9258 - analytics.binary.mcmc - INFO: eval counter = 11362, likehood = -1077.9946912758862\n",
      "2020-02-28 15:42:00,761 - 9258 - analytics.binary.mcmc - INFO: eval counter = 11363, likehood = -801.6560814268273\n",
      "2020-02-28 15:42:00,774 - 9258 - analytics.binary.mcmc - INFO: eval counter = 11364, likehood = -1950.512905666971\n",
      "2020-02-28 15:42:00,784 - 9258 - analytics.binary.mcmc - INFO: eval counter = 11365, likehood = -215.2377783052253\n",
      "2020-02-28 15:42:00,795 - 9258 - analytics.binary.mcmc - INFO: eval counter = 11366, likehood = -405.2276413963434\n",
      "2020-02-28 15:42:00,807 - 9258 - analytics.binary.mcmc - INFO: eval counter = 11367, likehood = -2450.6432668862267\n",
      "2020-02-28 15:42:00,819 - 9258 - analytics.binary.mcmc - INFO: eval counter = 11368, likehood = -1043.9973351946783\n"
     ]
    },
    {
     "name": "stderr",
     "output_type": "stream",
     "text": [
      "\r",
      "  0%|          | 0/100 [00:00<?, ?it/s]"
     ]
    },
    {
     "name": "stdout",
     "output_type": "stream",
     "text": [
      "2020-02-28 15:42:00,833 - 9258 - analytics.binary.mcmc - INFO: eval counter = 11369, likehood = -696.3936279679258\n",
      "2020-02-28 15:42:00,847 - 9258 - analytics.binary.mcmc - INFO: eval counter = 11370, likehood = -92.26972327103147\n",
      "2020-02-28 15:42:00,858 - 9258 - analytics.binary.mcmc - INFO: eval counter = 11371, likehood = -249.05848727389292\n",
      "2020-02-28 15:42:00,869 - 9258 - analytics.binary.mcmc - INFO: eval counter = 11372, likehood = -438.587687453152\n",
      "2020-02-28 15:42:00,880 - 9258 - analytics.binary.mcmc - INFO: eval counter = 11373, likehood = -1636.1851846834807\n",
      "2020-02-28 15:42:00,893 - 9258 - analytics.binary.mcmc - INFO: eval counter = 11374, likehood = -542.8643901637857\n",
      "2020-02-28 15:42:00,904 - 9258 - analytics.binary.mcmc - INFO: eval counter = 11375, likehood = -899.3384110025413\n",
      "2020-02-28 15:42:00,916 - 9258 - analytics.binary.mcmc - INFO: eval counter = 11376, likehood = -213.96469510594008\n",
      "2020-02-28 15:42:00,929 - 9258 - analytics.binary.mcmc - INFO: eval counter = 11377, likehood = -736.6390243426447\n",
      "2020-02-28 15:42:00,940 - 9258 - analytics.binary.mcmc - INFO: eval counter = 11378, likehood = -585.7572851489423\n",
      "2020-02-28 15:42:00,958 - 9258 - analytics.binary.mcmc - INFO: eval counter = 11379, likehood = -96.76925684259167\n",
      "2020-02-28 15:42:00,969 - 9258 - analytics.binary.mcmc - INFO: eval counter = 11380, likehood = -285.7005060709169\n",
      "2020-02-28 15:42:00,982 - 9258 - analytics.binary.mcmc - INFO: eval counter = 11381, likehood = -367.86641946271993\n"
     ]
    },
    {
     "name": "stderr",
     "output_type": "stream",
     "text": [
      "\r",
      "  2%|▏         | 2/100 [00:00<00:07, 12.43it/s]"
     ]
    },
    {
     "name": "stdout",
     "output_type": "stream",
     "text": [
      "2020-02-28 15:42:00,998 - 9258 - analytics.binary.mcmc - INFO: eval counter = 11382, likehood = -856.1428692742971\n",
      "2020-02-28 15:42:01,010 - 9258 - analytics.binary.mcmc - INFO: eval counter = 11383, likehood = -233.52823607351834\n",
      "2020-02-28 15:42:01,029 - 9258 - analytics.binary.mcmc - INFO: eval counter = 11384, likehood = -724.6825775355995\n",
      "2020-02-28 15:42:01,047 - 9258 - analytics.binary.mcmc - INFO: eval counter = 11385, likehood = -2004.9261581607464\n",
      "2020-02-28 15:42:01,059 - 9258 - analytics.binary.mcmc - INFO: eval counter = 11386, likehood = -653.1230082668981\n",
      "2020-02-28 15:42:01,071 - 9258 - analytics.binary.mcmc - INFO: eval counter = 11387, likehood = -523.5918681969242\n",
      "2020-02-28 15:42:01,082 - 9258 - analytics.binary.mcmc - INFO: eval counter = 11388, likehood = -235.41344161721085\n",
      "2020-02-28 15:42:01,094 - 9258 - analytics.binary.mcmc - INFO: eval counter = 11389, likehood = -1639.0640570380608\n"
     ]
    },
    {
     "name": "stderr",
     "output_type": "stream",
     "text": [
      "\r",
      "  3%|▎         | 3/100 [00:00<00:08, 11.11it/s]"
     ]
    },
    {
     "name": "stdout",
     "output_type": "stream",
     "text": [
      "2020-02-28 15:42:01,113 - 9258 - analytics.binary.mcmc - INFO: eval counter = 11390, likehood = -289.36340490684415\n",
      "2020-02-28 15:42:01,125 - 9258 - analytics.binary.mcmc - INFO: eval counter = 11391, likehood = -1081.5868941655149\n",
      "2020-02-28 15:42:01,136 - 9258 - analytics.binary.mcmc - INFO: eval counter = 11392, likehood = -263.0378317058581\n",
      "2020-02-28 15:42:01,147 - 9258 - analytics.binary.mcmc - INFO: eval counter = 11393, likehood = -371.4051843468324\n",
      "2020-02-28 15:42:01,159 - 9258 - analytics.binary.mcmc - INFO: eval counter = 11394, likehood = -92.4556849278105\n",
      "2020-02-28 15:42:01,170 - 9258 - analytics.binary.mcmc - INFO: eval counter = 11395, likehood = -256.0049588616837\n",
      "2020-02-28 15:42:01,183 - 9258 - analytics.binary.mcmc - INFO: eval counter = 11396, likehood = -448.1847408653635\n",
      "2020-02-28 15:42:01,194 - 9258 - analytics.binary.mcmc - INFO: eval counter = 11397, likehood = -596.0118876599819\n",
      "2020-02-28 15:42:01,204 - 9258 - analytics.binary.mcmc - INFO: eval counter = 11398, likehood = -941.4587316129406\n"
     ]
    },
    {
     "name": "stderr",
     "output_type": "stream",
     "text": [
      "\r",
      "  4%|▍         | 4/100 [00:00<00:09, 10.42it/s]"
     ]
    },
    {
     "name": "stdout",
     "output_type": "stream",
     "text": [
      "2020-02-28 15:42:01,217 - 9258 - analytics.binary.mcmc - INFO: eval counter = 11399, likehood = -112.61391228496105\n",
      "2020-02-28 15:42:01,235 - 9258 - analytics.binary.mcmc - INFO: eval counter = 11400, likehood = -1189.545375879876\n",
      "2020-02-28 15:42:01,252 - 9258 - analytics.binary.mcmc - INFO: eval counter = 11401, likehood = -268.6033405180434\n",
      "2020-02-28 15:42:01,270 - 9258 - analytics.binary.mcmc - INFO: eval counter = 11402, likehood = -336.25222811683375\n",
      "2020-02-28 15:42:01,287 - 9258 - analytics.binary.mcmc - INFO: eval counter = 11403, likehood = -209.67448302449841\n",
      "2020-02-28 15:42:01,301 - 9258 - analytics.binary.mcmc - INFO: eval counter = 11404, likehood = -643.1525459886897\n",
      "2020-02-28 15:42:01,321 - 9258 - analytics.binary.mcmc - INFO: eval counter = 11405, likehood = -225.98493773125853\n",
      "2020-02-28 15:42:01,332 - 9258 - analytics.binary.mcmc - INFO: eval counter = 11406, likehood = -639.6533199711514\n",
      "2020-02-28 15:42:01,343 - 9258 - analytics.binary.mcmc - INFO: eval counter = 11407, likehood = -244.2472518492726\n",
      "2020-02-28 15:42:01,355 - 9258 - analytics.binary.mcmc - INFO: eval counter = 11408, likehood = -1213.3435488668522\n",
      "2020-02-28 15:42:01,366 - 9258 - analytics.binary.mcmc - INFO: eval counter = 11409, likehood = -436.3115227099924\n",
      "2020-02-28 15:42:01,379 - 9258 - analytics.binary.mcmc - INFO: eval counter = 11410, likehood = -1413.5231645993022\n"
     ]
    },
    {
     "name": "stderr",
     "output_type": "stream",
     "text": [
      "\r",
      "  5%|▌         | 5/100 [00:00<00:11,  8.36it/s]"
     ]
    },
    {
     "name": "stdout",
     "output_type": "stream",
     "text": [
      "2020-02-28 15:42:01,393 - 9258 - analytics.binary.mcmc - INFO: eval counter = 11411, likehood = -1721.9548749608919\n",
      "2020-02-28 15:42:01,405 - 9258 - analytics.binary.mcmc - INFO: eval counter = 11412, likehood = -218.48563971904923\n",
      "2020-02-28 15:42:01,417 - 9258 - analytics.binary.mcmc - INFO: eval counter = 11413, likehood = -451.468566161552\n",
      "2020-02-28 15:42:01,428 - 9258 - analytics.binary.mcmc - INFO: eval counter = 11414, likehood = -138.78753345337293\n",
      "2020-02-28 15:42:01,443 - 9258 - analytics.binary.mcmc - INFO: eval counter = 11415, likehood = -235.062377517696\n",
      "2020-02-28 15:42:01,454 - 9258 - analytics.binary.mcmc - INFO: eval counter = 11416, likehood = -235.88263863954057\n",
      "2020-02-28 15:42:01,465 - 9258 - analytics.binary.mcmc - INFO: eval counter = 11417, likehood = -213.66464101572214\n",
      "2020-02-28 15:42:01,475 - 9258 - analytics.binary.mcmc - INFO: eval counter = 11418, likehood = -302.24865078462454\n",
      "2020-02-28 15:42:01,488 - 9258 - analytics.binary.mcmc - INFO: eval counter = 11419, likehood = -495.02684723566085\n"
     ]
    },
    {
     "name": "stderr",
     "output_type": "stream",
     "text": [
      "\r",
      "  6%|▌         | 6/100 [00:00<00:10,  8.59it/s]"
     ]
    },
    {
     "name": "stdout",
     "output_type": "stream",
     "text": [
      "2020-02-28 15:42:01,502 - 9258 - analytics.binary.mcmc - INFO: eval counter = 11420, likehood = -191.32026566301863\n",
      "2020-02-28 15:42:01,515 - 9258 - analytics.binary.mcmc - INFO: eval counter = 11421, likehood = -182.98783798195296\n",
      "2020-02-28 15:42:01,526 - 9258 - analytics.binary.mcmc - INFO: eval counter = 11422, likehood = -313.8169024682561\n",
      "2020-02-28 15:42:01,536 - 9258 - analytics.binary.mcmc - INFO: eval counter = 11423, likehood = -231.60171519558807\n",
      "2020-02-28 15:42:01,550 - 9258 - analytics.binary.mcmc - INFO: eval counter = 11424, likehood = -1110.1994553365732\n",
      "2020-02-28 15:42:01,562 - 9258 - analytics.binary.mcmc - INFO: eval counter = 11425, likehood = -1388.9555764293107\n",
      "2020-02-28 15:42:01,574 - 9258 - analytics.binary.mcmc - INFO: eval counter = 11426, likehood = -267.6763946758716\n",
      "2020-02-28 15:42:01,586 - 9258 - analytics.binary.mcmc - INFO: eval counter = 11427, likehood = -263.693835605629\n",
      "2020-02-28 15:42:01,599 - 9258 - analytics.binary.mcmc - INFO: eval counter = 11428, likehood = -472.0415956228127\n",
      "2020-02-28 15:42:01,610 - 9258 - analytics.binary.mcmc - INFO: eval counter = 11429, likehood = -243.1132269187875\n"
     ]
    },
    {
     "name": "stderr",
     "output_type": "stream",
     "text": [
      "\r",
      "  7%|▋         | 7/100 [00:00<00:10,  8.46it/s]"
     ]
    },
    {
     "name": "stdout",
     "output_type": "stream",
     "text": [
      "2020-02-28 15:42:01,628 - 9258 - analytics.binary.mcmc - INFO: eval counter = 11430, likehood = -1886.027946543595\n",
      "2020-02-28 15:42:01,639 - 9258 - analytics.binary.mcmc - INFO: eval counter = 11431, likehood = -154.62887780757896\n",
      "2020-02-28 15:42:01,651 - 9258 - analytics.binary.mcmc - INFO: eval counter = 11432, likehood = -197.536951098891\n",
      "2020-02-28 15:42:01,663 - 9258 - analytics.binary.mcmc - INFO: eval counter = 11433, likehood = -174.41908043719855\n",
      "2020-02-28 15:42:01,674 - 9258 - analytics.binary.mcmc - INFO: eval counter = 11434, likehood = -134.03501445590877\n",
      "2020-02-28 15:42:01,685 - 9258 - analytics.binary.mcmc - INFO: eval counter = 11435, likehood = -157.78597539573607\n",
      "2020-02-28 15:42:01,697 - 9258 - analytics.binary.mcmc - INFO: eval counter = 11436, likehood = -253.48248810931935\n",
      "2020-02-28 15:42:01,708 - 9258 - analytics.binary.mcmc - INFO: eval counter = 11437, likehood = -546.3420429551895\n",
      "2020-02-28 15:42:01,721 - 9258 - analytics.binary.mcmc - INFO: eval counter = 11438, likehood = -595.924589630101\n",
      "2020-02-28 15:42:01,731 - 9258 - analytics.binary.mcmc - INFO: eval counter = 11439, likehood = -293.1990085668199\n",
      "2020-02-28 15:42:01,742 - 9258 - analytics.binary.mcmc - INFO: eval counter = 11440, likehood = -506.23332769986246\n"
     ]
    },
    {
     "name": "stderr",
     "output_type": "stream",
     "text": [
      "\r",
      "  8%|▊         | 8/100 [00:00<00:11,  8.19it/s]"
     ]
    },
    {
     "name": "stdout",
     "output_type": "stream",
     "text": [
      "2020-02-28 15:42:01,754 - 9258 - analytics.binary.mcmc - INFO: eval counter = 11441, likehood = -80.88637545118004\n",
      "2020-02-28 15:42:01,764 - 9258 - analytics.binary.mcmc - INFO: eval counter = 11442, likehood = -781.4010975394343\n",
      "2020-02-28 15:42:01,775 - 9258 - analytics.binary.mcmc - INFO: eval counter = 11443, likehood = -281.65115565586206\n",
      "2020-02-28 15:42:01,789 - 9258 - analytics.binary.mcmc - INFO: eval counter = 11444, likehood = -717.711254361164\n",
      "2020-02-28 15:42:01,801 - 9258 - analytics.binary.mcmc - INFO: eval counter = 11445, likehood = -368.3430630873885\n",
      "2020-02-28 15:42:01,814 - 9258 - analytics.binary.mcmc - INFO: eval counter = 11446, likehood = -917.5043626480897\n",
      "2020-02-28 15:42:01,826 - 9258 - analytics.binary.mcmc - INFO: eval counter = 11447, likehood = -159.69305383262284\n",
      "2020-02-28 15:42:01,842 - 9258 - analytics.binary.mcmc - INFO: eval counter = 11448, likehood = -236.54229342655518\n",
      "2020-02-28 15:42:01,854 - 9258 - analytics.binary.mcmc - INFO: eval counter = 11449, likehood = -180.35177916445957\n",
      "2020-02-28 15:42:01,866 - 9258 - analytics.binary.mcmc - INFO: eval counter = 11450, likehood = -222.82703462601802\n",
      "2020-02-28 15:42:01,878 - 9258 - analytics.binary.mcmc - INFO: eval counter = 11451, likehood = -413.65652131770173\n"
     ]
    },
    {
     "name": "stderr",
     "output_type": "stream",
     "text": [
      "\r",
      "  9%|▉         | 9/100 [00:01<00:11,  7.92it/s]"
     ]
    },
    {
     "name": "stdout",
     "output_type": "stream",
     "text": [
      "2020-02-28 15:42:01,890 - 9258 - analytics.binary.mcmc - INFO: eval counter = 11452, likehood = -107.55488837860163\n",
      "2020-02-28 15:42:01,901 - 9258 - analytics.binary.mcmc - INFO: eval counter = 11453, likehood = -3232.7595219406207\n",
      "2020-02-28 15:42:01,911 - 9258 - analytics.binary.mcmc - INFO: eval counter = 11454, likehood = -362.49956280742543\n",
      "2020-02-28 15:42:01,922 - 9258 - analytics.binary.mcmc - INFO: eval counter = 11455, likehood = -160.87711551568083\n",
      "2020-02-28 15:42:01,933 - 9258 - analytics.binary.mcmc - INFO: eval counter = 11456, likehood = -190.22357575916283\n",
      "2020-02-28 15:42:01,944 - 9258 - analytics.binary.mcmc - INFO: eval counter = 11457, likehood = -190.1161584191112\n",
      "2020-02-28 15:42:01,956 - 9258 - analytics.binary.mcmc - INFO: eval counter = 11458, likehood = -135.46911781938448\n",
      "2020-02-28 15:42:01,969 - 9258 - analytics.binary.mcmc - INFO: eval counter = 11459, likehood = -398.6342912337581\n",
      "2020-02-28 15:42:01,980 - 9258 - analytics.binary.mcmc - INFO: eval counter = 11460, likehood = -354.4858337268812\n",
      "2020-02-28 15:42:01,990 - 9258 - analytics.binary.mcmc - INFO: eval counter = 11461, likehood = -137.4289203350618\n",
      "2020-02-28 15:42:02,006 - 9258 - analytics.binary.mcmc - INFO: eval counter = 11462, likehood = -165.45813430995784\n",
      "2020-02-28 15:42:02,017 - 9258 - analytics.binary.mcmc - INFO: eval counter = 11463, likehood = -872.7715811352538\n"
     ]
    },
    {
     "name": "stderr",
     "output_type": "stream",
     "text": [
      "\r",
      " 10%|█         | 10/100 [00:01<00:11,  7.68it/s]"
     ]
    },
    {
     "name": "stdout",
     "output_type": "stream",
     "text": [
      "2020-02-28 15:42:02,030 - 9258 - analytics.binary.mcmc - INFO: eval counter = 11464, likehood = -1350.7723734865665\n",
      "2020-02-28 15:42:02,041 - 9258 - analytics.binary.mcmc - INFO: eval counter = 11465, likehood = -129.6015897132256\n",
      "2020-02-28 15:42:02,053 - 9258 - analytics.binary.mcmc - INFO: eval counter = 11466, likehood = -635.2579594516137\n",
      "2020-02-28 15:42:02,064 - 9258 - analytics.binary.mcmc - INFO: eval counter = 11467, likehood = -365.9194670397707\n",
      "2020-02-28 15:42:02,076 - 9258 - analytics.binary.mcmc - INFO: eval counter = 11468, likehood = -184.73912423394154\n",
      "2020-02-28 15:42:02,087 - 9258 - analytics.binary.mcmc - INFO: eval counter = 11469, likehood = -135.7196220590006\n",
      "2020-02-28 15:42:02,100 - 9258 - analytics.binary.mcmc - INFO: eval counter = 11470, likehood = -193.07005610643304\n",
      "2020-02-28 15:42:02,111 - 9258 - analytics.binary.mcmc - INFO: eval counter = 11471, likehood = -346.03794916707494\n",
      "2020-02-28 15:42:02,122 - 9258 - analytics.binary.mcmc - INFO: eval counter = 11472, likehood = -129.97055520918735\n",
      "2020-02-28 15:42:02,133 - 9258 - analytics.binary.mcmc - INFO: eval counter = 11473, likehood = -113.35139591218183\n",
      "2020-02-28 15:42:02,144 - 9258 - analytics.binary.mcmc - INFO: eval counter = 11474, likehood = -793.8031477503523\n"
     ]
    },
    {
     "name": "stderr",
     "output_type": "stream",
     "text": [
      "\r",
      " 11%|█         | 11/100 [00:01<00:11,  7.74it/s]"
     ]
    },
    {
     "name": "stdout",
     "output_type": "stream",
     "text": [
      "2020-02-28 15:42:02,158 - 9258 - analytics.binary.mcmc - INFO: eval counter = 11475, likehood = -84.36702476357814\n",
      "2020-02-28 15:42:02,172 - 9258 - analytics.binary.mcmc - INFO: eval counter = 11476, likehood = -499.74751888638207\n",
      "2020-02-28 15:42:02,183 - 9258 - analytics.binary.mcmc - INFO: eval counter = 11477, likehood = -251.1721454141934\n",
      "2020-02-28 15:42:02,193 - 9258 - analytics.binary.mcmc - INFO: eval counter = 11478, likehood = -335.8786094184154\n",
      "2020-02-28 15:42:02,206 - 9258 - analytics.binary.mcmc - INFO: eval counter = 11479, likehood = -294.3011237107338\n",
      "2020-02-28 15:42:02,223 - 9258 - analytics.binary.mcmc - INFO: eval counter = 11480, likehood = -140.4980283227547\n",
      "2020-02-28 15:42:02,234 - 9258 - analytics.binary.mcmc - INFO: eval counter = 11481, likehood = -125.72187079177267\n",
      "2020-02-28 15:42:02,244 - 9258 - analytics.binary.mcmc - INFO: eval counter = 11482, likehood = -502.3129686538337\n",
      "2020-02-28 15:42:02,255 - 9258 - analytics.binary.mcmc - INFO: eval counter = 11483, likehood = -325.5799017011976\n",
      "2020-02-28 15:42:02,266 - 9258 - analytics.binary.mcmc - INFO: eval counter = 11484, likehood = -119.06760740796601\n",
      "2020-02-28 15:42:02,281 - 9258 - analytics.binary.mcmc - INFO: eval counter = 11485, likehood = -139.29232117350276\n",
      "2020-02-28 15:42:02,295 - 9258 - analytics.binary.mcmc - INFO: eval counter = 11486, likehood = -355.35670280473175\n"
     ]
    },
    {
     "name": "stderr",
     "output_type": "stream",
     "text": [
      "\r",
      " 12%|█▏        | 12/100 [00:01<00:11,  7.36it/s]"
     ]
    },
    {
     "name": "stdout",
     "output_type": "stream",
     "text": [
      "2020-02-28 15:42:02,310 - 9258 - analytics.binary.mcmc - INFO: eval counter = 11487, likehood = -84.92813349622604\n",
      "2020-02-28 15:42:02,322 - 9258 - analytics.binary.mcmc - INFO: eval counter = 11488, likehood = -1922.647197699002\n",
      "2020-02-28 15:42:02,337 - 9258 - analytics.binary.mcmc - INFO: eval counter = 11489, likehood = -126.31339688429826\n",
      "2020-02-28 15:42:02,351 - 9258 - analytics.binary.mcmc - INFO: eval counter = 11490, likehood = -377.63951416429035\n",
      "2020-02-28 15:42:02,364 - 9258 - analytics.binary.mcmc - INFO: eval counter = 11491, likehood = -134.12406203904425\n",
      "2020-02-28 15:42:02,381 - 9258 - analytics.binary.mcmc - INFO: eval counter = 11492, likehood = -108.89908935367009\n",
      "2020-02-28 15:42:02,393 - 9258 - analytics.binary.mcmc - INFO: eval counter = 11493, likehood = -168.2252787272541\n",
      "2020-02-28 15:42:02,404 - 9258 - analytics.binary.mcmc - INFO: eval counter = 11494, likehood = -334.734854549372\n",
      "2020-02-28 15:42:02,415 - 9258 - analytics.binary.mcmc - INFO: eval counter = 11495, likehood = -101.58522324384187\n",
      "2020-02-28 15:42:02,425 - 9258 - analytics.binary.mcmc - INFO: eval counter = 11496, likehood = -158.04022209445296\n",
      "2020-02-28 15:42:02,437 - 9258 - analytics.binary.mcmc - INFO: eval counter = 11497, likehood = -160.09313022177489\n",
      "2020-02-28 15:42:02,448 - 9258 - analytics.binary.mcmc - INFO: eval counter = 11498, likehood = -150.60130483997773\n"
     ]
    },
    {
     "name": "stderr",
     "output_type": "stream",
     "text": [
      "\r",
      " 13%|█▎        | 13/100 [00:01<00:12,  7.10it/s]"
     ]
    },
    {
     "name": "stdout",
     "output_type": "stream",
     "text": [
      "2020-02-28 15:42:02,459 - 9258 - analytics.binary.mcmc - INFO: eval counter = 11499, likehood = -467.7479921324969\n",
      "2020-02-28 15:42:02,470 - 9258 - analytics.binary.mcmc - INFO: eval counter = 11500, likehood = -132.58605498854016\n",
      "2020-02-28 15:42:02,480 - 9258 - analytics.binary.mcmc - INFO: eval counter = 11501, likehood = -138.08402676135034\n",
      "2020-02-28 15:42:02,494 - 9258 - analytics.binary.mcmc - INFO: eval counter = 11502, likehood = -107.9333517190203\n",
      "2020-02-28 15:42:02,504 - 9258 - analytics.binary.mcmc - INFO: eval counter = 11503, likehood = -246.49881173095142\n",
      "2020-02-28 15:42:02,514 - 9258 - analytics.binary.mcmc - INFO: eval counter = 11504, likehood = -140.22439687954176\n",
      "2020-02-28 15:42:02,525 - 9258 - analytics.binary.mcmc - INFO: eval counter = 11505, likehood = -85.04060805678803\n",
      "2020-02-28 15:42:02,537 - 9258 - analytics.binary.mcmc - INFO: eval counter = 11506, likehood = -310.7292369472596\n",
      "2020-02-28 15:42:02,549 - 9258 - analytics.binary.mcmc - INFO: eval counter = 11507, likehood = -493.8071743984839\n",
      "2020-02-28 15:42:02,560 - 9258 - analytics.binary.mcmc - INFO: eval counter = 11508, likehood = -116.09889824489139\n",
      "2020-02-28 15:42:02,570 - 9258 - analytics.binary.mcmc - INFO: eval counter = 11509, likehood = -106.50173048343595\n",
      "2020-02-28 15:42:02,581 - 9258 - analytics.binary.mcmc - INFO: eval counter = 11510, likehood = -142.46704247443134\n"
     ]
    },
    {
     "name": "stderr",
     "output_type": "stream",
     "text": [
      "\r",
      " 14%|█▍        | 14/100 [00:01<00:11,  7.21it/s]"
     ]
    },
    {
     "name": "stdout",
     "output_type": "stream",
     "text": [
      "2020-02-28 15:42:02,597 - 9258 - analytics.binary.mcmc - INFO: eval counter = 11511, likehood = -431.9727623080439\n",
      "2020-02-28 15:42:02,607 - 9258 - analytics.binary.mcmc - INFO: eval counter = 11512, likehood = -116.26364359544769\n",
      "2020-02-28 15:42:02,618 - 9258 - analytics.binary.mcmc - INFO: eval counter = 11513, likehood = -171.77007512252555\n",
      "2020-02-28 15:42:02,630 - 9258 - analytics.binary.mcmc - INFO: eval counter = 11514, likehood = -220.38776027467577\n",
      "2020-02-28 15:42:02,641 - 9258 - analytics.binary.mcmc - INFO: eval counter = 11515, likehood = -138.12513516751252\n",
      "2020-02-28 15:42:02,654 - 9258 - analytics.binary.mcmc - INFO: eval counter = 11516, likehood = -111.16646046069559\n",
      "2020-02-28 15:42:02,670 - 9258 - analytics.binary.mcmc - INFO: eval counter = 11517, likehood = -79.79390597306487\n",
      "2020-02-28 15:42:02,684 - 9258 - analytics.binary.mcmc - INFO: eval counter = 11518, likehood = -116.08989667157519\n",
      "2020-02-28 15:42:02,695 - 9258 - analytics.binary.mcmc - INFO: eval counter = 11519, likehood = -303.7086116924952\n",
      "2020-02-28 15:42:02,709 - 9258 - analytics.binary.mcmc - INFO: eval counter = 11520, likehood = -97.63199188869301\n",
      "2020-02-28 15:42:02,720 - 9258 - analytics.binary.mcmc - INFO: eval counter = 11521, likehood = -122.11200540660572\n",
      "2020-02-28 15:42:02,731 - 9258 - analytics.binary.mcmc - INFO: eval counter = 11522, likehood = -99.25669435300865\n"
     ]
    },
    {
     "name": "stderr",
     "output_type": "stream",
     "text": [
      "\r",
      " 15%|█▌        | 15/100 [00:01<00:12,  7.05it/s]"
     ]
    },
    {
     "name": "stdout",
     "output_type": "stream",
     "text": [
      "2020-02-28 15:42:02,743 - 9258 - analytics.binary.mcmc - INFO: eval counter = 11523, likehood = -81.5388727518737\n",
      "2020-02-28 15:42:02,753 - 9258 - analytics.binary.mcmc - INFO: eval counter = 11524, likehood = -110.57208602568733\n",
      "2020-02-28 15:42:02,762 - 9258 - analytics.binary.mcmc - INFO: eval counter = 11525, likehood = -402.5442663530306\n",
      "2020-02-28 15:42:02,773 - 9258 - analytics.binary.mcmc - INFO: eval counter = 11526, likehood = -99.38155348863391\n",
      "2020-02-28 15:42:02,783 - 9258 - analytics.binary.mcmc - INFO: eval counter = 11527, likehood = -152.04228751901573\n",
      "2020-02-28 15:42:02,793 - 9258 - analytics.binary.mcmc - INFO: eval counter = 11528, likehood = -112.41738509596726\n",
      "2020-02-28 15:42:02,804 - 9258 - analytics.binary.mcmc - INFO: eval counter = 11529, likehood = -985.437295943676\n",
      "2020-02-28 15:42:02,815 - 9258 - analytics.binary.mcmc - INFO: eval counter = 11530, likehood = -139.15616651098497\n",
      "2020-02-28 15:42:02,829 - 9258 - analytics.binary.mcmc - INFO: eval counter = 11531, likehood = -155.86354193918777\n",
      "2020-02-28 15:42:02,839 - 9258 - analytics.binary.mcmc - INFO: eval counter = 11532, likehood = -130.6302346265469\n",
      "2020-02-28 15:42:02,851 - 9258 - analytics.binary.mcmc - INFO: eval counter = 11533, likehood = -106.81058682639068\n",
      "2020-02-28 15:42:02,863 - 9258 - analytics.binary.mcmc - INFO: eval counter = 11534, likehood = -88.560696221705\n"
     ]
    },
    {
     "name": "stderr",
     "output_type": "stream",
     "text": [
      "\r",
      " 16%|█▌        | 16/100 [00:02<00:11,  7.18it/s]"
     ]
    },
    {
     "name": "stdout",
     "output_type": "stream",
     "text": [
      "2020-02-28 15:42:02,876 - 9258 - analytics.binary.mcmc - INFO: eval counter = 11535, likehood = -190.38696614292297\n",
      "2020-02-28 15:42:02,888 - 9258 - analytics.binary.mcmc - INFO: eval counter = 11536, likehood = -131.44146776893658\n",
      "2020-02-28 15:42:02,899 - 9258 - analytics.binary.mcmc - INFO: eval counter = 11537, likehood = -550.4006775164282\n",
      "2020-02-28 15:42:02,909 - 9258 - analytics.binary.mcmc - INFO: eval counter = 11538, likehood = -106.12710644866762\n",
      "2020-02-28 15:42:02,921 - 9258 - analytics.binary.mcmc - INFO: eval counter = 11539, likehood = -260.121119352757\n",
      "2020-02-28 15:42:02,933 - 9258 - analytics.binary.mcmc - INFO: eval counter = 11540, likehood = -94.92555092309405\n",
      "2020-02-28 15:42:02,943 - 9258 - analytics.binary.mcmc - INFO: eval counter = 11541, likehood = -1578.3943156557032\n",
      "2020-02-28 15:42:02,954 - 9258 - analytics.binary.mcmc - INFO: eval counter = 11542, likehood = -138.7773861939946\n",
      "2020-02-28 15:42:02,966 - 9258 - analytics.binary.mcmc - INFO: eval counter = 11543, likehood = -160.901480448242\n",
      "2020-02-28 15:42:02,978 - 9258 - analytics.binary.mcmc - INFO: eval counter = 11544, likehood = -111.09002258348725\n",
      "2020-02-28 15:42:02,990 - 9258 - analytics.binary.mcmc - INFO: eval counter = 11545, likehood = -125.93856542155714\n"
     ]
    },
    {
     "name": "stderr",
     "output_type": "stream",
     "text": [
      "\r",
      " 17%|█▋        | 17/100 [00:02<00:11,  7.39it/s]"
     ]
    },
    {
     "name": "stdout",
     "output_type": "stream",
     "text": [
      "2020-02-28 15:42:03,002 - 9258 - analytics.binary.mcmc - INFO: eval counter = 11546, likehood = -85.57300994546533\n",
      "2020-02-28 15:42:03,014 - 9258 - analytics.binary.mcmc - INFO: eval counter = 11547, likehood = -115.5024332878121\n",
      "2020-02-28 15:42:03,025 - 9258 - analytics.binary.mcmc - INFO: eval counter = 11548, likehood = -188.83497972335493\n",
      "2020-02-28 15:42:03,036 - 9258 - analytics.binary.mcmc - INFO: eval counter = 11549, likehood = -126.96435514142777\n",
      "2020-02-28 15:42:03,049 - 9258 - analytics.binary.mcmc - INFO: eval counter = 11550, likehood = -95.56094756557135\n",
      "2020-02-28 15:42:03,061 - 9258 - analytics.binary.mcmc - INFO: eval counter = 11551, likehood = -138.12937612040378\n",
      "2020-02-28 15:42:03,072 - 9258 - analytics.binary.mcmc - INFO: eval counter = 11552, likehood = -81.84664207205599\n",
      "2020-02-28 15:42:03,084 - 9258 - analytics.binary.mcmc - INFO: eval counter = 11553, likehood = -1059.5080762773248\n",
      "2020-02-28 15:42:03,095 - 9258 - analytics.binary.mcmc - INFO: eval counter = 11554, likehood = -236.9409455142357\n",
      "2020-02-28 15:42:03,109 - 9258 - analytics.binary.mcmc - INFO: eval counter = 11555, likehood = -161.3573631878359\n",
      "2020-02-28 15:42:03,120 - 9258 - analytics.binary.mcmc - INFO: eval counter = 11556, likehood = -93.21221452740119\n",
      "2020-02-28 15:42:03,131 - 9258 - analytics.binary.mcmc - INFO: eval counter = 11557, likehood = -101.66098471559532\n"
     ]
    },
    {
     "name": "stderr",
     "output_type": "stream",
     "text": [
      "\r",
      " 18%|█▊        | 18/100 [00:02<00:11,  7.29it/s]"
     ]
    },
    {
     "name": "stdout",
     "output_type": "stream",
     "text": [
      "2020-02-28 15:42:03,146 - 9258 - analytics.binary.mcmc - INFO: eval counter = 11558, likehood = -947.1889189840634\n",
      "2020-02-28 15:42:03,157 - 9258 - analytics.binary.mcmc - INFO: eval counter = 11559, likehood = -186.70935279348265\n",
      "2020-02-28 15:42:03,167 - 9258 - analytics.binary.mcmc - INFO: eval counter = 11560, likehood = -124.59295091674366\n",
      "2020-02-28 15:42:03,178 - 9258 - analytics.binary.mcmc - INFO: eval counter = 11561, likehood = -142.33936633278788\n",
      "2020-02-28 15:42:03,188 - 9258 - analytics.binary.mcmc - INFO: eval counter = 11562, likehood = -100.09920996426594\n",
      "2020-02-28 15:42:03,201 - 9258 - analytics.binary.mcmc - INFO: eval counter = 11563, likehood = -88.93755633586369\n",
      "2020-02-28 15:42:03,212 - 9258 - analytics.binary.mcmc - INFO: eval counter = 11564, likehood = -173.68760976397328\n",
      "2020-02-28 15:42:03,223 - 9258 - analytics.binary.mcmc - INFO: eval counter = 11565, likehood = -96.57863236464154\n",
      "2020-02-28 15:42:03,241 - 9258 - analytics.binary.mcmc - INFO: eval counter = 11566, likehood = -114.57784823981645\n",
      "2020-02-28 15:42:03,253 - 9258 - analytics.binary.mcmc - INFO: eval counter = 11567, likehood = -89.10114955919892\n",
      "2020-02-28 15:42:03,268 - 9258 - analytics.binary.mcmc - INFO: eval counter = 11568, likehood = -181.7578468015778\n"
     ]
    },
    {
     "name": "stderr",
     "output_type": "stream",
     "text": [
      "\r",
      " 19%|█▉        | 19/100 [00:02<00:11,  7.31it/s]"
     ]
    },
    {
     "name": "stdout",
     "output_type": "stream",
     "text": [
      "2020-02-28 15:42:03,281 - 9258 - analytics.binary.mcmc - INFO: eval counter = 11569, likehood = -409.2008549673564\n",
      "2020-02-28 15:42:03,293 - 9258 - analytics.binary.mcmc - INFO: eval counter = 11570, likehood = -115.01522787802433\n",
      "2020-02-28 15:42:03,303 - 9258 - analytics.binary.mcmc - INFO: eval counter = 11571, likehood = -157.36726678699043\n",
      "2020-02-28 15:42:03,314 - 9258 - analytics.binary.mcmc - INFO: eval counter = 11572, likehood = -119.42833102858904\n",
      "2020-02-28 15:42:03,325 - 9258 - analytics.binary.mcmc - INFO: eval counter = 11573, likehood = -88.03408172045371\n",
      "2020-02-28 15:42:03,342 - 9258 - analytics.binary.mcmc - INFO: eval counter = 11574, likehood = -88.03360844154622\n",
      "2020-02-28 15:42:03,353 - 9258 - analytics.binary.mcmc - INFO: eval counter = 11575, likehood = -86.95005579394122\n",
      "2020-02-28 15:42:03,367 - 9258 - analytics.binary.mcmc - INFO: eval counter = 11576, likehood = -86.25296760562\n",
      "2020-02-28 15:42:03,383 - 9258 - analytics.binary.mcmc - INFO: eval counter = 11577, likehood = -168.0693725045315\n",
      "2020-02-28 15:42:03,393 - 9258 - analytics.binary.mcmc - INFO: eval counter = 11578, likehood = -118.84032105791617\n",
      "2020-02-28 15:42:03,405 - 9258 - analytics.binary.mcmc - INFO: eval counter = 11579, likehood = -89.18948432487392\n",
      "2020-02-28 15:42:03,416 - 9258 - analytics.binary.mcmc - INFO: eval counter = 11580, likehood = -100.21966126732843\n"
     ]
    },
    {
     "name": "stderr",
     "output_type": "stream",
     "text": [
      "\r",
      " 20%|██        | 20/100 [00:02<00:11,  7.13it/s]"
     ]
    },
    {
     "name": "stdout",
     "output_type": "stream",
     "text": [
      "2020-02-28 15:42:03,429 - 9258 - analytics.binary.mcmc - INFO: eval counter = 11581, likehood = -81.65886923175941\n",
      "2020-02-28 15:42:03,441 - 9258 - analytics.binary.mcmc - INFO: eval counter = 11582, likehood = -250.8056897355388\n",
      "2020-02-28 15:42:03,453 - 9258 - analytics.binary.mcmc - INFO: eval counter = 11583, likehood = -342.1491693459637\n",
      "2020-02-28 15:42:03,465 - 9258 - analytics.binary.mcmc - INFO: eval counter = 11584, likehood = -89.63499853006182\n",
      "2020-02-28 15:42:03,476 - 9258 - analytics.binary.mcmc - INFO: eval counter = 11585, likehood = -98.20425170527338\n",
      "2020-02-28 15:42:03,487 - 9258 - analytics.binary.mcmc - INFO: eval counter = 11586, likehood = -85.07059268340461\n",
      "2020-02-28 15:42:03,498 - 9258 - analytics.binary.mcmc - INFO: eval counter = 11587, likehood = -1072.3698055697862\n",
      "2020-02-28 15:42:03,509 - 9258 - analytics.binary.mcmc - INFO: eval counter = 11588, likehood = -107.64204491968229\n",
      "2020-02-28 15:42:03,522 - 9258 - analytics.binary.mcmc - INFO: eval counter = 11589, likehood = -104.99585266461152\n",
      "2020-02-28 15:42:03,532 - 9258 - analytics.binary.mcmc - INFO: eval counter = 11590, likehood = -95.74121580407034\n",
      "2020-02-28 15:42:03,543 - 9258 - analytics.binary.mcmc - INFO: eval counter = 11591, likehood = -105.10272517573146\n",
      "2020-02-28 15:42:03,553 - 9258 - analytics.binary.mcmc - INFO: eval counter = 11592, likehood = -86.38675196947698\n"
     ]
    },
    {
     "name": "stderr",
     "output_type": "stream",
     "text": [
      "\r",
      " 21%|██        | 21/100 [00:02<00:11,  7.18it/s]"
     ]
    },
    {
     "name": "stdout",
     "output_type": "stream",
     "text": [
      "2020-02-28 15:42:03,565 - 9258 - analytics.binary.mcmc - INFO: eval counter = 11593, likehood = -85.76461336919078\n",
      "2020-02-28 15:42:03,575 - 9258 - analytics.binary.mcmc - INFO: eval counter = 11594, likehood = -270.6150610840749\n",
      "2020-02-28 15:42:03,587 - 9258 - analytics.binary.mcmc - INFO: eval counter = 11595, likehood = -113.38525820667056\n",
      "2020-02-28 15:42:03,607 - 9258 - analytics.binary.mcmc - INFO: eval counter = 11596, likehood = -93.8706083454207\n",
      "2020-02-28 15:42:03,618 - 9258 - analytics.binary.mcmc - INFO: eval counter = 11597, likehood = -131.43605610268457\n",
      "2020-02-28 15:42:03,632 - 9258 - analytics.binary.mcmc - INFO: eval counter = 11598, likehood = -91.5806847660435\n",
      "2020-02-28 15:42:03,644 - 9258 - analytics.binary.mcmc - INFO: eval counter = 11599, likehood = -713.7686037295294\n",
      "2020-02-28 15:42:03,655 - 9258 - analytics.binary.mcmc - INFO: eval counter = 11600, likehood = -80.43814146751967\n",
      "2020-02-28 15:42:03,671 - 9258 - analytics.binary.mcmc - INFO: eval counter = 11601, likehood = -136.83591810217584\n",
      "2020-02-28 15:42:03,687 - 9258 - analytics.binary.mcmc - INFO: eval counter = 11602, likehood = -93.20361021626438\n",
      "2020-02-28 15:42:03,702 - 9258 - analytics.binary.mcmc - INFO: eval counter = 11603, likehood = -95.95841414761645\n",
      "2020-02-28 15:42:03,714 - 9258 - analytics.binary.mcmc - INFO: eval counter = 11604, likehood = -90.30636626113443\n"
     ]
    },
    {
     "name": "stderr",
     "output_type": "stream",
     "text": [
      "\r",
      " 22%|██▏       | 22/100 [00:02<00:11,  6.85it/s]"
     ]
    },
    {
     "name": "stdout",
     "output_type": "stream",
     "text": [
      "2020-02-28 15:42:03,735 - 9258 - analytics.binary.mcmc - INFO: eval counter = 11605, likehood = -85.84526456955992\n",
      "2020-02-28 15:42:03,747 - 9258 - analytics.binary.mcmc - INFO: eval counter = 11606, likehood = -218.41210415606824\n",
      "2020-02-28 15:42:03,759 - 9258 - analytics.binary.mcmc - INFO: eval counter = 11607, likehood = -99.79383076301411\n",
      "2020-02-28 15:42:03,772 - 9258 - analytics.binary.mcmc - INFO: eval counter = 11608, likehood = -93.5307275564084\n",
      "2020-02-28 15:42:03,786 - 9258 - analytics.binary.mcmc - INFO: eval counter = 11609, likehood = -87.611401426498\n",
      "2020-02-28 15:42:03,799 - 9258 - analytics.binary.mcmc - INFO: eval counter = 11610, likehood = -88.04735228571046\n",
      "2020-02-28 15:42:03,813 - 9258 - analytics.binary.mcmc - INFO: eval counter = 11611, likehood = -81.1488857163497\n",
      "2020-02-28 15:42:03,824 - 9258 - analytics.binary.mcmc - INFO: eval counter = 11612, likehood = -145.95150719992176\n",
      "2020-02-28 15:42:03,837 - 9258 - analytics.binary.mcmc - INFO: eval counter = 11613, likehood = -92.41948611770356\n",
      "2020-02-28 15:42:03,850 - 9258 - analytics.binary.mcmc - INFO: eval counter = 11614, likehood = -88.41429257196901\n",
      "2020-02-28 15:42:03,862 - 9258 - analytics.binary.mcmc - INFO: eval counter = 11615, likehood = -88.51674011621644\n",
      "2020-02-28 15:42:03,875 - 9258 - analytics.binary.mcmc - INFO: eval counter = 11616, likehood = -84.43248419957195\n"
     ]
    },
    {
     "name": "stderr",
     "output_type": "stream",
     "text": [
      "\r",
      " 23%|██▎       | 23/100 [00:03<00:11,  6.65it/s]"
     ]
    },
    {
     "name": "stdout",
     "output_type": "stream",
     "text": [
      "2020-02-28 15:42:03,891 - 9258 - analytics.binary.mcmc - INFO: eval counter = 11617, likehood = -79.0097839206546\n",
      "2020-02-28 15:42:03,901 - 9258 - analytics.binary.mcmc - INFO: eval counter = 11618, likehood = -147.09202141156925\n",
      "2020-02-28 15:42:03,912 - 9258 - analytics.binary.mcmc - INFO: eval counter = 11619, likehood = -92.33846290518458\n",
      "2020-02-28 15:42:03,923 - 9258 - analytics.binary.mcmc - INFO: eval counter = 11620, likehood = -88.75647906958748\n",
      "2020-02-28 15:42:03,936 - 9258 - analytics.binary.mcmc - INFO: eval counter = 11621, likehood = -99.41863072235166\n",
      "2020-02-28 15:42:03,950 - 9258 - analytics.binary.mcmc - INFO: eval counter = 11622, likehood = -161.88915434396478\n",
      "2020-02-28 15:42:03,963 - 9258 - analytics.binary.mcmc - INFO: eval counter = 11623, likehood = -631.299624336546\n",
      "2020-02-28 15:42:03,976 - 9258 - analytics.binary.mcmc - INFO: eval counter = 11624, likehood = -80.11018074602325\n",
      "2020-02-28 15:42:03,989 - 9258 - analytics.binary.mcmc - INFO: eval counter = 11625, likehood = -97.13980334208927\n",
      "2020-02-28 15:42:04,001 - 9258 - analytics.binary.mcmc - INFO: eval counter = 11626, likehood = -124.23903146060965\n",
      "2020-02-28 15:42:04,012 - 9258 - analytics.binary.mcmc - INFO: eval counter = 11627, likehood = -104.4352352264319\n",
      "2020-02-28 15:42:04,024 - 9258 - analytics.binary.mcmc - INFO: eval counter = 11628, likehood = -81.07715926874221\n"
     ]
    },
    {
     "name": "stderr",
     "output_type": "stream",
     "text": [
      "\r",
      " 24%|██▍       | 24/100 [00:03<00:11,  6.66it/s]"
     ]
    },
    {
     "name": "stdout",
     "output_type": "stream",
     "text": [
      "2020-02-28 15:42:04,038 - 9258 - analytics.binary.mcmc - INFO: eval counter = 11629, likehood = -80.49611530902565\n",
      "2020-02-28 15:42:04,050 - 9258 - analytics.binary.mcmc - INFO: eval counter = 11630, likehood = -153.61262720918754\n",
      "2020-02-28 15:42:04,061 - 9258 - analytics.binary.mcmc - INFO: eval counter = 11631, likehood = -92.29578842714497\n",
      "2020-02-28 15:42:04,072 - 9258 - analytics.binary.mcmc - INFO: eval counter = 11632, likehood = -95.32633299251493\n",
      "2020-02-28 15:42:04,084 - 9258 - analytics.binary.mcmc - INFO: eval counter = 11633, likehood = -89.13359042838829\n",
      "2020-02-28 15:42:04,099 - 9258 - analytics.binary.mcmc - INFO: eval counter = 11634, likehood = -80.94489770304936\n",
      "2020-02-28 15:42:04,111 - 9258 - analytics.binary.mcmc - INFO: eval counter = 11635, likehood = -131.37977805248497\n",
      "2020-02-28 15:42:04,127 - 9258 - analytics.binary.mcmc - INFO: eval counter = 11636, likehood = -82.50640323384059\n",
      "2020-02-28 15:42:04,139 - 9258 - analytics.binary.mcmc - INFO: eval counter = 11637, likehood = -88.93751414574405\n",
      "2020-02-28 15:42:04,150 - 9258 - analytics.binary.mcmc - INFO: eval counter = 11638, likehood = -90.3109817819972\n",
      "2020-02-28 15:42:04,161 - 9258 - analytics.binary.mcmc - INFO: eval counter = 11639, likehood = -106.20025480580438\n",
      "2020-02-28 15:42:04,172 - 9258 - analytics.binary.mcmc - INFO: eval counter = 11640, likehood = -83.43476446468121\n"
     ]
    },
    {
     "name": "stderr",
     "output_type": "stream",
     "text": [
      "\r",
      " 25%|██▌       | 25/100 [00:03<00:11,  6.70it/s]"
     ]
    },
    {
     "name": "stdout",
     "output_type": "stream",
     "text": [
      "2020-02-28 15:42:04,185 - 9258 - analytics.binary.mcmc - INFO: eval counter = 11641, likehood = -83.20682303609307\n",
      "2020-02-28 15:42:04,197 - 9258 - analytics.binary.mcmc - INFO: eval counter = 11642, likehood = -106.8846279048237\n",
      "2020-02-28 15:42:04,208 - 9258 - analytics.binary.mcmc - INFO: eval counter = 11643, likehood = -84.78865422999151\n",
      "2020-02-28 15:42:04,223 - 9258 - analytics.binary.mcmc - INFO: eval counter = 11644, likehood = -86.624028056993\n",
      "2020-02-28 15:42:04,234 - 9258 - analytics.binary.mcmc - INFO: eval counter = 11645, likehood = -84.57834246553423\n",
      "2020-02-28 15:42:04,245 - 9258 - analytics.binary.mcmc - INFO: eval counter = 11646, likehood = -80.1575493093845\n",
      "2020-02-28 15:42:04,256 - 9258 - analytics.binary.mcmc - INFO: eval counter = 11647, likehood = -198.5695217671214\n",
      "2020-02-28 15:42:04,268 - 9258 - analytics.binary.mcmc - INFO: eval counter = 11648, likehood = -126.88667630158248\n",
      "2020-02-28 15:42:04,280 - 9258 - analytics.binary.mcmc - INFO: eval counter = 11649, likehood = -87.96922427522941\n",
      "2020-02-28 15:42:04,297 - 9258 - analytics.binary.mcmc - INFO: eval counter = 11650, likehood = -84.90771620050161\n",
      "2020-02-28 15:42:04,309 - 9258 - analytics.binary.mcmc - INFO: eval counter = 11651, likehood = -83.43372922079521\n"
     ]
    },
    {
     "name": "stderr",
     "output_type": "stream",
     "text": [
      "\r",
      " 26%|██▌       | 26/100 [00:03<00:10,  6.87it/s]"
     ]
    },
    {
     "name": "stdout",
     "output_type": "stream",
     "text": [
      "2020-02-28 15:42:04,321 - 9258 - analytics.binary.mcmc - INFO: eval counter = 11652, likehood = -94.83198250701201\n",
      "2020-02-28 15:42:04,337 - 9258 - analytics.binary.mcmc - INFO: eval counter = 11653, likehood = -84.48209885916137\n",
      "2020-02-28 15:42:04,352 - 9258 - analytics.binary.mcmc - INFO: eval counter = 11654, likehood = -92.59425042437141\n",
      "2020-02-28 15:42:04,364 - 9258 - analytics.binary.mcmc - INFO: eval counter = 11655, likehood = -84.33046813482225\n",
      "2020-02-28 15:42:04,376 - 9258 - analytics.binary.mcmc - INFO: eval counter = 11656, likehood = -83.27605853307217\n",
      "2020-02-28 15:42:04,387 - 9258 - analytics.binary.mcmc - INFO: eval counter = 11657, likehood = -79.37725350117907\n",
      "2020-02-28 15:42:04,398 - 9258 - analytics.binary.mcmc - INFO: eval counter = 11658, likehood = -255.84010688198669\n",
      "2020-02-28 15:42:04,414 - 9258 - analytics.binary.mcmc - INFO: eval counter = 11659, likehood = -81.4449064062935\n",
      "2020-02-28 15:42:04,428 - 9258 - analytics.binary.mcmc - INFO: eval counter = 11660, likehood = -215.44452013014512\n",
      "2020-02-28 15:42:04,440 - 9258 - analytics.binary.mcmc - INFO: eval counter = 11661, likehood = -86.69325784396004\n",
      "2020-02-28 15:42:04,452 - 9258 - analytics.binary.mcmc - INFO: eval counter = 11662, likehood = -83.78741732289565\n"
     ]
    },
    {
     "name": "stderr",
     "output_type": "stream",
     "text": [
      "\r",
      " 27%|██▋       | 27/100 [00:03<00:10,  6.89it/s]"
     ]
    },
    {
     "name": "stdout",
     "output_type": "stream",
     "text": [
      "2020-02-28 15:42:04,470 - 9258 - analytics.binary.mcmc - INFO: eval counter = 11663, likehood = -79.16095571907445\n",
      "2020-02-28 15:42:04,481 - 9258 - analytics.binary.mcmc - INFO: eval counter = 11664, likehood = -113.23279600810879\n",
      "2020-02-28 15:42:04,492 - 9258 - analytics.binary.mcmc - INFO: eval counter = 11665, likehood = -95.75091763862261\n",
      "2020-02-28 15:42:04,505 - 9258 - analytics.binary.mcmc - INFO: eval counter = 11666, likehood = -89.82779849422043\n",
      "2020-02-28 15:42:04,517 - 9258 - analytics.binary.mcmc - INFO: eval counter = 11667, likehood = -89.07000418706251\n",
      "2020-02-28 15:42:04,529 - 9258 - analytics.binary.mcmc - INFO: eval counter = 11668, likehood = -83.51682034771511\n",
      "2020-02-28 15:42:04,539 - 9258 - analytics.binary.mcmc - INFO: eval counter = 11669, likehood = -80.3010389384935\n",
      "2020-02-28 15:42:04,552 - 9258 - analytics.binary.mcmc - INFO: eval counter = 11670, likehood = -88.426180598003\n",
      "2020-02-28 15:42:04,568 - 9258 - analytics.binary.mcmc - INFO: eval counter = 11671, likehood = -226.23995419640275\n",
      "2020-02-28 15:42:04,578 - 9258 - analytics.binary.mcmc - INFO: eval counter = 11672, likehood = -89.57832202047267\n",
      "2020-02-28 15:42:04,591 - 9258 - analytics.binary.mcmc - INFO: eval counter = 11673, likehood = -84.15018642111943\n",
      "2020-02-28 15:42:04,608 - 9258 - analytics.binary.mcmc - INFO: eval counter = 11674, likehood = -93.26785919531059\n"
     ]
    },
    {
     "name": "stderr",
     "output_type": "stream",
     "text": [
      "\r",
      " 28%|██▊       | 28/100 [00:03<00:10,  6.73it/s]"
     ]
    },
    {
     "name": "stdout",
     "output_type": "stream",
     "text": [
      "2020-02-28 15:42:04,622 - 9258 - analytics.binary.mcmc - INFO: eval counter = 11675, likehood = -78.99909332108459\n",
      "2020-02-28 15:42:04,634 - 9258 - analytics.binary.mcmc - INFO: eval counter = 11676, likehood = -118.77056248552518\n",
      "2020-02-28 15:42:04,644 - 9258 - analytics.binary.mcmc - INFO: eval counter = 11677, likehood = -82.79642350487192\n",
      "2020-02-28 15:42:04,656 - 9258 - analytics.binary.mcmc - INFO: eval counter = 11678, likehood = -85.6002510895896\n",
      "2020-02-28 15:42:04,667 - 9258 - analytics.binary.mcmc - INFO: eval counter = 11679, likehood = -90.55914503764787\n",
      "2020-02-28 15:42:04,679 - 9258 - analytics.binary.mcmc - INFO: eval counter = 11680, likehood = -82.52887241129658\n",
      "2020-02-28 15:42:04,690 - 9258 - analytics.binary.mcmc - INFO: eval counter = 11681, likehood = -97.52274835623234\n",
      "2020-02-28 15:42:04,703 - 9258 - analytics.binary.mcmc - INFO: eval counter = 11682, likehood = -86.40894992288565\n",
      "2020-02-28 15:42:04,715 - 9258 - analytics.binary.mcmc - INFO: eval counter = 11683, likehood = -89.62041889202362\n",
      "2020-02-28 15:42:04,726 - 9258 - analytics.binary.mcmc - INFO: eval counter = 11684, likehood = -86.2357446691274\n",
      "2020-02-28 15:42:04,739 - 9258 - analytics.binary.mcmc - INFO: eval counter = 11685, likehood = -83.98522471389111\n"
     ]
    },
    {
     "name": "stderr",
     "output_type": "stream",
     "text": [
      "\r",
      " 29%|██▉       | 29/100 [00:03<00:10,  7.00it/s]"
     ]
    },
    {
     "name": "stdout",
     "output_type": "stream",
     "text": [
      "2020-02-28 15:42:04,755 - 9258 - analytics.binary.mcmc - INFO: eval counter = 11686, likehood = -79.3597105004152\n",
      "2020-02-28 15:42:04,766 - 9258 - analytics.binary.mcmc - INFO: eval counter = 11687, likehood = -105.68860824922344\n",
      "2020-02-28 15:42:04,777 - 9258 - analytics.binary.mcmc - INFO: eval counter = 11688, likehood = -81.22662667469528\n",
      "2020-02-28 15:42:04,789 - 9258 - analytics.binary.mcmc - INFO: eval counter = 11689, likehood = -148.24280355540793\n",
      "2020-02-28 15:42:04,800 - 9258 - analytics.binary.mcmc - INFO: eval counter = 11690, likehood = -91.20815769698551\n",
      "2020-02-28 15:42:04,813 - 9258 - analytics.binary.mcmc - INFO: eval counter = 11691, likehood = -101.96541104806344\n",
      "2020-02-28 15:42:04,825 - 9258 - analytics.binary.mcmc - INFO: eval counter = 11692, likehood = -86.38440378311516\n",
      "2020-02-28 15:42:04,840 - 9258 - analytics.binary.mcmc - INFO: eval counter = 11693, likehood = -80.89209421422352\n",
      "2020-02-28 15:42:04,856 - 9258 - analytics.binary.mcmc - INFO: eval counter = 11694, likehood = -83.15727002494059\n",
      "2020-02-28 15:42:04,871 - 9258 - analytics.binary.mcmc - INFO: eval counter = 11695, likehood = -86.65110474060134\n",
      "2020-02-28 15:42:04,883 - 9258 - analytics.binary.mcmc - INFO: eval counter = 11696, likehood = -84.77823230054582\n",
      "2020-02-28 15:42:04,894 - 9258 - analytics.binary.mcmc - INFO: eval counter = 11697, likehood = -86.25982961565037\n"
     ]
    },
    {
     "name": "stderr",
     "output_type": "stream",
     "text": [
      "\r",
      " 30%|███       | 30/100 [00:04<00:10,  6.83it/s]"
     ]
    },
    {
     "name": "stdout",
     "output_type": "stream",
     "text": [
      "2020-02-28 15:42:04,906 - 9258 - analytics.binary.mcmc - INFO: eval counter = 11698, likehood = -80.67864768205024\n",
      "2020-02-28 15:42:04,924 - 9258 - analytics.binary.mcmc - INFO: eval counter = 11699, likehood = -87.07732725389891\n",
      "2020-02-28 15:42:04,935 - 9258 - analytics.binary.mcmc - INFO: eval counter = 11700, likehood = -83.18790669612625\n",
      "2020-02-28 15:42:04,946 - 9258 - analytics.binary.mcmc - INFO: eval counter = 11701, likehood = -90.60057884493384\n",
      "2020-02-28 15:42:04,958 - 9258 - analytics.binary.mcmc - INFO: eval counter = 11702, likehood = -89.91600334418037\n",
      "2020-02-28 15:42:04,969 - 9258 - analytics.binary.mcmc - INFO: eval counter = 11703, likehood = -80.10957123716852\n",
      "2020-02-28 15:42:04,980 - 9258 - analytics.binary.mcmc - INFO: eval counter = 11704, likehood = -101.74208728718887\n",
      "2020-02-28 15:42:04,991 - 9258 - analytics.binary.mcmc - INFO: eval counter = 11705, likehood = -103.1608010740913\n",
      "2020-02-28 15:42:05,002 - 9258 - analytics.binary.mcmc - INFO: eval counter = 11706, likehood = -90.61740808980753\n",
      "2020-02-28 15:42:05,013 - 9258 - analytics.binary.mcmc - INFO: eval counter = 11707, likehood = -89.89825336177198\n",
      "2020-02-28 15:42:05,024 - 9258 - analytics.binary.mcmc - INFO: eval counter = 11708, likehood = -87.69309965438515\n"
     ]
    },
    {
     "name": "stderr",
     "output_type": "stream",
     "text": [
      "\r",
      " 31%|███       | 31/100 [00:04<00:09,  7.06it/s]"
     ]
    },
    {
     "name": "stdout",
     "output_type": "stream",
     "text": [
      "2020-02-28 15:42:05,041 - 9258 - analytics.binary.mcmc - INFO: eval counter = 11709, likehood = -84.75103888057949\n",
      "2020-02-28 15:42:05,052 - 9258 - analytics.binary.mcmc - INFO: eval counter = 11710, likehood = -116.57376902290224\n",
      "2020-02-28 15:42:05,063 - 9258 - analytics.binary.mcmc - INFO: eval counter = 11711, likehood = -86.18894805313931\n",
      "2020-02-28 15:42:05,073 - 9258 - analytics.binary.mcmc - INFO: eval counter = 11712, likehood = -90.32883625644443\n",
      "2020-02-28 15:42:05,087 - 9258 - analytics.binary.mcmc - INFO: eval counter = 11713, likehood = -88.34708193789636\n",
      "2020-02-28 15:42:05,097 - 9258 - analytics.binary.mcmc - INFO: eval counter = 11714, likehood = -84.18633262114106\n",
      "2020-02-28 15:42:05,109 - 9258 - analytics.binary.mcmc - INFO: eval counter = 11715, likehood = -80.07152838712766\n",
      "2020-02-28 15:42:05,119 - 9258 - analytics.binary.mcmc - INFO: eval counter = 11716, likehood = -86.79117113046453\n",
      "2020-02-28 15:42:05,131 - 9258 - analytics.binary.mcmc - INFO: eval counter = 11717, likehood = -109.7062384677992\n",
      "2020-02-28 15:42:05,142 - 9258 - analytics.binary.mcmc - INFO: eval counter = 11718, likehood = -80.04102129112307\n",
      "2020-02-28 15:42:05,154 - 9258 - analytics.binary.mcmc - INFO: eval counter = 11719, likehood = -88.46590578893057\n",
      "2020-02-28 15:42:05,165 - 9258 - analytics.binary.mcmc - INFO: eval counter = 11720, likehood = -90.30948578197206\n"
     ]
    },
    {
     "name": "stderr",
     "output_type": "stream",
     "text": [
      "\r",
      " 32%|███▏      | 32/100 [00:04<00:09,  7.07it/s]"
     ]
    },
    {
     "name": "stdout",
     "output_type": "stream",
     "text": [
      "2020-02-28 15:42:05,179 - 9258 - analytics.binary.mcmc - INFO: eval counter = 11721, likehood = -79.91270688099362\n",
      "2020-02-28 15:42:05,189 - 9258 - analytics.binary.mcmc - INFO: eval counter = 11722, likehood = -124.65309874351587\n",
      "2020-02-28 15:42:05,200 - 9258 - analytics.binary.mcmc - INFO: eval counter = 11723, likehood = -87.58412241231711\n",
      "2020-02-28 15:42:05,211 - 9258 - analytics.binary.mcmc - INFO: eval counter = 11724, likehood = -104.07936752450493\n",
      "2020-02-28 15:42:05,222 - 9258 - analytics.binary.mcmc - INFO: eval counter = 11725, likehood = -79.97377396900582\n",
      "2020-02-28 15:42:05,238 - 9258 - analytics.binary.mcmc - INFO: eval counter = 11726, likehood = -87.46039279316778\n",
      "2020-02-28 15:42:05,251 - 9258 - analytics.binary.mcmc - INFO: eval counter = 11727, likehood = -81.93371930064448\n",
      "2020-02-28 15:42:05,263 - 9258 - analytics.binary.mcmc - INFO: eval counter = 11728, likehood = -85.21083653109675\n",
      "2020-02-28 15:42:05,275 - 9258 - analytics.binary.mcmc - INFO: eval counter = 11729, likehood = -97.0788607590852\n",
      "2020-02-28 15:42:05,290 - 9258 - analytics.binary.mcmc - INFO: eval counter = 11730, likehood = -93.49966054235072\n",
      "2020-02-28 15:42:05,304 - 9258 - analytics.binary.mcmc - INFO: eval counter = 11731, likehood = -93.2299595844257\n",
      "2020-02-28 15:42:05,317 - 9258 - analytics.binary.mcmc - INFO: eval counter = 11732, likehood = -85.11606518230418\n"
     ]
    },
    {
     "name": "stderr",
     "output_type": "stream",
     "text": [
      "\r",
      " 33%|███▎      | 33/100 [00:04<00:09,  6.91it/s]"
     ]
    },
    {
     "name": "stdout",
     "output_type": "stream",
     "text": [
      "2020-02-28 15:42:05,331 - 9258 - analytics.binary.mcmc - INFO: eval counter = 11733, likehood = -80.28816888113444\n",
      "2020-02-28 15:42:05,343 - 9258 - analytics.binary.mcmc - INFO: eval counter = 11734, likehood = -82.66610035645142\n",
      "2020-02-28 15:42:05,354 - 9258 - analytics.binary.mcmc - INFO: eval counter = 11735, likehood = -92.84960846856153\n",
      "2020-02-28 15:42:05,366 - 9258 - analytics.binary.mcmc - INFO: eval counter = 11736, likehood = -83.44655466294633\n",
      "2020-02-28 15:42:05,377 - 9258 - analytics.binary.mcmc - INFO: eval counter = 11737, likehood = -92.06986197445941\n",
      "2020-02-28 15:42:05,388 - 9258 - analytics.binary.mcmc - INFO: eval counter = 11738, likehood = -82.5252124146821\n",
      "2020-02-28 15:42:05,399 - 9258 - analytics.binary.mcmc - INFO: eval counter = 11739, likehood = -80.12750086895548\n",
      "2020-02-28 15:42:05,409 - 9258 - analytics.binary.mcmc - INFO: eval counter = 11740, likehood = -103.57024084034313\n",
      "2020-02-28 15:42:05,420 - 9258 - analytics.binary.mcmc - INFO: eval counter = 11741, likehood = -80.48541743561502\n",
      "2020-02-28 15:42:05,431 - 9258 - analytics.binary.mcmc - INFO: eval counter = 11742, likehood = -85.18673863776016\n",
      "2020-02-28 15:42:05,441 - 9258 - analytics.binary.mcmc - INFO: eval counter = 11743, likehood = -86.8372985959929\n",
      "2020-02-28 15:42:05,454 - 9258 - analytics.binary.mcmc - INFO: eval counter = 11744, likehood = -85.06013172092469\n"
     ]
    },
    {
     "name": "stderr",
     "output_type": "stream",
     "text": [
      "\r",
      " 34%|███▍      | 34/100 [00:04<00:09,  7.03it/s]"
     ]
    },
    {
     "name": "stdout",
     "output_type": "stream",
     "text": [
      "2020-02-28 15:42:05,480 - 9258 - analytics.binary.mcmc - INFO: eval counter = 11745, likehood = -80.09258581725585\n",
      "2020-02-28 15:42:05,495 - 9258 - analytics.binary.mcmc - INFO: eval counter = 11746, likehood = -99.48145730292441\n",
      "2020-02-28 15:42:05,511 - 9258 - analytics.binary.mcmc - INFO: eval counter = 11747, likehood = -87.3029966869814\n",
      "2020-02-28 15:42:05,523 - 9258 - analytics.binary.mcmc - INFO: eval counter = 11748, likehood = -87.9870363106751\n",
      "2020-02-28 15:42:05,537 - 9258 - analytics.binary.mcmc - INFO: eval counter = 11749, likehood = -83.86620506789625\n",
      "2020-02-28 15:42:05,547 - 9258 - analytics.binary.mcmc - INFO: eval counter = 11750, likehood = -89.38839868188059\n",
      "2020-02-28 15:42:05,559 - 9258 - analytics.binary.mcmc - INFO: eval counter = 11751, likehood = -79.85623338924661\n",
      "2020-02-28 15:42:05,574 - 9258 - analytics.binary.mcmc - INFO: eval counter = 11752, likehood = -88.64608515821412\n",
      "2020-02-28 15:42:05,588 - 9258 - analytics.binary.mcmc - INFO: eval counter = 11753, likehood = -85.77736038728999\n",
      "2020-02-28 15:42:05,599 - 9258 - analytics.binary.mcmc - INFO: eval counter = 11754, likehood = -80.81955036773586\n",
      "2020-02-28 15:42:05,610 - 9258 - analytics.binary.mcmc - INFO: eval counter = 11755, likehood = -83.3618248605247\n",
      "2020-02-28 15:42:05,621 - 9258 - analytics.binary.mcmc - INFO: eval counter = 11756, likehood = -101.00333434977333\n"
     ]
    },
    {
     "name": "stderr",
     "output_type": "stream",
     "text": [
      "\r",
      " 35%|███▌      | 35/100 [00:04<00:09,  6.68it/s]"
     ]
    },
    {
     "name": "stdout",
     "output_type": "stream",
     "text": [
      "2020-02-28 15:42:05,634 - 9258 - analytics.binary.mcmc - INFO: eval counter = 11757, likehood = -85.14669185340354\n",
      "2020-02-28 15:42:05,645 - 9258 - analytics.binary.mcmc - INFO: eval counter = 11758, likehood = -88.2076234696253\n",
      "2020-02-28 15:42:05,656 - 9258 - analytics.binary.mcmc - INFO: eval counter = 11759, likehood = -107.16529288831686\n",
      "2020-02-28 15:42:05,668 - 9258 - analytics.binary.mcmc - INFO: eval counter = 11760, likehood = -81.66598731970208\n",
      "2020-02-28 15:42:05,679 - 9258 - analytics.binary.mcmc - INFO: eval counter = 11761, likehood = -88.31565862499124\n",
      "2020-02-28 15:42:05,691 - 9258 - analytics.binary.mcmc - INFO: eval counter = 11762, likehood = -81.99318071664156\n",
      "2020-02-28 15:42:05,703 - 9258 - analytics.binary.mcmc - INFO: eval counter = 11763, likehood = -79.82240721460343\n",
      "2020-02-28 15:42:05,715 - 9258 - analytics.binary.mcmc - INFO: eval counter = 11764, likehood = -87.91062683943254\n",
      "2020-02-28 15:42:05,727 - 9258 - analytics.binary.mcmc - INFO: eval counter = 11765, likehood = -92.49650147598955\n",
      "2020-02-28 15:42:05,739 - 9258 - analytics.binary.mcmc - INFO: eval counter = 11766, likehood = -84.87598298356009\n",
      "2020-02-28 15:42:05,751 - 9258 - analytics.binary.mcmc - INFO: eval counter = 11767, likehood = -83.51473802172691\n",
      "2020-02-28 15:42:05,766 - 9258 - analytics.binary.mcmc - INFO: eval counter = 11768, likehood = -87.73961163232701\n"
     ]
    },
    {
     "name": "stderr",
     "output_type": "stream",
     "text": [
      "\r",
      " 36%|███▌      | 36/100 [00:04<00:09,  6.75it/s]"
     ]
    },
    {
     "name": "stdout",
     "output_type": "stream",
     "text": [
      "2020-02-28 15:42:05,778 - 9258 - analytics.binary.mcmc - INFO: eval counter = 11769, likehood = -89.9661248738185\n",
      "2020-02-28 15:42:05,789 - 9258 - analytics.binary.mcmc - INFO: eval counter = 11770, likehood = -84.35696470478243\n",
      "2020-02-28 15:42:05,801 - 9258 - analytics.binary.mcmc - INFO: eval counter = 11771, likehood = -85.51813628212176\n",
      "2020-02-28 15:42:05,812 - 9258 - analytics.binary.mcmc - INFO: eval counter = 11772, likehood = -95.13747039773013\n",
      "2020-02-28 15:42:05,823 - 9258 - analytics.binary.mcmc - INFO: eval counter = 11773, likehood = -82.54124145408626\n",
      "2020-02-28 15:42:05,835 - 9258 - analytics.binary.mcmc - INFO: eval counter = 11774, likehood = -79.77380729596507\n",
      "2020-02-28 15:42:05,850 - 9258 - analytics.binary.mcmc - INFO: eval counter = 11775, likehood = -113.83399839729785\n",
      "2020-02-28 15:42:05,861 - 9258 - analytics.binary.mcmc - INFO: eval counter = 11776, likehood = -83.17360598276998\n",
      "2020-02-28 15:42:05,872 - 9258 - analytics.binary.mcmc - INFO: eval counter = 11777, likehood = -91.51652433271171\n",
      "2020-02-28 15:42:05,888 - 9258 - analytics.binary.mcmc - INFO: eval counter = 11778, likehood = -89.27108619440494\n"
     ]
    },
    {
     "name": "stderr",
     "output_type": "stream",
     "text": [
      "\r",
      " 37%|███▋      | 37/100 [00:05<00:08,  7.07it/s]"
     ]
    },
    {
     "name": "stdout",
     "output_type": "stream",
     "text": [
      "2020-02-28 15:42:05,905 - 9258 - analytics.binary.mcmc - INFO: eval counter = 11779, likehood = -83.10205852927363\n",
      "2020-02-28 15:42:05,918 - 9258 - analytics.binary.mcmc - INFO: eval counter = 11780, likehood = -80.44848243847943\n",
      "2020-02-28 15:42:05,935 - 9258 - analytics.binary.mcmc - INFO: eval counter = 11781, likehood = -105.77305093307831\n",
      "2020-02-28 15:42:05,950 - 9258 - analytics.binary.mcmc - INFO: eval counter = 11782, likehood = -82.21952227955855\n",
      "2020-02-28 15:42:05,961 - 9258 - analytics.binary.mcmc - INFO: eval counter = 11783, likehood = -86.45013022909532\n",
      "2020-02-28 15:42:05,972 - 9258 - analytics.binary.mcmc - INFO: eval counter = 11784, likehood = -81.90298827338485\n",
      "2020-02-28 15:42:05,983 - 9258 - analytics.binary.mcmc - INFO: eval counter = 11785, likehood = -79.12607550762422\n",
      "2020-02-28 15:42:05,995 - 9258 - analytics.binary.mcmc - INFO: eval counter = 11786, likehood = -85.23470541310026\n",
      "2020-02-28 15:42:06,006 - 9258 - analytics.binary.mcmc - INFO: eval counter = 11787, likehood = -83.19321266949729\n",
      "2020-02-28 15:42:06,018 - 9258 - analytics.binary.mcmc - INFO: eval counter = 11788, likehood = -85.6453444827023\n",
      "2020-02-28 15:42:06,029 - 9258 - analytics.binary.mcmc - INFO: eval counter = 11789, likehood = -85.17153173956176\n",
      "2020-02-28 15:42:06,040 - 9258 - analytics.binary.mcmc - INFO: eval counter = 11790, likehood = -86.84134165820274\n"
     ]
    },
    {
     "name": "stderr",
     "output_type": "stream",
     "text": [
      "\r",
      " 38%|███▊      | 38/100 [00:05<00:08,  6.97it/s]"
     ]
    },
    {
     "name": "stdout",
     "output_type": "stream",
     "text": [
      "2020-02-28 15:42:06,054 - 9258 - analytics.binary.mcmc - INFO: eval counter = 11791, likehood = -79.16290288622771\n",
      "2020-02-28 15:42:06,066 - 9258 - analytics.binary.mcmc - INFO: eval counter = 11792, likehood = -87.1180029363507\n",
      "2020-02-28 15:42:06,077 - 9258 - analytics.binary.mcmc - INFO: eval counter = 11793, likehood = -100.71113615158305\n",
      "2020-02-28 15:42:06,088 - 9258 - analytics.binary.mcmc - INFO: eval counter = 11794, likehood = -86.30626987158911\n",
      "2020-02-28 15:42:06,100 - 9258 - analytics.binary.mcmc - INFO: eval counter = 11795, likehood = -84.31385406021545\n",
      "2020-02-28 15:42:06,111 - 9258 - analytics.binary.mcmc - INFO: eval counter = 11796, likehood = -84.51803624214669\n",
      "2020-02-28 15:42:06,123 - 9258 - analytics.binary.mcmc - INFO: eval counter = 11797, likehood = -84.38163106809654\n",
      "2020-02-28 15:42:06,135 - 9258 - analytics.binary.mcmc - INFO: eval counter = 11798, likehood = -80.34916519140617\n",
      "2020-02-28 15:42:06,146 - 9258 - analytics.binary.mcmc - INFO: eval counter = 11799, likehood = -83.08832105468409\n",
      "2020-02-28 15:42:06,159 - 9258 - analytics.binary.mcmc - INFO: eval counter = 11800, likehood = -88.9070716112497\n",
      "2020-02-28 15:42:06,170 - 9258 - analytics.binary.mcmc - INFO: eval counter = 11801, likehood = -82.8390370375541\n"
     ]
    },
    {
     "name": "stderr",
     "output_type": "stream",
     "text": [
      "\r",
      " 39%|███▉      | 39/100 [00:05<00:08,  7.16it/s]"
     ]
    },
    {
     "name": "stdout",
     "output_type": "stream",
     "text": [
      "2020-02-28 15:42:06,184 - 9258 - analytics.binary.mcmc - INFO: eval counter = 11802, likehood = -79.25256575616511\n",
      "2020-02-28 15:42:06,196 - 9258 - analytics.binary.mcmc - INFO: eval counter = 11803, likehood = -84.90323518567453\n",
      "2020-02-28 15:42:06,208 - 9258 - analytics.binary.mcmc - INFO: eval counter = 11804, likehood = -85.5911517813243\n",
      "2020-02-28 15:42:06,224 - 9258 - analytics.binary.mcmc - INFO: eval counter = 11805, likehood = -80.86200269839206\n",
      "2020-02-28 15:42:06,239 - 9258 - analytics.binary.mcmc - INFO: eval counter = 11806, likehood = -87.60956730809774\n",
      "2020-02-28 15:42:06,249 - 9258 - analytics.binary.mcmc - INFO: eval counter = 11807, likehood = -87.47896990358865\n",
      "2020-02-28 15:42:06,265 - 9258 - analytics.binary.mcmc - INFO: eval counter = 11808, likehood = -81.88482461577067\n",
      "2020-02-28 15:42:06,276 - 9258 - analytics.binary.mcmc - INFO: eval counter = 11809, likehood = -131.09213068678767\n",
      "2020-02-28 15:42:06,287 - 9258 - analytics.binary.mcmc - INFO: eval counter = 11810, likehood = -82.91973368735513\n",
      "2020-02-28 15:42:06,299 - 9258 - analytics.binary.mcmc - INFO: eval counter = 11811, likehood = -88.4666256990745\n",
      "2020-02-28 15:42:06,310 - 9258 - analytics.binary.mcmc - INFO: eval counter = 11812, likehood = -84.30087442414809\n",
      "2020-02-28 15:42:06,321 - 9258 - analytics.binary.mcmc - INFO: eval counter = 11813, likehood = -97.62018078319471\n"
     ]
    },
    {
     "name": "stderr",
     "output_type": "stream",
     "text": [
      "\r",
      " 40%|████      | 40/100 [00:05<00:08,  7.00it/s]"
     ]
    },
    {
     "name": "stdout",
     "output_type": "stream",
     "text": [
      "2020-02-28 15:42:06,334 - 9258 - analytics.binary.mcmc - INFO: eval counter = 11814, likehood = -83.66245019860017\n",
      "2020-02-28 15:42:06,345 - 9258 - analytics.binary.mcmc - INFO: eval counter = 11815, likehood = -84.8802526804747\n",
      "2020-02-28 15:42:06,356 - 9258 - analytics.binary.mcmc - INFO: eval counter = 11816, likehood = -111.94855110190393\n",
      "2020-02-28 15:42:06,375 - 9258 - analytics.binary.mcmc - INFO: eval counter = 11817, likehood = -87.38231217630234\n",
      "2020-02-28 15:42:06,387 - 9258 - analytics.binary.mcmc - INFO: eval counter = 11818, likehood = -81.70875897561105\n",
      "2020-02-28 15:42:06,398 - 9258 - analytics.binary.mcmc - INFO: eval counter = 11819, likehood = -87.57115401076061\n",
      "2020-02-28 15:42:06,409 - 9258 - analytics.binary.mcmc - INFO: eval counter = 11820, likehood = -90.00632676756047\n",
      "2020-02-28 15:42:06,421 - 9258 - analytics.binary.mcmc - INFO: eval counter = 11821, likehood = -81.02400719347554\n",
      "2020-02-28 15:42:06,433 - 9258 - analytics.binary.mcmc - INFO: eval counter = 11822, likehood = -87.04545307497325\n",
      "2020-02-28 15:42:06,444 - 9258 - analytics.binary.mcmc - INFO: eval counter = 11823, likehood = -89.41487313588546\n"
     ]
    },
    {
     "name": "stderr",
     "output_type": "stream",
     "text": [
      "\r",
      " 41%|████      | 41/100 [00:05<00:08,  7.26it/s]"
     ]
    },
    {
     "name": "stdout",
     "output_type": "stream",
     "text": [
      "2020-02-28 15:42:06,458 - 9258 - analytics.binary.mcmc - INFO: eval counter = 11824, likehood = -82.06437704479174\n",
      "2020-02-28 15:42:06,470 - 9258 - analytics.binary.mcmc - INFO: eval counter = 11825, likehood = -129.1355179483752\n",
      "2020-02-28 15:42:06,481 - 9258 - analytics.binary.mcmc - INFO: eval counter = 11826, likehood = -80.79022096787281\n",
      "2020-02-28 15:42:06,493 - 9258 - analytics.binary.mcmc - INFO: eval counter = 11827, likehood = -103.46448862655444\n",
      "2020-02-28 15:42:06,504 - 9258 - analytics.binary.mcmc - INFO: eval counter = 11828, likehood = -82.88750569212644\n",
      "2020-02-28 15:42:06,515 - 9258 - analytics.binary.mcmc - INFO: eval counter = 11829, likehood = -91.94639048633594\n",
      "2020-02-28 15:42:06,527 - 9258 - analytics.binary.mcmc - INFO: eval counter = 11830, likehood = -84.41665933319325\n",
      "2020-02-28 15:42:06,539 - 9258 - analytics.binary.mcmc - INFO: eval counter = 11831, likehood = -81.27422624560441\n",
      "2020-02-28 15:42:06,550 - 9258 - analytics.binary.mcmc - INFO: eval counter = 11832, likehood = -87.12698484118458\n",
      "2020-02-28 15:42:06,560 - 9258 - analytics.binary.mcmc - INFO: eval counter = 11833, likehood = -82.77147961291931\n",
      "2020-02-28 15:42:06,572 - 9258 - analytics.binary.mcmc - INFO: eval counter = 11834, likehood = -88.42030072727492\n",
      "2020-02-28 15:42:06,583 - 9258 - analytics.binary.mcmc - INFO: eval counter = 11835, likehood = -81.55983095222625\n"
     ]
    },
    {
     "name": "stderr",
     "output_type": "stream",
     "text": [
      "\r",
      " 42%|████▏     | 42/100 [00:05<00:07,  7.28it/s]"
     ]
    },
    {
     "name": "stdout",
     "output_type": "stream",
     "text": [
      "2020-02-28 15:42:06,597 - 9258 - analytics.binary.mcmc - INFO: eval counter = 11836, likehood = -80.36431268020341\n",
      "2020-02-28 15:42:06,607 - 9258 - analytics.binary.mcmc - INFO: eval counter = 11837, likehood = -80.1737530829703\n",
      "2020-02-28 15:42:06,623 - 9258 - analytics.binary.mcmc - INFO: eval counter = 11838, likehood = -82.52012612052738\n",
      "2020-02-28 15:42:06,639 - 9258 - analytics.binary.mcmc - INFO: eval counter = 11839, likehood = -83.38946348468662\n",
      "2020-02-28 15:42:06,653 - 9258 - analytics.binary.mcmc - INFO: eval counter = 11840, likehood = -86.77858358287797\n",
      "2020-02-28 15:42:06,666 - 9258 - analytics.binary.mcmc - INFO: eval counter = 11841, likehood = -84.4280985197347\n",
      "2020-02-28 15:42:06,680 - 9258 - analytics.binary.mcmc - INFO: eval counter = 11842, likehood = -79.25598764678897\n",
      "2020-02-28 15:42:06,693 - 9258 - analytics.binary.mcmc - INFO: eval counter = 11843, likehood = -83.8293975864059\n",
      "2020-02-28 15:42:06,704 - 9258 - analytics.binary.mcmc - INFO: eval counter = 11844, likehood = -83.8310980744821\n",
      "2020-02-28 15:42:06,715 - 9258 - analytics.binary.mcmc - INFO: eval counter = 11845, likehood = -95.75747149742787\n",
      "2020-02-28 15:42:06,725 - 9258 - analytics.binary.mcmc - INFO: eval counter = 11846, likehood = -87.7626768971883\n",
      "2020-02-28 15:42:06,736 - 9258 - analytics.binary.mcmc - INFO: eval counter = 11847, likehood = -80.88235049092144\n"
     ]
    },
    {
     "name": "stderr",
     "output_type": "stream",
     "text": [
      "\r",
      " 43%|████▎     | 43/100 [00:05<00:08,  7.04it/s]"
     ]
    },
    {
     "name": "stdout",
     "output_type": "stream",
     "text": [
      "2020-02-28 15:42:06,747 - 9258 - analytics.binary.mcmc - INFO: eval counter = 11848, likehood = -90.14699053133258\n",
      "2020-02-28 15:42:06,758 - 9258 - analytics.binary.mcmc - INFO: eval counter = 11849, likehood = -80.59658590952152\n",
      "2020-02-28 15:42:06,769 - 9258 - analytics.binary.mcmc - INFO: eval counter = 11850, likehood = -90.01795881882212\n",
      "2020-02-28 15:42:06,779 - 9258 - analytics.binary.mcmc - INFO: eval counter = 11851, likehood = -81.95667021198659\n",
      "2020-02-28 15:42:06,790 - 9258 - analytics.binary.mcmc - INFO: eval counter = 11852, likehood = -83.51648322268186\n",
      "2020-02-28 15:42:06,801 - 9258 - analytics.binary.mcmc - INFO: eval counter = 11853, likehood = -92.61170847865307\n",
      "2020-02-28 15:42:06,813 - 9258 - analytics.binary.mcmc - INFO: eval counter = 11854, likehood = -80.53687409928793\n",
      "2020-02-28 15:42:06,824 - 9258 - analytics.binary.mcmc - INFO: eval counter = 11855, likehood = -96.0046510433827\n",
      "2020-02-28 15:42:06,835 - 9258 - analytics.binary.mcmc - INFO: eval counter = 11856, likehood = -80.7877504370944\n",
      "2020-02-28 15:42:06,847 - 9258 - analytics.binary.mcmc - INFO: eval counter = 11857, likehood = -90.4669694809017\n",
      "2020-02-28 15:42:06,859 - 9258 - analytics.binary.mcmc - INFO: eval counter = 11858, likehood = -81.5743621524628\n",
      "2020-02-28 15:42:06,871 - 9258 - analytics.binary.mcmc - INFO: eval counter = 11859, likehood = -94.76657964668203\n"
     ]
    },
    {
     "name": "stderr",
     "output_type": "stream",
     "text": [
      "\r",
      " 44%|████▍     | 44/100 [00:06<00:07,  7.06it/s]"
     ]
    },
    {
     "name": "stdout",
     "output_type": "stream",
     "text": [
      "2020-02-28 15:42:06,888 - 9258 - analytics.binary.mcmc - INFO: eval counter = 11860, likehood = -83.4036824663647\n",
      "2020-02-28 15:42:06,899 - 9258 - analytics.binary.mcmc - INFO: eval counter = 11861, likehood = -80.41811819576122\n",
      "2020-02-28 15:42:06,910 - 9258 - analytics.binary.mcmc - INFO: eval counter = 11862, likehood = -106.1043220202605\n",
      "2020-02-28 15:42:06,921 - 9258 - analytics.binary.mcmc - INFO: eval counter = 11863, likehood = -81.15875324342746\n",
      "2020-02-28 15:42:06,933 - 9258 - analytics.binary.mcmc - INFO: eval counter = 11864, likehood = -82.71528254748624\n",
      "2020-02-28 15:42:06,944 - 9258 - analytics.binary.mcmc - INFO: eval counter = 11865, likehood = -85.36183141872348\n",
      "2020-02-28 15:42:06,956 - 9258 - analytics.binary.mcmc - INFO: eval counter = 11866, likehood = -79.50009731490796\n",
      "2020-02-28 15:42:06,968 - 9258 - analytics.binary.mcmc - INFO: eval counter = 11867, likehood = -81.27092005162801\n",
      "2020-02-28 15:42:06,979 - 9258 - analytics.binary.mcmc - INFO: eval counter = 11868, likehood = -83.16236822529223\n",
      "2020-02-28 15:42:06,991 - 9258 - analytics.binary.mcmc - INFO: eval counter = 11869, likehood = -84.53770691865803\n",
      "2020-02-28 15:42:07,002 - 9258 - analytics.binary.mcmc - INFO: eval counter = 11870, likehood = -102.45670809828037\n"
     ]
    },
    {
     "name": "stderr",
     "output_type": "stream",
     "text": [
      "\r",
      " 45%|████▌     | 45/100 [00:06<00:07,  7.30it/s]"
     ]
    },
    {
     "name": "stdout",
     "output_type": "stream",
     "text": [
      "2020-02-28 15:42:07,019 - 9258 - analytics.binary.mcmc - INFO: eval counter = 11871, likehood = -79.59180086343957\n",
      "2020-02-28 15:42:07,030 - 9258 - analytics.binary.mcmc - INFO: eval counter = 11872, likehood = -83.68492231238274\n",
      "2020-02-28 15:42:07,041 - 9258 - analytics.binary.mcmc - INFO: eval counter = 11873, likehood = -81.1442071821586\n",
      "2020-02-28 15:42:07,052 - 9258 - analytics.binary.mcmc - INFO: eval counter = 11874, likehood = -83.62395591191375\n",
      "2020-02-28 15:42:07,064 - 9258 - analytics.binary.mcmc - INFO: eval counter = 11875, likehood = -92.14092645302861\n",
      "2020-02-28 15:42:07,076 - 9258 - analytics.binary.mcmc - INFO: eval counter = 11876, likehood = -92.67743153384531\n",
      "2020-02-28 15:42:07,088 - 9258 - analytics.binary.mcmc - INFO: eval counter = 11877, likehood = -94.68556601680025\n",
      "2020-02-28 15:42:07,104 - 9258 - analytics.binary.mcmc - INFO: eval counter = 11878, likehood = -80.51240335812592\n",
      "2020-02-28 15:42:07,116 - 9258 - analytics.binary.mcmc - INFO: eval counter = 11879, likehood = -84.71706543228214\n",
      "2020-02-28 15:42:07,127 - 9258 - analytics.binary.mcmc - INFO: eval counter = 11880, likehood = -81.16821849844732\n",
      "2020-02-28 15:42:07,140 - 9258 - analytics.binary.mcmc - INFO: eval counter = 11881, likehood = -86.75443010521009\n",
      "2020-02-28 15:42:07,153 - 9258 - analytics.binary.mcmc - INFO: eval counter = 11882, likehood = -93.75512864332691\n"
     ]
    },
    {
     "name": "stderr",
     "output_type": "stream",
     "text": [
      "\r",
      " 46%|████▌     | 46/100 [00:06<00:07,  7.10it/s]"
     ]
    },
    {
     "name": "stdout",
     "output_type": "stream",
     "text": [
      "2020-02-28 15:42:07,174 - 9258 - analytics.binary.mcmc - INFO: eval counter = 11883, likehood = -92.86766383657125\n",
      "2020-02-28 15:42:07,185 - 9258 - analytics.binary.mcmc - INFO: eval counter = 11884, likehood = -82.67129645668388\n",
      "2020-02-28 15:42:07,196 - 9258 - analytics.binary.mcmc - INFO: eval counter = 11885, likehood = -94.00668031382143\n",
      "2020-02-28 15:42:07,207 - 9258 - analytics.binary.mcmc - INFO: eval counter = 11886, likehood = -80.20139430717992\n",
      "2020-02-28 15:42:07,218 - 9258 - analytics.binary.mcmc - INFO: eval counter = 11887, likehood = -98.28340687678221\n",
      "2020-02-28 15:42:07,231 - 9258 - analytics.binary.mcmc - INFO: eval counter = 11888, likehood = -82.3604370965979\n",
      "2020-02-28 15:42:07,246 - 9258 - analytics.binary.mcmc - INFO: eval counter = 11889, likehood = -79.41891851268777\n",
      "2020-02-28 15:42:07,257 - 9258 - analytics.binary.mcmc - INFO: eval counter = 11890, likehood = -83.4173953016733\n",
      "2020-02-28 15:42:07,268 - 9258 - analytics.binary.mcmc - INFO: eval counter = 11891, likehood = -80.44622511296376\n",
      "2020-02-28 15:42:07,278 - 9258 - analytics.binary.mcmc - INFO: eval counter = 11892, likehood = -83.89201466079922\n",
      "2020-02-28 15:42:07,289 - 9258 - analytics.binary.mcmc - INFO: eval counter = 11893, likehood = -83.62010662785147\n",
      "2020-02-28 15:42:07,300 - 9258 - analytics.binary.mcmc - INFO: eval counter = 11894, likehood = -83.82894006680682\n"
     ]
    },
    {
     "name": "stderr",
     "output_type": "stream",
     "text": [
      "\r",
      " 47%|████▋     | 47/100 [00:06<00:07,  7.00it/s]"
     ]
    },
    {
     "name": "stdout",
     "output_type": "stream",
     "text": [
      "2020-02-28 15:42:07,312 - 9258 - analytics.binary.mcmc - INFO: eval counter = 11895, likehood = -79.59217300455903\n",
      "2020-02-28 15:42:07,324 - 9258 - analytics.binary.mcmc - INFO: eval counter = 11896, likehood = -87.0875442312814\n",
      "2020-02-28 15:42:07,335 - 9258 - analytics.binary.mcmc - INFO: eval counter = 11897, likehood = -81.44799802373814\n",
      "2020-02-28 15:42:07,345 - 9258 - analytics.binary.mcmc - INFO: eval counter = 11898, likehood = -81.62966953689826\n",
      "2020-02-28 15:42:07,357 - 9258 - analytics.binary.mcmc - INFO: eval counter = 11899, likehood = -87.27009646445431\n",
      "2020-02-28 15:42:07,368 - 9258 - analytics.binary.mcmc - INFO: eval counter = 11900, likehood = -89.57444193327059\n",
      "2020-02-28 15:42:07,380 - 9258 - analytics.binary.mcmc - INFO: eval counter = 11901, likehood = -79.33022442487378\n",
      "2020-02-28 15:42:07,391 - 9258 - analytics.binary.mcmc - INFO: eval counter = 11902, likehood = -81.50195417521925\n",
      "2020-02-28 15:42:07,401 - 9258 - analytics.binary.mcmc - INFO: eval counter = 11903, likehood = -85.01524558601226\n",
      "2020-02-28 15:42:07,412 - 9258 - analytics.binary.mcmc - INFO: eval counter = 11904, likehood = -87.2365360487187\n",
      "2020-02-28 15:42:07,423 - 9258 - analytics.binary.mcmc - INFO: eval counter = 11905, likehood = -82.7175134008855\n",
      "2020-02-28 15:42:07,433 - 9258 - analytics.binary.mcmc - INFO: eval counter = 11906, likehood = -81.17457964437841\n"
     ]
    },
    {
     "name": "stderr",
     "output_type": "stream",
     "text": [
      "\r",
      " 48%|████▊     | 48/100 [00:06<00:07,  7.14it/s]"
     ]
    },
    {
     "name": "stdout",
     "output_type": "stream",
     "text": [
      "2020-02-28 15:42:07,449 - 9258 - analytics.binary.mcmc - INFO: eval counter = 11907, likehood = -93.2828868315445\n",
      "2020-02-28 15:42:07,463 - 9258 - analytics.binary.mcmc - INFO: eval counter = 11908, likehood = -85.1530444778326\n",
      "2020-02-28 15:42:07,474 - 9258 - analytics.binary.mcmc - INFO: eval counter = 11909, likehood = -80.82234818073407\n",
      "2020-02-28 15:42:07,488 - 9258 - analytics.binary.mcmc - INFO: eval counter = 11910, likehood = -79.42416189627716\n",
      "2020-02-28 15:42:07,502 - 9258 - analytics.binary.mcmc - INFO: eval counter = 11911, likehood = -85.09502895632122\n",
      "2020-02-28 15:42:07,512 - 9258 - analytics.binary.mcmc - INFO: eval counter = 11912, likehood = -106.86605189537492\n",
      "2020-02-28 15:42:07,523 - 9258 - analytics.binary.mcmc - INFO: eval counter = 11913, likehood = -79.64253784162199\n",
      "2020-02-28 15:42:07,533 - 9258 - analytics.binary.mcmc - INFO: eval counter = 11914, likehood = -79.52757823831136\n",
      "2020-02-28 15:42:07,549 - 9258 - analytics.binary.mcmc - INFO: eval counter = 11915, likehood = -82.11510783175953\n",
      "2020-02-28 15:42:07,559 - 9258 - analytics.binary.mcmc - INFO: eval counter = 11916, likehood = -88.60973126906669\n",
      "2020-02-28 15:42:07,573 - 9258 - analytics.binary.mcmc - INFO: eval counter = 11917, likehood = -83.01183897215047\n"
     ]
    },
    {
     "name": "stderr",
     "output_type": "stream",
     "text": [
      "\r",
      " 49%|████▉     | 49/100 [00:06<00:07,  7.15it/s]"
     ]
    },
    {
     "name": "stdout",
     "output_type": "stream",
     "text": [
      "2020-02-28 15:42:07,586 - 9258 - analytics.binary.mcmc - INFO: eval counter = 11918, likehood = -79.73401070736766\n",
      "2020-02-28 15:42:07,596 - 9258 - analytics.binary.mcmc - INFO: eval counter = 11919, likehood = -82.12804243904061\n",
      "2020-02-28 15:42:07,608 - 9258 - analytics.binary.mcmc - INFO: eval counter = 11920, likehood = -81.98823647454152\n",
      "2020-02-28 15:42:07,619 - 9258 - analytics.binary.mcmc - INFO: eval counter = 11921, likehood = -82.91219477889155\n",
      "2020-02-28 15:42:07,631 - 9258 - analytics.binary.mcmc - INFO: eval counter = 11922, likehood = -82.10523377736025\n",
      "2020-02-28 15:42:07,640 - 9258 - analytics.binary.mcmc - INFO: eval counter = 11923, likehood = -80.7490927746228\n",
      "2020-02-28 15:42:07,650 - 9258 - analytics.binary.mcmc - INFO: eval counter = 11924, likehood = -79.06297603916724\n",
      "2020-02-28 15:42:07,660 - 9258 - analytics.binary.mcmc - INFO: eval counter = 11925, likehood = -82.1311681562498\n",
      "2020-02-28 15:42:07,675 - 9258 - analytics.binary.mcmc - INFO: eval counter = 11926, likehood = -87.92129836928208\n",
      "2020-02-28 15:42:07,685 - 9258 - analytics.binary.mcmc - INFO: eval counter = 11927, likehood = -100.28452147720722\n"
     ]
    },
    {
     "name": "stderr",
     "output_type": "stream",
     "text": [
      "\r",
      " 50%|█████     | 50/100 [00:06<00:06,  7.60it/s]"
     ]
    },
    {
     "name": "stdout",
     "output_type": "stream",
     "text": [
      "2020-02-28 15:42:07,698 - 9258 - analytics.binary.mcmc - INFO: eval counter = 11928, likehood = -79.83529668577964\n",
      "2020-02-28 15:42:07,709 - 9258 - analytics.binary.mcmc - INFO: eval counter = 11929, likehood = -83.47107322379682\n",
      "2020-02-28 15:42:07,719 - 9258 - analytics.binary.mcmc - INFO: eval counter = 11930, likehood = -80.00947950427364\n",
      "2020-02-28 15:42:07,730 - 9258 - analytics.binary.mcmc - INFO: eval counter = 11931, likehood = -81.10145753672573\n",
      "2020-02-28 15:42:07,742 - 9258 - analytics.binary.mcmc - INFO: eval counter = 11932, likehood = -81.1099198366335\n",
      "2020-02-28 15:42:07,755 - 9258 - analytics.binary.mcmc - INFO: eval counter = 11933, likehood = -90.1692896701991\n",
      "2020-02-28 15:42:07,766 - 9258 - analytics.binary.mcmc - INFO: eval counter = 11934, likehood = -81.78734672039907\n",
      "2020-02-28 15:42:07,777 - 9258 - analytics.binary.mcmc - INFO: eval counter = 11935, likehood = -82.07726188848358\n",
      "2020-02-28 15:42:07,788 - 9258 - analytics.binary.mcmc - INFO: eval counter = 11936, likehood = -79.18815750008592\n",
      "2020-02-28 15:42:07,799 - 9258 - analytics.binary.mcmc - INFO: eval counter = 11937, likehood = -81.4131937846374\n",
      "2020-02-28 15:42:07,811 - 9258 - analytics.binary.mcmc - INFO: eval counter = 11938, likehood = -97.81463958369532\n"
     ]
    },
    {
     "name": "stderr",
     "output_type": "stream",
     "text": [
      "\r",
      " 51%|█████     | 51/100 [00:06<00:06,  7.70it/s]"
     ]
    },
    {
     "name": "stdout",
     "output_type": "stream",
     "text": [
      "2020-02-28 15:42:07,824 - 9258 - analytics.binary.mcmc - INFO: eval counter = 11939, likehood = -85.50886344344963\n",
      "2020-02-28 15:42:07,834 - 9258 - analytics.binary.mcmc - INFO: eval counter = 11940, likehood = -83.22714238648332\n",
      "2020-02-28 15:42:07,844 - 9258 - analytics.binary.mcmc - INFO: eval counter = 11941, likehood = -81.17934640808626\n",
      "2020-02-28 15:42:07,854 - 9258 - analytics.binary.mcmc - INFO: eval counter = 11942, likehood = -81.02003434673621\n",
      "2020-02-28 15:42:07,865 - 9258 - analytics.binary.mcmc - INFO: eval counter = 11943, likehood = -82.65282942827352\n",
      "2020-02-28 15:42:07,876 - 9258 - analytics.binary.mcmc - INFO: eval counter = 11944, likehood = -82.6380772902786\n",
      "2020-02-28 15:42:07,886 - 9258 - analytics.binary.mcmc - INFO: eval counter = 11945, likehood = -80.45131443179929\n",
      "2020-02-28 15:42:07,896 - 9258 - analytics.binary.mcmc - INFO: eval counter = 11946, likehood = -83.35214422306855\n",
      "2020-02-28 15:42:07,909 - 9258 - analytics.binary.mcmc - INFO: eval counter = 11947, likehood = -83.31938324536213\n",
      "2020-02-28 15:42:07,919 - 9258 - analytics.binary.mcmc - INFO: eval counter = 11948, likehood = -83.72529118214655\n",
      "2020-02-28 15:42:07,929 - 9258 - analytics.binary.mcmc - INFO: eval counter = 11949, likehood = -117.21299287611262\n",
      "2020-02-28 15:42:07,939 - 9258 - analytics.binary.mcmc - INFO: eval counter = 11950, likehood = -104.14572709120475\n"
     ]
    },
    {
     "name": "stderr",
     "output_type": "stream",
     "text": [
      "\r",
      " 52%|█████▏    | 52/100 [00:07<00:06,  7.72it/s]"
     ]
    },
    {
     "name": "stdout",
     "output_type": "stream",
     "text": [
      "2020-02-28 15:42:07,952 - 9258 - analytics.binary.mcmc - INFO: eval counter = 11951, likehood = -90.30228181871311\n",
      "2020-02-28 15:42:07,963 - 9258 - analytics.binary.mcmc - INFO: eval counter = 11952, likehood = -80.0366286870071\n",
      "2020-02-28 15:42:07,973 - 9258 - analytics.binary.mcmc - INFO: eval counter = 11953, likehood = -83.97407273483613\n",
      "2020-02-28 15:42:07,984 - 9258 - analytics.binary.mcmc - INFO: eval counter = 11954, likehood = -86.5368537180624\n",
      "2020-02-28 15:42:07,994 - 9258 - analytics.binary.mcmc - INFO: eval counter = 11955, likehood = -80.25335595702428\n",
      "2020-02-28 15:42:08,010 - 9258 - analytics.binary.mcmc - INFO: eval counter = 11956, likehood = -81.04839903001421\n",
      "2020-02-28 15:42:08,021 - 9258 - analytics.binary.mcmc - INFO: eval counter = 11957, likehood = -80.79670733693575\n",
      "2020-02-28 15:42:08,031 - 9258 - analytics.binary.mcmc - INFO: eval counter = 11958, likehood = -82.1643764992222\n",
      "2020-02-28 15:42:08,041 - 9258 - analytics.binary.mcmc - INFO: eval counter = 11959, likehood = -83.21545967634113\n",
      "2020-02-28 15:42:08,052 - 9258 - analytics.binary.mcmc - INFO: eval counter = 11960, likehood = -89.58213809165122\n",
      "2020-02-28 15:42:08,062 - 9258 - analytics.binary.mcmc - INFO: eval counter = 11961, likehood = -94.17007667429806\n"
     ]
    },
    {
     "name": "stderr",
     "output_type": "stream",
     "text": [
      "\r",
      " 53%|█████▎    | 53/100 [00:07<00:06,  7.80it/s]"
     ]
    },
    {
     "name": "stdout",
     "output_type": "stream",
     "text": [
      "2020-02-28 15:42:08,077 - 9258 - analytics.binary.mcmc - INFO: eval counter = 11962, likehood = -82.55365619144254\n",
      "2020-02-28 15:42:08,088 - 9258 - analytics.binary.mcmc - INFO: eval counter = 11963, likehood = -81.17793431511028\n",
      "2020-02-28 15:42:08,098 - 9258 - analytics.binary.mcmc - INFO: eval counter = 11964, likehood = -81.85042853296193\n",
      "2020-02-28 15:42:08,109 - 9258 - analytics.binary.mcmc - INFO: eval counter = 11965, likehood = -87.63650645327539\n",
      "2020-02-28 15:42:08,120 - 9258 - analytics.binary.mcmc - INFO: eval counter = 11966, likehood = -80.9743640800149\n",
      "2020-02-28 15:42:08,131 - 9258 - analytics.binary.mcmc - INFO: eval counter = 11967, likehood = -80.1651165887908\n",
      "2020-02-28 15:42:08,144 - 9258 - analytics.binary.mcmc - INFO: eval counter = 11968, likehood = -81.8027919441927\n",
      "2020-02-28 15:42:08,154 - 9258 - analytics.binary.mcmc - INFO: eval counter = 11969, likehood = -82.92445948137782\n",
      "2020-02-28 15:42:08,165 - 9258 - analytics.binary.mcmc - INFO: eval counter = 11970, likehood = -81.58869363806012\n",
      "2020-02-28 15:42:08,175 - 9258 - analytics.binary.mcmc - INFO: eval counter = 11971, likehood = -81.33684827578098\n",
      "2020-02-28 15:42:08,187 - 9258 - analytics.binary.mcmc - INFO: eval counter = 11972, likehood = -83.44960133933894\n",
      "2020-02-28 15:42:08,199 - 9258 - analytics.binary.mcmc - INFO: eval counter = 11973, likehood = -83.98987853826436\n"
     ]
    },
    {
     "name": "stderr",
     "output_type": "stream",
     "text": [
      "\r",
      " 54%|█████▍    | 54/100 [00:07<00:05,  7.70it/s]"
     ]
    },
    {
     "name": "stdout",
     "output_type": "stream",
     "text": [
      "2020-02-28 15:42:08,212 - 9258 - analytics.binary.mcmc - INFO: eval counter = 11974, likehood = -79.98375515456868\n",
      "2020-02-28 15:42:08,223 - 9258 - analytics.binary.mcmc - INFO: eval counter = 11975, likehood = -84.52005903847883\n",
      "2020-02-28 15:42:08,235 - 9258 - analytics.binary.mcmc - INFO: eval counter = 11976, likehood = -80.80554684570028\n",
      "2020-02-28 15:42:08,245 - 9258 - analytics.binary.mcmc - INFO: eval counter = 11977, likehood = -81.3740954417513\n",
      "2020-02-28 15:42:08,258 - 9258 - analytics.binary.mcmc - INFO: eval counter = 11978, likehood = -97.5229868247536\n",
      "2020-02-28 15:42:08,269 - 9258 - analytics.binary.mcmc - INFO: eval counter = 11979, likehood = -82.27446496578585\n",
      "2020-02-28 15:42:08,281 - 9258 - analytics.binary.mcmc - INFO: eval counter = 11980, likehood = -83.71527640116214\n",
      "2020-02-28 15:42:08,291 - 9258 - analytics.binary.mcmc - INFO: eval counter = 11981, likehood = -85.93630274797557\n",
      "2020-02-28 15:42:08,302 - 9258 - analytics.binary.mcmc - INFO: eval counter = 11982, likehood = -80.8930406433549\n",
      "2020-02-28 15:42:08,318 - 9258 - analytics.binary.mcmc - INFO: eval counter = 11983, likehood = -81.88098779524202\n",
      "2020-02-28 15:42:08,329 - 9258 - analytics.binary.mcmc - INFO: eval counter = 11984, likehood = -91.84807262045126\n",
      "2020-02-28 15:42:08,341 - 9258 - analytics.binary.mcmc - INFO: eval counter = 11985, likehood = -81.18258779858903\n"
     ]
    },
    {
     "name": "stderr",
     "output_type": "stream",
     "text": [
      "\r",
      " 55%|█████▌    | 55/100 [00:07<00:06,  7.48it/s]"
     ]
    },
    {
     "name": "stdout",
     "output_type": "stream",
     "text": [
      "2020-02-28 15:42:08,354 - 9258 - analytics.binary.mcmc - INFO: eval counter = 11986, likehood = -80.19686458595012\n",
      "2020-02-28 15:42:08,369 - 9258 - analytics.binary.mcmc - INFO: eval counter = 11987, likehood = -82.87805158218481\n",
      "2020-02-28 15:42:08,381 - 9258 - analytics.binary.mcmc - INFO: eval counter = 11988, likehood = -86.44467785035306\n",
      "2020-02-28 15:42:08,392 - 9258 - analytics.binary.mcmc - INFO: eval counter = 11989, likehood = -81.12730438276081\n",
      "2020-02-28 15:42:08,404 - 9258 - analytics.binary.mcmc - INFO: eval counter = 11990, likehood = -81.11053977749489\n",
      "2020-02-28 15:42:08,415 - 9258 - analytics.binary.mcmc - INFO: eval counter = 11991, likehood = -83.49322314928358\n",
      "2020-02-28 15:42:08,427 - 9258 - analytics.binary.mcmc - INFO: eval counter = 11992, likehood = -83.2513548750062\n",
      "2020-02-28 15:42:08,437 - 9258 - analytics.binary.mcmc - INFO: eval counter = 11993, likehood = -80.89667212824327\n",
      "2020-02-28 15:42:08,448 - 9258 - analytics.binary.mcmc - INFO: eval counter = 11994, likehood = -85.07487413303578\n",
      "2020-02-28 15:42:08,459 - 9258 - analytics.binary.mcmc - INFO: eval counter = 11995, likehood = -83.57889639205207\n",
      "2020-02-28 15:42:08,471 - 9258 - analytics.binary.mcmc - INFO: eval counter = 11996, likehood = -83.20865117993446\n"
     ]
    },
    {
     "name": "stderr",
     "output_type": "stream",
     "text": [
      "\r",
      " 56%|█████▌    | 56/100 [00:07<00:05,  7.55it/s]"
     ]
    },
    {
     "name": "stdout",
     "output_type": "stream",
     "text": [
      "2020-02-28 15:42:08,487 - 9258 - analytics.binary.mcmc - INFO: eval counter = 11997, likehood = -81.31664051682313\n",
      "2020-02-28 15:42:08,498 - 9258 - analytics.binary.mcmc - INFO: eval counter = 11998, likehood = -80.55694772811238\n",
      "2020-02-28 15:42:08,510 - 9258 - analytics.binary.mcmc - INFO: eval counter = 11999, likehood = -81.93257753887426\n",
      "2020-02-28 15:42:08,521 - 9258 - analytics.binary.mcmc - INFO: eval counter = 12000, likehood = -86.6304407960403\n",
      "2020-02-28 15:42:08,532 - 9258 - analytics.binary.mcmc - INFO: eval counter = 12001, likehood = -80.50421797615975\n",
      "2020-02-28 15:42:08,544 - 9258 - analytics.binary.mcmc - INFO: eval counter = 12002, likehood = -85.62773230572138\n",
      "2020-02-28 15:42:08,556 - 9258 - analytics.binary.mcmc - INFO: eval counter = 12003, likehood = -80.65003071506497\n",
      "2020-02-28 15:42:08,568 - 9258 - analytics.binary.mcmc - INFO: eval counter = 12004, likehood = -79.47401600559591\n",
      "2020-02-28 15:42:08,579 - 9258 - analytics.binary.mcmc - INFO: eval counter = 12005, likehood = -81.43624824332629\n",
      "2020-02-28 15:42:08,589 - 9258 - analytics.binary.mcmc - INFO: eval counter = 12006, likehood = -85.087247660803\n",
      "2020-02-28 15:42:08,603 - 9258 - analytics.binary.mcmc - INFO: eval counter = 12007, likehood = -81.02031615268166\n"
     ]
    },
    {
     "name": "stderr",
     "output_type": "stream",
     "text": [
      "\r",
      " 57%|█████▋    | 57/100 [00:07<00:05,  7.56it/s]"
     ]
    },
    {
     "name": "stdout",
     "output_type": "stream",
     "text": [
      "2020-02-28 15:42:08,614 - 9258 - analytics.binary.mcmc - INFO: eval counter = 12008, likehood = -88.14010617904077\n",
      "2020-02-28 15:42:08,624 - 9258 - analytics.binary.mcmc - INFO: eval counter = 12009, likehood = -83.1768437498676\n",
      "2020-02-28 15:42:08,637 - 9258 - analytics.binary.mcmc - INFO: eval counter = 12010, likehood = -81.96659365879928\n",
      "2020-02-28 15:42:08,647 - 9258 - analytics.binary.mcmc - INFO: eval counter = 12011, likehood = -84.83567319927421\n",
      "2020-02-28 15:42:08,658 - 9258 - analytics.binary.mcmc - INFO: eval counter = 12012, likehood = -80.68071889934608\n",
      "2020-02-28 15:42:08,670 - 9258 - analytics.binary.mcmc - INFO: eval counter = 12013, likehood = -79.27229870963012\n",
      "2020-02-28 15:42:08,681 - 9258 - analytics.binary.mcmc - INFO: eval counter = 12014, likehood = -81.75831484145324\n",
      "2020-02-28 15:42:08,692 - 9258 - analytics.binary.mcmc - INFO: eval counter = 12015, likehood = -80.91358600515161\n",
      "2020-02-28 15:42:08,704 - 9258 - analytics.binary.mcmc - INFO: eval counter = 12016, likehood = -80.59719456848151\n",
      "2020-02-28 15:42:08,719 - 9258 - analytics.binary.mcmc - INFO: eval counter = 12017, likehood = -93.31392273831113\n",
      "2020-02-28 15:42:08,730 - 9258 - analytics.binary.mcmc - INFO: eval counter = 12018, likehood = -83.48306468457386\n"
     ]
    },
    {
     "name": "stderr",
     "output_type": "stream",
     "text": [
      "\r",
      " 58%|█████▊    | 58/100 [00:07<00:05,  7.64it/s]"
     ]
    },
    {
     "name": "stdout",
     "output_type": "stream",
     "text": [
      "2020-02-28 15:42:08,745 - 9258 - analytics.binary.mcmc - INFO: eval counter = 12019, likehood = -82.5397057064324\n",
      "2020-02-28 15:42:08,759 - 9258 - analytics.binary.mcmc - INFO: eval counter = 12020, likehood = -81.14532843579104\n",
      "2020-02-28 15:42:08,772 - 9258 - analytics.binary.mcmc - INFO: eval counter = 12021, likehood = -85.55322167991869\n",
      "2020-02-28 15:42:08,783 - 9258 - analytics.binary.mcmc - INFO: eval counter = 12022, likehood = -86.5469868661697\n",
      "2020-02-28 15:42:08,796 - 9258 - analytics.binary.mcmc - INFO: eval counter = 12023, likehood = -80.87221434714014\n",
      "2020-02-28 15:42:08,808 - 9258 - analytics.binary.mcmc - INFO: eval counter = 12024, likehood = -80.44277854481992\n",
      "2020-02-28 15:42:08,820 - 9258 - analytics.binary.mcmc - INFO: eval counter = 12025, likehood = -80.57039832286713\n",
      "2020-02-28 15:42:08,832 - 9258 - analytics.binary.mcmc - INFO: eval counter = 12026, likehood = -80.48923450550004\n",
      "2020-02-28 15:42:08,843 - 9258 - analytics.binary.mcmc - INFO: eval counter = 12027, likehood = -80.1530730512127\n",
      "2020-02-28 15:42:08,854 - 9258 - analytics.binary.mcmc - INFO: eval counter = 12028, likehood = -87.38488760997399\n",
      "2020-02-28 15:42:08,865 - 9258 - analytics.binary.mcmc - INFO: eval counter = 12029, likehood = -87.09517320507126\n"
     ]
    },
    {
     "name": "stderr",
     "output_type": "stream",
     "text": [
      "\r",
      " 59%|█████▉    | 59/100 [00:08<00:05,  7.56it/s]"
     ]
    },
    {
     "name": "stdout",
     "output_type": "stream",
     "text": [
      "2020-02-28 15:42:08,881 - 9258 - analytics.binary.mcmc - INFO: eval counter = 12030, likehood = -84.13539460757414\n",
      "2020-02-28 15:42:08,893 - 9258 - analytics.binary.mcmc - INFO: eval counter = 12031, likehood = -81.92992128516447\n",
      "2020-02-28 15:42:08,904 - 9258 - analytics.binary.mcmc - INFO: eval counter = 12032, likehood = -80.25153291888034\n",
      "2020-02-28 15:42:08,917 - 9258 - analytics.binary.mcmc - INFO: eval counter = 12033, likehood = -80.67724158697229\n",
      "2020-02-28 15:42:08,928 - 9258 - analytics.binary.mcmc - INFO: eval counter = 12034, likehood = -79.9909923399341\n",
      "2020-02-28 15:42:08,940 - 9258 - analytics.binary.mcmc - INFO: eval counter = 12035, likehood = -80.02829470457615\n",
      "2020-02-28 15:42:08,952 - 9258 - analytics.binary.mcmc - INFO: eval counter = 12036, likehood = -80.12728870262364\n",
      "2020-02-28 15:42:08,969 - 9258 - analytics.binary.mcmc - INFO: eval counter = 12037, likehood = -81.83889551742026\n",
      "2020-02-28 15:42:08,981 - 9258 - analytics.binary.mcmc - INFO: eval counter = 12038, likehood = -80.72537966474655\n",
      "2020-02-28 15:42:08,992 - 9258 - analytics.binary.mcmc - INFO: eval counter = 12039, likehood = -82.17036240554586\n",
      "2020-02-28 15:42:09,003 - 9258 - analytics.binary.mcmc - INFO: eval counter = 12040, likehood = -84.92572598290845\n"
     ]
    },
    {
     "name": "stderr",
     "output_type": "stream",
     "text": [
      "\r",
      " 60%|██████    | 60/100 [00:08<00:05,  7.47it/s]"
     ]
    },
    {
     "name": "stdout",
     "output_type": "stream",
     "text": [
      "2020-02-28 15:42:09,017 - 9258 - analytics.binary.mcmc - INFO: eval counter = 12041, likehood = -80.5704292221249\n",
      "2020-02-28 15:42:09,029 - 9258 - analytics.binary.mcmc - INFO: eval counter = 12042, likehood = -80.08231340078335\n",
      "2020-02-28 15:42:09,041 - 9258 - analytics.binary.mcmc - INFO: eval counter = 12043, likehood = -84.71124332880449\n",
      "2020-02-28 15:42:09,053 - 9258 - analytics.binary.mcmc - INFO: eval counter = 12044, likehood = -82.57235441350792\n",
      "2020-02-28 15:42:09,064 - 9258 - analytics.binary.mcmc - INFO: eval counter = 12045, likehood = -82.17264279322829\n",
      "2020-02-28 15:42:09,076 - 9258 - analytics.binary.mcmc - INFO: eval counter = 12046, likehood = -80.57267004217488\n",
      "2020-02-28 15:42:09,090 - 9258 - analytics.binary.mcmc - INFO: eval counter = 12047, likehood = -80.11500340596632\n",
      "2020-02-28 15:42:09,104 - 9258 - analytics.binary.mcmc - INFO: eval counter = 12048, likehood = -79.67056767901639\n",
      "2020-02-28 15:42:09,115 - 9258 - analytics.binary.mcmc - INFO: eval counter = 12049, likehood = -81.62102533954943\n",
      "2020-02-28 15:42:09,127 - 9258 - analytics.binary.mcmc - INFO: eval counter = 12050, likehood = -80.37646034431428\n",
      "2020-02-28 15:42:09,138 - 9258 - analytics.binary.mcmc - INFO: eval counter = 12051, likehood = -82.12917829099156\n",
      "2020-02-28 15:42:09,150 - 9258 - analytics.binary.mcmc - INFO: eval counter = 12052, likehood = -85.63561729068846\n"
     ]
    },
    {
     "name": "stderr",
     "output_type": "stream",
     "text": [
      "\r",
      " 61%|██████    | 61/100 [00:08<00:05,  7.27it/s]"
     ]
    },
    {
     "name": "stdout",
     "output_type": "stream",
     "text": [
      "2020-02-28 15:42:09,162 - 9258 - analytics.binary.mcmc - INFO: eval counter = 12053, likehood = -81.71030485009612\n",
      "2020-02-28 15:42:09,173 - 9258 - analytics.binary.mcmc - INFO: eval counter = 12054, likehood = -80.8633961120294\n",
      "2020-02-28 15:42:09,184 - 9258 - analytics.binary.mcmc - INFO: eval counter = 12055, likehood = -91.72098363258392\n",
      "2020-02-28 15:42:09,196 - 9258 - analytics.binary.mcmc - INFO: eval counter = 12056, likehood = -80.21336633801351\n",
      "2020-02-28 15:42:09,208 - 9258 - analytics.binary.mcmc - INFO: eval counter = 12057, likehood = -82.322401530345\n",
      "2020-02-28 15:42:09,222 - 9258 - analytics.binary.mcmc - INFO: eval counter = 12058, likehood = -80.49823292259951\n",
      "2020-02-28 15:42:09,236 - 9258 - analytics.binary.mcmc - INFO: eval counter = 12059, likehood = -79.97560056083746\n",
      "2020-02-28 15:42:09,246 - 9258 - analytics.binary.mcmc - INFO: eval counter = 12060, likehood = -90.55335694289107\n",
      "2020-02-28 15:42:09,258 - 9258 - analytics.binary.mcmc - INFO: eval counter = 12061, likehood = -91.19860594941358\n",
      "2020-02-28 15:42:09,268 - 9258 - analytics.binary.mcmc - INFO: eval counter = 12062, likehood = -88.2774585943783\n",
      "2020-02-28 15:42:09,279 - 9258 - analytics.binary.mcmc - INFO: eval counter = 12063, likehood = -83.93284713585136\n",
      "2020-02-28 15:42:09,291 - 9258 - analytics.binary.mcmc - INFO: eval counter = 12064, likehood = -89.08870973252259\n"
     ]
    },
    {
     "name": "stderr",
     "output_type": "stream",
     "text": [
      "\r",
      " 62%|██████▏   | 62/100 [00:08<00:05,  7.21it/s]"
     ]
    },
    {
     "name": "stdout",
     "output_type": "stream",
     "text": [
      "2020-02-28 15:42:09,303 - 9258 - analytics.binary.mcmc - INFO: eval counter = 12065, likehood = -80.32296087323878\n",
      "2020-02-28 15:42:09,317 - 9258 - analytics.binary.mcmc - INFO: eval counter = 12066, likehood = -79.94210045113394\n",
      "2020-02-28 15:42:09,331 - 9258 - analytics.binary.mcmc - INFO: eval counter = 12067, likehood = -90.32993071117107\n",
      "2020-02-28 15:42:09,343 - 9258 - analytics.binary.mcmc - INFO: eval counter = 12068, likehood = -81.79462205196182\n",
      "2020-02-28 15:42:09,356 - 9258 - analytics.binary.mcmc - INFO: eval counter = 12069, likehood = -80.79718891116904\n",
      "2020-02-28 15:42:09,372 - 9258 - analytics.binary.mcmc - INFO: eval counter = 12070, likehood = -81.0583048833926\n",
      "2020-02-28 15:42:09,384 - 9258 - analytics.binary.mcmc - INFO: eval counter = 12071, likehood = -96.50111489255305\n",
      "2020-02-28 15:42:09,394 - 9258 - analytics.binary.mcmc - INFO: eval counter = 12072, likehood = -81.74157193601043\n",
      "2020-02-28 15:42:09,405 - 9258 - analytics.binary.mcmc - INFO: eval counter = 12073, likehood = -82.34595415508727\n",
      "2020-02-28 15:42:09,421 - 9258 - analytics.binary.mcmc - INFO: eval counter = 12074, likehood = -80.9088083625612\n",
      "2020-02-28 15:42:09,437 - 9258 - analytics.binary.mcmc - INFO: eval counter = 12075, likehood = -82.56908191385907\n"
     ]
    },
    {
     "name": "stderr",
     "output_type": "stream",
     "text": [
      "\r",
      " 63%|██████▎   | 63/100 [00:08<00:05,  7.11it/s]"
     ]
    },
    {
     "name": "stdout",
     "output_type": "stream",
     "text": [
      "2020-02-28 15:42:09,448 - 9258 - analytics.binary.mcmc - INFO: eval counter = 12076, likehood = -86.76135866700908\n",
      "2020-02-28 15:42:09,462 - 9258 - analytics.binary.mcmc - INFO: eval counter = 12077, likehood = -81.84549731550527\n",
      "2020-02-28 15:42:09,473 - 9258 - analytics.binary.mcmc - INFO: eval counter = 12078, likehood = -79.94698803447528\n",
      "2020-02-28 15:42:09,486 - 9258 - analytics.binary.mcmc - INFO: eval counter = 12079, likehood = -92.47350357868802\n",
      "2020-02-28 15:42:09,497 - 9258 - analytics.binary.mcmc - INFO: eval counter = 12080, likehood = -94.70957043410168\n",
      "2020-02-28 15:42:09,509 - 9258 - analytics.binary.mcmc - INFO: eval counter = 12081, likehood = -80.49545531778189\n",
      "2020-02-28 15:42:09,519 - 9258 - analytics.binary.mcmc - INFO: eval counter = 12082, likehood = -88.01532009895921\n",
      "2020-02-28 15:42:09,530 - 9258 - analytics.binary.mcmc - INFO: eval counter = 12083, likehood = -87.04232246983901\n",
      "2020-02-28 15:42:09,541 - 9258 - analytics.binary.mcmc - INFO: eval counter = 12084, likehood = -79.72205186584088\n",
      "2020-02-28 15:42:09,552 - 9258 - analytics.binary.mcmc - INFO: eval counter = 12085, likehood = -80.55724146445851\n",
      "2020-02-28 15:42:09,564 - 9258 - analytics.binary.mcmc - INFO: eval counter = 12086, likehood = -81.83497900162082\n",
      "2020-02-28 15:42:09,576 - 9258 - analytics.binary.mcmc - INFO: eval counter = 12087, likehood = -81.10757513209126\n"
     ]
    },
    {
     "name": "stderr",
     "output_type": "stream",
     "text": [
      "\r",
      " 64%|██████▍   | 64/100 [00:08<00:05,  7.12it/s]"
     ]
    },
    {
     "name": "stdout",
     "output_type": "stream",
     "text": [
      "2020-02-28 15:42:09,590 - 9258 - analytics.binary.mcmc - INFO: eval counter = 12088, likehood = -84.51788970029489\n",
      "2020-02-28 15:42:09,601 - 9258 - analytics.binary.mcmc - INFO: eval counter = 12089, likehood = -79.36941430040022\n",
      "2020-02-28 15:42:09,617 - 9258 - analytics.binary.mcmc - INFO: eval counter = 12090, likehood = -81.70027176503727\n",
      "2020-02-28 15:42:09,627 - 9258 - analytics.binary.mcmc - INFO: eval counter = 12091, likehood = -82.70356500635434\n",
      "2020-02-28 15:42:09,638 - 9258 - analytics.binary.mcmc - INFO: eval counter = 12092, likehood = -85.75892185243106\n",
      "2020-02-28 15:42:09,649 - 9258 - analytics.binary.mcmc - INFO: eval counter = 12093, likehood = -85.7907031564144\n",
      "2020-02-28 15:42:09,664 - 9258 - analytics.binary.mcmc - INFO: eval counter = 12094, likehood = -82.45682052514707\n",
      "2020-02-28 15:42:09,674 - 9258 - analytics.binary.mcmc - INFO: eval counter = 12095, likehood = -86.38600586594754\n",
      "2020-02-28 15:42:09,684 - 9258 - analytics.binary.mcmc - INFO: eval counter = 12096, likehood = -84.52977463015338\n",
      "2020-02-28 15:42:09,694 - 9258 - analytics.binary.mcmc - INFO: eval counter = 12097, likehood = -79.64095655594538\n",
      "2020-02-28 15:42:09,705 - 9258 - analytics.binary.mcmc - INFO: eval counter = 12098, likehood = -92.2038477118532\n",
      "2020-02-28 15:42:09,715 - 9258 - analytics.binary.mcmc - INFO: eval counter = 12099, likehood = -81.57357137189426\n"
     ]
    },
    {
     "name": "stderr",
     "output_type": "stream",
     "text": [
      "\r",
      " 65%|██████▌   | 65/100 [00:08<00:04,  7.14it/s]"
     ]
    },
    {
     "name": "stdout",
     "output_type": "stream",
     "text": [
      "2020-02-28 15:42:09,728 - 9258 - analytics.binary.mcmc - INFO: eval counter = 12100, likehood = -89.06928337930529\n",
      "2020-02-28 15:42:09,742 - 9258 - analytics.binary.mcmc - INFO: eval counter = 12101, likehood = -80.1726738374449\n",
      "2020-02-28 15:42:09,752 - 9258 - analytics.binary.mcmc - INFO: eval counter = 12102, likehood = -79.99587861944194\n",
      "2020-02-28 15:42:09,763 - 9258 - analytics.binary.mcmc - INFO: eval counter = 12103, likehood = -86.70213400227529\n",
      "2020-02-28 15:42:09,773 - 9258 - analytics.binary.mcmc - INFO: eval counter = 12104, likehood = -80.2270546086742\n",
      "2020-02-28 15:42:09,785 - 9258 - analytics.binary.mcmc - INFO: eval counter = 12105, likehood = -81.59552731003023\n",
      "2020-02-28 15:42:09,795 - 9258 - analytics.binary.mcmc - INFO: eval counter = 12106, likehood = -83.75060464504418\n",
      "2020-02-28 15:42:09,806 - 9258 - analytics.binary.mcmc - INFO: eval counter = 12107, likehood = -79.8649784981621\n",
      "2020-02-28 15:42:09,817 - 9258 - analytics.binary.mcmc - INFO: eval counter = 12108, likehood = -82.61420483662384\n",
      "2020-02-28 15:42:09,832 - 9258 - analytics.binary.mcmc - INFO: eval counter = 12109, likehood = -80.81988965502947\n",
      "2020-02-28 15:42:09,843 - 9258 - analytics.binary.mcmc - INFO: eval counter = 12110, likehood = -80.55993778115607\n",
      "2020-02-28 15:42:09,854 - 9258 - analytics.binary.mcmc - INFO: eval counter = 12111, likehood = -84.16672718600525\n"
     ]
    },
    {
     "name": "stderr",
     "output_type": "stream",
     "text": [
      "\r",
      " 66%|██████▌   | 66/100 [00:09<00:04,  7.17it/s]"
     ]
    },
    {
     "name": "stdout",
     "output_type": "stream",
     "text": [
      "2020-02-28 15:42:09,869 - 9258 - analytics.binary.mcmc - INFO: eval counter = 12112, likehood = -82.35276857905845\n",
      "2020-02-28 15:42:09,880 - 9258 - analytics.binary.mcmc - INFO: eval counter = 12113, likehood = -86.37300520411502\n",
      "2020-02-28 15:42:09,891 - 9258 - analytics.binary.mcmc - INFO: eval counter = 12114, likehood = -79.71893797831787\n",
      "2020-02-28 15:42:09,901 - 9258 - analytics.binary.mcmc - INFO: eval counter = 12115, likehood = -80.53842477946858\n",
      "2020-02-28 15:42:09,911 - 9258 - analytics.binary.mcmc - INFO: eval counter = 12116, likehood = -80.85385989425373\n",
      "2020-02-28 15:42:09,921 - 9258 - analytics.binary.mcmc - INFO: eval counter = 12117, likehood = -83.99698854139159\n",
      "2020-02-28 15:42:09,939 - 9258 - analytics.binary.mcmc - INFO: eval counter = 12118, likehood = -104.21839717886512\n",
      "2020-02-28 15:42:09,953 - 9258 - analytics.binary.mcmc - INFO: eval counter = 12119, likehood = -80.16242659793993\n",
      "2020-02-28 15:42:09,963 - 9258 - analytics.binary.mcmc - INFO: eval counter = 12120, likehood = -93.65864170011105\n",
      "2020-02-28 15:42:09,978 - 9258 - analytics.binary.mcmc - INFO: eval counter = 12121, likehood = -84.76798691581611\n",
      "2020-02-28 15:42:09,990 - 9258 - analytics.binary.mcmc - INFO: eval counter = 12122, likehood = -83.70511551019322\n"
     ]
    },
    {
     "name": "stderr",
     "output_type": "stream",
     "text": [
      "\r",
      " 67%|██████▋   | 67/100 [00:09<00:04,  7.21it/s]"
     ]
    },
    {
     "name": "stdout",
     "output_type": "stream",
     "text": [
      "2020-02-28 15:42:10,003 - 9258 - analytics.binary.mcmc - INFO: eval counter = 12123, likehood = -82.44588216872518\n",
      "2020-02-28 15:42:10,014 - 9258 - analytics.binary.mcmc - INFO: eval counter = 12124, likehood = -79.48844378545104\n",
      "2020-02-28 15:42:10,024 - 9258 - analytics.binary.mcmc - INFO: eval counter = 12125, likehood = -80.14600485124835\n",
      "2020-02-28 15:42:10,038 - 9258 - analytics.binary.mcmc - INFO: eval counter = 12126, likehood = -86.86390387819553\n",
      "2020-02-28 15:42:10,048 - 9258 - analytics.binary.mcmc - INFO: eval counter = 12127, likehood = -87.24008530137296\n",
      "2020-02-28 15:42:10,059 - 9258 - analytics.binary.mcmc - INFO: eval counter = 12128, likehood = -84.16291251341173\n",
      "2020-02-28 15:42:10,069 - 9258 - analytics.binary.mcmc - INFO: eval counter = 12129, likehood = -80.18852426826737\n",
      "2020-02-28 15:42:10,081 - 9258 - analytics.binary.mcmc - INFO: eval counter = 12130, likehood = -80.4823456321978\n",
      "2020-02-28 15:42:10,093 - 9258 - analytics.binary.mcmc - INFO: eval counter = 12131, likehood = -81.08127016946676\n",
      "2020-02-28 15:42:10,104 - 9258 - analytics.binary.mcmc - INFO: eval counter = 12132, likehood = -81.96198900833662\n",
      "2020-02-28 15:42:10,115 - 9258 - analytics.binary.mcmc - INFO: eval counter = 12133, likehood = -82.71474268469254\n"
     ]
    },
    {
     "name": "stderr",
     "output_type": "stream",
     "text": [
      "\r",
      " 68%|██████▊   | 68/100 [00:09<00:04,  7.44it/s]"
     ]
    },
    {
     "name": "stdout",
     "output_type": "stream",
     "text": [
      "2020-02-28 15:42:10,127 - 9258 - analytics.binary.mcmc - INFO: eval counter = 12134, likehood = -102.3156840548523\n",
      "2020-02-28 15:42:10,138 - 9258 - analytics.binary.mcmc - INFO: eval counter = 12135, likehood = -80.95883411875093\n",
      "2020-02-28 15:42:10,149 - 9258 - analytics.binary.mcmc - INFO: eval counter = 12136, likehood = -82.12465970354846\n",
      "2020-02-28 15:42:10,160 - 9258 - analytics.binary.mcmc - INFO: eval counter = 12137, likehood = -95.08167850147285\n",
      "2020-02-28 15:42:10,171 - 9258 - analytics.binary.mcmc - INFO: eval counter = 12138, likehood = -85.89234489964251\n",
      "2020-02-28 15:42:10,182 - 9258 - analytics.binary.mcmc - INFO: eval counter = 12139, likehood = -92.03326643435094\n",
      "2020-02-28 15:42:10,195 - 9258 - analytics.binary.mcmc - INFO: eval counter = 12140, likehood = -81.54424052124958\n",
      "2020-02-28 15:42:10,206 - 9258 - analytics.binary.mcmc - INFO: eval counter = 12141, likehood = -83.90206716338642\n",
      "2020-02-28 15:42:10,217 - 9258 - analytics.binary.mcmc - INFO: eval counter = 12142, likehood = -80.71986779929605\n",
      "2020-02-28 15:42:10,230 - 9258 - analytics.binary.mcmc - INFO: eval counter = 12143, likehood = -81.09145969130054\n",
      "2020-02-28 15:42:10,241 - 9258 - analytics.binary.mcmc - INFO: eval counter = 12144, likehood = -80.56769180794942\n"
     ]
    },
    {
     "name": "stderr",
     "output_type": "stream",
     "text": [
      "\r",
      " 69%|██████▉   | 69/100 [00:09<00:04,  7.57it/s]"
     ]
    },
    {
     "name": "stdout",
     "output_type": "stream",
     "text": [
      "2020-02-28 15:42:10,262 - 9258 - analytics.binary.mcmc - INFO: eval counter = 12145, likehood = -82.8436140568628\n",
      "2020-02-28 15:42:10,273 - 9258 - analytics.binary.mcmc - INFO: eval counter = 12146, likehood = -81.6480675993105\n",
      "2020-02-28 15:42:10,289 - 9258 - analytics.binary.mcmc - INFO: eval counter = 12147, likehood = -80.96958680468694\n",
      "2020-02-28 15:42:10,304 - 9258 - analytics.binary.mcmc - INFO: eval counter = 12148, likehood = -79.34400533189084\n",
      "2020-02-28 15:42:10,315 - 9258 - analytics.binary.mcmc - INFO: eval counter = 12149, likehood = -88.19965572913681\n",
      "2020-02-28 15:42:10,327 - 9258 - analytics.binary.mcmc - INFO: eval counter = 12150, likehood = -84.42642266078995\n",
      "2020-02-28 15:42:10,339 - 9258 - analytics.binary.mcmc - INFO: eval counter = 12151, likehood = -96.19729678884926\n",
      "2020-02-28 15:42:10,349 - 9258 - analytics.binary.mcmc - INFO: eval counter = 12152, likehood = -79.61003883475871\n",
      "2020-02-28 15:42:10,360 - 9258 - analytics.binary.mcmc - INFO: eval counter = 12153, likehood = -80.72341959241648\n",
      "2020-02-28 15:42:10,371 - 9258 - analytics.binary.mcmc - INFO: eval counter = 12154, likehood = -97.58321066087795\n",
      "2020-02-28 15:42:10,382 - 9258 - analytics.binary.mcmc - INFO: eval counter = 12155, likehood = -84.56587505575473\n",
      "2020-02-28 15:42:10,392 - 9258 - analytics.binary.mcmc - INFO: eval counter = 12156, likehood = -91.6237891486886\n"
     ]
    },
    {
     "name": "stderr",
     "output_type": "stream",
     "text": [
      "\r",
      " 70%|███████   | 70/100 [00:09<00:04,  7.27it/s]"
     ]
    },
    {
     "name": "stdout",
     "output_type": "stream",
     "text": [
      "2020-02-28 15:42:10,407 - 9258 - analytics.binary.mcmc - INFO: eval counter = 12157, likehood = -81.71027174525146\n",
      "2020-02-28 15:42:10,418 - 9258 - analytics.binary.mcmc - INFO: eval counter = 12158, likehood = -79.4819437066686\n",
      "2020-02-28 15:42:10,430 - 9258 - analytics.binary.mcmc - INFO: eval counter = 12159, likehood = -79.99801712611838\n",
      "2020-02-28 15:42:10,442 - 9258 - analytics.binary.mcmc - INFO: eval counter = 12160, likehood = -80.84598051493671\n",
      "2020-02-28 15:42:10,454 - 9258 - analytics.binary.mcmc - INFO: eval counter = 12161, likehood = -83.83452390654362\n",
      "2020-02-28 15:42:10,466 - 9258 - analytics.binary.mcmc - INFO: eval counter = 12162, likehood = -88.60958699629003\n",
      "2020-02-28 15:42:10,478 - 9258 - analytics.binary.mcmc - INFO: eval counter = 12163, likehood = -82.76671497845875\n",
      "2020-02-28 15:42:10,489 - 9258 - analytics.binary.mcmc - INFO: eval counter = 12164, likehood = -83.67422442190347\n",
      "2020-02-28 15:42:10,500 - 9258 - analytics.binary.mcmc - INFO: eval counter = 12165, likehood = -79.30155810966946\n",
      "2020-02-28 15:42:10,511 - 9258 - analytics.binary.mcmc - INFO: eval counter = 12166, likehood = -87.33980259510271\n",
      "2020-02-28 15:42:10,523 - 9258 - analytics.binary.mcmc - INFO: eval counter = 12167, likehood = -92.12812193818112\n"
     ]
    },
    {
     "name": "stderr",
     "output_type": "stream",
     "text": [
      "\r",
      " 71%|███████   | 71/100 [00:09<00:03,  7.37it/s]"
     ]
    },
    {
     "name": "stdout",
     "output_type": "stream",
     "text": [
      "2020-02-28 15:42:10,540 - 9258 - analytics.binary.mcmc - INFO: eval counter = 12168, likehood = -81.14168190555273\n",
      "2020-02-28 15:42:10,552 - 9258 - analytics.binary.mcmc - INFO: eval counter = 12169, likehood = -81.29860385054313\n",
      "2020-02-28 15:42:10,564 - 9258 - analytics.binary.mcmc - INFO: eval counter = 12170, likehood = -80.25633466462104\n",
      "2020-02-28 15:42:10,577 - 9258 - analytics.binary.mcmc - INFO: eval counter = 12171, likehood = -80.9964342037002\n",
      "2020-02-28 15:42:10,587 - 9258 - analytics.binary.mcmc - INFO: eval counter = 12172, likehood = -84.8828687063897\n",
      "2020-02-28 15:42:10,599 - 9258 - analytics.binary.mcmc - INFO: eval counter = 12173, likehood = -81.67627779348314\n",
      "2020-02-28 15:42:10,611 - 9258 - analytics.binary.mcmc - INFO: eval counter = 12174, likehood = -90.2276737088458\n",
      "2020-02-28 15:42:10,622 - 9258 - analytics.binary.mcmc - INFO: eval counter = 12175, likehood = -79.12286385579556\n",
      "2020-02-28 15:42:10,633 - 9258 - analytics.binary.mcmc - INFO: eval counter = 12176, likehood = -83.07837829282448\n",
      "2020-02-28 15:42:10,644 - 9258 - analytics.binary.mcmc - INFO: eval counter = 12177, likehood = -79.34331166375826\n",
      "2020-02-28 15:42:10,655 - 9258 - analytics.binary.mcmc - INFO: eval counter = 12178, likehood = -79.30235205488685\n",
      "2020-02-28 15:42:10,667 - 9258 - analytics.binary.mcmc - INFO: eval counter = 12179, likehood = -80.13860951441578\n"
     ]
    },
    {
     "name": "stderr",
     "output_type": "stream",
     "text": [
      "\r",
      " 72%|███████▏  | 72/100 [00:09<00:03,  7.24it/s]"
     ]
    },
    {
     "name": "stdout",
     "output_type": "stream",
     "text": [
      "2020-02-28 15:42:10,680 - 9258 - analytics.binary.mcmc - INFO: eval counter = 12180, likehood = -79.32826835922432\n",
      "2020-02-28 15:42:10,694 - 9258 - analytics.binary.mcmc - INFO: eval counter = 12181, likehood = -80.53990249937992\n",
      "2020-02-28 15:42:10,707 - 9258 - analytics.binary.mcmc - INFO: eval counter = 12182, likehood = -83.19537118580936\n",
      "2020-02-28 15:42:10,721 - 9258 - analytics.binary.mcmc - INFO: eval counter = 12183, likehood = -79.85306725994012\n",
      "2020-02-28 15:42:10,731 - 9258 - analytics.binary.mcmc - INFO: eval counter = 12184, likehood = -79.2230309564127\n",
      "2020-02-28 15:42:10,742 - 9258 - analytics.binary.mcmc - INFO: eval counter = 12185, likehood = -80.66008271621503\n",
      "2020-02-28 15:42:10,756 - 9258 - analytics.binary.mcmc - INFO: eval counter = 12186, likehood = -80.08906205674623\n",
      "2020-02-28 15:42:10,767 - 9258 - analytics.binary.mcmc - INFO: eval counter = 12187, likehood = -108.80609344356783\n",
      "2020-02-28 15:42:10,778 - 9258 - analytics.binary.mcmc - INFO: eval counter = 12188, likehood = -92.59007729045496\n",
      "2020-02-28 15:42:10,789 - 9258 - analytics.binary.mcmc - INFO: eval counter = 12189, likehood = -81.43350863349382\n",
      "2020-02-28 15:42:10,800 - 9258 - analytics.binary.mcmc - INFO: eval counter = 12190, likehood = -80.99006075200015\n",
      "2020-02-28 15:42:10,810 - 9258 - analytics.binary.mcmc - INFO: eval counter = 12191, likehood = -84.70253411717509\n"
     ]
    },
    {
     "name": "stderr",
     "output_type": "stream",
     "text": [
      "\r",
      " 73%|███████▎  | 73/100 [00:09<00:03,  7.16it/s]"
     ]
    },
    {
     "name": "stdout",
     "output_type": "stream",
     "text": [
      "2020-02-28 15:42:10,822 - 9258 - analytics.binary.mcmc - INFO: eval counter = 12192, likehood = -80.32233779491601\n",
      "2020-02-28 15:42:10,833 - 9258 - analytics.binary.mcmc - INFO: eval counter = 12193, likehood = -81.82163151407107\n",
      "2020-02-28 15:42:10,844 - 9258 - analytics.binary.mcmc - INFO: eval counter = 12194, likehood = -79.9371120864758\n",
      "2020-02-28 15:42:10,855 - 9258 - analytics.binary.mcmc - INFO: eval counter = 12195, likehood = -81.61838880828601\n",
      "2020-02-28 15:42:10,866 - 9258 - analytics.binary.mcmc - INFO: eval counter = 12196, likehood = -81.49167873308195\n",
      "2020-02-28 15:42:10,877 - 9258 - analytics.binary.mcmc - INFO: eval counter = 12197, likehood = -83.46934003985403\n",
      "2020-02-28 15:42:10,892 - 9258 - analytics.binary.mcmc - INFO: eval counter = 12198, likehood = -101.58387767916751\n",
      "2020-02-28 15:42:10,907 - 9258 - analytics.binary.mcmc - INFO: eval counter = 12199, likehood = -79.95299080675734\n",
      "2020-02-28 15:42:10,918 - 9258 - analytics.binary.mcmc - INFO: eval counter = 12200, likehood = -79.84914830717833\n",
      "2020-02-28 15:42:10,930 - 9258 - analytics.binary.mcmc - INFO: eval counter = 12201, likehood = -79.80464507326263\n",
      "2020-02-28 15:42:10,940 - 9258 - analytics.binary.mcmc - INFO: eval counter = 12202, likehood = -84.34822195697065\n",
      "2020-02-28 15:42:10,952 - 9258 - analytics.binary.mcmc - INFO: eval counter = 12203, likehood = -84.20909463357115\n"
     ]
    },
    {
     "name": "stderr",
     "output_type": "stream",
     "text": [
      "\r",
      " 74%|███████▍  | 74/100 [00:10<00:03,  7.12it/s]"
     ]
    },
    {
     "name": "stdout",
     "output_type": "stream",
     "text": [
      "2020-02-28 15:42:10,967 - 9258 - analytics.binary.mcmc - INFO: eval counter = 12204, likehood = -80.14829241722383\n",
      "2020-02-28 15:42:10,979 - 9258 - analytics.binary.mcmc - INFO: eval counter = 12205, likehood = -80.94665258195305\n",
      "2020-02-28 15:42:10,990 - 9258 - analytics.binary.mcmc - INFO: eval counter = 12206, likehood = -79.8995338269201\n",
      "2020-02-28 15:42:11,002 - 9258 - analytics.binary.mcmc - INFO: eval counter = 12207, likehood = -80.36799154206508\n",
      "2020-02-28 15:42:11,014 - 9258 - analytics.binary.mcmc - INFO: eval counter = 12208, likehood = -80.14683094116204\n",
      "2020-02-28 15:42:11,025 - 9258 - analytics.binary.mcmc - INFO: eval counter = 12209, likehood = -80.50615888138508\n",
      "2020-02-28 15:42:11,037 - 9258 - analytics.binary.mcmc - INFO: eval counter = 12210, likehood = -86.44805735208992\n",
      "2020-02-28 15:42:11,052 - 9258 - analytics.binary.mcmc - INFO: eval counter = 12211, likehood = -79.29840485848722\n",
      "2020-02-28 15:42:11,063 - 9258 - analytics.binary.mcmc - INFO: eval counter = 12212, likehood = -94.38615484183799\n",
      "2020-02-28 15:42:11,075 - 9258 - analytics.binary.mcmc - INFO: eval counter = 12213, likehood = -88.26541483734259\n",
      "2020-02-28 15:42:11,087 - 9258 - analytics.binary.mcmc - INFO: eval counter = 12214, likehood = -86.1047796699532\n"
     ]
    },
    {
     "name": "stderr",
     "output_type": "stream",
     "text": [
      "\r",
      " 75%|███████▌  | 75/100 [00:10<00:03,  7.21it/s]"
     ]
    },
    {
     "name": "stdout",
     "output_type": "stream",
     "text": [
      "2020-02-28 15:42:11,101 - 9258 - analytics.binary.mcmc - INFO: eval counter = 12215, likehood = -109.10187271393477\n",
      "2020-02-28 15:42:11,112 - 9258 - analytics.binary.mcmc - INFO: eval counter = 12216, likehood = -79.48267585058022\n",
      "2020-02-28 15:42:11,124 - 9258 - analytics.binary.mcmc - INFO: eval counter = 12217, likehood = -80.2280975293873\n",
      "2020-02-28 15:42:11,135 - 9258 - analytics.binary.mcmc - INFO: eval counter = 12218, likehood = -80.44527822162786\n",
      "2020-02-28 15:42:11,149 - 9258 - analytics.binary.mcmc - INFO: eval counter = 12219, likehood = -84.34630554779459\n",
      "2020-02-28 15:42:11,160 - 9258 - analytics.binary.mcmc - INFO: eval counter = 12220, likehood = -90.77291641415337\n",
      "2020-02-28 15:42:11,173 - 9258 - analytics.binary.mcmc - INFO: eval counter = 12221, likehood = -86.34177727159356\n",
      "2020-02-28 15:42:11,186 - 9258 - analytics.binary.mcmc - INFO: eval counter = 12222, likehood = -79.83790719359416\n",
      "2020-02-28 15:42:11,197 - 9258 - analytics.binary.mcmc - INFO: eval counter = 12223, likehood = -84.09875914911292\n",
      "2020-02-28 15:42:11,207 - 9258 - analytics.binary.mcmc - INFO: eval counter = 12224, likehood = -80.63375039669288\n",
      "2020-02-28 15:42:11,218 - 9258 - analytics.binary.mcmc - INFO: eval counter = 12225, likehood = -79.77124510784166\n",
      "2020-02-28 15:42:11,229 - 9258 - analytics.binary.mcmc - INFO: eval counter = 12226, likehood = -80.52140679546298\n"
     ]
    },
    {
     "name": "stderr",
     "output_type": "stream",
     "text": [
      "\r",
      " 76%|███████▌  | 76/100 [00:10<00:03,  7.16it/s]"
     ]
    },
    {
     "name": "stdout",
     "output_type": "stream",
     "text": [
      "2020-02-28 15:42:11,248 - 9258 - analytics.binary.mcmc - INFO: eval counter = 12227, likehood = -80.83781181301578\n",
      "2020-02-28 15:42:11,260 - 9258 - analytics.binary.mcmc - INFO: eval counter = 12228, likehood = -84.44744096833831\n",
      "2020-02-28 15:42:11,271 - 9258 - analytics.binary.mcmc - INFO: eval counter = 12229, likehood = -80.94086326862168\n",
      "2020-02-28 15:42:11,282 - 9258 - analytics.binary.mcmc - INFO: eval counter = 12230, likehood = -89.81810312159362\n",
      "2020-02-28 15:42:11,293 - 9258 - analytics.binary.mcmc - INFO: eval counter = 12231, likehood = -83.13951415163085\n",
      "2020-02-28 15:42:11,304 - 9258 - analytics.binary.mcmc - INFO: eval counter = 12232, likehood = -81.11464761843754\n",
      "2020-02-28 15:42:11,315 - 9258 - analytics.binary.mcmc - INFO: eval counter = 12233, likehood = -80.17066399831573\n",
      "2020-02-28 15:42:11,325 - 9258 - analytics.binary.mcmc - INFO: eval counter = 12234, likehood = -79.51006371090098\n",
      "2020-02-28 15:42:11,335 - 9258 - analytics.binary.mcmc - INFO: eval counter = 12235, likehood = -80.33281824068602\n",
      "2020-02-28 15:42:11,345 - 9258 - analytics.binary.mcmc - INFO: eval counter = 12236, likehood = -85.80466236084145\n",
      "2020-02-28 15:42:11,358 - 9258 - analytics.binary.mcmc - INFO: eval counter = 12237, likehood = -84.55646869804085\n"
     ]
    },
    {
     "name": "stderr",
     "output_type": "stream",
     "text": [
      "\r",
      " 77%|███████▋  | 77/100 [00:10<00:03,  7.33it/s]"
     ]
    },
    {
     "name": "stdout",
     "output_type": "stream",
     "text": [
      "2020-02-28 15:42:11,384 - 9258 - analytics.binary.mcmc - INFO: eval counter = 12238, likehood = -84.65180954161681\n",
      "2020-02-28 15:42:11,399 - 9258 - analytics.binary.mcmc - INFO: eval counter = 12239, likehood = -80.3570408350168\n",
      "2020-02-28 15:42:11,415 - 9258 - analytics.binary.mcmc - INFO: eval counter = 12240, likehood = -80.41473597881503\n",
      "2020-02-28 15:42:11,428 - 9258 - analytics.binary.mcmc - INFO: eval counter = 12241, likehood = -80.60958301797766\n",
      "2020-02-28 15:42:11,448 - 9258 - analytics.binary.mcmc - INFO: eval counter = 12242, likehood = -91.1068090274406\n",
      "2020-02-28 15:42:11,458 - 9258 - analytics.binary.mcmc - INFO: eval counter = 12243, likehood = -82.64593323322742\n",
      "2020-02-28 15:42:11,468 - 9258 - analytics.binary.mcmc - INFO: eval counter = 12244, likehood = -92.93549651074443\n",
      "2020-02-28 15:42:11,479 - 9258 - analytics.binary.mcmc - INFO: eval counter = 12245, likehood = -85.90102741225688\n",
      "2020-02-28 15:42:11,489 - 9258 - analytics.binary.mcmc - INFO: eval counter = 12246, likehood = -80.36093848714201\n",
      "2020-02-28 15:42:11,502 - 9258 - analytics.binary.mcmc - INFO: eval counter = 12247, likehood = -79.91252443443699\n",
      "2020-02-28 15:42:11,513 - 9258 - analytics.binary.mcmc - INFO: eval counter = 12248, likehood = -82.08189116379297\n"
     ]
    },
    {
     "name": "stderr",
     "output_type": "stream",
     "text": [
      "\r",
      " 78%|███████▊  | 78/100 [00:10<00:03,  7.04it/s]"
     ]
    },
    {
     "name": "stdout",
     "output_type": "stream",
     "text": [
      "2020-02-28 15:42:11,531 - 9258 - analytics.binary.mcmc - INFO: eval counter = 12249, likehood = -92.01978754146074\n",
      "2020-02-28 15:42:11,542 - 9258 - analytics.binary.mcmc - INFO: eval counter = 12250, likehood = -87.31716639097803\n",
      "2020-02-28 15:42:11,553 - 9258 - analytics.binary.mcmc - INFO: eval counter = 12251, likehood = -80.59701138946501\n",
      "2020-02-28 15:42:11,564 - 9258 - analytics.binary.mcmc - INFO: eval counter = 12252, likehood = -81.72907165462502\n",
      "2020-02-28 15:42:11,575 - 9258 - analytics.binary.mcmc - INFO: eval counter = 12253, likehood = -82.07255379623022\n",
      "2020-02-28 15:42:11,586 - 9258 - analytics.binary.mcmc - INFO: eval counter = 12254, likehood = -81.71799070444986\n",
      "2020-02-28 15:42:11,601 - 9258 - analytics.binary.mcmc - INFO: eval counter = 12255, likehood = -82.48083848771482\n",
      "2020-02-28 15:42:11,612 - 9258 - analytics.binary.mcmc - INFO: eval counter = 12256, likehood = -96.8504184744812\n",
      "2020-02-28 15:42:11,625 - 9258 - analytics.binary.mcmc - INFO: eval counter = 12257, likehood = -95.6028272211291\n",
      "2020-02-28 15:42:11,636 - 9258 - analytics.binary.mcmc - INFO: eval counter = 12258, likehood = -83.22512901383134\n",
      "2020-02-28 15:42:11,647 - 9258 - analytics.binary.mcmc - INFO: eval counter = 12259, likehood = -81.59530409782343\n",
      "2020-02-28 15:42:11,658 - 9258 - analytics.binary.mcmc - INFO: eval counter = 12260, likehood = -80.22034457082988\n",
      "2020-02-28 15:42:11,669 - 9258 - analytics.binary.mcmc - INFO: eval counter = 12261, likehood = -80.80183352351145\n",
      "2020-02-28 15:42:11,680 - 9258 - analytics.binary.mcmc - INFO: eval counter = 12262, likehood = -83.16471693651899\n",
      "2020-02-28 15:42:11,691 - 9258 - analytics.binary.mcmc - INFO: eval counter = 12263, likehood = -79.8641256629636\n",
      "2020-02-28 15:42:11,702 - 9258 - analytics.binary.mcmc - INFO: eval counter = 12264, likehood = -87.11368736005278\n",
      "2020-02-28 15:42:11,713 - 9258 - analytics.binary.mcmc - INFO: eval counter = 12265, likehood = -86.2199571578688\n",
      "2020-02-28 15:42:11,725 - 9258 - analytics.binary.mcmc - INFO: eval counter = 12266, likehood = -92.44378347910273\n"
     ]
    },
    {
     "name": "stderr",
     "output_type": "stream",
     "text": [
      "\r",
      " 80%|████████  | 80/100 [00:10<00:02,  7.62it/s]"
     ]
    },
    {
     "name": "stdout",
     "output_type": "stream",
     "text": [
      "2020-02-28 15:42:11,740 - 9258 - analytics.binary.mcmc - INFO: eval counter = 12267, likehood = -94.46485836012756\n",
      "2020-02-28 15:42:11,751 - 9258 - analytics.binary.mcmc - INFO: eval counter = 12268, likehood = -87.08369910450939\n",
      "2020-02-28 15:42:11,762 - 9258 - analytics.binary.mcmc - INFO: eval counter = 12269, likehood = -82.39817682022442\n",
      "2020-02-28 15:42:11,774 - 9258 - analytics.binary.mcmc - INFO: eval counter = 12270, likehood = -79.64873538039674\n",
      "2020-02-28 15:42:11,787 - 9258 - analytics.binary.mcmc - INFO: eval counter = 12271, likehood = -85.94667725325816\n",
      "2020-02-28 15:42:11,803 - 9258 - analytics.binary.mcmc - INFO: eval counter = 12272, likehood = -82.27780595694443\n",
      "2020-02-28 15:42:11,819 - 9258 - analytics.binary.mcmc - INFO: eval counter = 12273, likehood = -80.95237027066018\n",
      "2020-02-28 15:42:11,830 - 9258 - analytics.binary.mcmc - INFO: eval counter = 12274, likehood = -80.01624892901005\n",
      "2020-02-28 15:42:11,841 - 9258 - analytics.binary.mcmc - INFO: eval counter = 12275, likehood = -98.26887782890151\n",
      "2020-02-28 15:42:11,854 - 9258 - analytics.binary.mcmc - INFO: eval counter = 12276, likehood = -83.40835000177745\n",
      "2020-02-28 15:42:11,864 - 9258 - analytics.binary.mcmc - INFO: eval counter = 12277, likehood = -84.31824869818176\n"
     ]
    },
    {
     "name": "stderr",
     "output_type": "stream",
     "text": [
      "\r",
      " 81%|████████  | 81/100 [00:11<00:02,  7.48it/s]"
     ]
    },
    {
     "name": "stdout",
     "output_type": "stream",
     "text": [
      "2020-02-28 15:42:11,879 - 9258 - analytics.binary.mcmc - INFO: eval counter = 12278, likehood = -85.09470607544293\n",
      "2020-02-28 15:42:11,891 - 9258 - analytics.binary.mcmc - INFO: eval counter = 12279, likehood = -83.55363983602408\n",
      "2020-02-28 15:42:11,906 - 9258 - analytics.binary.mcmc - INFO: eval counter = 12280, likehood = -79.5906656504052\n",
      "2020-02-28 15:42:11,917 - 9258 - analytics.binary.mcmc - INFO: eval counter = 12281, likehood = -101.64446374185077\n",
      "2020-02-28 15:42:11,929 - 9258 - analytics.binary.mcmc - INFO: eval counter = 12282, likehood = -83.31007504040426\n",
      "2020-02-28 15:42:11,946 - 9258 - analytics.binary.mcmc - INFO: eval counter = 12283, likehood = -81.01121288408591\n",
      "2020-02-28 15:42:11,962 - 9258 - analytics.binary.mcmc - INFO: eval counter = 12284, likehood = -80.45613125007799\n",
      "2020-02-28 15:42:11,976 - 9258 - analytics.binary.mcmc - INFO: eval counter = 12285, likehood = -81.69769220501722\n",
      "2020-02-28 15:42:11,988 - 9258 - analytics.binary.mcmc - INFO: eval counter = 12286, likehood = -80.28958762470248\n",
      "2020-02-28 15:42:12,000 - 9258 - analytics.binary.mcmc - INFO: eval counter = 12287, likehood = -81.96530082673684\n"
     ]
    },
    {
     "name": "stderr",
     "output_type": "stream",
     "text": [
      "\r",
      " 82%|████████▏ | 82/100 [00:11<00:02,  7.44it/s]"
     ]
    },
    {
     "name": "stdout",
     "output_type": "stream",
     "text": [
      "2020-02-28 15:42:12,026 - 9258 - analytics.binary.mcmc - INFO: eval counter = 12288, likehood = -81.36151144403462\n",
      "2020-02-28 15:42:12,038 - 9258 - analytics.binary.mcmc - INFO: eval counter = 12289, likehood = -80.14629093479542\n",
      "2020-02-28 15:42:12,049 - 9258 - analytics.binary.mcmc - INFO: eval counter = 12290, likehood = -80.36991790609476\n",
      "2020-02-28 15:42:12,060 - 9258 - analytics.binary.mcmc - INFO: eval counter = 12291, likehood = -83.77668389674156\n",
      "2020-02-28 15:42:12,070 - 9258 - analytics.binary.mcmc - INFO: eval counter = 12292, likehood = -86.5567424771878\n",
      "2020-02-28 15:42:12,083 - 9258 - analytics.binary.mcmc - INFO: eval counter = 12293, likehood = -84.82588344012946\n",
      "2020-02-28 15:42:12,097 - 9258 - analytics.binary.mcmc - INFO: eval counter = 12294, likehood = -81.46584065393742\n",
      "2020-02-28 15:42:12,107 - 9258 - analytics.binary.mcmc - INFO: eval counter = 12295, likehood = -79.63465709286996\n",
      "2020-02-28 15:42:12,119 - 9258 - analytics.binary.mcmc - INFO: eval counter = 12296, likehood = -80.5070542081886\n",
      "2020-02-28 15:42:12,130 - 9258 - analytics.binary.mcmc - INFO: eval counter = 12297, likehood = -81.65993561688411\n",
      "2020-02-28 15:42:12,144 - 9258 - analytics.binary.mcmc - INFO: eval counter = 12298, likehood = -80.42489798922524\n"
     ]
    },
    {
     "name": "stderr",
     "output_type": "stream",
     "text": [
      "\r",
      " 83%|████████▎ | 83/100 [00:11<00:02,  7.24it/s]"
     ]
    },
    {
     "name": "stdout",
     "output_type": "stream",
     "text": [
      "2020-02-28 15:42:12,164 - 9258 - analytics.binary.mcmc - INFO: eval counter = 12299, likehood = -80.92164254534877\n",
      "2020-02-28 15:42:12,176 - 9258 - analytics.binary.mcmc - INFO: eval counter = 12300, likehood = -82.37805836697214\n",
      "2020-02-28 15:42:12,187 - 9258 - analytics.binary.mcmc - INFO: eval counter = 12301, likehood = -79.45206072546976\n",
      "2020-02-28 15:42:12,198 - 9258 - analytics.binary.mcmc - INFO: eval counter = 12302, likehood = -80.03519527124098\n",
      "2020-02-28 15:42:12,209 - 9258 - analytics.binary.mcmc - INFO: eval counter = 12303, likehood = -79.59508456024629\n",
      "2020-02-28 15:42:12,225 - 9258 - analytics.binary.mcmc - INFO: eval counter = 12304, likehood = -82.49590264179713\n",
      "2020-02-28 15:42:12,237 - 9258 - analytics.binary.mcmc - INFO: eval counter = 12305, likehood = -80.72359672057404\n",
      "2020-02-28 15:42:12,254 - 9258 - analytics.binary.mcmc - INFO: eval counter = 12306, likehood = -84.10315677861126\n",
      "2020-02-28 15:42:12,265 - 9258 - analytics.binary.mcmc - INFO: eval counter = 12307, likehood = -83.32532841475229\n",
      "2020-02-28 15:42:12,277 - 9258 - analytics.binary.mcmc - INFO: eval counter = 12308, likehood = -79.36560065395544\n",
      "2020-02-28 15:42:12,289 - 9258 - analytics.binary.mcmc - INFO: eval counter = 12309, likehood = -85.00890863859519\n",
      "2020-02-28 15:42:12,305 - 9258 - analytics.binary.mcmc - INFO: eval counter = 12310, likehood = -80.48460119326612\n"
     ]
    },
    {
     "name": "stderr",
     "output_type": "stream",
     "text": [
      "\r",
      " 84%|████████▍ | 84/100 [00:11<00:02,  6.93it/s]"
     ]
    },
    {
     "name": "stdout",
     "output_type": "stream",
     "text": [
      "2020-02-28 15:42:12,328 - 9258 - analytics.binary.mcmc - INFO: eval counter = 12311, likehood = -80.93648590084268\n",
      "2020-02-28 15:42:12,348 - 9258 - analytics.binary.mcmc - INFO: eval counter = 12312, likehood = -79.46059404560746\n",
      "2020-02-28 15:42:12,367 - 9258 - analytics.binary.mcmc - INFO: eval counter = 12313, likehood = -79.5518409990683\n",
      "2020-02-28 15:42:12,384 - 9258 - analytics.binary.mcmc - INFO: eval counter = 12314, likehood = -78.92899190913617\n",
      "2020-02-28 15:42:12,401 - 9258 - analytics.binary.mcmc - INFO: eval counter = 12315, likehood = -80.48678833916607\n",
      "2020-02-28 15:42:12,417 - 9258 - analytics.binary.mcmc - INFO: eval counter = 12316, likehood = -80.8750611439316\n",
      "2020-02-28 15:42:12,433 - 9258 - analytics.binary.mcmc - INFO: eval counter = 12317, likehood = -79.9266940088292\n",
      "2020-02-28 15:42:12,443 - 9258 - analytics.binary.mcmc - INFO: eval counter = 12318, likehood = -94.11190948000461\n",
      "2020-02-28 15:42:12,453 - 9258 - analytics.binary.mcmc - INFO: eval counter = 12319, likehood = -81.26230829054474\n",
      "2020-02-28 15:42:12,464 - 9258 - analytics.binary.mcmc - INFO: eval counter = 12320, likehood = -92.31868804791819\n",
      "2020-02-28 15:42:12,476 - 9258 - analytics.binary.mcmc - INFO: eval counter = 12321, likehood = -87.7067599633075\n"
     ]
    },
    {
     "name": "stderr",
     "output_type": "stream",
     "text": [
      "\r",
      " 85%|████████▌ | 85/100 [00:11<00:02,  6.58it/s]"
     ]
    },
    {
     "name": "stdout",
     "output_type": "stream",
     "text": [
      "2020-02-28 15:42:12,488 - 9258 - analytics.binary.mcmc - INFO: eval counter = 12322, likehood = -89.66809290435145\n",
      "2020-02-28 15:42:12,498 - 9258 - analytics.binary.mcmc - INFO: eval counter = 12323, likehood = -80.37142305857563\n",
      "2020-02-28 15:42:12,512 - 9258 - analytics.binary.mcmc - INFO: eval counter = 12324, likehood = -79.54191982305747\n",
      "2020-02-28 15:42:12,524 - 9258 - analytics.binary.mcmc - INFO: eval counter = 12325, likehood = -79.45070422022488\n",
      "2020-02-28 15:42:12,537 - 9258 - analytics.binary.mcmc - INFO: eval counter = 12326, likehood = -84.82874896074844\n",
      "2020-02-28 15:42:12,548 - 9258 - analytics.binary.mcmc - INFO: eval counter = 12327, likehood = -79.71790213645967\n",
      "2020-02-28 15:42:12,560 - 9258 - analytics.binary.mcmc - INFO: eval counter = 12328, likehood = -81.53344552666981\n",
      "2020-02-28 15:42:12,571 - 9258 - analytics.binary.mcmc - INFO: eval counter = 12329, likehood = -80.52868916434028\n",
      "2020-02-28 15:42:12,582 - 9258 - analytics.binary.mcmc - INFO: eval counter = 12330, likehood = -79.22018259896893\n",
      "2020-02-28 15:42:12,593 - 9258 - analytics.binary.mcmc - INFO: eval counter = 12331, likehood = -81.15227205155288\n",
      "2020-02-28 15:42:12,608 - 9258 - analytics.binary.mcmc - INFO: eval counter = 12332, likehood = -79.87899216025417\n",
      "2020-02-28 15:42:12,621 - 9258 - analytics.binary.mcmc - INFO: eval counter = 12333, likehood = -90.88088200487496\n"
     ]
    },
    {
     "name": "stderr",
     "output_type": "stream",
     "text": [
      "\r",
      " 86%|████████▌ | 86/100 [00:11<00:02,  6.67it/s]"
     ]
    },
    {
     "name": "stdout",
     "output_type": "stream",
     "text": [
      "2020-02-28 15:42:12,637 - 9258 - analytics.binary.mcmc - INFO: eval counter = 12334, likehood = -87.03335618594144\n",
      "2020-02-28 15:42:12,648 - 9258 - analytics.binary.mcmc - INFO: eval counter = 12335, likehood = -85.75445618222798\n",
      "2020-02-28 15:42:12,660 - 9258 - analytics.binary.mcmc - INFO: eval counter = 12336, likehood = -79.12433727126381\n",
      "2020-02-28 15:42:12,671 - 9258 - analytics.binary.mcmc - INFO: eval counter = 12337, likehood = -97.95079662249746\n",
      "2020-02-28 15:42:12,683 - 9258 - analytics.binary.mcmc - INFO: eval counter = 12338, likehood = -92.04526532128583\n",
      "2020-02-28 15:42:12,694 - 9258 - analytics.binary.mcmc - INFO: eval counter = 12339, likehood = -79.67522335956764\n",
      "2020-02-28 15:42:12,705 - 9258 - analytics.binary.mcmc - INFO: eval counter = 12340, likehood = -80.5145508585609\n",
      "2020-02-28 15:42:12,721 - 9258 - analytics.binary.mcmc - INFO: eval counter = 12341, likehood = -79.56432459655261\n",
      "2020-02-28 15:42:12,738 - 9258 - analytics.binary.mcmc - INFO: eval counter = 12342, likehood = -81.80057040256565\n",
      "2020-02-28 15:42:12,750 - 9258 - analytics.binary.mcmc - INFO: eval counter = 12343, likehood = -81.18192731802397\n",
      "2020-02-28 15:42:12,762 - 9258 - analytics.binary.mcmc - INFO: eval counter = 12344, likehood = -81.17308200400772\n"
     ]
    },
    {
     "name": "stderr",
     "output_type": "stream",
     "text": [
      "\r",
      " 87%|████████▋ | 87/100 [00:11<00:01,  6.79it/s]"
     ]
    },
    {
     "name": "stdout",
     "output_type": "stream",
     "text": [
      "2020-02-28 15:42:12,778 - 9258 - analytics.binary.mcmc - INFO: eval counter = 12345, likehood = -82.78081339589875\n",
      "2020-02-28 15:42:12,788 - 9258 - analytics.binary.mcmc - INFO: eval counter = 12346, likehood = -79.03329759584257\n",
      "2020-02-28 15:42:12,799 - 9258 - analytics.binary.mcmc - INFO: eval counter = 12347, likehood = -83.23259664883906\n",
      "2020-02-28 15:42:12,814 - 9258 - analytics.binary.mcmc - INFO: eval counter = 12348, likehood = -82.85477284544396\n",
      "2020-02-28 15:42:12,829 - 9258 - analytics.binary.mcmc - INFO: eval counter = 12349, likehood = -98.66037485451204\n",
      "2020-02-28 15:42:12,842 - 9258 - analytics.binary.mcmc - INFO: eval counter = 12350, likehood = -79.42416817124655\n",
      "2020-02-28 15:42:12,853 - 9258 - analytics.binary.mcmc - INFO: eval counter = 12351, likehood = -95.2019869868372\n",
      "2020-02-28 15:42:12,870 - 9258 - analytics.binary.mcmc - INFO: eval counter = 12352, likehood = -84.11113523370466\n",
      "2020-02-28 15:42:12,882 - 9258 - analytics.binary.mcmc - INFO: eval counter = 12353, likehood = -79.16589440997376\n",
      "2020-02-28 15:42:12,893 - 9258 - analytics.binary.mcmc - INFO: eval counter = 12354, likehood = -90.86667322261317\n",
      "2020-02-28 15:42:12,905 - 9258 - analytics.binary.mcmc - INFO: eval counter = 12355, likehood = -80.55314682091795\n"
     ]
    },
    {
     "name": "stderr",
     "output_type": "stream",
     "text": [
      "\r",
      " 88%|████████▊ | 88/100 [00:12<00:01,  6.85it/s]"
     ]
    },
    {
     "name": "stdout",
     "output_type": "stream",
     "text": [
      "2020-02-28 15:42:12,918 - 9258 - analytics.binary.mcmc - INFO: eval counter = 12356, likehood = -82.02813640935094\n",
      "2020-02-28 15:42:12,930 - 9258 - analytics.binary.mcmc - INFO: eval counter = 12357, likehood = -85.28570362802854\n",
      "2020-02-28 15:42:12,941 - 9258 - analytics.binary.mcmc - INFO: eval counter = 12358, likehood = -83.14446075035471\n",
      "2020-02-28 15:42:12,952 - 9258 - analytics.binary.mcmc - INFO: eval counter = 12359, likehood = -88.20062454162469\n",
      "2020-02-28 15:42:12,964 - 9258 - analytics.binary.mcmc - INFO: eval counter = 12360, likehood = -79.26055724504663\n",
      "2020-02-28 15:42:12,976 - 9258 - analytics.binary.mcmc - INFO: eval counter = 12361, likehood = -79.9301322069437\n",
      "2020-02-28 15:42:12,988 - 9258 - analytics.binary.mcmc - INFO: eval counter = 12362, likehood = -80.01841237878749\n",
      "2020-02-28 15:42:13,000 - 9258 - analytics.binary.mcmc - INFO: eval counter = 12363, likehood = -79.2433267479231\n",
      "2020-02-28 15:42:13,012 - 9258 - analytics.binary.mcmc - INFO: eval counter = 12364, likehood = -80.58570786879949\n",
      "2020-02-28 15:42:13,024 - 9258 - analytics.binary.mcmc - INFO: eval counter = 12365, likehood = -83.43682565355242\n",
      "2020-02-28 15:42:13,036 - 9258 - analytics.binary.mcmc - INFO: eval counter = 12366, likehood = -97.70235665587838\n",
      "2020-02-28 15:42:13,051 - 9258 - analytics.binary.mcmc - INFO: eval counter = 12367, likehood = -92.21440855262193\n"
     ]
    },
    {
     "name": "stderr",
     "output_type": "stream",
     "text": [
      "\r",
      " 89%|████████▉ | 89/100 [00:12<00:01,  6.85it/s]"
     ]
    },
    {
     "name": "stdout",
     "output_type": "stream",
     "text": [
      "2020-02-28 15:42:13,068 - 9258 - analytics.binary.mcmc - INFO: eval counter = 12368, likehood = -81.59131018184654\n",
      "2020-02-28 15:42:13,080 - 9258 - analytics.binary.mcmc - INFO: eval counter = 12369, likehood = -83.31444257742837\n",
      "2020-02-28 15:42:13,091 - 9258 - analytics.binary.mcmc - INFO: eval counter = 12370, likehood = -89.75155301875147\n",
      "2020-02-28 15:42:13,102 - 9258 - analytics.binary.mcmc - INFO: eval counter = 12371, likehood = -94.9201976305101\n",
      "2020-02-28 15:42:13,113 - 9258 - analytics.binary.mcmc - INFO: eval counter = 12372, likehood = -79.75595043730215\n",
      "2020-02-28 15:42:13,129 - 9258 - analytics.binary.mcmc - INFO: eval counter = 12373, likehood = -85.19791018293819\n",
      "2020-02-28 15:42:13,142 - 9258 - analytics.binary.mcmc - INFO: eval counter = 12374, likehood = -80.04613970889258\n",
      "2020-02-28 15:42:13,155 - 9258 - analytics.binary.mcmc - INFO: eval counter = 12375, likehood = -80.62149549134172\n",
      "2020-02-28 15:42:13,165 - 9258 - analytics.binary.mcmc - INFO: eval counter = 12376, likehood = -80.27491635719932\n",
      "2020-02-28 15:42:13,178 - 9258 - analytics.binary.mcmc - INFO: eval counter = 12377, likehood = -84.47172545530427\n"
     ]
    },
    {
     "name": "stderr",
     "output_type": "stream",
     "text": [
      "\r",
      " 90%|█████████ | 90/100 [00:12<00:01,  7.13it/s]"
     ]
    },
    {
     "name": "stdout",
     "output_type": "stream",
     "text": [
      "2020-02-28 15:42:13,192 - 9258 - analytics.binary.mcmc - INFO: eval counter = 12378, likehood = -82.08872603167059\n",
      "2020-02-28 15:42:13,207 - 9258 - analytics.binary.mcmc - INFO: eval counter = 12379, likehood = -79.5310368345669\n",
      "emcee: Exception while calling your likelihood function:\n",
      "  params: [0.28390948 0.60745072 0.54181172 0.81463052 0.61730446 0.41431967]\n",
      "  args: []\n",
      "  kwargs: {}\n",
      "  exception:\n"
     ]
    },
    {
     "name": "stderr",
     "output_type": "stream",
     "text": [
      "Traceback (most recent call last):\n",
      "  File \"/home/cepheus/elisa_jupyter_environ/venv/lib/python3.6/site-packages/emcee/ensemble.py\", line 542, in __call__\n",
      "    return self.f(x, *self.args, **self.kwargs)\n",
      "  File \"/home/cepheus/elisa_jupyter_environ/venv/lib/python3.6/site-packages/elisa/analytics/binary/mcmc.py\", line 142, in ln_probability\n",
      "    likelihood = self.likelihood(xn)\n",
      "  File \"/home/cepheus/elisa_jupyter_environ/venv/lib/python3.6/site-packages/elisa/analytics/binary/mcmc.py\", line 315, in likelihood\n",
      "    synthetic = models.central_rv_synthetic(*args, **kwargs)\n",
      "  File \"/home/cepheus/elisa_jupyter_environ/venv/lib/python3.6/site-packages/elisa/analytics/binary/models.py\", line 199, in central_rv_synthetic\n",
      "    _, rv = observer.observe.rv(phases=xs, normalize=False)\n",
      "  File \"/home/cepheus/elisa_jupyter_environ/venv/lib/python3.6/site-packages/elisa/observer/observer.py\", line 37, in rv\n",
      "    return self.observer.rv(from_phase, to_phase, phase_step, phases, normalize)\n",
      "  File \"/home/cepheus/elisa_jupyter_environ/venv/lib/python3.6/site-packages/elisa/observer/observer.py\", line 217, in rv\n",
      "    position_method=self._system.get_positions_method()\n",
      "  File \"/home/cepheus/elisa_jupyter_environ/venv/lib/python3.6/site-packages/elisa/binary_system/curves/community.py\", line 146, in compute_rv\n",
      "    return self.radial_velocity(**kwargs)\n",
      "  File \"/home/cepheus/elisa_jupyter_environ/venv/lib/python3.6/site-packages/elisa/binary_system/curves/community.py\", line 97, in radial_velocity\n",
      "    orbital_motion = position_method(phase=phases)\n",
      "  File \"/home/cepheus/elisa_jupyter_environ/venv/lib/python3.6/site-packages/elisa/binary_system/orbit/orbit.py\", line 253, in orbital_motion\n",
      "    for xx in mean_anomaly])\n",
      "  File \"/home/cepheus/elisa_jupyter_environ/venv/lib/python3.6/site-packages/elisa/binary_system/orbit/orbit.py\", line 253, in <listcomp>\n",
      "    for xx in mean_anomaly])\n",
      "  File \"/home/cepheus/elisa_jupyter_environ/venv/lib/python3.6/site-packages/elisa/binary_system/orbit/orbit.py\", line 149, in mean_anomaly_to_eccentric_anomaly\n",
      "    solution = scipy.optimize.newton(self.mean_anomaly_fn, 1.0, args=(mean_anomaly, ), tol=1e-10)\n",
      "  File \"/home/cepheus/elisa_jupyter_environ/venv/lib/python3.6/site-packages/scipy/optimize/zeros.py\", line 352, in newton\n",
      "    if np.isclose(p, p1, rtol=rtol, atol=tol):\n",
      "  File \"<__array_function__ internals>\", line 6, in isclose\n",
      "  File \"/home/cepheus/elisa_jupyter_environ/venv/lib/python3.6/site-packages/numpy/core/numeric.py\", line 2260, in isclose\n",
      "    return within_tol(x, y, atol, rtol)\n",
      "  File \"/home/cepheus/elisa_jupyter_environ/venv/lib/python3.6/site-packages/numpy/core/numeric.py\", line 2246, in within_tol\n",
      "    return less_equal(abs(x-y), atol + rtol * abs(y))\n",
      "  File \"/home/cepheus/elisa_jupyter_environ/venv/lib/python3.6/site-packages/numpy/core/_ufunc_config.py\", line 447, in __exit__\n",
      "    seterr(**self.oldstate)\n",
      "  File \"/home/cepheus/elisa_jupyter_environ/venv/lib/python3.6/site-packages/numpy/core/_ufunc_config.py\", line 39, in seterr\n",
      "    @set_module('numpy')\n",
      "KeyboardInterrupt\n",
      " 90%|█████████ | 90/100 [00:13<00:01,  6.68it/s]\n"
     ]
    },
    {
     "ename": "KeyboardInterrupt",
     "evalue": "",
     "output_type": "error",
     "traceback": [
      "\u001b[0;31m---------------------------------------------------------------------------\u001b[0m",
      "\u001b[0;31mKeyboardInterrupt\u001b[0m                         Traceback (most recent call last)",
      "\u001b[0;32m<ipython-input-26-e5fdd7fa2114>\u001b[0m in \u001b[0;36m<module>\u001b[0;34m\u001b[0m\n\u001b[0;32m----> 1\u001b[0;31m \u001b[0mfit_params_mcmc\u001b[0m \u001b[0;34m=\u001b[0m \u001b[0mtask\u001b[0m\u001b[0;34m.\u001b[0m\u001b[0mrv_fit\u001b[0m\u001b[0;34m.\u001b[0m\u001b[0mfit\u001b[0m\u001b[0;34m(\u001b[0m\u001b[0mx0\u001b[0m\u001b[0;34m=\u001b[0m\u001b[0mrv_initial\u001b[0m\u001b[0;34m,\u001b[0m \u001b[0mmethod\u001b[0m\u001b[0;34m=\u001b[0m\u001b[0;34m'mcmc'\u001b[0m\u001b[0;34m,\u001b[0m \u001b[0mnsteps\u001b[0m\u001b[0;34m=\u001b[0m\u001b[0;36m1000\u001b[0m\u001b[0;34m,\u001b[0m \u001b[0mprogress\u001b[0m\u001b[0;34m=\u001b[0m\u001b[0;32mTrue\u001b[0m\u001b[0;34m)\u001b[0m\u001b[0;34m\u001b[0m\u001b[0;34m\u001b[0m\u001b[0m\n\u001b[0m",
      "\u001b[0;32m~/elisa_jupyter_environ/venv/lib/python3.6/site-packages/elisa/analytics/binary_fit/rv_fit.py\u001b[0m in \u001b[0;36mfit\u001b[0;34m(self, x0, method, **kwargs)\u001b[0m\n\u001b[1;32m     75\u001b[0m \u001b[0;34m\u001b[0m\u001b[0m\n\u001b[1;32m     76\u001b[0m         \u001b[0;32melif\u001b[0m \u001b[0mstr\u001b[0m\u001b[0;34m(\u001b[0m\u001b[0mmethod\u001b[0m\u001b[0;34m)\u001b[0m\u001b[0;34m.\u001b[0m\u001b[0mlower\u001b[0m\u001b[0;34m(\u001b[0m\u001b[0;34m)\u001b[0m \u001b[0;32min\u001b[0m \u001b[0;34m[\u001b[0m\u001b[0;34m'mcmc'\u001b[0m\u001b[0;34m]\u001b[0m\u001b[0;34m:\u001b[0m\u001b[0;34m\u001b[0m\u001b[0;34m\u001b[0m\u001b[0m\n\u001b[0;32m---> 77\u001b[0;31m             \u001b[0mself\u001b[0m\u001b[0;34m.\u001b[0m\u001b[0mfit_params\u001b[0m \u001b[0;34m=\u001b[0m \u001b[0mmcmc_central_rv\u001b[0m\u001b[0;34m.\u001b[0m\u001b[0mfit\u001b[0m\u001b[0;34m(\u001b[0m\u001b[0mxs\u001b[0m\u001b[0;34m=\u001b[0m\u001b[0mx_data\u001b[0m\u001b[0;34m,\u001b[0m \u001b[0mys\u001b[0m\u001b[0;34m=\u001b[0m\u001b[0my_data\u001b[0m\u001b[0;34m,\u001b[0m \u001b[0mx0\u001b[0m\u001b[0;34m=\u001b[0m\u001b[0mx0\u001b[0m\u001b[0;34m,\u001b[0m \u001b[0myerr\u001b[0m\u001b[0;34m=\u001b[0m\u001b[0myerr\u001b[0m\u001b[0;34m,\u001b[0m \u001b[0;34m**\u001b[0m\u001b[0mkwargs\u001b[0m\u001b[0;34m)\u001b[0m\u001b[0;34m\u001b[0m\u001b[0;34m\u001b[0m\u001b[0m\n\u001b[0m\u001b[1;32m     78\u001b[0m             \u001b[0mself\u001b[0m\u001b[0;34m.\u001b[0m\u001b[0mflat_chain\u001b[0m \u001b[0;34m=\u001b[0m \u001b[0mmcmc_central_rv\u001b[0m\u001b[0;34m.\u001b[0m\u001b[0mlast_sampler\u001b[0m\u001b[0;34m.\u001b[0m\u001b[0mget_chain\u001b[0m\u001b[0;34m(\u001b[0m\u001b[0mflat\u001b[0m\u001b[0;34m=\u001b[0m\u001b[0;32mTrue\u001b[0m\u001b[0;34m)\u001b[0m\u001b[0;34m\u001b[0m\u001b[0;34m\u001b[0m\u001b[0m\n\u001b[1;32m     79\u001b[0m             \u001b[0mself\u001b[0m\u001b[0;34m.\u001b[0m\u001b[0mnormalization\u001b[0m \u001b[0;34m=\u001b[0m \u001b[0mmcmc_central_rv\u001b[0m\u001b[0;34m.\u001b[0m\u001b[0mlast_normalization\u001b[0m\u001b[0;34m\u001b[0m\u001b[0;34m\u001b[0m\u001b[0m\n",
      "\u001b[0;32m~/elisa_jupyter_environ/venv/lib/python3.6/site-packages/elisa/analytics/binary/mcmc.py\u001b[0m in \u001b[0;36mfit\u001b[0;34m(self, xs, ys, x0, nwalkers, nsteps, p0, yerr, burn_in, progress)\u001b[0m\n\u001b[1;32m    375\u001b[0m         \u001b[0mself\u001b[0m\u001b[0;34m.\u001b[0m\u001b[0mfixed\u001b[0m\u001b[0;34m,\u001b[0m \u001b[0mself\u001b[0m\u001b[0;34m.\u001b[0m\u001b[0mconstraint\u001b[0m \u001b[0;34m=\u001b[0m \u001b[0mfixed\u001b[0m\u001b[0;34m,\u001b[0m \u001b[0mconstrained\u001b[0m\u001b[0;34m\u001b[0m\u001b[0;34m\u001b[0m\u001b[0m\n\u001b[1;32m    376\u001b[0m \u001b[0;34m\u001b[0m\u001b[0m\n\u001b[0;32m--> 377\u001b[0;31m         \u001b[0msampler\u001b[0m \u001b[0;34m=\u001b[0m \u001b[0mself\u001b[0m\u001b[0;34m.\u001b[0m\u001b[0m_fit\u001b[0m\u001b[0;34m(\u001b[0m\u001b[0mx0_vector\u001b[0m\u001b[0;34m,\u001b[0m \u001b[0mself\u001b[0m\u001b[0;34m.\u001b[0m\u001b[0mlabels\u001b[0m\u001b[0;34m,\u001b[0m \u001b[0mnwalkers\u001b[0m\u001b[0;34m,\u001b[0m \u001b[0mndim\u001b[0m\u001b[0;34m,\u001b[0m \u001b[0mnsteps\u001b[0m\u001b[0;34m,\u001b[0m \u001b[0mburn_in\u001b[0m\u001b[0;34m,\u001b[0m \u001b[0mp0\u001b[0m\u001b[0;34m,\u001b[0m \u001b[0mprogress\u001b[0m\u001b[0;34m=\u001b[0m\u001b[0mprogress\u001b[0m\u001b[0;34m)\u001b[0m\u001b[0;34m\u001b[0m\u001b[0;34m\u001b[0m\u001b[0m\n\u001b[0m\u001b[1;32m    378\u001b[0m \u001b[0;34m\u001b[0m\u001b[0m\n\u001b[1;32m    379\u001b[0m         \u001b[0;31m# extracting fit results from MCMC sampler\u001b[0m\u001b[0;34m\u001b[0m\u001b[0;34m\u001b[0m\u001b[0;34m\u001b[0m\u001b[0m\n",
      "\u001b[0;32m~/elisa_jupyter_environ/venv/lib/python3.6/site-packages/elisa/analytics/binary/mcmc.py\u001b[0m in \u001b[0;36m_fit\u001b[0;34m(self, x0, labels, nwalkers, ndim, nsteps, nsteps_burn_in, p0, progress)\u001b[0m\n\u001b[1;32m    175\u001b[0m             \u001b[0mlogger\u001b[0m\u001b[0;34m.\u001b[0m\u001b[0minfo\u001b[0m\u001b[0;34m(\u001b[0m\u001b[0;34m'starting singlecore mcmc'\u001b[0m\u001b[0;34m)\u001b[0m\u001b[0;34m\u001b[0m\u001b[0;34m\u001b[0m\u001b[0m\n\u001b[1;32m    176\u001b[0m             \u001b[0msampler\u001b[0m \u001b[0;34m=\u001b[0m \u001b[0memcee\u001b[0m\u001b[0;34m.\u001b[0m\u001b[0mEnsembleSampler\u001b[0m\u001b[0;34m(\u001b[0m\u001b[0mnwalkers\u001b[0m\u001b[0;34m=\u001b[0m\u001b[0mnwalkers\u001b[0m\u001b[0;34m,\u001b[0m \u001b[0mndim\u001b[0m\u001b[0;34m=\u001b[0m\u001b[0mndim\u001b[0m\u001b[0;34m,\u001b[0m \u001b[0mlog_prob_fn\u001b[0m\u001b[0;34m=\u001b[0m\u001b[0mlnf\u001b[0m\u001b[0;34m)\u001b[0m\u001b[0;34m\u001b[0m\u001b[0;34m\u001b[0m\u001b[0m\n\u001b[0;32m--> 177\u001b[0;31m             \u001b[0mself\u001b[0m\u001b[0;34m.\u001b[0m\u001b[0mworker\u001b[0m\u001b[0;34m(\u001b[0m\u001b[0msampler\u001b[0m\u001b[0;34m,\u001b[0m \u001b[0mp0\u001b[0m\u001b[0;34m,\u001b[0m \u001b[0mnsteps\u001b[0m\u001b[0;34m,\u001b[0m \u001b[0mnsteps_burn_in\u001b[0m\u001b[0;34m,\u001b[0m \u001b[0mprogress\u001b[0m\u001b[0;34m=\u001b[0m\u001b[0mprogress\u001b[0m\u001b[0;34m)\u001b[0m\u001b[0;34m\u001b[0m\u001b[0;34m\u001b[0m\u001b[0m\n\u001b[0m\u001b[1;32m    178\u001b[0m \u001b[0;34m\u001b[0m\u001b[0m\n\u001b[1;32m    179\u001b[0m         \u001b[0mself\u001b[0m\u001b[0;34m.\u001b[0m\u001b[0mlast_sampler\u001b[0m \u001b[0;34m=\u001b[0m \u001b[0msampler\u001b[0m\u001b[0;34m\u001b[0m\u001b[0;34m\u001b[0m\u001b[0m\n",
      "\u001b[0;32m~/elisa_jupyter_environ/venv/lib/python3.6/site-packages/elisa/analytics/binary/mcmc.py\u001b[0m in \u001b[0;36mworker\u001b[0;34m(sampler, p0, nsteps, nsteps_burn_in, progress)\u001b[0m\n\u001b[1;32m    102\u001b[0m     \u001b[0;32mdef\u001b[0m \u001b[0mworker\u001b[0m\u001b[0;34m(\u001b[0m\u001b[0msampler\u001b[0m\u001b[0;34m,\u001b[0m \u001b[0mp0\u001b[0m\u001b[0;34m,\u001b[0m \u001b[0mnsteps\u001b[0m\u001b[0;34m,\u001b[0m \u001b[0mnsteps_burn_in\u001b[0m\u001b[0;34m,\u001b[0m \u001b[0mprogress\u001b[0m\u001b[0;34m=\u001b[0m\u001b[0;32mFalse\u001b[0m\u001b[0;34m)\u001b[0m\u001b[0;34m:\u001b[0m\u001b[0;34m\u001b[0m\u001b[0;34m\u001b[0m\u001b[0m\n\u001b[1;32m    103\u001b[0m         \u001b[0mlogger\u001b[0m\u001b[0;34m.\u001b[0m\u001b[0minfo\u001b[0m\u001b[0;34m(\u001b[0m\u001b[0;34m\"running burn-in...\"\u001b[0m\u001b[0;34m)\u001b[0m\u001b[0;34m\u001b[0m\u001b[0;34m\u001b[0m\u001b[0m\n\u001b[0;32m--> 104\u001b[0;31m         \u001b[0mp0\u001b[0m\u001b[0;34m,\u001b[0m \u001b[0m_\u001b[0m\u001b[0;34m,\u001b[0m \u001b[0m_\u001b[0m \u001b[0;34m=\u001b[0m \u001b[0msampler\u001b[0m\u001b[0;34m.\u001b[0m\u001b[0mrun_mcmc\u001b[0m\u001b[0;34m(\u001b[0m\u001b[0mp0\u001b[0m\u001b[0;34m,\u001b[0m \u001b[0mnsteps_burn_in\u001b[0m\u001b[0;34m,\u001b[0m \u001b[0mprogress\u001b[0m\u001b[0;34m=\u001b[0m\u001b[0mprogress\u001b[0m\u001b[0;34m)\u001b[0m\u001b[0;34m\u001b[0m\u001b[0;34m\u001b[0m\u001b[0m\n\u001b[0m\u001b[1;32m    105\u001b[0m         \u001b[0msampler\u001b[0m\u001b[0;34m.\u001b[0m\u001b[0mreset\u001b[0m\u001b[0;34m(\u001b[0m\u001b[0;34m)\u001b[0m\u001b[0;34m\u001b[0m\u001b[0;34m\u001b[0m\u001b[0m\n\u001b[1;32m    106\u001b[0m         \u001b[0mlogger\u001b[0m\u001b[0;34m.\u001b[0m\u001b[0minfo\u001b[0m\u001b[0;34m(\u001b[0m\u001b[0;34m\"running production...\"\u001b[0m\u001b[0;34m)\u001b[0m\u001b[0;34m\u001b[0m\u001b[0;34m\u001b[0m\u001b[0m\n",
      "\u001b[0;32m~/elisa_jupyter_environ/venv/lib/python3.6/site-packages/emcee/ensemble.py\u001b[0m in \u001b[0;36mrun_mcmc\u001b[0;34m(self, initial_state, nsteps, **kwargs)\u001b[0m\n\u001b[1;32m    379\u001b[0m \u001b[0;34m\u001b[0m\u001b[0m\n\u001b[1;32m    380\u001b[0m         \u001b[0mresults\u001b[0m \u001b[0;34m=\u001b[0m \u001b[0;32mNone\u001b[0m\u001b[0;34m\u001b[0m\u001b[0;34m\u001b[0m\u001b[0m\n\u001b[0;32m--> 381\u001b[0;31m         \u001b[0;32mfor\u001b[0m \u001b[0mresults\u001b[0m \u001b[0;32min\u001b[0m \u001b[0mself\u001b[0m\u001b[0;34m.\u001b[0m\u001b[0msample\u001b[0m\u001b[0;34m(\u001b[0m\u001b[0minitial_state\u001b[0m\u001b[0;34m,\u001b[0m \u001b[0miterations\u001b[0m\u001b[0;34m=\u001b[0m\u001b[0mnsteps\u001b[0m\u001b[0;34m,\u001b[0m \u001b[0;34m**\u001b[0m\u001b[0mkwargs\u001b[0m\u001b[0;34m)\u001b[0m\u001b[0;34m:\u001b[0m\u001b[0;34m\u001b[0m\u001b[0;34m\u001b[0m\u001b[0m\n\u001b[0m\u001b[1;32m    382\u001b[0m             \u001b[0;32mpass\u001b[0m\u001b[0;34m\u001b[0m\u001b[0;34m\u001b[0m\u001b[0m\n\u001b[1;32m    383\u001b[0m \u001b[0;34m\u001b[0m\u001b[0m\n",
      "\u001b[0;32m~/elisa_jupyter_environ/venv/lib/python3.6/site-packages/emcee/ensemble.py\u001b[0m in \u001b[0;36msample\u001b[0;34m(self, initial_state, log_prob0, rstate0, blobs0, iterations, tune, skip_initial_state_check, thin_by, thin, store, progress)\u001b[0m\n\u001b[1;32m    338\u001b[0m \u001b[0;34m\u001b[0m\u001b[0m\n\u001b[1;32m    339\u001b[0m                     \u001b[0;31m# Propose\u001b[0m\u001b[0;34m\u001b[0m\u001b[0;34m\u001b[0m\u001b[0;34m\u001b[0m\u001b[0m\n\u001b[0;32m--> 340\u001b[0;31m                     \u001b[0mstate\u001b[0m\u001b[0;34m,\u001b[0m \u001b[0maccepted\u001b[0m \u001b[0;34m=\u001b[0m \u001b[0mmove\u001b[0m\u001b[0;34m.\u001b[0m\u001b[0mpropose\u001b[0m\u001b[0;34m(\u001b[0m\u001b[0mmodel\u001b[0m\u001b[0;34m,\u001b[0m \u001b[0mstate\u001b[0m\u001b[0;34m)\u001b[0m\u001b[0;34m\u001b[0m\u001b[0;34m\u001b[0m\u001b[0m\n\u001b[0m\u001b[1;32m    341\u001b[0m                     \u001b[0mstate\u001b[0m\u001b[0;34m.\u001b[0m\u001b[0mrandom_state\u001b[0m \u001b[0;34m=\u001b[0m \u001b[0mself\u001b[0m\u001b[0;34m.\u001b[0m\u001b[0mrandom_state\u001b[0m\u001b[0;34m\u001b[0m\u001b[0;34m\u001b[0m\u001b[0m\n\u001b[1;32m    342\u001b[0m \u001b[0;34m\u001b[0m\u001b[0m\n",
      "\u001b[0;32m~/elisa_jupyter_environ/venv/lib/python3.6/site-packages/emcee/moves/red_blue.py\u001b[0m in \u001b[0;36mpropose\u001b[0;34m(self, model, state)\u001b[0m\n\u001b[1;32m     91\u001b[0m \u001b[0;34m\u001b[0m\u001b[0m\n\u001b[1;32m     92\u001b[0m             \u001b[0;31m# Compute the lnprobs of the proposed position.\u001b[0m\u001b[0;34m\u001b[0m\u001b[0;34m\u001b[0m\u001b[0;34m\u001b[0m\u001b[0m\n\u001b[0;32m---> 93\u001b[0;31m             \u001b[0mnew_log_probs\u001b[0m\u001b[0;34m,\u001b[0m \u001b[0mnew_blobs\u001b[0m \u001b[0;34m=\u001b[0m \u001b[0mmodel\u001b[0m\u001b[0;34m.\u001b[0m\u001b[0mcompute_log_prob_fn\u001b[0m\u001b[0;34m(\u001b[0m\u001b[0mq\u001b[0m\u001b[0;34m)\u001b[0m\u001b[0;34m\u001b[0m\u001b[0;34m\u001b[0m\u001b[0m\n\u001b[0m\u001b[1;32m     94\u001b[0m \u001b[0;34m\u001b[0m\u001b[0m\n\u001b[1;32m     95\u001b[0m             \u001b[0;31m# Loop over the walkers and update them accordingly.\u001b[0m\u001b[0;34m\u001b[0m\u001b[0;34m\u001b[0m\u001b[0;34m\u001b[0m\u001b[0m\n",
      "\u001b[0;32m~/elisa_jupyter_environ/venv/lib/python3.6/site-packages/emcee/ensemble.py\u001b[0m in \u001b[0;36mcompute_log_prob\u001b[0;34m(self, coords)\u001b[0m\n\u001b[1;32m    422\u001b[0m                 \u001b[0mmap_func\u001b[0m \u001b[0;34m=\u001b[0m \u001b[0mmap\u001b[0m\u001b[0;34m\u001b[0m\u001b[0;34m\u001b[0m\u001b[0m\n\u001b[1;32m    423\u001b[0m             results = list(\n\u001b[0;32m--> 424\u001b[0;31m                 \u001b[0mmap_func\u001b[0m\u001b[0;34m(\u001b[0m\u001b[0mself\u001b[0m\u001b[0;34m.\u001b[0m\u001b[0mlog_prob_fn\u001b[0m\u001b[0;34m,\u001b[0m \u001b[0;34m(\u001b[0m\u001b[0mp\u001b[0m\u001b[0;34m[\u001b[0m\u001b[0mi\u001b[0m\u001b[0;34m]\u001b[0m \u001b[0;32mfor\u001b[0m \u001b[0mi\u001b[0m \u001b[0;32min\u001b[0m \u001b[0mrange\u001b[0m\u001b[0;34m(\u001b[0m\u001b[0mlen\u001b[0m\u001b[0;34m(\u001b[0m\u001b[0mp\u001b[0m\u001b[0;34m)\u001b[0m\u001b[0;34m)\u001b[0m\u001b[0;34m)\u001b[0m\u001b[0;34m)\u001b[0m\u001b[0;34m\u001b[0m\u001b[0;34m\u001b[0m\u001b[0m\n\u001b[0m\u001b[1;32m    425\u001b[0m             )\n\u001b[1;32m    426\u001b[0m \u001b[0;34m\u001b[0m\u001b[0m\n",
      "\u001b[0;32m~/elisa_jupyter_environ/venv/lib/python3.6/site-packages/emcee/ensemble.py\u001b[0m in \u001b[0;36m__call__\u001b[0;34m(self, x)\u001b[0m\n\u001b[1;32m    540\u001b[0m     \u001b[0;32mdef\u001b[0m \u001b[0m__call__\u001b[0m\u001b[0;34m(\u001b[0m\u001b[0mself\u001b[0m\u001b[0;34m,\u001b[0m \u001b[0mx\u001b[0m\u001b[0;34m)\u001b[0m\u001b[0;34m:\u001b[0m\u001b[0;34m\u001b[0m\u001b[0;34m\u001b[0m\u001b[0m\n\u001b[1;32m    541\u001b[0m         \u001b[0;32mtry\u001b[0m\u001b[0;34m:\u001b[0m\u001b[0;34m\u001b[0m\u001b[0;34m\u001b[0m\u001b[0m\n\u001b[0;32m--> 542\u001b[0;31m             \u001b[0;32mreturn\u001b[0m \u001b[0mself\u001b[0m\u001b[0;34m.\u001b[0m\u001b[0mf\u001b[0m\u001b[0;34m(\u001b[0m\u001b[0mx\u001b[0m\u001b[0;34m,\u001b[0m \u001b[0;34m*\u001b[0m\u001b[0mself\u001b[0m\u001b[0;34m.\u001b[0m\u001b[0margs\u001b[0m\u001b[0;34m,\u001b[0m \u001b[0;34m**\u001b[0m\u001b[0mself\u001b[0m\u001b[0;34m.\u001b[0m\u001b[0mkwargs\u001b[0m\u001b[0;34m)\u001b[0m\u001b[0;34m\u001b[0m\u001b[0;34m\u001b[0m\u001b[0m\n\u001b[0m\u001b[1;32m    543\u001b[0m         \u001b[0;32mexcept\u001b[0m\u001b[0;34m:\u001b[0m  \u001b[0;31m# pragma: no cover\u001b[0m\u001b[0;34m\u001b[0m\u001b[0;34m\u001b[0m\u001b[0m\n\u001b[1;32m    544\u001b[0m             \u001b[0;32mimport\u001b[0m \u001b[0mtraceback\u001b[0m\u001b[0;34m\u001b[0m\u001b[0;34m\u001b[0m\u001b[0m\n",
      "\u001b[0;32m~/elisa_jupyter_environ/venv/lib/python3.6/site-packages/elisa/analytics/binary/mcmc.py\u001b[0m in \u001b[0;36mln_probability\u001b[0;34m(self, xn)\u001b[0m\n\u001b[1;32m    140\u001b[0m             \u001b[0;32mreturn\u001b[0m \u001b[0;34m-\u001b[0m\u001b[0mnp\u001b[0m\u001b[0;34m.\u001b[0m\u001b[0minf\u001b[0m\u001b[0;34m\u001b[0m\u001b[0;34m\u001b[0m\u001b[0m\n\u001b[1;32m    141\u001b[0m         \u001b[0;32mtry\u001b[0m\u001b[0;34m:\u001b[0m\u001b[0;34m\u001b[0m\u001b[0;34m\u001b[0m\u001b[0m\n\u001b[0;32m--> 142\u001b[0;31m             \u001b[0mlikelihood\u001b[0m \u001b[0;34m=\u001b[0m \u001b[0mself\u001b[0m\u001b[0;34m.\u001b[0m\u001b[0mlikelihood\u001b[0m\u001b[0;34m(\u001b[0m\u001b[0mxn\u001b[0m\u001b[0;34m)\u001b[0m\u001b[0;34m\u001b[0m\u001b[0;34m\u001b[0m\u001b[0m\n\u001b[0m\u001b[1;32m    143\u001b[0m         \u001b[0;32mexcept\u001b[0m \u001b[0;34m(\u001b[0m\u001b[0mElisaError\u001b[0m\u001b[0;34m,\u001b[0m \u001b[0mValueError\u001b[0m\u001b[0;34m)\u001b[0m \u001b[0;32mas\u001b[0m \u001b[0me\u001b[0m\u001b[0;34m:\u001b[0m\u001b[0;34m\u001b[0m\u001b[0;34m\u001b[0m\u001b[0m\n\u001b[1;32m    144\u001b[0m             \u001b[0mlogger\u001b[0m\u001b[0;34m.\u001b[0m\u001b[0mwarning\u001b[0m\u001b[0;34m(\u001b[0m\u001b[0;34mf'mcmc hit invalid parameters, exception: {str(e)}'\u001b[0m\u001b[0;34m)\u001b[0m\u001b[0;34m\u001b[0m\u001b[0;34m\u001b[0m\u001b[0m\n",
      "\u001b[0;32m~/elisa_jupyter_environ/venv/lib/python3.6/site-packages/elisa/analytics/binary/mcmc.py\u001b[0m in \u001b[0;36mlikelihood\u001b[0;34m(self, xn)\u001b[0m\n\u001b[1;32m    313\u001b[0m \u001b[0;34m\u001b[0m\u001b[0m\n\u001b[1;32m    314\u001b[0m         \u001b[0margs\u001b[0m \u001b[0;34m=\u001b[0m \u001b[0mself\u001b[0m\u001b[0;34m.\u001b[0m\u001b[0mxs\u001b[0m\u001b[0;34m,\u001b[0m \u001b[0mself\u001b[0m\u001b[0;34m.\u001b[0m\u001b[0mobserver\u001b[0m\u001b[0;34m\u001b[0m\u001b[0;34m\u001b[0m\u001b[0m\n\u001b[0;32m--> 315\u001b[0;31m         \u001b[0msynthetic\u001b[0m \u001b[0;34m=\u001b[0m \u001b[0mmodels\u001b[0m\u001b[0;34m.\u001b[0m\u001b[0mcentral_rv_synthetic\u001b[0m\u001b[0;34m(\u001b[0m\u001b[0;34m*\u001b[0m\u001b[0margs\u001b[0m\u001b[0;34m,\u001b[0m \u001b[0;34m**\u001b[0m\u001b[0mkwargs\u001b[0m\u001b[0;34m)\u001b[0m\u001b[0;34m\u001b[0m\u001b[0;34m\u001b[0m\u001b[0m\n\u001b[0m\u001b[1;32m    316\u001b[0m         \u001b[0;32mif\u001b[0m \u001b[0mself\u001b[0m\u001b[0;34m.\u001b[0m\u001b[0mon_normalized\u001b[0m\u001b[0;34m:\u001b[0m\u001b[0;34m\u001b[0m\u001b[0;34m\u001b[0m\u001b[0m\n\u001b[1;32m    317\u001b[0m             \u001b[0msynthetic\u001b[0m \u001b[0;34m=\u001b[0m \u001b[0mbutils\u001b[0m\u001b[0;34m.\u001b[0m\u001b[0mnormalize_rv_curve_to_max\u001b[0m\u001b[0;34m(\u001b[0m\u001b[0msynthetic\u001b[0m\u001b[0;34m)\u001b[0m\u001b[0;34m\u001b[0m\u001b[0;34m\u001b[0m\u001b[0m\n",
      "\u001b[0;32m~/elisa_jupyter_environ/venv/lib/python3.6/site-packages/elisa/analytics/binary/models.py\u001b[0m in \u001b[0;36mcentral_rv_synthetic\u001b[0;34m(xs, observer, **kwargs)\u001b[0m\n\u001b[1;32m    197\u001b[0m         \u001b[0;32melse\u001b[0m \u001b[0mRadialVelocitySystem\u001b[0m\u001b[0;34m(\u001b[0m\u001b[0;34m**\u001b[0m\u001b[0mRadialVelocitySystem\u001b[0m\u001b[0;34m.\u001b[0m\u001b[0mprepare_json\u001b[0m\u001b[0;34m(\u001b[0m\u001b[0mjson\u001b[0m\u001b[0;34m[\u001b[0m\u001b[0;34m\"system\"\u001b[0m\u001b[0;34m]\u001b[0m\u001b[0;34m)\u001b[0m\u001b[0;34m)\u001b[0m\u001b[0;34m\u001b[0m\u001b[0;34m\u001b[0m\u001b[0m\n\u001b[1;32m    198\u001b[0m     \u001b[0mobserver\u001b[0m\u001b[0;34m.\u001b[0m\u001b[0m_system\u001b[0m \u001b[0;34m=\u001b[0m \u001b[0mobservable\u001b[0m\u001b[0;34m\u001b[0m\u001b[0;34m\u001b[0m\u001b[0m\n\u001b[0;32m--> 199\u001b[0;31m     \u001b[0m_\u001b[0m\u001b[0;34m,\u001b[0m \u001b[0mrv\u001b[0m \u001b[0;34m=\u001b[0m \u001b[0mobserver\u001b[0m\u001b[0;34m.\u001b[0m\u001b[0mobserve\u001b[0m\u001b[0;34m.\u001b[0m\u001b[0mrv\u001b[0m\u001b[0;34m(\u001b[0m\u001b[0mphases\u001b[0m\u001b[0;34m=\u001b[0m\u001b[0mxs\u001b[0m\u001b[0;34m,\u001b[0m \u001b[0mnormalize\u001b[0m\u001b[0;34m=\u001b[0m\u001b[0;32mFalse\u001b[0m\u001b[0;34m)\u001b[0m\u001b[0;34m\u001b[0m\u001b[0;34m\u001b[0m\u001b[0m\n\u001b[0m\u001b[1;32m    200\u001b[0m     \u001b[0;32mreturn\u001b[0m \u001b[0mrv\u001b[0m\u001b[0;34m\u001b[0m\u001b[0;34m\u001b[0m\u001b[0m\n\u001b[1;32m    201\u001b[0m \u001b[0;34m\u001b[0m\u001b[0m\n",
      "\u001b[0;32m~/elisa_jupyter_environ/venv/lib/python3.6/site-packages/elisa/observer/observer.py\u001b[0m in \u001b[0;36mrv\u001b[0;34m(self, from_phase, to_phase, phase_step, phases, normalize)\u001b[0m\n\u001b[1;32m     35\u001b[0m \u001b[0;34m\u001b[0m\u001b[0m\n\u001b[1;32m     36\u001b[0m     \u001b[0;32mdef\u001b[0m \u001b[0mrv\u001b[0m\u001b[0;34m(\u001b[0m\u001b[0mself\u001b[0m\u001b[0;34m,\u001b[0m \u001b[0mfrom_phase\u001b[0m\u001b[0;34m=\u001b[0m\u001b[0;32mNone\u001b[0m\u001b[0;34m,\u001b[0m \u001b[0mto_phase\u001b[0m\u001b[0;34m=\u001b[0m\u001b[0;32mNone\u001b[0m\u001b[0;34m,\u001b[0m \u001b[0mphase_step\u001b[0m\u001b[0;34m=\u001b[0m\u001b[0;32mNone\u001b[0m\u001b[0;34m,\u001b[0m \u001b[0mphases\u001b[0m\u001b[0;34m=\u001b[0m\u001b[0;32mNone\u001b[0m\u001b[0;34m,\u001b[0m \u001b[0mnormalize\u001b[0m\u001b[0;34m=\u001b[0m\u001b[0;32mFalse\u001b[0m\u001b[0;34m)\u001b[0m\u001b[0;34m:\u001b[0m\u001b[0;34m\u001b[0m\u001b[0;34m\u001b[0m\u001b[0m\n\u001b[0;32m---> 37\u001b[0;31m         \u001b[0;32mreturn\u001b[0m \u001b[0mself\u001b[0m\u001b[0;34m.\u001b[0m\u001b[0mobserver\u001b[0m\u001b[0;34m.\u001b[0m\u001b[0mrv\u001b[0m\u001b[0;34m(\u001b[0m\u001b[0mfrom_phase\u001b[0m\u001b[0;34m,\u001b[0m \u001b[0mto_phase\u001b[0m\u001b[0;34m,\u001b[0m \u001b[0mphase_step\u001b[0m\u001b[0;34m,\u001b[0m \u001b[0mphases\u001b[0m\u001b[0;34m,\u001b[0m \u001b[0mnormalize\u001b[0m\u001b[0;34m)\u001b[0m\u001b[0;34m\u001b[0m\u001b[0;34m\u001b[0m\u001b[0m\n\u001b[0m\u001b[1;32m     38\u001b[0m \u001b[0;34m\u001b[0m\u001b[0m\n\u001b[1;32m     39\u001b[0m \u001b[0;34m\u001b[0m\u001b[0m\n",
      "\u001b[0;32m~/elisa_jupyter_environ/venv/lib/python3.6/site-packages/elisa/observer/observer.py\u001b[0m in \u001b[0;36mrv\u001b[0;34m(self, from_phase, to_phase, phase_step, phases, normalize)\u001b[0m\n\u001b[1;32m    215\u001b[0m             **dict(\n\u001b[1;32m    216\u001b[0m                 \u001b[0mphases\u001b[0m\u001b[0;34m=\u001b[0m\u001b[0mphases\u001b[0m\u001b[0;34m,\u001b[0m\u001b[0;34m\u001b[0m\u001b[0;34m\u001b[0m\u001b[0m\n\u001b[0;32m--> 217\u001b[0;31m                 \u001b[0mposition_method\u001b[0m\u001b[0;34m=\u001b[0m\u001b[0mself\u001b[0m\u001b[0;34m.\u001b[0m\u001b[0m_system\u001b[0m\u001b[0;34m.\u001b[0m\u001b[0mget_positions_method\u001b[0m\u001b[0;34m(\u001b[0m\u001b[0;34m)\u001b[0m\u001b[0;34m\u001b[0m\u001b[0;34m\u001b[0m\u001b[0m\n\u001b[0m\u001b[1;32m    218\u001b[0m             )\n\u001b[1;32m    219\u001b[0m         )\n",
      "\u001b[0;32m~/elisa_jupyter_environ/venv/lib/python3.6/site-packages/elisa/binary_system/curves/community.py\u001b[0m in \u001b[0;36mcompute_rv\u001b[0;34m(self, **kwargs)\u001b[0m\n\u001b[1;32m    144\u001b[0m \u001b[0;34m\u001b[0m\u001b[0m\n\u001b[1;32m    145\u001b[0m     \u001b[0;32mdef\u001b[0m \u001b[0mcompute_rv\u001b[0m\u001b[0;34m(\u001b[0m\u001b[0mself\u001b[0m\u001b[0;34m,\u001b[0m \u001b[0;34m**\u001b[0m\u001b[0mkwargs\u001b[0m\u001b[0;34m)\u001b[0m\u001b[0;34m:\u001b[0m\u001b[0;34m\u001b[0m\u001b[0;34m\u001b[0m\u001b[0m\n\u001b[0;32m--> 146\u001b[0;31m         \u001b[0;32mreturn\u001b[0m \u001b[0mself\u001b[0m\u001b[0;34m.\u001b[0m\u001b[0mradial_velocity\u001b[0m\u001b[0;34m(\u001b[0m\u001b[0;34m**\u001b[0m\u001b[0mkwargs\u001b[0m\u001b[0;34m)\u001b[0m\u001b[0;34m\u001b[0m\u001b[0;34m\u001b[0m\u001b[0m\n\u001b[0m\u001b[1;32m    147\u001b[0m \u001b[0;34m\u001b[0m\u001b[0m\n\u001b[1;32m    148\u001b[0m     \u001b[0;34m@\u001b[0m\u001b[0mstaticmethod\u001b[0m\u001b[0;34m\u001b[0m\u001b[0;34m\u001b[0m\u001b[0m\n",
      "\u001b[0;32m~/elisa_jupyter_environ/venv/lib/python3.6/site-packages/elisa/binary_system/curves/community.py\u001b[0m in \u001b[0;36mradial_velocity\u001b[0;34m(self, **kwargs)\u001b[0m\n\u001b[1;32m     95\u001b[0m         \u001b[0mphases\u001b[0m \u001b[0;34m=\u001b[0m \u001b[0mkwargs\u001b[0m\u001b[0;34m.\u001b[0m\u001b[0mpop\u001b[0m\u001b[0;34m(\u001b[0m\u001b[0;34m\"phases\"\u001b[0m\u001b[0;34m)\u001b[0m\u001b[0;34m\u001b[0m\u001b[0;34m\u001b[0m\u001b[0m\n\u001b[1;32m     96\u001b[0m         \u001b[0mposition_method\u001b[0m \u001b[0;34m=\u001b[0m \u001b[0mkwargs\u001b[0m\u001b[0;34m.\u001b[0m\u001b[0mpop\u001b[0m\u001b[0;34m(\u001b[0m\u001b[0;34m\"position_method\"\u001b[0m\u001b[0;34m)\u001b[0m\u001b[0;34m\u001b[0m\u001b[0;34m\u001b[0m\u001b[0m\n\u001b[0;32m---> 97\u001b[0;31m         \u001b[0morbital_motion\u001b[0m \u001b[0;34m=\u001b[0m \u001b[0mposition_method\u001b[0m\u001b[0;34m(\u001b[0m\u001b[0mphase\u001b[0m\u001b[0;34m=\u001b[0m\u001b[0mphases\u001b[0m\u001b[0;34m)\u001b[0m\u001b[0;34m\u001b[0m\u001b[0;34m\u001b[0m\u001b[0m\n\u001b[0m\u001b[1;32m     98\u001b[0m         \u001b[0mr1\u001b[0m\u001b[0;34m,\u001b[0m \u001b[0mr2\u001b[0m \u001b[0;34m=\u001b[0m \u001b[0mself\u001b[0m\u001b[0;34m.\u001b[0m\u001b[0mdistance_to_center_of_mass\u001b[0m\u001b[0;34m(\u001b[0m\u001b[0mself\u001b[0m\u001b[0;34m.\u001b[0m\u001b[0mmass_ratio\u001b[0m\u001b[0;34m,\u001b[0m \u001b[0morbital_motion\u001b[0m\u001b[0;34m)\u001b[0m\u001b[0;34m\u001b[0m\u001b[0;34m\u001b[0m\u001b[0m\n\u001b[1;32m     99\u001b[0m \u001b[0;34m\u001b[0m\u001b[0m\n",
      "\u001b[0;32m~/elisa_jupyter_environ/venv/lib/python3.6/site-packages/elisa/binary_system/orbit/orbit.py\u001b[0m in \u001b[0;36morbital_motion\u001b[0;34m(self, phase)\u001b[0m\n\u001b[1;32m    251\u001b[0m         \u001b[0mmean_anomaly\u001b[0m \u001b[0;34m=\u001b[0m \u001b[0mself\u001b[0m\u001b[0;34m.\u001b[0m\u001b[0mphase_to_mean_anomaly\u001b[0m\u001b[0;34m(\u001b[0m\u001b[0mphase\u001b[0m\u001b[0;34m=\u001b[0m\u001b[0mtrue_phase\u001b[0m\u001b[0;34m)\u001b[0m\u001b[0;34m\u001b[0m\u001b[0;34m\u001b[0m\u001b[0m\n\u001b[1;32m    252\u001b[0m         eccentric_anomaly = np.array([self.mean_anomaly_to_eccentric_anomaly(mean_anomaly=xx)\n\u001b[0;32m--> 253\u001b[0;31m                                       for xx in mean_anomaly])\n\u001b[0m\u001b[1;32m    254\u001b[0m         \u001b[0mtrue_anomaly\u001b[0m \u001b[0;34m=\u001b[0m \u001b[0mself\u001b[0m\u001b[0;34m.\u001b[0m\u001b[0meccentric_anomaly_to_true_anomaly\u001b[0m\u001b[0;34m(\u001b[0m\u001b[0meccentric_anomaly\u001b[0m\u001b[0;34m=\u001b[0m\u001b[0meccentric_anomaly\u001b[0m\u001b[0;34m)\u001b[0m\u001b[0;34m\u001b[0m\u001b[0;34m\u001b[0m\u001b[0m\n\u001b[1;32m    255\u001b[0m         \u001b[0mdistance\u001b[0m \u001b[0;34m=\u001b[0m \u001b[0mself\u001b[0m\u001b[0;34m.\u001b[0m\u001b[0mrelative_radius\u001b[0m\u001b[0;34m(\u001b[0m\u001b[0mtrue_anomaly\u001b[0m\u001b[0;34m=\u001b[0m\u001b[0mtrue_anomaly\u001b[0m\u001b[0;34m)\u001b[0m\u001b[0;34m\u001b[0m\u001b[0;34m\u001b[0m\u001b[0m\n",
      "\u001b[0;32m~/elisa_jupyter_environ/venv/lib/python3.6/site-packages/elisa/binary_system/orbit/orbit.py\u001b[0m in \u001b[0;36m<listcomp>\u001b[0;34m(.0)\u001b[0m\n\u001b[1;32m    251\u001b[0m         \u001b[0mmean_anomaly\u001b[0m \u001b[0;34m=\u001b[0m \u001b[0mself\u001b[0m\u001b[0;34m.\u001b[0m\u001b[0mphase_to_mean_anomaly\u001b[0m\u001b[0;34m(\u001b[0m\u001b[0mphase\u001b[0m\u001b[0;34m=\u001b[0m\u001b[0mtrue_phase\u001b[0m\u001b[0;34m)\u001b[0m\u001b[0;34m\u001b[0m\u001b[0;34m\u001b[0m\u001b[0m\n\u001b[1;32m    252\u001b[0m         eccentric_anomaly = np.array([self.mean_anomaly_to_eccentric_anomaly(mean_anomaly=xx)\n\u001b[0;32m--> 253\u001b[0;31m                                       for xx in mean_anomaly])\n\u001b[0m\u001b[1;32m    254\u001b[0m         \u001b[0mtrue_anomaly\u001b[0m \u001b[0;34m=\u001b[0m \u001b[0mself\u001b[0m\u001b[0;34m.\u001b[0m\u001b[0meccentric_anomaly_to_true_anomaly\u001b[0m\u001b[0;34m(\u001b[0m\u001b[0meccentric_anomaly\u001b[0m\u001b[0;34m=\u001b[0m\u001b[0meccentric_anomaly\u001b[0m\u001b[0;34m)\u001b[0m\u001b[0;34m\u001b[0m\u001b[0;34m\u001b[0m\u001b[0m\n\u001b[1;32m    255\u001b[0m         \u001b[0mdistance\u001b[0m \u001b[0;34m=\u001b[0m \u001b[0mself\u001b[0m\u001b[0;34m.\u001b[0m\u001b[0mrelative_radius\u001b[0m\u001b[0;34m(\u001b[0m\u001b[0mtrue_anomaly\u001b[0m\u001b[0;34m=\u001b[0m\u001b[0mtrue_anomaly\u001b[0m\u001b[0;34m)\u001b[0m\u001b[0;34m\u001b[0m\u001b[0;34m\u001b[0m\u001b[0m\n",
      "\u001b[0;32m~/elisa_jupyter_environ/venv/lib/python3.6/site-packages/elisa/binary_system/orbit/orbit.py\u001b[0m in \u001b[0;36mmean_anomaly_to_eccentric_anomaly\u001b[0;34m(self, mean_anomaly)\u001b[0m\n\u001b[1;32m    147\u001b[0m         \u001b[0;32mimport\u001b[0m \u001b[0mscipy\u001b[0m\u001b[0;34m.\u001b[0m\u001b[0moptimize\u001b[0m\u001b[0;34m\u001b[0m\u001b[0;34m\u001b[0m\u001b[0m\n\u001b[1;32m    148\u001b[0m         \u001b[0;32mtry\u001b[0m\u001b[0;34m:\u001b[0m\u001b[0;34m\u001b[0m\u001b[0;34m\u001b[0m\u001b[0m\n\u001b[0;32m--> 149\u001b[0;31m             \u001b[0msolution\u001b[0m \u001b[0;34m=\u001b[0m \u001b[0mscipy\u001b[0m\u001b[0;34m.\u001b[0m\u001b[0moptimize\u001b[0m\u001b[0;34m.\u001b[0m\u001b[0mnewton\u001b[0m\u001b[0;34m(\u001b[0m\u001b[0mself\u001b[0m\u001b[0;34m.\u001b[0m\u001b[0mmean_anomaly_fn\u001b[0m\u001b[0;34m,\u001b[0m \u001b[0;36m1.0\u001b[0m\u001b[0;34m,\u001b[0m \u001b[0margs\u001b[0m\u001b[0;34m=\u001b[0m\u001b[0;34m(\u001b[0m\u001b[0mmean_anomaly\u001b[0m\u001b[0;34m,\u001b[0m \u001b[0;34m)\u001b[0m\u001b[0;34m,\u001b[0m \u001b[0mtol\u001b[0m\u001b[0;34m=\u001b[0m\u001b[0;36m1e-10\u001b[0m\u001b[0;34m)\u001b[0m\u001b[0;34m\u001b[0m\u001b[0;34m\u001b[0m\u001b[0m\n\u001b[0m\u001b[1;32m    150\u001b[0m             \u001b[0;32mif\u001b[0m \u001b[0;32mnot\u001b[0m \u001b[0mup\u001b[0m\u001b[0;34m.\u001b[0m\u001b[0misnan\u001b[0m\u001b[0;34m(\u001b[0m\u001b[0msolution\u001b[0m\u001b[0;34m)\u001b[0m\u001b[0;34m:\u001b[0m\u001b[0;34m\u001b[0m\u001b[0;34m\u001b[0m\u001b[0m\n\u001b[1;32m    151\u001b[0m                 \u001b[0;32mif\u001b[0m \u001b[0msolution\u001b[0m \u001b[0;34m<\u001b[0m \u001b[0;36m0\u001b[0m\u001b[0;34m:\u001b[0m\u001b[0;34m\u001b[0m\u001b[0;34m\u001b[0m\u001b[0m\n",
      "\u001b[0;32m~/elisa_jupyter_environ/venv/lib/python3.6/site-packages/scipy/optimize/zeros.py\u001b[0m in \u001b[0;36mnewton\u001b[0;34m(func, x0, fprime, args, tol, maxiter, fprime2, x1, rtol, full_output, disp)\u001b[0m\n\u001b[1;32m    350\u001b[0m                 \u001b[0;32melse\u001b[0m\u001b[0;34m:\u001b[0m\u001b[0;34m\u001b[0m\u001b[0;34m\u001b[0m\u001b[0m\n\u001b[1;32m    351\u001b[0m                     \u001b[0mp\u001b[0m \u001b[0;34m=\u001b[0m \u001b[0;34m(\u001b[0m\u001b[0;34m-\u001b[0m\u001b[0mq1\u001b[0m \u001b[0;34m/\u001b[0m \u001b[0mq0\u001b[0m \u001b[0;34m*\u001b[0m \u001b[0mp0\u001b[0m \u001b[0;34m+\u001b[0m \u001b[0mp1\u001b[0m\u001b[0;34m)\u001b[0m \u001b[0;34m/\u001b[0m \u001b[0;34m(\u001b[0m\u001b[0;36m1\u001b[0m \u001b[0;34m-\u001b[0m \u001b[0mq1\u001b[0m \u001b[0;34m/\u001b[0m \u001b[0mq0\u001b[0m\u001b[0;34m)\u001b[0m\u001b[0;34m\u001b[0m\u001b[0;34m\u001b[0m\u001b[0m\n\u001b[0;32m--> 352\u001b[0;31m             \u001b[0;32mif\u001b[0m \u001b[0mnp\u001b[0m\u001b[0;34m.\u001b[0m\u001b[0misclose\u001b[0m\u001b[0;34m(\u001b[0m\u001b[0mp\u001b[0m\u001b[0;34m,\u001b[0m \u001b[0mp1\u001b[0m\u001b[0;34m,\u001b[0m \u001b[0mrtol\u001b[0m\u001b[0;34m=\u001b[0m\u001b[0mrtol\u001b[0m\u001b[0;34m,\u001b[0m \u001b[0matol\u001b[0m\u001b[0;34m=\u001b[0m\u001b[0mtol\u001b[0m\u001b[0;34m)\u001b[0m\u001b[0;34m:\u001b[0m\u001b[0;34m\u001b[0m\u001b[0;34m\u001b[0m\u001b[0m\n\u001b[0m\u001b[1;32m    353\u001b[0m                 return _results_select(\n\u001b[1;32m    354\u001b[0m                     full_output, (p, funcalls, itr + 1, _ECONVERGED))\n",
      "\u001b[0;32m<__array_function__ internals>\u001b[0m in \u001b[0;36misclose\u001b[0;34m(*args, **kwargs)\u001b[0m\n",
      "\u001b[0;32m~/elisa_jupyter_environ/venv/lib/python3.6/site-packages/numpy/core/numeric.py\u001b[0m in \u001b[0;36misclose\u001b[0;34m(a, b, rtol, atol, equal_nan)\u001b[0m\n\u001b[1;32m   2258\u001b[0m     \u001b[0myfin\u001b[0m \u001b[0;34m=\u001b[0m \u001b[0misfinite\u001b[0m\u001b[0;34m(\u001b[0m\u001b[0my\u001b[0m\u001b[0;34m)\u001b[0m\u001b[0;34m\u001b[0m\u001b[0;34m\u001b[0m\u001b[0m\n\u001b[1;32m   2259\u001b[0m     \u001b[0;32mif\u001b[0m \u001b[0mall\u001b[0m\u001b[0;34m(\u001b[0m\u001b[0mxfin\u001b[0m\u001b[0;34m)\u001b[0m \u001b[0;32mand\u001b[0m \u001b[0mall\u001b[0m\u001b[0;34m(\u001b[0m\u001b[0myfin\u001b[0m\u001b[0;34m)\u001b[0m\u001b[0;34m:\u001b[0m\u001b[0;34m\u001b[0m\u001b[0;34m\u001b[0m\u001b[0m\n\u001b[0;32m-> 2260\u001b[0;31m         \u001b[0;32mreturn\u001b[0m \u001b[0mwithin_tol\u001b[0m\u001b[0;34m(\u001b[0m\u001b[0mx\u001b[0m\u001b[0;34m,\u001b[0m \u001b[0my\u001b[0m\u001b[0;34m,\u001b[0m \u001b[0matol\u001b[0m\u001b[0;34m,\u001b[0m \u001b[0mrtol\u001b[0m\u001b[0;34m)\u001b[0m\u001b[0;34m\u001b[0m\u001b[0;34m\u001b[0m\u001b[0m\n\u001b[0m\u001b[1;32m   2261\u001b[0m     \u001b[0;32melse\u001b[0m\u001b[0;34m:\u001b[0m\u001b[0;34m\u001b[0m\u001b[0;34m\u001b[0m\u001b[0m\n\u001b[1;32m   2262\u001b[0m         \u001b[0mfinite\u001b[0m \u001b[0;34m=\u001b[0m \u001b[0mxfin\u001b[0m \u001b[0;34m&\u001b[0m \u001b[0myfin\u001b[0m\u001b[0;34m\u001b[0m\u001b[0;34m\u001b[0m\u001b[0m\n",
      "\u001b[0;32m~/elisa_jupyter_environ/venv/lib/python3.6/site-packages/numpy/core/numeric.py\u001b[0m in \u001b[0;36mwithin_tol\u001b[0;34m(x, y, atol, rtol)\u001b[0m\n\u001b[1;32m   2244\u001b[0m     \u001b[0;32mdef\u001b[0m \u001b[0mwithin_tol\u001b[0m\u001b[0;34m(\u001b[0m\u001b[0mx\u001b[0m\u001b[0;34m,\u001b[0m \u001b[0my\u001b[0m\u001b[0;34m,\u001b[0m \u001b[0matol\u001b[0m\u001b[0;34m,\u001b[0m \u001b[0mrtol\u001b[0m\u001b[0;34m)\u001b[0m\u001b[0;34m:\u001b[0m\u001b[0;34m\u001b[0m\u001b[0;34m\u001b[0m\u001b[0m\n\u001b[1;32m   2245\u001b[0m         \u001b[0;32mwith\u001b[0m \u001b[0merrstate\u001b[0m\u001b[0;34m(\u001b[0m\u001b[0minvalid\u001b[0m\u001b[0;34m=\u001b[0m\u001b[0;34m'ignore'\u001b[0m\u001b[0;34m)\u001b[0m\u001b[0;34m:\u001b[0m\u001b[0;34m\u001b[0m\u001b[0;34m\u001b[0m\u001b[0m\n\u001b[0;32m-> 2246\u001b[0;31m             \u001b[0;32mreturn\u001b[0m \u001b[0mless_equal\u001b[0m\u001b[0;34m(\u001b[0m\u001b[0mabs\u001b[0m\u001b[0;34m(\u001b[0m\u001b[0mx\u001b[0m\u001b[0;34m-\u001b[0m\u001b[0my\u001b[0m\u001b[0;34m)\u001b[0m\u001b[0;34m,\u001b[0m \u001b[0matol\u001b[0m \u001b[0;34m+\u001b[0m \u001b[0mrtol\u001b[0m \u001b[0;34m*\u001b[0m \u001b[0mabs\u001b[0m\u001b[0;34m(\u001b[0m\u001b[0my\u001b[0m\u001b[0;34m)\u001b[0m\u001b[0;34m)\u001b[0m\u001b[0;34m\u001b[0m\u001b[0;34m\u001b[0m\u001b[0m\n\u001b[0m\u001b[1;32m   2247\u001b[0m \u001b[0;34m\u001b[0m\u001b[0m\n\u001b[1;32m   2248\u001b[0m     \u001b[0mx\u001b[0m \u001b[0;34m=\u001b[0m \u001b[0masanyarray\u001b[0m\u001b[0;34m(\u001b[0m\u001b[0ma\u001b[0m\u001b[0;34m)\u001b[0m\u001b[0;34m\u001b[0m\u001b[0;34m\u001b[0m\u001b[0m\n",
      "\u001b[0;32m~/elisa_jupyter_environ/venv/lib/python3.6/site-packages/numpy/core/_ufunc_config.py\u001b[0m in \u001b[0;36m__exit__\u001b[0;34m(self, *exc_info)\u001b[0m\n\u001b[1;32m    445\u001b[0m \u001b[0;34m\u001b[0m\u001b[0m\n\u001b[1;32m    446\u001b[0m     \u001b[0;32mdef\u001b[0m \u001b[0m__exit__\u001b[0m\u001b[0;34m(\u001b[0m\u001b[0mself\u001b[0m\u001b[0;34m,\u001b[0m \u001b[0;34m*\u001b[0m\u001b[0mexc_info\u001b[0m\u001b[0;34m)\u001b[0m\u001b[0;34m:\u001b[0m\u001b[0;34m\u001b[0m\u001b[0;34m\u001b[0m\u001b[0m\n\u001b[0;32m--> 447\u001b[0;31m         \u001b[0mseterr\u001b[0m\u001b[0;34m(\u001b[0m\u001b[0;34m**\u001b[0m\u001b[0mself\u001b[0m\u001b[0;34m.\u001b[0m\u001b[0moldstate\u001b[0m\u001b[0;34m)\u001b[0m\u001b[0;34m\u001b[0m\u001b[0;34m\u001b[0m\u001b[0m\n\u001b[0m\u001b[1;32m    448\u001b[0m         \u001b[0;32mif\u001b[0m \u001b[0mself\u001b[0m\u001b[0;34m.\u001b[0m\u001b[0mcall\u001b[0m \u001b[0;32mis\u001b[0m \u001b[0;32mnot\u001b[0m \u001b[0m_Unspecified\u001b[0m\u001b[0;34m:\u001b[0m\u001b[0;34m\u001b[0m\u001b[0;34m\u001b[0m\u001b[0m\n\u001b[1;32m    449\u001b[0m             \u001b[0mseterrcall\u001b[0m\u001b[0;34m(\u001b[0m\u001b[0mself\u001b[0m\u001b[0;34m.\u001b[0m\u001b[0moldcall\u001b[0m\u001b[0;34m)\u001b[0m\u001b[0;34m\u001b[0m\u001b[0;34m\u001b[0m\u001b[0m\n",
      "\u001b[0;32m~/elisa_jupyter_environ/venv/lib/python3.6/site-packages/numpy/core/_ufunc_config.py\u001b[0m in \u001b[0;36mseterr\u001b[0;34m(all, divide, over, under, invalid)\u001b[0m\n\u001b[1;32m     37\u001b[0m \u001b[0;34m\u001b[0m\u001b[0m\n\u001b[1;32m     38\u001b[0m \u001b[0;34m\u001b[0m\u001b[0m\n\u001b[0;32m---> 39\u001b[0;31m \u001b[0;34m@\u001b[0m\u001b[0mset_module\u001b[0m\u001b[0;34m(\u001b[0m\u001b[0;34m'numpy'\u001b[0m\u001b[0;34m)\u001b[0m\u001b[0;34m\u001b[0m\u001b[0;34m\u001b[0m\u001b[0m\n\u001b[0m\u001b[1;32m     40\u001b[0m \u001b[0;32mdef\u001b[0m \u001b[0mseterr\u001b[0m\u001b[0;34m(\u001b[0m\u001b[0mall\u001b[0m\u001b[0;34m=\u001b[0m\u001b[0;32mNone\u001b[0m\u001b[0;34m,\u001b[0m \u001b[0mdivide\u001b[0m\u001b[0;34m=\u001b[0m\u001b[0;32mNone\u001b[0m\u001b[0;34m,\u001b[0m \u001b[0mover\u001b[0m\u001b[0;34m=\u001b[0m\u001b[0;32mNone\u001b[0m\u001b[0;34m,\u001b[0m \u001b[0munder\u001b[0m\u001b[0;34m=\u001b[0m\u001b[0;32mNone\u001b[0m\u001b[0;34m,\u001b[0m \u001b[0minvalid\u001b[0m\u001b[0;34m=\u001b[0m\u001b[0;32mNone\u001b[0m\u001b[0;34m)\u001b[0m\u001b[0;34m:\u001b[0m\u001b[0;34m\u001b[0m\u001b[0;34m\u001b[0m\u001b[0m\n\u001b[1;32m     41\u001b[0m     \"\"\"\n",
      "\u001b[0;31mKeyboardInterrupt\u001b[0m: "
     ]
    }
   ],
   "source": [
    "fit_params_mcmc = task.rv_fit.fit(x0=rv_initial, method='mcmc', nsteps=1000, progress=True)"
   ]
  },
  {
   "cell_type": "code",
   "execution_count": null,
   "metadata": {},
   "outputs": [],
   "source": []
  }
 ],
 "metadata": {
  "kernelspec": {
   "display_name": "Python 3",
   "language": "python",
   "name": "python3"
  },
  "language_info": {
   "codemirror_mode": {
    "name": "ipython",
    "version": 3
   },
   "file_extension": ".py",
   "mimetype": "text/x-python",
   "name": "python",
   "nbconvert_exporter": "python",
   "pygments_lexer": "ipython3",
   "version": "3.6.10"
  }
 },
 "nbformat": 4,
 "nbformat_minor": 4
}
