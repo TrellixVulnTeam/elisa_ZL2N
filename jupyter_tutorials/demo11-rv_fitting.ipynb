{
 "cells": [
  {
   "cell_type": "markdown",
   "metadata": {},
   "source": [
    "# Demo No. 11 - Radial velocities fitting."
   ]
  },
  {
   "cell_type": "markdown",
   "metadata": {},
   "source": [
    "Following 2 demos will illustrate, how to proceed in case of the binary system with available radial velocities and photometric data. In this demo, we will focus on radial velocity data fitting using couple of methods.\n"
   ]
  },
  {
   "cell_type": "code",
   "execution_count": 16,
   "metadata": {},
   "outputs": [],
   "source": [
    "import numpy as np\n",
    "import astropy.units as u\n",
    "\n",
    "from elisa.conf import config\n",
    "from elisa.analytics import RVData\n",
    "from elisa.analytics import BinarySystemAnalyticsTask\n",
    "\n",
    "\n",
    "# setting up a custom logging config to prevent unreasonably long log messages during fit\n",
    "config.LOG_CONFIG ='jupyter_logging.json'\n",
    "config.set_up_logging()  "
   ]
  },
  {
   "cell_type": "markdown",
   "metadata": {},
   "source": [
    "As a start, we will create datasets containing our observations:"
   ]
  },
  {
   "cell_type": "code",
   "execution_count": 17,
   "metadata": {},
   "outputs": [],
   "source": [
    "rv_primary = RVData.load_from_file(filename='demo_data/rv_data/rv1.dat', \n",
    "                                   x_unit=u.d, y_unit=u.km/u.s)\n",
    "\n",
    "rv_secondary = RVData.load_from_file(filename='demo_data/rv_data/rv2.dat', \n",
    "                                     x_unit=u.d, y_unit=u.km/u.s)"
   ]
  },
  {
   "cell_type": "markdown",
   "metadata": {},
   "source": [
    "As a next step, we will create an `BinarySystemAnalyticsTask`:"
   ]
  },
  {
   "cell_type": "code",
   "execution_count": 18,
   "metadata": {},
   "outputs": [],
   "source": [
    "task = BinarySystemAnalyticsTask(radial_velocities={'primary': rv_primary, 'secondary': rv_secondary})"
   ]
  },
  {
   "cell_type": "markdown",
   "metadata": {},
   "source": [
    "This `task` instance now contains `rv_fit` attribute in which our radial velocity fitting methods can be accessed. \n",
    "\n",
    "Now we have to define a dictionary containing starting values of a fit. The list of necessary fit parameters depends on which fit approach is used. In `standard` approach, component masses are fitted. On the other side, `community` approach enables to fit the model using mass ratio and parameter a sin(i) which is much more suitable for radial velocity curve fit. List of necessary fit parameters for each approach can be accessed here:"
   ]
  },
  {
   "cell_type": "code",
   "execution_count": 19,
   "metadata": {},
   "outputs": [
    {
     "data": {
      "text/plain": [
       "{'standard': ['p__mass',\n",
       "  's__mass',\n",
       "  'inclination',\n",
       "  'eccentricity',\n",
       "  'argument_of_periastron',\n",
       "  'gamma',\n",
       "  'period',\n",
       "  'primary_minimum_time'],\n",
       " 'community': ['mass_ratio',\n",
       "  'asini',\n",
       "  'eccentricity',\n",
       "  'argument_of_periastron',\n",
       "  'gamma',\n",
       "  'period',\n",
       "  'primary_minimum_time']}"
      ]
     },
     "execution_count": 19,
     "metadata": {},
     "output_type": "execute_result"
    }
   ],
   "source": [
    "task.rv_fit.FIT_PARAMS_COMBINATIONS"
   ]
  },
  {
   "cell_type": "markdown",
   "metadata": {},
   "source": [
    "In case of radial velocities fitting, it is much more suitable to use `community` approach which will in general remove degeneracies in a fittimg model. \n",
    "\n",
    "Lets finally define our starting parameters. Starting parameters are listed in form of dictionary that contain name of the variable as a key and values contains dictionary characterizing starting value of the parameter, status of the parameter (`fixed`: True/False), the boundaries of the fitted parameter defined by `min`, `max` values and the unit in astropy format."
   ]
  },
  {
   "cell_type": "code",
   "execution_count": 20,
   "metadata": {},
   "outputs": [],
   "source": [
    "rv_initial = {\n",
    "    'eccentricity': {\n",
    "        'value': 0.03,\n",
    "        'fixed': False,\n",
    "        'min': 0.0,\n",
    "        'max': 0.05\n",
    "    },\n",
    "    'asini': {\n",
    "        'value': 12,\n",
    "        'fixed': False,\n",
    "        'min': 7.0,\n",
    "        'max': 15,\n",
    "        'unit': u.solRad\n",
    "    },\n",
    "    'mass_ratio': {\n",
    "        'value': 1.0,\n",
    "        'fixed': False,\n",
    "        'min': 0.9,\n",
    "        'max': 1.2\n",
    "    },\n",
    "    'argument_of_periastron': {\n",
    "        'value': 180,\n",
    "        'fixed': False,\n",
    "        'min': 0,\n",
    "        'max': 360,\n",
    "        'unit': u.deg\n",
    "    },\n",
    "    'gamma': {\n",
    "        'value': -25.0,\n",
    "        'fixed': False,\n",
    "        'min': -10.0,\n",
    "        'max': -30.0,\n",
    "        'unit': u.km/u.s\n",
    "    },\n",
    "    'period': {\n",
    "        'value': 2.47028376,\n",
    "        'fixed': True,\n",
    "    },\n",
    "    'primary_minimum_time': {\n",
    "        'value': 54953.8691,\n",
    "        'fixed': False,\n",
    "        'min': 54953.800,\n",
    "        'max': 54954.000,\n",
    "        'unit': u.d\n",
    "    }\n",
    "}"
   ]
  },
  {
   "cell_type": "markdown",
   "metadata": {},
   "source": [
    "At this point, we can perform actual fit. In current version of Elisa, two fitting methods are available, least-squares and Markov chain Monte Carlo. Lets start with the first one:"
   ]
  },
  {
   "cell_type": "code",
   "execution_count": 21,
   "metadata": {},
   "outputs": [],
   "source": [
    "fit_params = task.rv_fit.fit(x0=rv_initial, method='least_squares')"
   ]
  },
  {
   "cell_type": "code",
   "execution_count": null,
   "metadata": {},
   "outputs": [],
   "source": []
  }
 ],
 "metadata": {
  "kernelspec": {
   "display_name": "Python 3",
   "language": "python",
   "name": "python3"
  },
  "language_info": {
   "codemirror_mode": {
    "name": "ipython",
    "version": 3
   },
   "file_extension": ".py",
   "mimetype": "text/x-python",
   "name": "python",
   "nbconvert_exporter": "python",
   "pygments_lexer": "ipython3",
   "version": "3.6.10"
  }
 },
 "nbformat": 4,
 "nbformat_minor": 4
}
