{
 "cells": [
  {
   "cell_type": "markdown",
   "metadata": {
    "collapsed": true
   },
   "source": [
    "# Demo No. 1: Hello binary!\n"
   ]
  },
  {
   "cell_type": "markdown",
   "metadata": {},
   "source": [
    "This set of tutorials will guide you trough basic structure of this package. This particular demo will show you how to build your binary system and access its basic parameters."
   ]
  },
  {
   "cell_type": "markdown",
   "metadata": {},
   "source": [
    "## Import correct modules"
   ]
  },
  {
   "cell_type": "markdown",
   "metadata": {},
   "source": [
    "In case of objects modelled in our first binary system, they are divided into two groups:\n",
    "* system - binary system,\n",
    "* compoents (bodies) - stars.\n",
    "\n",
    "Each of those object types have to be imported separetelly by following imports:   "
   ]
  },
  {
   "cell_type": "code",
   "execution_count": 1,
   "metadata": {},
   "outputs": [],
   "source": [
    "from elisa.binary_system.system import BinarySystem\n",
    "from elisa.base.star import Star"
   ]
  },
  {
   "cell_type": "markdown",
   "metadata": {},
   "source": [
    "## Setting up the components"
   ]
  },
  {
   "cell_type": "markdown",
   "metadata": {},
   "source": [
    "To avoid confusion we will use astropy.units module to specify units for each parameter if possible.  "
   ]
  },
  {
   "cell_type": "code",
   "execution_count": 2,
   "metadata": {},
   "outputs": [],
   "source": [
    "from astropy import units as u\n",
    "from elisa import units"
   ]
  },
  {
   "cell_type": "markdown",
   "metadata": {},
   "source": [
    "`units` module in elisa package stores deafult units that ELISa uses internally. Eg.:"
   ]
  },
  {
   "cell_type": "code",
   "execution_count": 3,
   "metadata": {},
   "outputs": [
    {
     "data": {
      "text/plain": [
       "(Unit(\"m\"), Unit(\"s\"))"
      ]
     },
     "execution_count": 3,
     "metadata": {},
     "output_type": "execute_result"
    }
   ],
   "source": [
    "units.DISTANCE_UNIT, units.TIME_UNIT"
   ]
  },
  {
   "cell_type": "markdown",
   "metadata": {},
   "source": [
    "Now we can initialize components with their parameters. Lets define primary component:"
   ]
  },
  {
   "cell_type": "code",
   "execution_count": 4,
   "metadata": {},
   "outputs": [
    {
     "name": "stdout",
     "output_type": "stream",
     "text": [
      "2019-11-05 10:38:56,241 - 9580 - Star - DEBUG: name of class instance Star set to 1\n",
      "2019-11-05 10:38:56,243 - 9580 - Star - DEBUG: initialising properties of class instance Star\n",
      "2019-11-05 10:38:56,244 - 9580 - Star - DEBUG: name of class instance Star set to 2\n",
      "2019-11-05 10:38:56,244 - 9580 - Star - DEBUG: initialising properties of class instance Star\n"
     ]
    }
   ],
   "source": [
    "primary = Star(\n",
    "    mass=2.15 * u.solMass,\n",
    "    surface_potential=3.6,\n",
    "    synchronicity=1.0,\n",
    "    t_eff=10000 * u.K,\n",
    "    gravity_darkening=1.0,\n",
    "    discretization_factor=5,  # angular size (in degrees) of the surface elements\n",
    "    albedo=0.6,\n",
    "    metallicity=0.0,\n",
    ")\n",
    "\n",
    "secondary = Star(\n",
    "    mass=0.45 * u.solMass,\n",
    "    surface_potential=5.39,\n",
    "    synchronicity=1.0,\n",
    "    t_eff=8000 * u.K,\n",
    "    gravity_darkening=1.0,\n",
    "    albedo=0.6,\n",
    "    metallicity=0,\n",
    ")"
   ]
  },
  {
   "cell_type": "markdown",
   "metadata": {},
   "source": [
    "Component parameters can be also set and modified separatelly using setter:"
   ]
  },
  {
   "cell_type": "code",
   "execution_count": 5,
   "metadata": {},
   "outputs": [],
   "source": [
    "primary.synchronicity = 1.0"
   ]
  },
  {
   "cell_type": "markdown",
   "metadata": {},
   "source": [
    "and accesed via getter:"
   ]
  },
  {
   "cell_type": "code",
   "execution_count": 6,
   "metadata": {},
   "outputs": [
    {
     "data": {
      "text/plain": [
       "1.0"
      ]
     },
     "execution_count": 6,
     "metadata": {},
     "output_type": "execute_result"
    }
   ],
   "source": [
    "primary.synchronicity"
   ]
  },
  {
   "cell_type": "markdown",
   "metadata": {},
   "source": [
    "As soon as the components are defined, we can set up BinarySystem instance:"
   ]
  },
  {
   "cell_type": "code",
   "execution_count": 7,
   "metadata": {},
   "outputs": [
    {
     "name": "stdout",
     "output_type": "stream",
     "text": [
      "2019-11-05 10:38:56,274 - 9580 - BinarySystem - DEBUG: name of class instance BinarySystem set to 1\n",
      "2019-11-05 10:38:56,275 - 9580 - BinarySystem - INFO: initialising object BinarySystem\n",
      "2019-11-05 10:38:56,276 - 9580 - BinarySystem - DEBUG: setting properties of components of class instance BinarySystem\n",
      "2019-11-05 10:38:56,276 - 9580 - BinarySystem - DEBUG: initialising properties of system 1, values: {'argument_of_periastron': 1.0122909661567112, 'gamma': -30700.0, 'period': 2.5, 'eccentricity': 0.0, 'inclination': 1.4835298641951802, 'primary_minimum_time': 2440000.0, 'phase_shift': 0.0}\n",
      "2019-11-05 10:38:56,278 - 9580 - BinarySystem - DEBUG: computing semi-major axis\n",
      "2019-11-05 10:38:56,279 - 9580 - BinarySystem - DEBUG: re/initializing orbit in class instance BinarySystem / 1\n",
      "2019-11-05 10:38:56,281 - 9580 - Orbit - DEBUG: setting properties of orbit\n",
      "2019-11-05 10:38:56,282 - 9580 - Orbit - DEBUG: setting property periastron_distance of class instance Orbit to 1.0\n",
      "2019-11-05 10:38:56,282 - 9580 - BinarySystem - DEBUG: setting up critical surface potentials of components in periastron\n",
      "2019-11-05 10:38:56,284 - 9580 - BinarySystem - DEBUG: setting up morphological classification of binary system\n",
      "2019-11-05 10:38:56,315 - 9580 - BinarySystem - DEBUG: invalid value passed to potential, exception: invalid value encountered in double_scalars\n",
      "2019-11-05 10:38:56,317 - 9580 - BinarySystem - DEBUG: initialising polar radius for primary component\n",
      "2019-11-05 10:38:56,321 - 9580 - BinarySystem - DEBUG: initialising side radius for primary component\n",
      "2019-11-05 10:38:56,324 - 9580 - BinarySystem - DEBUG: initialising backward radius for primary component\n",
      "2019-11-05 10:38:56,327 - 9580 - BinarySystem - DEBUG: initialising polar radius for secondary component\n",
      "2019-11-05 10:38:56,329 - 9580 - BinarySystem - DEBUG: initialising side radius for secondary component\n",
      "2019-11-05 10:38:56,332 - 9580 - BinarySystem - DEBUG: initialising backward radius for secondary component\n",
      "2019-11-05 10:38:56,333 - 9580 - BinarySystem - INFO: setting discretization factor of secondary component to 28.08 as a according to discretization factor of the primary component \n"
     ]
    }
   ],
   "source": [
    "bs = BinarySystem(\n",
    "    primary=primary,\n",
    "    secondary=secondary,\n",
    "    argument_of_periastron=58 * u.deg,\n",
    "    gamma=-30.7 * u.km / u.s,\n",
    "    period=2.5 * u.d,\n",
    "    eccentricity=0.0,\n",
    "    inclination=85 * u.deg,\n",
    "    primary_minimum_time=2440000.00000 * u.d,\n",
    "    phase_shift=0.0,\n",
    ")\n"
   ]
  },
  {
   "cell_type": "markdown",
   "metadata": {},
   "source": [
    "where again, parameters can be accesed and overwriten using getters and setters"
   ]
  },
  {
   "cell_type": "code",
   "execution_count": 8,
   "metadata": {},
   "outputs": [
    {
     "data": {
      "text/plain": [
       "0.1"
      ]
     },
     "execution_count": 8,
     "metadata": {},
     "output_type": "execute_result"
    }
   ],
   "source": [
    "bs.eccentricity = 0.1\n",
    "bs.eccentricity"
   ]
  },
  {
   "cell_type": "markdown",
   "metadata": {},
   "source": [
    "Just to make sure that the system with new parameters is physically correct and to recalculate all the dependent variables such as mass ratio, semi-major axis, etc., we have to reinitialize the binary system instance `bs`:"
   ]
  },
  {
   "cell_type": "code",
   "execution_count": 9,
   "metadata": {
    "scrolled": false
   },
   "outputs": [
    {
     "name": "stdout",
     "output_type": "stream",
     "text": [
      "2019-11-05 10:38:56,344 - 9580 - BinarySystem - DEBUG: name of class instance BinarySystem set to 1\n",
      "2019-11-05 10:38:56,345 - 9580 - BinarySystem - INFO: initialising object BinarySystem\n",
      "2019-11-05 10:38:56,346 - 9580 - BinarySystem - DEBUG: setting properties of components of class instance BinarySystem\n",
      "2019-11-05 10:38:56,346 - 9580 - BinarySystem - DEBUG: initialising properties of system 1, values: {'gamma': -30700.0, 'inclination': 1.4835298641951802, 'period': 2.5, 'eccentricity': 0.10000000000000001, 'argument_of_periastron': 1.0122909661567112, 'phase_shift': 0.0, 'additional_light': 0.0, 'primary_minimum_time': 2440000.0}\n",
      "2019-11-05 10:38:56,350 - 9580 - BinarySystem - DEBUG: computing semi-major axis\n",
      "2019-11-05 10:38:56,351 - 9580 - BinarySystem - DEBUG: re/initializing orbit in class instance BinarySystem / 1\n",
      "2019-11-05 10:38:56,352 - 9580 - Orbit - DEBUG: setting properties of orbit\n",
      "2019-11-05 10:38:56,353 - 9580 - Orbit - DEBUG: setting property periastron_distance of class instance Orbit to 0.8999999999999999\n",
      "2019-11-05 10:38:56,354 - 9580 - BinarySystem - DEBUG: setting up critical surface potentials of components in periastron\n",
      "2019-11-05 10:38:56,356 - 9580 - BinarySystem - DEBUG: setting up morphological classification of binary system\n",
      "2019-11-05 10:38:56,357 - 9580 - BinarySystem - DEBUG: initialising polar radius for primary component\n",
      "2019-11-05 10:38:56,359 - 9580 - BinarySystem - DEBUG: initialising side radius for primary component\n",
      "2019-11-05 10:38:56,361 - 9580 - BinarySystem - DEBUG: initialising backward radius for primary component\n",
      "2019-11-05 10:38:56,364 - 9580 - BinarySystem - DEBUG: initialising polar radius for secondary component\n",
      "2019-11-05 10:38:56,366 - 9580 - BinarySystem - DEBUG: initialising side radius for secondary component\n",
      "2019-11-05 10:38:56,369 - 9580 - BinarySystem - DEBUG: initialising backward radius for secondary component\n",
      "2019-11-05 10:38:56,371 - 9580 - BinarySystem - INFO: setting discretization factor of secondary component to 27.47 as a according to discretization factor of the primary component \n"
     ]
    }
   ],
   "source": [
    "bs.init()"
   ]
  },
  {
   "cell_type": "markdown",
   "metadata": {},
   "source": [
    "## Accesing parameters"
   ]
  },
  {
   "cell_type": "markdown",
   "metadata": {},
   "source": [
    "Finally, after binary system initialization, we can acces basic properties of our system such as semi-major axis,  morphology, and radii"
   ]
  },
  {
   "cell_type": "code",
   "execution_count": 10,
   "metadata": {},
   "outputs": [
    {
     "data": {
      "text/plain": [
       "10.659141949925212"
      ]
     },
     "execution_count": 10,
     "metadata": {},
     "output_type": "execute_result"
    }
   ],
   "source": [
    "bs.semi_major_axis*units.DISTANCE_UNIT.to(u.solRad)  # conversion to solar radii"
   ]
  },
  {
   "cell_type": "markdown",
   "metadata": {},
   "source": [
    "morphology of the system can be also displayed:"
   ]
  },
  {
   "cell_type": "code",
   "execution_count": 11,
   "metadata": {},
   "outputs": [
    {
     "data": {
      "text/plain": [
       "'detached'"
      ]
     },
     "execution_count": 11,
     "metadata": {},
     "output_type": "execute_result"
    }
   ],
   "source": [
    "bs.morphology"
   ]
  },
  {
   "cell_type": "markdown",
   "metadata": {},
   "source": [
    "along with radii of the components in default SMA units:"
   ]
  },
  {
   "cell_type": "code",
   "execution_count": 12,
   "metadata": {},
   "outputs": [
    {
     "name": "stdout",
     "output_type": "stream",
     "text": [
      "Polar radius: 0.29593865139187464\n",
      "Side radius: 0.3007760700336461\n",
      "Backward radius: 0.30378208371351956\n",
      "Forward radius: 0.3057878321166276\n"
     ]
    }
   ],
   "source": [
    "print(f'Polar radius: {primary.polar_radius}')\n",
    "print(f'Side radius: {primary.side_radius}')\n",
    "print(f'Backward radius: {primary.backward_radius}')\n",
    "print(f'Forward radius: {primary.forward_radius}')"
   ]
  },
  {
   "cell_type": "markdown",
   "metadata": {},
   "source": [
    "Values for critical potentials for each component can be accessed using these getters:"
   ]
  },
  {
   "cell_type": "code",
   "execution_count": 13,
   "metadata": {},
   "outputs": [
    {
     "name": "stdout",
     "output_type": "stream",
     "text": [
      "Critical potential for primary component: 2.4269724166520685\n",
      "Critical potential for secondary component: 2.440275836628986\n"
     ]
    }
   ],
   "source": [
    "print(f'Critical potential for primary component: {primary.critical_surface_potential}')\n",
    "print(f'Critical potential for secondary component: {secondary.critical_surface_potential}')"
   ]
  },
  {
   "cell_type": "code",
   "execution_count": null,
   "metadata": {},
   "outputs": [],
   "source": []
  }
 ],
 "metadata": {
  "kernelspec": {
   "display_name": "venv",
   "language": "python",
   "name": "venv"
  },
  "language_info": {
   "codemirror_mode": {
    "name": "ipython",
    "version": 3
   },
   "file_extension": ".py",
   "mimetype": "text/x-python",
   "name": "python",
   "nbconvert_exporter": "python",
   "pygments_lexer": "ipython3",
   "version": "3.6.9"
  }
 },
 "nbformat": 4,
 "nbformat_minor": 1
}
