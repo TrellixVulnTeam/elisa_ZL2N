{
 "cells": [
  {
   "cell_type": "code",
   "execution_count": 2,
   "metadata": {},
   "outputs": [
    {
     "name": "stderr",
     "output_type": "stream",
     "text": [
      "/home/miro/ELISa/src/elisa/conf/config.py:161: UserWarning: path /home/miro/ELISa/atmosphere/ck93\n",
      "to kurucz 1993 atmosphere atlas doesn't exists\n",
      "Specifiy it in elisa_conf.ini file\n",
      "  \"Specifiy it in elisa_conf.ini file\".format(K93_ATM_TABLES))\n"
     ]
    }
   ],
   "source": [
    "import sys\n",
    "import os\n",
    "os.chdir(\"..\")\n",
    "sys.path.append(os.getcwd() + '/src')\n",
    "\n",
    "from elisa.conf import config\n",
    "config.LOG_CONFIG = os.getcwd() + 'jupyter_tutorials/logging.json'"
   ]
  },
  {
   "cell_type": "markdown",
   "metadata": {
    "collapsed": true
   },
   "source": [
    "# Demo No. 1: Hello binary!\n"
   ]
  },
  {
   "cell_type": "markdown",
   "metadata": {},
   "source": [
    "This set of tutorials will guide you trough basic structure of this package. This particular demo will show you how to build your binary system and access its basic parameters."
   ]
  },
  {
   "cell_type": "markdown",
   "metadata": {},
   "source": [
    "## Import correct modules"
   ]
  },
  {
   "cell_type": "markdown",
   "metadata": {},
   "source": [
    "In case of objects modelled in our first binary, they are divided into two groups:\n",
    "* system - binary system,\n",
    "* compoents (bodies) - stars.\n",
    "\n",
    "Each of those object types have to be imported separetelly by following imports:   "
   ]
  },
  {
   "cell_type": "code",
   "execution_count": 3,
   "metadata": {},
   "outputs": [],
   "source": [
    "from elisa.binary_system.system import BinarySystem\n",
    "from elisa.base.star import Star\n"
   ]
  },
  {
   "cell_type": "markdown",
   "metadata": {},
   "source": [
    "## Setting up the components"
   ]
  },
  {
   "cell_type": "markdown",
   "metadata": {},
   "source": [
    "To avoid confusion we will use astropy.units module to specify units for each parameter."
   ]
  },
  {
   "cell_type": "code",
   "execution_count": 4,
   "metadata": {},
   "outputs": [],
   "source": [
    "from astropy import units as u\n"
   ]
  },
  {
   "cell_type": "markdown",
   "metadata": {},
   "source": [
    "Now we can initialize components with their parameters. Lets define primary component:"
   ]
  },
  {
   "cell_type": "code",
   "execution_count": 9,
   "metadata": {},
   "outputs": [],
   "source": [
    "primary = Star(\n",
    "    mass=2.15 * u.solMass,\n",
    "    surface_potential=3.6,\n",
    "    synchronicity=1.0,\n",
    "    t_eff=10000 * u.K,\n",
    "    gravity_darkening=1.0,\n",
    "    discretization_factor=5,  # angular size (in degrees) of the surface elements\n",
    "    albedo=0.6,\n",
    "    metallicity=0.0,\n",
    ")\n",
    "\n",
    "secondary = Star(\n",
    "    mass=0.45 * u.solMass,\n",
    "    surface_potential=5.39,\n",
    "    synchronicity=1.0,\n",
    "    t_eff=8000 * u.K,\n",
    "    gravity_darkening=1.0,\n",
    "    albedo=0.6,\n",
    "    metallicity=0,\n",
    ")\n"
   ]
  },
  {
   "cell_type": "markdown",
   "metadata": {},
   "source": [
    "Component parameters can be also set and modified separatelly using setter:"
   ]
  },
  {
   "cell_type": "code",
   "execution_count": 10,
   "metadata": {},
   "outputs": [],
   "source": [
    "primary.synchronicity = 1.0\n"
   ]
  },
  {
   "cell_type": "markdown",
   "metadata": {},
   "source": [
    "and accesed via getter:"
   ]
  },
  {
   "cell_type": "code",
   "execution_count": 11,
   "metadata": {},
   "outputs": [
    {
     "data": {
      "text/plain": [
       "1.0"
      ]
     },
     "execution_count": 11,
     "metadata": {},
     "output_type": "execute_result"
    }
   ],
   "source": [
    "primary.synchronicity\n"
   ]
  },
  {
   "cell_type": "markdown",
   "metadata": {},
   "source": [
    "As soon as the components are defined, we can set up BinarySystem instance:"
   ]
  },
  {
   "cell_type": "code",
   "execution_count": 12,
   "metadata": {},
   "outputs": [
    {
     "name": "stderr",
     "output_type": "stream",
     "text": [
      "INFO:BinarySystem:initialising object BinarySystem\n",
      "INFO:BinarySystem:setting discretization factor of secondary component according discretization factor of primary component to: 28.08 degrees.\n"
     ]
    }
   ],
   "source": [
    "bs = BinarySystem(\n",
    "    primary=primary,\n",
    "    secondary=secondary,\n",
    "    argument_of_periastron=58 * u.deg,\n",
    "    gamma=-30.7 * u.km / u.s,\n",
    "    period=2.5 * u.d,\n",
    "    eccentricity=0.0,\n",
    "    inclination=85 * u.deg,\n",
    "    primary_minimum_time=2440000.00000 * u.d,\n",
    "    phase_shift=0.0,\n",
    ")\n"
   ]
  },
  {
   "cell_type": "markdown",
   "metadata": {},
   "source": [
    "where again, parameters can be accesed and overwriten using getters and setters"
   ]
  },
  {
   "cell_type": "code",
   "execution_count": 8,
   "metadata": {},
   "outputs": [
    {
     "name": "stdout",
     "output_type": "stream",
     "text": [
      "2019-08-23 13:10:38,213 - 11793 - BinarySystem - DEBUG: setting property eccentricity of class instance BinarySystem to 0.1\n"
     ]
    },
    {
     "data": {
      "text/plain": [
       "0.1"
      ]
     },
     "execution_count": 8,
     "metadata": {},
     "output_type": "execute_result"
    }
   ],
   "source": [
    "bs.eccentricity = 0.1\n",
    "bs.eccentricity\n"
   ]
  },
  {
   "cell_type": "markdown",
   "metadata": {},
   "source": [
    "Just to make sure that the system with new parameters is physically correct we can reinitialize the binary system instance:"
   ]
  },
  {
   "cell_type": "code",
   "execution_count": 9,
   "metadata": {
    "scrolled": false
   },
   "outputs": [
    {
     "name": "stdout",
     "output_type": "stream",
     "text": [
      "2019-08-23 13:10:39,521 - 11793 - BinarySystem - DEBUG: name of class instance BinarySystem set to 2\n",
      "2019-08-23 13:10:39,523 - 11793 - BinarySystem - INFO: initialising object BinarySystem\n",
      "2019-08-23 13:10:39,530 - 11793 - BinarySystem - DEBUG: setting property components of class instance BinarySystem\n",
      "2019-08-23 13:10:39,535 - 11793 - BinarySystem - DEBUG: setting property gamma of class instance BinarySystem to -30700.0\n",
      "2019-08-23 13:10:39,536 - 11793 - BinarySystem - DEBUG: setting property inclination of class instance BinarySystem to 1.4835298641951802\n",
      "2019-08-23 13:10:39,539 - 11793 - BinarySystem - DEBUG: setting property inclination of class instance BinarySystem to 0.025892480681870233\n",
      "2019-08-23 13:10:39,540 - 11793 - BinarySystem - DEBUG: setting property period of class instance BinarySystem to 2.5\n",
      "2019-08-23 13:10:39,541 - 11793 - BinarySystem - DEBUG: setting property period of class instance BinarySystem to 2.5\n",
      "2019-08-23 13:10:39,543 - 11793 - BinarySystem - DEBUG: setting property eccentricity of class instance BinarySystem to 0.1\n",
      "2019-08-23 13:10:39,544 - 11793 - BinarySystem - DEBUG: setting property eccentricity of class instance BinarySystem to 0.1\n",
      "2019-08-23 13:10:39,544 - 11793 - BinarySystem - DEBUG: setting property argument_of_periastron of class instance BinarySystem to 1.0122909661567112\n",
      "2019-08-23 13:10:39,546 - 11793 - BinarySystem - DEBUG: setting property argument of periastron of class instance BinarySystem to 0.017667810347629098\n",
      "2019-08-23 13:10:39,547 - 11793 - BinarySystem - DEBUG: setting property primary_minimum_time of class instance BinarySystem to 2440000.0\n",
      "2019-08-23 13:10:39,548 - 11793 - BinarySystem - DEBUG: setting property primary_minimum_time of class instance BinarySystem to 2440000.0\n",
      "2019-08-23 13:10:39,549 - 11793 - BinarySystem - DEBUG: setting property phase_shift of class instance BinarySystem to 0.0\n",
      "2019-08-23 13:10:39,550 - 11793 - BinarySystem - DEBUG: setting property phase_shift of class instance BinarySystem to 0.0\n",
      "2019-08-23 13:10:39,550 - 11793 - BinarySystem - DEBUG: setting property additional_light of class instance BinarySystem to 0.0\n",
      "2019-08-23 13:10:39,552 - 11793 - BinarySystem - DEBUG: computing semi-major axis\n",
      "2019-08-23 13:10:39,552 - 11793 - BinarySystem - DEBUG: initializing orbit instance in BinarySystem\n",
      "2019-08-23 13:10:39,553 - 11793 - BinarySystem - DEBUG: re/initializing orbit in class instance BinarySystem / 2\n",
      "2019-08-23 13:10:39,554 - 11793 - Orbit - DEBUG: setting property period of class instance Orbit to 2.5\n",
      "2019-08-23 13:10:39,555 - 11793 - Orbit - DEBUG: setting property period of class instance Orbit to 2.5\n",
      "2019-08-23 13:10:39,556 - 11793 - Orbit - DEBUG: setting property inclination of class instance Orbit to 0.025892480681870233\n",
      "2019-08-23 13:10:39,556 - 11793 - Orbit - DEBUG: setting property eccentricity of class instance Orbit to 0.1\n",
      "2019-08-23 13:10:39,557 - 11793 - Orbit - DEBUG: setting property argument_of_periastron of class instance Orbit to 0.017667810347629098\n",
      "2019-08-23 13:10:39,558 - 11793 - Orbit - DEBUG: setting property phase_shift of class instance Orbit to 0.0\n",
      "2019-08-23 13:10:39,559 - 11793 - Orbit - DEBUG: setting property periastron_distance of class instance Orbit to 0.8999999999999999\n",
      "2019-08-23 13:10:39,560 - 11793 - BinarySystem - DEBUG: setting up critical surface potentials of components in periastron\n",
      "2019-08-23 13:10:39,561 - 11793 - BinarySystem - DEBUG: setting up morphological classification of binary system\n",
      "2019-08-23 13:10:39,562 - 11793 - BinarySystem - DEBUG: initialising polar radius for primary component\n",
      "2019-08-23 13:10:39,564 - 11793 - BinarySystem - DEBUG: initialising side radius for primary component\n",
      "2019-08-23 13:10:39,566 - 11793 - BinarySystem - DEBUG: initialising backward radius for primary component\n",
      "2019-08-23 13:10:39,569 - 11793 - BinarySystem - DEBUG: initialising polar radius for secondary component\n",
      "2019-08-23 13:10:39,572 - 11793 - BinarySystem - DEBUG: initialising side radius for secondary component\n",
      "2019-08-23 13:10:39,574 - 11793 - BinarySystem - DEBUG: initialising backward radius for secondary component\n",
      "2019-08-23 13:10:39,578 - 11793 - BinarySystem - INFO: setting discretization factor of secondary component according discretization factor of primary component to: 27.47 degrees.\n"
     ]
    }
   ],
   "source": [
    "bs.init()\n"
   ]
  },
  {
   "cell_type": "markdown",
   "metadata": {},
   "source": [
    "## Accesing parameters"
   ]
  },
  {
   "cell_type": "markdown",
   "metadata": {},
   "source": [
    "Finally, after binary system initialization, we can acces basic properties of our system such as semi-major axis,  morphology, and radii"
   ]
  },
  {
   "cell_type": "code",
   "execution_count": 10,
   "metadata": {},
   "outputs": [
    {
     "data": {
      "text/plain": [
       "10.659141949925212"
      ]
     },
     "execution_count": 10,
     "metadata": {},
     "output_type": "execute_result"
    }
   ],
   "source": [
    "from elisa import units\n",
    "bs.semi_major_axis*units.DISTANCE_UNIT.to(u.solRad)  # conversion to solar radiiii\n"
   ]
  },
  {
   "cell_type": "markdown",
   "metadata": {},
   "source": [
    "morphology of the system can be also displayed:"
   ]
  },
  {
   "cell_type": "code",
   "execution_count": 11,
   "metadata": {},
   "outputs": [
    {
     "data": {
      "text/plain": [
       "'detached'"
      ]
     },
     "execution_count": 11,
     "metadata": {},
     "output_type": "execute_result"
    }
   ],
   "source": [
    "bs.morphology\n"
   ]
  },
  {
   "cell_type": "markdown",
   "metadata": {},
   "source": [
    "along with radii of the components in default SMA units:"
   ]
  },
  {
   "cell_type": "code",
   "execution_count": 12,
   "metadata": {},
   "outputs": [
    {
     "data": {
      "text/plain": [
       "(0.29593865139187464,\n",
       " 0.30077607003364609,\n",
       " 0.30378208371351956,\n",
       " 0.30578783211662758)"
      ]
     },
     "execution_count": 12,
     "metadata": {},
     "output_type": "execute_result"
    }
   ],
   "source": [
    "(primary.polar_radius, primary.side_radius, primary.backward_radius,\n",
    "primary.forward_radius)"
   ]
  },
  {
   "cell_type": "markdown",
   "metadata": {},
   "source": [
    "Values for critical potentials for each component can be accessed using these getters:"
   ]
  },
  {
   "cell_type": "code",
   "execution_count": 13,
   "metadata": {},
   "outputs": [
    {
     "data": {
      "text/plain": [
       "(2.4269724166520685, 2.4402758366289858)"
      ]
     },
     "execution_count": 13,
     "metadata": {},
     "output_type": "execute_result"
    }
   ],
   "source": [
    "(primary.critical_surface_potential, secondary.critical_surface_potential)"
   ]
  },
  {
   "cell_type": "code",
   "execution_count": null,
   "metadata": {},
   "outputs": [],
   "source": []
  }
 ],
 "metadata": {
  "kernelspec": {
   "display_name": "Python 3",
   "language": "python",
   "name": "python3"
  },
  "language_info": {
   "codemirror_mode": {
    "name": "ipython",
    "version": 3
   },
   "file_extension": ".py",
   "mimetype": "text/x-python",
   "name": "python",
   "nbconvert_exporter": "python",
   "pygments_lexer": "ipython3",
   "version": "3.6.8"
  }
 },
 "nbformat": 4,
 "nbformat_minor": 1
}
