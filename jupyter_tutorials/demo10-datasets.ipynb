{
 "cells": [
  {
   "cell_type": "markdown",
   "metadata": {},
   "source": [
    "# Demo No. 10 - Data sets"
   ]
  },
  {
   "cell_type": "markdown",
   "metadata": {},
   "source": [
    "In this demo, we will introduce a new class of objects dedicated to handling observations brought from the outside of the Elisa framework. For now, photometric and radial velocity data can be inported using the `DataSet`. Main task of this data handling dataframe is to unify various input data formats and to transform them into the form consistent with our analytics tools described in the later demos."
   ]
  },
  {
   "cell_type": "code",
   "execution_count": 1,
   "metadata": {},
   "outputs": [],
   "source": [
    "import astropy.units as u\n",
    "\n",
    "from elisa.analytics import LCData, RVData"
   ]
  },
  {
   "cell_type": "markdown",
   "metadata": {},
   "source": [
    "Initially, we should define an observational data with which we will work. The easiest way how to do so is to load them directly from file:"
   ]
  },
  {
   "cell_type": "code",
   "execution_count": 2,
   "metadata": {},
   "outputs": [],
   "source": [
    "rv_filename = 'demo_data/rv_data/rv1.dat'\n",
    "lc_filename = 'demo_data/lc_data/KIC04851217.lc.pulse_removed.dat'\n",
    "\n",
    "# radial velocities, column indices are expected in order (time, rv, rv_err)\n",
    "rv_data = RVData.load_from_file(rv_filename, x_unit=u.d, y_unit=u.km/u.s, data_columns=(0, 1, 2))\n",
    "\n",
    "# normalised light curve \n",
    "lc_data = LCData.load_from_file(lc_filename, x_unit=u.d, y_unit=None, data_columns=(0, 1, 2))\n",
    "# light curve in magnitudes\n",
    "# lc_data = LCData.load_from_file(lc_filename, x_unit=u.d, y_unit=u.mag, data_columns=(0, 1, 2), reference_magnitude=11.8)"
   ]
  },
  {
   "cell_type": "markdown",
   "metadata": {},
   "source": [
    "`load_from_file()` function can handle data formats with the observational data ordered in columns. The user can specify the position of `x`, `y` or `y_err` column with the corresponding indices."
   ]
  },
  {
   "cell_type": "markdown",
   "metadata": {},
   "source": [
    "Datasets can be initialized also from arrays using following syntax. After the initialization of `lcV_data` dataset, magnitudes were converted into fluxes. Therefore this time, `reference magnitude` was not needed:"
   ]
  },
  {
   "cell_type": "code",
   "execution_count": 3,
   "metadata": {},
   "outputs": [],
   "source": [
    "lc_data2 = LCData(x_data=lc_data.x_data, \n",
    "                  y_data=lc_data.y_data, \n",
    "                  y_err=lc_data.y_err, \n",
    "                  x_unit=lc_data.x_unit, \n",
    "                  y_unit=lc_data.y_unit,\n",
    "                 )"
   ]
  },
  {
   "cell_type": "markdown",
   "metadata": {},
   "source": [
    "These data sets are now converted into base Elisa base units and can be later handled with our analytics functions:"
   ]
  },
  {
   "cell_type": "code",
   "execution_count": 4,
   "metadata": {},
   "outputs": [
    {
     "data": {
      "text/plain": [
       "(array([55368.6964, 55369.6875, 55369.7405, 55369.7709, 55369.819 ,\n",
       "        55401.8413, 55401.9126, 55405.7796, 55431.7139, 55432.75  ,\n",
       "        55432.782 , 55432.848 , 55432.9085, 55716.9126, 55753.8661,\n",
       "        55815.8161, 56234.6485, 56235.6521, 56488.6784]),\n",
       " Unit(\"d\"),\n",
       " array([  26450., -138280., -137220., -120840., -107080., -144060.,\n",
       "        -110210.,   25740.,  -65020.,   71840.,   67420.,   58270.,\n",
       "          35850.,   50850.,   70880.,   27820.,  -62810.,   68450.,\n",
       "        -134760.]),\n",
       " array([4370., 3220., 3480., 3190., 3160., 6350., 6310., 7110., 3880.,\n",
       "        3100., 3180., 3620., 3680., 3230., 3580., 3650., 3470., 3650.,\n",
       "        5290.]),\n",
       " Unit(\"m / s\"))"
      ]
     },
     "execution_count": 4,
     "metadata": {},
     "output_type": "execute_result"
    }
   ],
   "source": [
    "rv_data.x_data, rv_data.x_unit, rv_data.y_data, rv_data.y_err, rv_data.y_unit"
   ]
  },
  {
   "cell_type": "code",
   "execution_count": 5,
   "metadata": {},
   "outputs": [
    {
     "data": {
      "text/plain": [
       "(array([54953.5388437, 54953.5592783, 54953.5797128, 54953.6001475,\n",
       "        54953.6205821, 54953.6410166, 54953.6614512, 54953.6818859,\n",
       "        54953.7023204, 54953.722755 ]),\n",
       " Unit(\"d\"),\n",
       " array([1.00932029, 1.00699464, 1.00604838, 1.00442832, 1.00212621,\n",
       "        1.00183719, 0.99892413, 0.99810449, 0.99689128, 0.99511892]),\n",
       " array([1.00932029, 1.00699464, 1.00604838, 1.00442832, 1.00212621,\n",
       "        1.00183719, 0.99892413, 0.99810449, 0.99689128, 0.99511892]),\n",
       " Unit(dimensionless))"
      ]
     },
     "execution_count": 5,
     "metadata": {},
     "output_type": "execute_result"
    }
   ],
   "source": [
    "lc_data.x_data[:10], lc_data.x_unit, lc_data.y_data[:10], lc_data.y_data[:10], lc_data.y_unit"
   ]
  },
  {
   "cell_type": "markdown",
   "metadata": {},
   "source": [
    "Data stored in `Dataset` are now ready to be used in analytics methods described later."
   ]
  },
  {
   "cell_type": "markdown",
   "metadata": {},
   "source": [
    "## Visualizing observation "
   ]
  },
  {
   "cell_type": "markdown",
   "metadata": {},
   "source": [
    "Observations can be quickly visualized with a following function:"
   ]
  },
  {
   "cell_type": "code",
   "execution_count": 6,
   "metadata": {},
   "outputs": [
    {
     "data": {
      "image/png": "[encoded data removed]",
      "text/plain": [
       "<Figure size 432x288 with 1 Axes>"
      ]
     },
     "metadata": {
      "needs_background": "light"
     },
     "output_type": "display_data"
    }
   ],
   "source": [
    "lc_data.plot.display_observation()"
   ]
  },
  {
   "cell_type": "markdown",
   "metadata": {},
   "source": [
    "##  Phasing the observations"
   ]
  },
  {
   "cell_type": "markdown",
   "metadata": {},
   "source": [
    "It is preferable in many cases to phase the observed data according to orbital period. Therefore the `Dataset` class allows you to perform such conversion in cases where ephemeris of the system is available."
   ]
  },
  {
   "cell_type": "code",
   "execution_count": 7,
   "metadata": {},
   "outputs": [
    {
     "data": {
      "image/png": "[encoded data removed]",
      "text/plain": [
       "<Figure size 432x288 with 1 Axes>"
      ]
     },
     "metadata": {
      "needs_background": "light"
     },
     "output_type": "display_data"
    }
   ],
   "source": [
    "period = 2.47028  # d\n",
    "t0 = 54953.900507000006  # d\n",
    "\n",
    "lc_data.convert_to_phases(period, t0, centre=0.0)\n",
    "lc_data.plot.display_observation()"
   ]
  },
  {
   "cell_type": "code",
   "execution_count": null,
   "metadata": {},
   "outputs": [],
   "source": []
  }
 ],
 "metadata": {
  "kernelspec": {
   "display_name": "Python 3",
   "language": "python",
   "name": "python3"
  },
  "language_info": {
   "codemirror_mode": {
    "name": "ipython",
    "version": 3
   },
   "file_extension": ".py",
   "mimetype": "text/x-python",
   "name": "python",
   "nbconvert_exporter": "python",
   "pygments_lexer": "ipython3",
   "version": "3.6.9"
  },
  "pycharm": {
   "stem_cell": {
    "cell_type": "raw",
    "source": [],
    "metadata": {
     "collapsed": false
    }
   }
  }
 },
 "nbformat": 4,
 "nbformat_minor": 2
}