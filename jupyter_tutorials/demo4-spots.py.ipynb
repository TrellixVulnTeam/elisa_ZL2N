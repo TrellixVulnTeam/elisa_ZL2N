{
 "cells": [
  {
   "cell_type": "code",
   "execution_count": 1,
   "metadata": {},
   "outputs": [
    {
     "name": "stderr",
     "output_type": "stream",
     "text": [
      "/home/miro/ELISa/src/elisa/conf/config.py:161: UserWarning: path /home/miro/ELISa/atmosphere/ck93\n",
      "to kurucz 1993 atmosphere atlas doesn't exists\n",
      "Specifiy it in elisa_conf.ini file\n",
      "  \"Specifiy it in elisa_conf.ini file\".format(K93_ATM_TABLES))\n"
     ]
    }
   ],
   "source": [
    "import sys\n",
    "import os\n",
    "os.chdir(\"..\")\n",
    "sys.path.append(os.getcwd() + '/src')\n",
    "\n",
    "from elisa.conf import config\n",
    "config.LOG_CONFIG = os.getcwd() + 'jupyter_tutorials/logging.json'"
   ]
  },
  {
   "cell_type": "markdown",
   "metadata": {},
   "source": [
    "# Demo No. 4 - Spots"
   ]
  },
  {
   "cell_type": "markdown",
   "metadata": {},
   "source": [
    "This demo will demonstrate how to generate spots on the surface of the given component."
   ]
  },
  {
   "cell_type": "markdown",
   "metadata": {},
   "source": [
    "## Generating spot metadata"
   ]
  },
  {
   "cell_type": "markdown",
   "metadata": {},
   "source": [
    "Before the standard procedure of defining the components and the binary system itself, lets first specify parameters of our spots."
   ]
  },
  {
   "cell_type": "code",
   "execution_count": null,
   "metadata": {},
   "outputs": [],
   "source": [
    "spots = {\n",
    "    \"primary\":\n",
    "        [\n",
    "            {\"longitude\": 0,\n",
    "             \"latitude\": 45,\n",
    "             \"angular_diameter\": 58,\n",
    "             \"temperature_factor\": 1.01},\n",
    "            {\"longitude\": 200,\n",
    "             \"latitude\": 100,\n",
    "             # \"angular_density\": 2,\n",
    "             \"angular_diameter\": 30,\n",
    "             \"temperature_factor\": 0.97},\n",
    "            {\"longitude\": 60,\n",
    "             \"latitude\": 90,\n",
    "             # \"angular_density\": 2,\n",
    "             \"angular_diameter\": 30,\n",
    "             \"temperature_factor\": 0.7},\n",
    "        ],\n",
    "\n",
    "    \"secondary\":\n",
    "        [\n",
    "            {\"longitude\": 0,\n",
    "             \"latitude\": 45,\n",
    "             # \"angular_density\": 3,\n",
    "             \"angular_diameter\": 28,\n",
    "             \"temperature_factor\": 1.06},\n",
    "             {\"longitude\": 30,\n",
    "              \"latitude\": 65,\n",
    "              # \"angular_density\": 3,\n",
    "             \"angular_diameter\": 45,\n",
    "             \"temperature_factor\": 0.5},\n",
    "        ]\n",
    "}"
   ]
  }
 ],
 "metadata": {
  "kernelspec": {
   "display_name": "Python 3",
   "language": "python",
   "name": "python3"
  },
  "language_info": {
   "codemirror_mode": {
    "name": "ipython",
    "version": 3
   },
   "file_extension": ".py",
   "mimetype": "text/x-python",
   "name": "python",
   "nbconvert_exporter": "python",
   "pygments_lexer": "ipython3",
   "version": "3.6.8"
  }
 },
 "nbformat": 4,
 "nbformat_minor": 1
}
