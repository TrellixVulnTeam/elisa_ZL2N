{
 "cells": [
  {
   "cell_type": "code",
   "execution_count": 9,
   "metadata": {
    "pycharm": {
     "is_executing": false
    }
   },
   "outputs": [],
   "source": [
    "%matplotlib notebook\n",
    "from astropy import units as u\n",
    "\n",
    "from elisa.binary_system.system import BinarySystem\n",
    "from elisa.base.star import Star\n",
    "from elisa.binary_system.container import OrbitalPositionContainer"
   ]
  },
  {
   "cell_type": "markdown",
   "metadata": {},
   "source": [
    "# Demo No. 4 - Spots"
   ]
  },
  {
   "cell_type": "markdown",
   "metadata": {},
   "source": [
    "This demo will demonstrate how to generate spots on the surface of the binary component."
   ]
  },
  {
   "cell_type": "markdown",
   "metadata": {},
   "source": [
    "## Generating spot metadata"
   ]
  },
  {
   "cell_type": "markdown",
   "metadata": {},
   "source": [
    "Before the standard procedure of defining the components and the binary system itself, lets first specify our spots on the primary component."
   ]
  },
  {
   "cell_type": "code",
   "execution_count": 10,
   "metadata": {
    "pycharm": {
     "is_executing": false
    }
   },
   "outputs": [],
   "source": [
    "spots_primary = [\n",
    "    #  Spot 1\n",
    "    {\"longitude\": 0,\n",
    "     \"latitude\": 45,\n",
    "     \"angular_radius\": 27,\n",
    "     \"temperature_factor\": 1.05,\n",
    "#      \"discretization_factor\": 2,\n",
    "    },\n",
    "    #  Spot 2\n",
    "    {\"longitude\": 30,\n",
    "     \"latitude\": 30,\n",
    "     \"angular_radius\": 15,\n",
    "     \"temperature_factor\": 0.98,\n",
    "    },\n",
    "    #  Spot 3\n",
    "    {\"longitude\": 40,\n",
    "     \"latitude\": 50,\n",
    "     \"angular_radius\": 15,\n",
    "     \"temperature_factor\": 1.02,\n",
    "    },\n",
    "    #  Spot 4\n",
    "    {\"longitude\": 0,\n",
    "     \"latitude\": 50,\n",
    "     \"angular_radius\": 8,\n",
    "     \"temperature_factor\": 0.98,\n",
    "    },\n",
    "]"
   ]
  },
  {
   "cell_type": "markdown",
   "metadata": {},
   "source": [
    "where spots on are defined by a list of dictionaries for each spot. Each spot is defined by 4 parameters `longitude`, `latitude`, `angular_radius` and `temperature_factor` = $T_{spot}/T_{star}$. Discretization factor of the each spot can be specifyied with `discretization_factor` keyword, but by default they are set automatically based on discretization factor of the parent star or the size of the spot. Order in which the spots are defined is important in case of overlaping spots, since the spot defined later will lay on top of the overlapping counterpart (eg. `Spot 2` will lay on top of the `Spot 1`). "
   ]
  },
  {
   "cell_type": "markdown",
   "metadata": {},
   "source": [
    "## Generating a binary system"
   ]
  },
  {
   "cell_type": "markdown",
   "metadata": {},
   "source": [
    "The binary system and its components will be generated in very similar fashion to previous exercises with small addition to component arguments with spots:"
   ]
  },
  {
   "cell_type": "markdown",
   "metadata": {},
   "source": [
    "Now we can build a system in the same way as in the previous demo:"
   ]
  },
  {
   "cell_type": "code",
   "execution_count": 11,
   "metadata": {
    "pycharm": {
     "is_executing": false
    }
   },
   "outputs": [
    {
     "name": "stdout",
     "output_type": "stream",
     "text": [
      "2020-08-11 11:32:03,963 - 10575 - binary_system.system - INFO: initialising object BinarySystem\n",
      "2020-08-11 11:32:04,067 - 10575 - binary_system.system - INFO: setting discretization factor of secondary component to 6.52 according to discretization factor of the primary component.\n"
     ]
    }
   ],
   "source": [
    "primary = Star(\n",
    "    mass=2.15 * u.solMass,\n",
    "    surface_potential=3.6,\n",
    "    synchronicity=1.0,\n",
    "    t_eff=10000 * u.K,\n",
    "    gravity_darkening=1.0,\n",
    "    discretization_factor=4, \n",
    "    albedo=0.6,\n",
    "    metallicity=0.0,\n",
    "    spots = spots_primary  # here we specify the spots present on the primary component\n",
    ")\n",
    "\n",
    "secondary = Star(\n",
    "    mass=1.2 * u.solMass,\n",
    "    surface_potential=4.0,\n",
    "    synchronicity=1.0,\n",
    "    t_eff=7000 * u.K,\n",
    "    gravity_darkening=1.0,\n",
    "    # discretization_factor=20,\n",
    "    albedo=0.6,\n",
    "    metallicity=0,  # similarly, spots can be added to the secondary component as well\n",
    ")\n",
    "\n",
    "bs = BinarySystem(\n",
    "    primary=primary,\n",
    "    secondary=secondary,\n",
    "    argument_of_periastron=58 * u.deg,\n",
    "    gamma=-30.7 * u.km / u.s,\n",
    "    period=2.5 * u.d,\n",
    "    eccentricity=0.2,\n",
    "    inclination=85 * u.deg,\n",
    "    primary_minimum_time=2440000.0 * u.d,\n",
    "    phase_shift=0.0,\n",
    ")"
   ]
  },
  {
   "cell_type": "markdown",
   "metadata": {},
   "source": [
    "## Data access and visualization"
   ]
  },
  {
   "cell_type": "markdown",
   "metadata": {},
   "source": [
    "Initially, we will initialize orbital position container and calculate geometry of the components:"
   ]
  },
  {
   "cell_type": "code",
   "execution_count": 12,
   "metadata": {
    "pycharm": {
     "is_executing": false
    }
   },
   "outputs": [
    {
     "data": {
      "text/plain": [
       "<elisa.binary_system.container.OrbitalPositionContainer at 0x7f234f4644a8>"
      ]
     },
     "execution_count": 12,
     "metadata": {},
     "output_type": "execute_result"
    }
   ],
   "source": [
    "phase = 0.2\n",
    "\n",
    "position = bs.calculate_orbital_motion(phase)[0]  \n",
    "orbital_position_container = OrbitalPositionContainer.from_binary_system(bs, position)\n",
    "orbital_position_container.build()"
   ]
  },
  {
   "cell_type": "markdown",
   "metadata": {},
   "source": [
    "Similarly, points, faces and surface parameters for the spots are stored in separate subcontainers that are specified by the spot index which are given by the order in which the spots were specified:"
   ]
  },
  {
   "cell_type": "code",
   "execution_count": 13,
   "metadata": {
    "pycharm": {
     "is_executing": false
    }
   },
   "outputs": [
    {
     "data": {
      "text/plain": [
       "array([[ 9.13002490e-02,  0.00000000e+00,  3.10940093e-01],\n       [ 2.15534527e-01,  3.83556286e-02,  2.46851766e-01],\n       [ 1.99094034e-01,  5.40265361e-18,  2.61483501e-01],\n       [ 2.03482288e-01, -2.20806816e-02,  2.57568691e-01],\n       [ 2.15534527e-01, -3.83556286e-02,  2.46851766e-01],\n       [ 2.54706430e-01,  5.79404439e-02,  2.07398256e-01],\n       [ 2.38198288e-01,  6.55930602e-02,  2.21841739e-01],\n       [ 2.20865473e-01,  6.53044026e-02,  2.37150041e-01],\n       [ 1.83334754e-01, -2.24823936e-02,  2.70690540e-01],\n       [ 1.91767345e-01, -4.23328233e-02,  2.63114835e-01],\n       [ 2.04768693e-01, -5.72058280e-02,  2.51477056e-01],\n       [ 2.20865473e-01, -6.53044026e-02,  2.37150041e-01],\n       [ 2.38198288e-01, -6.55930602e-02,  2.21841739e-01],\n       [ 2.54706430e-01, -5.79404439e-02,  2.07398256e-01],\n       [ 2.93782650e-01,  0.00000000e+00,  1.66698051e-01],\n       [ 2.91571965e-01,  2.23314457e-02,  1.68570403e-01],\n       [ 2.85113561e-01,  4.31689917e-02,  1.74063707e-01],\n       [ 2.74901141e-01,  6.11459010e-02,  1.82816362e-01],\n       [ 2.61679747e-01,  7.51245209e-02,  1.94256449e-01],\n       [ 2.46362658e-01,  8.42625472e-02,  2.07643525e-01],\n       [ 1.61618302e-01, -1.08868131e-02,  2.83492398e-01],\n       [ 1.65584214e-01, -3.20028619e-02,  2.79895100e-01],\n       [ 1.73289606e-01, -5.11823384e-02,  2.72915924e-01],\n       [ 1.84292597e-01, -6.72533579e-02,  2.62974937e-01],\n       [ 1.97957410e-01, -7.92178152e-02,  2.50675154e-01],\n       [ 2.13485463e-01, -8.63105615e-02,  2.36769952e-01],\n       [ 2.29954337e-01, -8.80478597e-02,  2.22120299e-01],\n       [ 2.46362658e-01, -8.42625472e-02,  2.07643525e-01],\n       [ 2.61679747e-01, -7.51245209e-02,  1.94256449e-01],\n       [ 2.74901141e-01, -6.11459010e-02,  1.82816362e-01],\n       [ 2.85113561e-01, -4.31689917e-02,  1.74063707e-01],\n       [ 2.91571965e-01, -2.23314457e-02,  1.68570403e-01],\n       [ 3.05831093e-01,  0.00000000e+00,  1.47280492e-01],\n       [ 3.04013998e-01,  2.25536048e-02,  1.48808144e-01],\n       [ 2.98663931e-01,  4.41024599e-02,  1.53323952e-01],\n       [ 2.90070509e-01,  6.37053870e-02,  1.60630332e-01],\n       [ 2.78675931e-01,  8.05362283e-02,  1.70410255e-01],\n       [ 2.65031101e-01,  9.39178167e-02,  1.82243856e-01],\n       [ 1.41671370e-01, -1.08801930e-02,  2.92983272e-01],\n       [ 1.44859860e-01, -3.22154081e-02,  2.90068380e-01],\n       [ 1.51119751e-01, -5.22899754e-02,  2.84350670e-01],\n       [ 1.60220483e-01, -7.03127249e-02,  2.76050967e-01],\n       [ 1.71825216e-01, -8.55653093e-02,  2.65492087e-01],\n       [ 1.85501468e-01, -9.74289774e-02,  2.53088424e-01],\n       [ 2.00734829e-01, -1.05408619e-01,  2.39331803e-01],\n       [ 2.16945152e-01, -1.09153053e-01,  2.24773695e-01],\n       [ 2.33504398e-01, -1.08470737e-01,  2.10004262e-01],\n       [ 2.49755366e-01, -1.03340543e-01,  1.95628980e-01],\n       [ 2.65031101e-01, -9.39178167e-02,  1.82243856e-01],\n       [ 2.78675931e-01, -8.05362283e-02,  1.70410255e-01],\n       [ 2.90070509e-01, -6.37053870e-02,  1.60630332e-01],\n       [ 2.98663931e-01, -4.41024599e-02,  1.53323952e-01],\n       [ 3.04013998e-01, -2.25536048e-02,  1.48808144e-01],\n       [ 3.16533400e-01,  0.00000000e+00,  1.26970665e-01],\n       [ 3.14990162e-01,  2.26401251e-02,  1.28260758e-01],\n       [ 3.10426612e-01,  4.45550103e-02,  1.32090095e-01],\n       [ 3.03032649e-01,  6.50566815e-02,  1.38337838e-01],\n       [ 2.93099771e-01,  8.35246355e-02,  1.46808846e-01],\n       [ 2.80993505e-01,  9.94256157e-02,  1.57241972e-01],\n       [ 2.67127958e-01,  1.12323966e-01,  1.69320088e-01],\n       [ 1.21276154e-01, -1.08285384e-02,  3.01201054e-01],\n       [ 1.23925596e-01, -3.21900430e-02,  2.98760988e-01],\n       [ 1.29156768e-01, -5.26719185e-02,  2.93945805e-01],\n       [ 1.36835667e-01, -7.17113116e-02,  2.86884203e-01],\n       [ 1.46764860e-01, -8.87804833e-02,  2.77766146e-01],\n       [ 1.58687784e-01, -1.03400291e-01,  2.66838997e-01],\n       [ 1.72294465e-01, -1.15152912e-01,  2.54402116e-01],\n       [ 1.87228496e-01, -1.23693404e-01,  2.40799867e-01],\n       [ 2.03095029e-01, -1.28759642e-01,  2.26413030e-01],\n       [ 2.19469380e-01, -1.30180280e-01,  2.11648793e-01],\n       [ 2.35905814e-01, -1.27880532e-01,  1.96929575e-01],\n       [ 2.51946121e-01, -1.21885859e-01,  1.82681099e-01],\n       [ 2.67127958e-01, -1.12323966e-01,  1.69320088e-01],\n       [ 2.80993505e-01, -9.94256157e-02,  1.57241972e-01],\n       [ 2.93099771e-01, -8.35246355e-02,  1.46808846e-01],\n       [ 3.03032649e-01, -6.50566815e-02,  1.38337838e-01],\n       [ 3.10426612e-01, -4.45550103e-02,  1.32090095e-01],\n       [ 3.14990162e-01, -2.26401251e-02,  1.28260758e-01],\n       [ 3.25769988e-01,  0.00000000e+00,  1.05849085e-01],\n       [ 3.24430149e-01,  2.26303617e-02,  1.06965493e-01],\n       [ 3.20457364e-01,  4.47108479e-02,  1.10287515e-01],\n       [ 3.13986010e-01,  6.57159282e-02,  1.15734785e-01],\n       [ 3.05222951e-01,  8.51641557e-02,  1.23177240e-01],\n       [ 2.94428336e-01,  1.02630944e-01,  1.32440128e-01],\n       [ 2.81897580e-01,  1.17754835e-01,  1.43309855e-01],\n       [ 2.67947445e-01,  1.30239420e-01,  1.55540136e-01],\n       [ 1.00488387e-01, -1.07466561e-02,  3.08139012e-01],\n       [ 1.02742341e-01, -3.20237316e-02,  3.06048576e-01],\n       [ 1.07207882e-01, -5.26558426e-02,  3.01908319e-01],\n       [ 1.13800907e-01, -7.22254944e-02,  2.95798989e-01],\n       [ 1.22396841e-01, -9.03338864e-02,  2.87840458e-01],\n       [ 1.32832582e-01, -1.06608290e-01,  2.78190135e-01],\n       [ 1.44909135e-01, -1.20709237e-01,  2.67040694e-01],\n       [ 1.58394931e-01, -1.32337345e-01,  2.54617060e-01],\n       [ 1.73029773e-01, -1.41239590e-01,  2.41172601e-01],\n       [ 1.88529288e-01, -1.47214767e-01,  2.26984507e-01],\n       [ 2.04589687e-01, -1.50117964e-01,  2.12348447e-01],\n       [ 2.20892583e-01, -1.49863898e-01,  1.97572601e-01],\n       [ 2.37109607e-01, -1.46429118e-01,  1.82971266e-01],\n       [ 2.52906611e-01, -1.39853223e-01,  1.68858237e-01],\n       [ 2.67947445e-01, -1.30239420e-01,  1.55540136e-01],\n       [ 2.81897580e-01, -1.17754835e-01,  1.43309855e-01],\n       [ 2.94428336e-01, -1.02630944e-01,  1.32440128e-01],\n       [ 3.05222951e-01, -8.51641557e-02,  1.23177240e-01],\n       [ 3.13986010e-01, -6.57159282e-02,  1.15734785e-01],\n       [ 3.20457364e-01, -4.47108479e-02,  1.10287515e-01],\n       [ 3.24430149e-01, -2.26303617e-02,  1.06965493e-01],\n       [ 1.09453940e-01,  6.18690532e-03,  3.05439995e-01],\n       [ 1.28167424e-01, -8.65326137e-04,  2.98770963e-01],\n       [ 1.47514437e-01, -2.94828690e-03,  2.90536365e-01],\n       [ 1.66306781e-01,  1.00504539e-04,  2.81238719e-01],\n       [ 1.83364854e-01,  8.13178646e-03,  2.71439408e-01],\n       [ 1.97585332e-01,  2.06812868e-02,  2.61728113e-01],\n       [ 2.08014944e-01,  3.69833951e-02,  2.52692562e-01],\n       [ 2.13928174e-01,  5.60076374e-02,  2.44889037e-01],\n       [ 2.19269959e-01,  8.28990800e-02,  2.33226163e-01],\n       [ 2.34503178e-01,  8.65924438e-02,  2.18458269e-01],\n       [ 2.46886728e-01,  9.47949276e-02,  2.02755019e-01],\n       [ 2.55549933e-01,  1.07012035e-01,  1.87079831e-01],\n       [ 2.59852960e-01,  1.22465698e-01,  1.72428813e-01],\n       [ 2.59465187e-01,  1.40146167e-01,  1.59765943e-01],\n       [ 2.85557562e-01,  0.00000000e+00,  1.78436169e-01],\n       [ 2.81102065e-01,  2.33964730e-02,  1.82972470e-01],\n       [ 2.69039912e-01,  4.03659110e-02,  1.95328422e-01],\n       [ 2.52795730e-01,  4.63786707e-02,  2.12120804e-01],\n       [ 2.36784348e-01,  3.99784444e-02,  2.28816503e-01],\n       [ 2.25192655e-01,  2.30069247e-02,  2.40978461e-01],\n       [ 2.20974862e-01,  5.62857079e-18,  2.45417447e-01],\n       [ 2.25192655e-01, -2.30069247e-02,  2.40978461e-01],\n       [ 2.36784348e-01, -3.99784444e-02,  2.28816503e-01],\n       [ 2.52795730e-01, -4.63786707e-02,  2.12120804e-01],\n       [ 2.69039912e-01, -4.03659110e-02,  1.95328422e-01],\n       [ 2.81102065e-01, -2.33964730e-02,  1.82972470e-01]])"
      ]
     },
     "execution_count": 13,
     "metadata": {},
     "output_type": "execute_result"
    }
   ],
   "source": [
    "orbital_position_container.primary.spots[0].points  # this will return surface points of the Spot 1"
   ]
  },
  {
   "cell_type": "code",
   "execution_count": 14,
   "metadata": {
    "pycharm": {
     "is_executing": false
    }
   },
   "outputs": [
    {
     "data": {
      "text/plain": [
       "array([[21, 36, 35],\n       [24, 39, 40],\n       [17, 30, 18],\n       [41, 42, 26],\n       [19, 33, 32],\n       [19,  9, 18],\n       [31, 30, 18],\n       [19, 18, 32],\n       [31, 18, 32],\n       [ 5,  1,  4],\n       [ 3,  1,  4],\n       [23, 12, 11],\n       [23, 12, 24],\n       [23, 39, 38],\n       [23, 24, 39],\n       [25, 24, 40],\n       [25, 41, 26],\n       [25, 41, 40],\n       [27, 28, 15],\n       [27, 44, 43],\n       [27, 44, 28],\n       [42, 26, 43],\n       [27, 26, 43],\n       [27, 14, 15],\n       [27, 14, 26],\n       [20, 19, 33],\n       [20, 33, 34],\n       [20,  9, 10],\n       [20, 19,  9],\n       [20, 21, 10],\n       [34, 21, 35],\n       [20, 34, 21],\n       [29, 16, 15],\n       [29, 28, 15],\n       [ 8,  9, 18],\n       [ 8,  3,  4],\n       [ 8,  9,  4],\n       [ 8, 17, 18],\n       [ 6,  5,  1],\n       [ 6, 14,  7],\n       [ 6,  7,  1],\n       [ 5, 10,  4],\n       [ 9, 10,  4],\n       [ 5, 11, 10],\n       [ 6, 12,  5],\n       [13, 25, 24],\n       [13, 14, 26],\n       [13, 25, 26],\n       [13, 12, 24],\n       [13,  6, 14],\n       [13,  6, 12],\n       [45, 44, 28],\n       [29, 28, 46],\n       [45, 28, 46],\n       [ 2,  3,  1],\n       [ 2,  7,  1],\n       [ 2,  7, 16],\n       [11, 21, 10],\n       [22, 11, 21],\n       [22, 23, 11],\n       [22, 21, 36],\n       [22, 37, 36],\n       [23, 38, 37],\n       [22, 23, 37],\n       [12,  5, 11],\n       [14,  7, 15],\n       [ 7, 16, 15],\n       [53,  0, 54],\n       [50,  3, 49],\n       [48, 30, 47],\n       [48, 17, 30],\n       [ 2, 50,  3],\n       [29,  0, 46],\n       [29, 53,  0],\n       [52, 29, 16],\n       [52, 29, 53],\n       [ 8,  3, 49],\n       [48, 17, 49],\n       [ 8, 17, 49],\n       [51,  2, 50],\n       [51, 52, 16],\n       [51,  2, 16]])"
      ]
     },
     "execution_count": 14,
     "metadata": {},
     "output_type": "execute_result"
    }
   ],
   "source": [
    "orbital_position_container.primary.spots[1].faces  # this will return faces of the Spot 2"
   ]
  },
  {
   "cell_type": "code",
   "execution_count": 15,
   "metadata": {
    "pycharm": {
     "is_executing": false
    }
   },
   "outputs": [
    {
     "data": {
      "text/plain": [
       "array([10232.24062463, 10221.6083162 , 10190.30029814, 10196.74159329,\n       10200.09463576, 10290.43728561, 10325.63052003, 10330.21994856,\n       10195.73924561, 10180.69665394, 10186.95591757, 10222.05429874,\n       10267.30257774, 10255.9947739 , 10234.79558427, 10221.73588415,\n       10140.08052404, 10269.17504712, 10255.83985763, 10214.75463509,\n       10223.48606477, 10231.16512879, 10182.40908421, 10187.18494705,\n       10298.19783998, 10309.10492135, 10299.14387308, 10300.40138585,\n       10288.17584775, 10246.49416078, 10258.70973553, 10272.44022581,\n       10283.50957971, 10157.78378014, 10254.8230082 , 10159.18341727,\n       10147.51123775, 10249.33733133, 10255.30871386, 10266.29979059,\n       10285.32803991, 10251.27892396, 10263.40727532, 10281.35856169,\n       10292.27698936, 10277.56111407, 10288.15385155, 10325.09767083,\n       10304.11542866, 10293.8134363 , 10303.5198624 , 10316.80964014,\n       10329.40756861, 10311.57168599, 10322.6145614 , 10345.7072079 ,\n       10232.4931636 , 10220.74763485, 10375.76260255, 10223.12956463,\n       10227.29496209, 10216.146328  , 10316.26782445, 10333.91512519,\n       10322.65558299, 10367.34594073, 10373.52545405, 10344.62651254,\n       10341.39310795, 10349.82232711, 10361.84418198, 10348.9517445 ,\n       10372.20397873, 10361.83342387, 10348.16022252, 10197.94771555,\n       10202.92951995, 10191.79438962, 10311.52233799, 10304.33031699,\n       10334.34809656, 10335.41399097, 10322.71480561, 10288.21495444,\n       10266.59868831, 10360.01201077, 10361.85137394, 10349.4642983 ,\n       10174.37190396, 10250.18205099, 10239.00828576, 10275.72135135,\n       10263.86647105, 10164.90110329, 10160.76656514, 10154.92577469,\n       10145.41932454])"
      ]
     },
     "execution_count": 15,
     "metadata": {},
     "output_type": "execute_result"
    }
   ],
   "source": [
    "# this will return temperatures for each face inside the Spot 3\n",
    "orbital_position_container.primary.spots[2].temperatures"
   ]
  },
  {
   "cell_type": "markdown",
   "metadata": {},
   "source": [
    "Finally, lets visualize the surface in the form of 3D plot:"
   ]
  },
  {
   "cell_type": "code",
   "execution_count": 16,
   "metadata": {
    "pycharm": {
     "is_executing": false
    }
   },
   "outputs": [
    {
     "data": {
      "text/plain": [
       "<IPython.core.display.Javascript object>"
      ]
     },
     "metadata": {},
     "output_type": "display_data"
    },
    {
     "data": {
      "text/html": [
       "<div id='d091005b-9333-4ecf-8569-0f1086ed0fce'></div>"
      ],
      "text/plain": [
       "<IPython.core.display.HTML object>"
      ]
     },
     "metadata": {},
     "output_type": "execute_result"
    }
   ],
   "source": [
    "bs.plot.surface(phase=0.05,\n",
    "                components_to_plot='primary',\n",
    "                colormap='temperature',\n",
    "                axis_unit=u.solRad,\n",
    "                inclination=60,\n",
    "               )"
   ]
  },
  {
   "cell_type": "code",
   "execution_count": 16,
   "metadata": {
    "pycharm": {
     "is_executing": false
    }
   },
   "outputs": [],
   "source": []
  }
 ],
 "metadata": {
  "kernelspec": {
   "display_name": "Python 3",
   "language": "python",
   "name": "python3"
  },
  "language_info": {
   "codemirror_mode": {
    "name": "ipython",
    "version": 3
   },
   "file_extension": ".py",
   "mimetype": "text/x-python",
   "name": "python",
   "nbconvert_exporter": "python",
   "pygments_lexer": "ipython3",
   "version": "3.6.10"
  },
  "pycharm": {
   "stem_cell": {
    "cell_type": "raw",
    "source": [],
    "metadata": {
     "collapsed": false
    }
   }
  }
 },
 "nbformat": 4,
 "nbformat_minor": 1
}
