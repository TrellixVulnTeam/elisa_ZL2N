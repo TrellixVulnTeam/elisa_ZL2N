{
 "cells": [
  {
   "cell_type": "code",
   "execution_count": 1,
   "metadata": {},
   "outputs": [
    {
     "name": "stderr",
     "output_type": "stream",
     "text": [
      "/home/miro/ELISa/src/elisa/conf/config.py:161: UserWarning: path /home/miro/ELISa/atmosphere/ck93\n",
      "to kurucz 1993 atmosphere atlas doesn't exists\n",
      "Specifiy it in elisa_conf.ini file\n",
      "  \"Specifiy it in elisa_conf.ini file\".format(K93_ATM_TABLES))\n"
     ]
    }
   ],
   "source": [
    "import sys\n",
    "import os\n",
    "import numpy as np\n",
    "os.chdir(\"..\")\n",
    "sys.path.append(os.getcwd() + '/src')\n",
    "\n",
    "from elisa.conf import config\n",
    "config.LOG_CONFIG = os.getcwd() + 'jupyter_tutorials/logging.json'"
   ]
  },
  {
   "cell_type": "markdown",
   "metadata": {},
   "source": [
    "# Demo No. 2 - Orbital motion"
   ]
  },
  {
   "cell_type": "markdown",
   "metadata": {},
   "source": [
    "This demo will demonstrate capability of the package to produce orbital positions of binary system in reference frame alligned with orbital plane and centered on the primary component.\n",
    "Lets start by defining our binary system (see Demo No. 1): "
   ]
  },
  {
   "cell_type": "code",
   "execution_count": 2,
   "metadata": {},
   "outputs": [
    {
     "name": "stderr",
     "output_type": "stream",
     "text": [
      "INFO:BinarySystem:initialising object BinarySystem\n",
      "INFO:BinarySystem:Setting discretization factor of secondary component to 26.69 as a according to discretization factor of the primary component \n"
     ]
    }
   ],
   "source": [
    "from elisa.binary_system.system import BinarySystem\n",
    "from elisa.base.star import Star\n",
    "from astropy import units as u\n",
    "\n",
    "\n",
    "primary = Star(\n",
    "    mass=2.15 * u.solMass,\n",
    "    surface_potential=3.6,\n",
    "    synchronicity=1.0,\n",
    "    t_eff=10000 * u.K,\n",
    "    gravity_darkening=1.0,\n",
    "    discretization_factor=5,  # angular size (in degrees) of the surface elements\n",
    "    albedo=0.6,\n",
    "    metallicity=0.0,\n",
    ")\n",
    "\n",
    "secondary = Star(\n",
    "    mass=0.45 * u.solMass,\n",
    "    surface_potential=5.39,\n",
    "    synchronicity=1.0,\n",
    "    t_eff=8000 * u.K,\n",
    "    gravity_darkening=1.0,\n",
    "    albedo=0.6,\n",
    "    metallicity=0,\n",
    ")\n",
    "\n",
    "bs = BinarySystem(\n",
    "    primary=primary,\n",
    "    secondary=secondary,\n",
    "    argument_of_periastron=58 * u.deg,\n",
    "    gamma=-30.7 * u.km / u.s,\n",
    "    period=2.5 * u.d,\n",
    "    eccentricity=0.2,\n",
    "    inclination=85 * u.deg,\n",
    "    primary_minimum_time=2440000.00000 * u.d,\n",
    "    phase_shift=0.0,\n",
    ")"
   ]
  },
  {
   "cell_type": "markdown",
   "metadata": {},
   "source": [
    "Lets now define phases at which we would like to obtain orbital positions:"
   ]
  },
  {
   "cell_type": "code",
   "execution_count": 3,
   "metadata": {},
   "outputs": [],
   "source": [
    "phases = np.linspace(0, 1.0, num=5)"
   ]
  },
  {
   "cell_type": "markdown",
   "metadata": {},
   "source": [
    "Finally, components distance, azimuth, mean anomaly and corresponding photometric phase of the binary can be calculated using following command: "
   ]
  },
  {
   "cell_type": "code",
   "execution_count": 6,
   "metadata": {},
   "outputs": [
    {
     "data": {
      "text/plain": [
       "[Position(idx=0.0, distance=0.8207866831934495, azimuth=1.5707963267948966, true_anomaly=0.55850536063818534, phase=0.0),\n",
       " Position(idx=1.0, distance=1.1032508351682753, azimuth=3.2896477635311969, true_anomaly=2.2773567973744857, phase=0.25),\n",
       " Position(idx=2.0, distance=1.1904578657982738, azimuth=4.4077925557299933, true_anomaly=3.3955015895732821, phase=0.5),\n",
       " Position(idx=3.0, distance=0.96533364799712362, azimuth=5.6970505011458785, true_anomaly=4.6847595349891673, phase=0.75),\n",
       " Position(idx=4.0, distance=0.8207866831934495, azimuth=1.5707963267948961, true_anomaly=0.55850536063818479, phase=1.0)]"
      ]
     },
     "execution_count": 6,
     "metadata": {},
     "output_type": "execute_result"
    }
   ],
   "source": [
    "positions = bs.calculate_orbital_motion(phases)\n",
    "positions"
   ]
  },
  {
   "cell_type": "markdown",
   "metadata": {},
   "source": [
    "Each parameter of the given orbital Position can be accesed separatelly. For example:"
   ]
  },
  {
   "cell_type": "code",
   "execution_count": 7,
   "metadata": {},
   "outputs": [
    {
     "data": {
      "text/plain": [
       "1.5707963267948966"
      ]
     },
     "execution_count": 7,
     "metadata": {},
     "output_type": "execute_result"
    }
   ],
   "source": [
    "positions[0].azimuth"
   ]
  },
  {
   "cell_type": "markdown",
   "metadata": {},
   "source": [
    "is an orbital azimuth of the secondary component for the first `Position` in our `positions` list. Orbital azimuth is basically angular distance of the secondary component from ascending node incident with negative y-axis, since line of sight vector is parallel to x-axis."
   ]
  },
  {
   "cell_type": "markdown",
   "metadata": {},
   "source": [
    "Orbital positions can be also returned in form of numpy array by using keyword argument `return_nparray`, where index of the orbital position is added into the first column:"
   ]
  },
  {
   "cell_type": "code",
   "execution_count": 8,
   "metadata": {},
   "outputs": [
    {
     "data": {
      "text/plain": [
       "array([[ 0.        ,  0.82078668,  1.57079633,  0.55850536,  0.        ],\n",
       "       [ 1.        ,  1.10325084,  3.28964776,  2.2773568 ,  0.25      ],\n",
       "       [ 2.        ,  1.19045787,  4.40779256,  3.39550159,  0.5       ],\n",
       "       [ 3.        ,  0.96533365,  5.6970505 ,  4.68475953,  0.75      ],\n",
       "       [ 4.        ,  0.82078668,  1.57079633,  0.55850536,  1.        ]])"
      ]
     },
     "execution_count": 8,
     "metadata": {},
     "output_type": "execute_result"
    }
   ],
   "source": [
    "bs.calculate_orbital_motion(phases, return_nparray=True)"
   ]
  },
  {
   "cell_type": "markdown",
   "metadata": {},
   "source": [
    "## Visualizing orbit"
   ]
  },
  {
   "cell_type": "markdown",
   "metadata": {},
   "source": [
    "2D plot of the orbit can be displayed using following command which can be used without any keyword arguments:"
   ]
  },
  {
   "cell_type": "code",
   "execution_count": 11,
   "metadata": {
    "scrolled": true
   },
   "outputs": [
    {
     "data": {
      "image/png": "[encoded data removed]",
      "text/plain": [
       "<matplotlib.figure.Figure at 0x7fc3fcdc0be0>"
      ]
     },
     "metadata": {
      "needs_background": "light"
     },
     "output_type": "display_data"
    }
   ],
   "source": [
    "bs.plot.orbit(frame_of_reference='barycentric',\n",
    "              axis_units ='SMA')"
   ]
  },
  {
   "cell_type": "code",
   "execution_count": null,
   "metadata": {},
   "outputs": [],
   "source": []
  }
 ],
 "metadata": {
  "kernelspec": {
   "display_name": "Python 3",
   "language": "python",
   "name": "python3"
  },
  "language_info": {
   "codemirror_mode": {
    "name": "ipython",
    "version": 3
   },
   "file_extension": ".py",
   "mimetype": "text/x-python",
   "name": "python",
   "nbconvert_exporter": "python",
   "pygments_lexer": "ipython3",
   "version": "3.6.8"
  }
 },
 "nbformat": 4,
 "nbformat_minor": 1
}
