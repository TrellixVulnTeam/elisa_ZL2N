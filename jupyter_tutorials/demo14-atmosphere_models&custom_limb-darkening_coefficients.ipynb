{
 "cells": [
  {
   "cell_type": "code",
   "execution_count": 1,
   "id": "9641c726",
   "metadata": {},
   "outputs": [
    {
     "data": {
      "text/html": [
       "<style>.container { width:100% !important; }</style>"
      ],
      "text/plain": [
       "<IPython.core.display.HTML object>"
      ]
     },
     "metadata": {},
     "output_type": "display_data"
    },
    {
     "name": "stderr",
     "output_type": "stream",
     "text": [
      "/home/cepheus/elisa_jup/lib/python3.6/site-packages/elisa/conf/settings.py:397: DeprecationWarning: Variable `atlas` in configuration section `support` is not longer supported and will be removed in future version.\n",
      "Use atmosphere definition as initial parameter for given celestial object\n",
      "  \"for given celestial object\", DeprecationWarning)\n",
      "/home/cepheus/elisa_jup/lib/python3.6/site-packages/pandas/compat/__init__.py:120: UserWarning: Could not import the lzma module. Your installed Python is incomplete. Attempting to use lzma compression will result in a RuntimeError.\n",
      "  warnings.warn(msg)\n"
     ]
    }
   ],
   "source": [
    "from IPython.core.display import display, HTML\n",
    "display(HTML(\"<style>.container { width:100% !important; }</style>\"))\n",
    "\n",
    "%matplotlib notebook\n",
    "import os\n",
    "import astropy.units as u\n",
    "\n",
    "from elisa import settings\n",
    "from elisa.analytics import LCData, LCBinaryAnalyticsTask\n",
    "\n",
    "\n",
    "# setting up a custom logging config to prevent unreasonably long log messages during fit\n",
    "settings.configure(LOG_CONFIG='fit')"
   ]
  },
  {
   "cell_type": "markdown",
   "id": "9da3868b",
   "metadata": {},
   "source": [
    "# Demo No. 14 - Atmosphere models and custom limb-darkening coefficients. "
   ]
  },
  {
   "cell_type": "markdown",
   "id": "6caccb1e",
   "metadata": {},
   "source": [
    "Since version 0.6, ELISa supports custom limb-darkening coefficients and multiple atmosphere model during light curve evaluation as well as fitting procedure in `AnalyticsTask`  nodule."
   ]
  },
  {
   "cell_type": "markdown",
   "id": "e26aa7ed",
   "metadata": {},
   "source": [
    "## Atmosphere models and limb-darkening coefficients during the LC evaluation."
   ]
  },
  {
   "cell_type": "code",
   "execution_count": null,
   "id": "30236630",
   "metadata": {},
   "outputs": [],
   "source": []
  }
 ],
 "metadata": {
  "kernelspec": {
   "display_name": "elisa_jup",
   "language": "python",
   "name": "elisa_jup"
  },
  "language_info": {
   "codemirror_mode": {
    "name": "ipython",
    "version": 3
   },
   "file_extension": ".py",
   "mimetype": "text/x-python",
   "name": "python",
   "nbconvert_exporter": "python",
   "pygments_lexer": "ipython3",
   "version": "3.6.10"
  }
 },
 "nbformat": 4,
 "nbformat_minor": 5
}
