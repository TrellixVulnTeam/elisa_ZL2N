{
 "cells": [
  {
   "cell_type": "code",
   "execution_count": 1,
   "id": "9641c726",
   "metadata": {},
   "outputs": [
    {
     "name": "stderr",
     "output_type": "stream",
     "text": [
      "/tmp/ipykernel_59898/648024061.py:1: DeprecationWarning: Importing display from IPython.core.display is deprecated since IPython 7.14, please import from IPython display\n",
      "  from IPython.core.display import display, HTML\n"
     ]
    },
    {
     "data": {
      "text/html": [
       "<style>.container { width:100% !important; }</style>"
      ],
      "text/plain": [
       "<IPython.core.display.HTML object>"
      ]
     },
     "metadata": {},
     "output_type": "display_data"
    },
    {
     "name": "stderr",
     "output_type": "stream",
     "text": [
      "/home/miro/elisa_env/lib/python3.8/site-packages/elisa/conf/settings.py:394: DeprecationWarning: Variable `atlas` in configuration section `support` is not longer supported and will be removed in future version.\n",
      "Use atmosphere definition as initial parameter for given celestial object\n",
      "  warnings.warn(\"Variable `atlas` in configuration section `support` is not \"\n"
     ]
    }
   ],
   "source": [
    "from IPython.core.display import display, HTML\n",
    "display(HTML(\"<style>.container { width:100% !important; }</style>\"))\n",
    "\n",
    "# %matplotlib notebook\n",
    "%matplotlib inline\n",
    "import os\n",
    "import numpy as np\n",
    "import astropy.units as u\n",
    "\n",
    "from elisa import settings, BinarySystem, Observer\n",
    "from elisa.analytics import LCData, LCBinaryAnalyticsTask\n",
    "\n",
    "\n",
    "# setting up a custom logging config to prevent unreasonably long log messages during fit\n",
    "settings.configure(LOG_CONFIG='fit', LIMB_DARKENING_LAW='logarithmic')"
   ]
  },
  {
   "cell_type": "markdown",
   "id": "9da3868b",
   "metadata": {},
   "source": [
    "# Demo No. 14 - Atmosphere models and custom limb-darkening coefficients. "
   ]
  },
  {
   "cell_type": "markdown",
   "id": "6caccb1e",
   "metadata": {},
   "source": [
    "Since version 0.6, ELISa supports custom limb-darkening (LD) coefficients and multiple atmosphere model during light curve evaluation as well as fitting procedure in `AnalyticsTask`  nodule."
   ]
  },
  {
   "cell_type": "markdown",
   "id": "e26aa7ed",
   "metadata": {},
   "source": [
    "## Cutom atmosphere models and limb-darkening coefficients during the LC evaluation."
   ]
  },
  {
   "cell_type": "markdown",
   "id": "5c5af7bc-60a5-48b7-b0eb-5a58bc2254dc",
   "metadata": {},
   "source": [
    "Lets demonstrate the ability to set custom atmospheric parameters in the JSON used to define the BinarySystem. This is an example of a binary system that would have failed to initialize due to the effective temperature of the primary component being outside the supported range of effective temperatures:"
   ]
  },
  {
   "cell_type": "code",
   "execution_count": 2,
   "id": "385e9a9d-cbf7-4398-abff-d085c3670424",
   "metadata": {},
   "outputs": [],
   "source": [
    "system_params = {\n",
    "    'system': {\n",
    "        \"inclination\": 85,\n",
    "        \"period\": 0.3642210,\n",
    "        \"argument_of_periastron\": 0.0,\n",
    "        \"gamma\": 0.0,\n",
    "        \"eccentricity\": 0.0,\n",
    "        \"primary_minimum_time\": 0.0,\n",
    "        \"phase_shift\": 0.0,\n",
    "        \"semi_major_axis\": 2.0,\n",
    "        \"mass_ratio\": 1.3\n",
    "    },\n",
    "    'primary': {\n",
    "        \"surface_potential\": 8.0,\n",
    "        \"synchronicity\": 1.0,\n",
    "        \"t_eff\": 55000.0,\n",
    "        \"atmosphere\": 'bb',  # black-body model used to model emerging spectral flux instead of the default 'ck04' Castelli & Kurucz model\n",
    "        \"limb_darkening_coefficients\": {\n",
    "            'bolometric': [0.5, 0.5],\n",
    "            'TESS': [0.5, 0.5]\n",
    "        }   # instead of interpolation, LD coefficients are set as constant across the surface \n",
    "    },\n",
    "    'secondary': {\n",
    "        \"surface_potential\": 8.0,\n",
    "        \"synchronicity\": 1.0,\n",
    "        \"t_eff\": 5500.0\n",
    "    }\n",
    "}"
   ]
  },
  {
   "cell_type": "markdown",
   "id": "092085fd-b054-4d7d-a4c6-0d35af54c129",
   "metadata": {},
   "source": [
    "Atmosphere model name can be passed inside `atmosphere` component argument. Currently, two options are available, the default Castelli & Kurucz model `ck04` or black body model `bb`. LD coefficients can be passed in `limb_darkening_coefficients` component argument and they are supplied in dict format with combination of LD coefficients defined for each desired passband + mandatory `bolometric` passband. The length of each LD argument vector is defined by LD law. In case of `linear` (`cosine`) LD law, 1 LD coefficient needs to be supplied, whereas `logarithmic` or `square_root` laws requre 2 LD coefficients.\n",
    "\n",
    "Now we can proceed to system definition and calculation of the LC."
   ]
  },
  {
   "cell_type": "code",
   "execution_count": 5,
   "id": "3c74d722-0886-40ab-97c6-583cd528ae31",
   "metadata": {},
   "outputs": [
    {
     "data": {
      "image/png": "[encoded data removed]",
      "text/plain": [
       "<Figure size 576x432 with 1 Axes>"
      ]
     },
     "metadata": {
      "needs_background": "light"
     },
     "output_type": "display_data"
    }
   ],
   "source": [
    "bs = BinarySystem.from_json(system_params)\n",
    "o = Observer(passband=['TESS'], system=bs)\n",
    "o.lc(phases=np.linspace(-0.6, 0.6, 100), normalize=True)\n",
    "o.plot.phase_curve()"
   ]
  },
  {
   "cell_type": "markdown",
   "id": "62f92956-b573-4167-9405-1a4710cf4395",
   "metadata": {},
   "source": [
    "## Custom atmosphere models and limb-darkening coefficients in `AnalyticsTask` module"
   ]
  },
  {
   "cell_type": "markdown",
   "id": "c64d1970-cb94-44f8-80ba-7b6051ec0b3a",
   "metadata": {},
   "source": [
    "Custom atmosphere models and LD coefficients can be set as well within the definition of the `AnalyticsTask` instance. The fitting procedure is for the custom atmosphere models and LD coefficients is the same as described in the previous tutorials with the only difference in the definition of the `AnalyticsTask` instance:"
   ]
  },
  {
   "cell_type": "code",
   "execution_count": null,
   "id": "a8f18329-00ea-45a6-9ef7-57c72b46b305",
   "metadata": {},
   "outputs": [],
   "source": [
    "task = LCBinaryAnalyticsTask(\n",
    "    data={'Kepler': kepler_data},\n",
    "    method='least_squares', \n",
    "    expected_morphology='detached',\n",
    "    atmosphere_models={'primary': 'bb', 'secondary': 'ck04'},\n",
    "    limb_darkening_coefficients={\n",
    "        \"primary\": {\n",
    "            'bolometric': [0.5, 0.5],  \n",
    "            'Kepler': [0.5, 0.5]\n",
    "        }\n",
    "    }\n",
    ")"
   ]
  }
 ],
 "metadata": {
  "kernelspec": {
   "display_name": "Python 3 (ipykernel)",
   "language": "python",
   "name": "python3"
  },
  "language_info": {
   "codemirror_mode": {
    "name": "ipython",
    "version": 3
   },
   "file_extension": ".py",
   "mimetype": "text/x-python",
   "name": "python",
   "nbconvert_exporter": "python",
   "pygments_lexer": "ipython3",
   "version": "3.8.10"
  }
 },
 "nbformat": 4,
 "nbformat_minor": 5
}
