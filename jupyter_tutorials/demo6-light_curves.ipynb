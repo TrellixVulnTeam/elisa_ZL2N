{
 "cells": [
  {
   "cell_type": "code",
   "execution_count": 1,
   "metadata": {},
   "outputs": [
    {
     "name": "stderr",
     "output_type": "stream",
     "text": [
      "/home/miro/ELISa/src/elisa/conf/config.py:161: UserWarning: path /home/miro/ELISa/atmosphere/ck93\n",
      "to kurucz 1993 atmosphere atlas doesn't exists\n",
      "Specifiy it in elisa_conf.ini file\n",
      "  \"Specifiy it in elisa_conf.ini file\".format(K93_ATM_TABLES))\n"
     ]
    }
   ],
   "source": [
    "import sys\n",
    "import os\n",
    "os.chdir(\"..\")\n",
    "sys.path.append(os.getcwd() + '/src')\n",
    "\n",
    "from elisa.conf import config\n",
    "config.LOG_CONFIG = os.getcwd() + 'jupyter_tutorials/logging.json'"
   ]
  },
  {
   "cell_type": "markdown",
   "metadata": {},
   "source": [
    "# Demo No. 6 - Producing synthetic light curves"
   ]
  },
  {
   "cell_type": "markdown",
   "metadata": {},
   "source": [
    "This demo will finally provide a quick guide trough a process of generating light curves."
   ]
  },
  {
   "cell_type": "markdown",
   "metadata": {},
   "source": [
    "## Defining a binary system"
   ]
  },
  {
   "cell_type": "markdown",
   "metadata": {},
   "source": [
    "In this stage, we will define a binary model as usual:"
   ]
  },
  {
   "cell_type": "code",
   "execution_count": 2,
   "metadata": {},
   "outputs": [
    {
     "name": "stderr",
     "output_type": "stream",
     "text": [
      "INFO:BinarySystem:initialising object BinarySystem\n",
      "INFO:BinarySystem:Setting discretization factor of secondary component to 8.17 as a according to discretization factor of the primary component \n"
     ]
    }
   ],
   "source": [
    "from elisa.binary_system.system import BinarySystem\n",
    "from elisa.base.star import Star\n",
    "from astropy import units as u\n",
    "\n",
    "\n",
    "primary = Star(\n",
    "    mass=2.15 * u.solMass,\n",
    "    surface_potential=3.6,\n",
    "    synchronicity=1.0,\n",
    "    t_eff=10000 * u.K,\n",
    "    gravity_darkening=1.0,\n",
    "    discretization_factor=5,  # angular size (in degrees) of the surface elements\n",
    "    albedo=0.6,\n",
    "    metallicity=0.0,\n",
    ")\n",
    "\n",
    "secondary = Star(\n",
    "    mass=1.2 * u.solMass,\n",
    "    surface_potential=4.0,\n",
    "    synchronicity=1.0,\n",
    "    t_eff=7000 * u.K,\n",
    "    gravity_darkening=1.0,\n",
    "    # discretization_factor=20,\n",
    "    albedo=0.6,\n",
    "    metallicity=0,\n",
    ")\n",
    "\n",
    "bs = BinarySystem(\n",
    "    primary=primary,\n",
    "    secondary=secondary,\n",
    "    argument_of_periastron=58 * u.deg,\n",
    "    gamma=-30.7 * u.km / u.s,\n",
    "    period=2.5 * u.d,\n",
    "    eccentricity=0.0,\n",
    "    inclination=85 * u.deg,\n",
    "    primary_minimum_time=2440000.0 * u.d,\n",
    "    phase_shift=0.0,\n",
    ")"
   ]
  },
  {
   "cell_type": "markdown",
   "metadata": {},
   "source": [
    "## Defining observer class instance"
   ]
  },
  {
   "cell_type": "markdown",
   "metadata": {},
   "source": [
    "In order to be able to specify observer-dependent parameters of the light curve such as passband we have to define `Observer` class: "
   ]
  },
  {
   "cell_type": "code",
   "execution_count": 3,
   "metadata": {},
   "outputs": [
    {
     "name": "stderr",
     "output_type": "stream",
     "text": [
      "INFO:Observer:initialising Observer instance\n"
     ]
    }
   ],
   "source": [
    "from elisa.observer.observer import Observer\n",
    "\n",
    "o = Observer(passband=[  # defining passbands at which calculate a light curve\n",
    "#     'Generic.Bessell.U',\n",
    "    'Generic.Bessell.B',\n",
    "    'Generic.Bessell.V',\n",
    "    'Generic.Bessell.R',\n",
    "    'Generic.Bessell.I',\n",
    "                      ],\n",
    "             system=bs)  # specifying the binary system to use in light curve synthesis"
   ]
  },
  {
   "cell_type": "markdown",
   "metadata": {},
   "source": [
    "List of all available passbands can be found in ... . `Observer` enables to perform ''observations''. Synthetic light curve of our binary system can be produced using function on our `Observer` class instance: "
   ]
  },
  {
   "cell_type": "code",
   "execution_count": 4,
   "metadata": {},
   "outputs": [
    {
     "name": "stderr",
     "output_type": "stream",
     "text": [
      "INFO:Observer:observation start w/ following configuration {<add>}\n",
      "INFO:BinarySystem:Implementing light curve generator function for synchronous binary system with circular orbit or circular assynchronous systems without spots.\n",
      "INFO:Observer:observation finished\n"
     ]
    }
   ],
   "source": [
    "phases, curves = o.observe(\n",
    "    from_phase=-0.6,\n",
    "    to_phase=0.6,\n",
    "    phase_step=0.01,\n",
    "                  )"
   ]
  },
  {
   "cell_type": "markdown",
   "metadata": {},
   "source": [
    "This function returns `phases` in which synthetic light curves were produced and `curves` dictionary with synthetic light curves for every passband specifyied in `observer` class."
   ]
  },
  {
   "cell_type": "code",
   "execution_count": 5,
   "metadata": {},
   "outputs": [
    {
     "data": {
      "text/plain": [
       "{'Generic.Bessell.B': array([ 91949874.24512613,  91699412.6392843 ,  91100955.11100501,\n",
       "         89976020.11154453,  88506059.92881364,  86837057.99789995,\n",
       "         85176926.24150376,  83734854.51730463,  82788820.49323225,\n",
       "         82603749.85462788,  82585482.97949541,  82603749.85462788,\n",
       "         82788820.49323225,  83734854.51730463,  85176926.24150376,\n",
       "         86837057.99789995,  88506059.92881364,  89976020.11154453,\n",
       "         91100955.11100501,  91699412.6392843 ,  91949874.24512613,\n",
       "         92220943.75406596,  92510701.12859029,  92805233.68317758,\n",
       "         93103612.56091781,  93410181.4561457 ,  93712232.92064628,\n",
       "         94001255.99866244,  94280079.17352836,  94538692.60449231,\n",
       "         94766168.69938473,  94965868.15898898,  95128686.64279714,\n",
       "         95241988.09201065,  95314728.59324627,  95334926.69407126,\n",
       "         95300265.45730756,  95209736.71866639,  95070021.2057578 ,\n",
       "         94871876.24382529,  94623866.3971386 ,  94329804.9235131 ,\n",
       "         93991864.78658724,  93615374.56360032,  93210423.29275334,\n",
       "         92779430.65146317,  92330869.22091612,  91877581.67653891,\n",
       "         91421635.44737574,  90967050.53083181,  90529682.6601626 ,\n",
       "         90115553.7948952 ,  88464151.55468202,  85189652.70247532,\n",
       "         80752368.939522  ,  75418836.90762588,  69529798.79195918,\n",
       "         63542943.94443736,  58393495.5072737 ,  56253166.42893287,\n",
       "         55839451.7739301 ,  56253166.42893287,  58393495.5072737 ,\n",
       "         63542943.94443736,  69529798.79195918,  75418836.90762588,\n",
       "         80752368.939522  ,  85189652.70247532,  88464151.55468202,\n",
       "         90115553.7948952 ,  90529682.6601626 ,  90967050.53083181,\n",
       "         91421635.44737574,  91877581.67653891,  92330869.22091612,\n",
       "         92779430.65146317,  93210423.29275334,  93615374.56360032,\n",
       "         93991864.78658724,  94329804.9235131 ,  94623866.3971386 ,\n",
       "         94871876.24382529,  95070021.2057578 ,  95209736.71866639,\n",
       "         95300265.45730756,  95334926.69407126,  95314728.59324627,\n",
       "         95241988.09201065,  95128686.64279714,  94965868.15898898,\n",
       "         94766168.69938473,  94538692.60449231,  94280079.17352836,\n",
       "         94001255.99866244,  93712232.92064628,  93410181.4561457 ,\n",
       "         93103612.56091781,  92805233.68317758,  92510701.12859029,\n",
       "         92220943.75406596,  91949874.24512613,  91699412.6392843 ,\n",
       "         91100955.11100501,  89976020.11154453,  88506059.92881364,\n",
       "         86837057.99789995,  85176926.24150376,  83734854.51730463,\n",
       "         82788820.49323225,  82603749.85462788,  82585482.97949541,\n",
       "         82603749.85462788,  82788820.49323225,  83734854.51730463,\n",
       "         85176926.24150376,  86837057.99789995,  88506059.92881364,\n",
       "         89976020.11154453,  91100955.11100501,  91699412.6392843 ]),\n",
       " 'Generic.Bessell.I': array([ 54473072.77415753,  54362107.85714162,  53804175.42219432,\n",
       "         52730122.10205592,  51334304.93776472,  49727221.72407743,\n",
       "         48062504.56247863,  46512899.59845005,  45388377.09019776,\n",
       "         45162135.43177078,  45153814.26179902,  45162135.43177078,\n",
       "         45388377.09019776,  46512899.59845005,  48062504.56247863,\n",
       "         49727221.72407743,  51334304.93776472,  52730122.10205592,\n",
       "         53804175.42219432,  54362107.85714162,  54473072.77415753,\n",
       "         54598156.21557196,  54731068.53672732,  54866613.68613248,\n",
       "         54999849.05757951,  55139918.79245897,  55276424.23463354,\n",
       "         55403905.24053652,  55529124.99001227,  55640105.37943122,\n",
       "         55737603.92272381,  55819201.98720825,  55884265.75302668,\n",
       "         55924479.1773264 ,  55944011.29388994,  55938535.71315385,\n",
       "         55909122.7899773 ,  55854086.05740014,  55776350.85850987,\n",
       "         55672151.50116498,  55548803.19885686,  55405405.72398678,\n",
       "         55246689.45820498,  55069859.69715431,  54887461.94814106,\n",
       "         54694118.41781111,  54495296.06976435,  54301550.463871  ,\n",
       "         54105314.13907717,  53912655.14372879,  53728926.39474776,\n",
       "         53561692.29617546,  52582737.71640908,  50725372.15498433,\n",
       "         48293344.4762605 ,  45432422.77797264,  42334930.58252524,\n",
       "         39243915.86337093,  36676355.95212866,  35849206.67989877,\n",
       "         35738690.26701632,  35849206.67989877,  36676355.95212866,\n",
       "         39243915.86337093,  42334930.58252524,  45432422.77797264,\n",
       "         48293344.4762605 ,  50725372.15498433,  52582737.71640908,\n",
       "         53561692.29617546,  53728926.39474776,  53912655.14372879,\n",
       "         54105314.13907717,  54301550.463871  ,  54495296.06976435,\n",
       "         54694118.41781111,  54887461.94814106,  55069859.69715431,\n",
       "         55246689.45820498,  55405405.72398678,  55548803.19885686,\n",
       "         55672151.50116498,  55776350.85850987,  55854086.05740014,\n",
       "         55909122.7899773 ,  55938535.71315385,  55944011.29388994,\n",
       "         55924479.1773264 ,  55884265.75302668,  55819201.98720825,\n",
       "         55737603.92272381,  55640105.37943122,  55529124.99001227,\n",
       "         55403905.24053652,  55276424.23463354,  55139918.79245897,\n",
       "         54999849.05757951,  54866613.68613248,  54731068.53672732,\n",
       "         54598156.21557196,  54473072.77415753,  54362107.85714162,\n",
       "         53804175.42219432,  52730122.10205592,  51334304.93776472,\n",
       "         49727221.72407743,  48062504.56247863,  46512899.59845005,\n",
       "         45388377.09019776,  45162135.43177078,  45153814.26179902,\n",
       "         45162135.43177078,  45388377.09019776,  46512899.59845005,\n",
       "         48062504.56247863,  49727221.72407743,  51334304.93776472,\n",
       "         52730122.10205592,  53804175.42219432,  54362107.85714162]),\n",
       " 'Generic.Bessell.R': array([ 47204931.82632478,  47099859.02050361,  46679423.9271175 ,\n",
       "         45867655.67312469,  44808626.33839324,  43592553.68670066,\n",
       "         42346019.60554998,  41206850.92516299,  40403733.03560153,\n",
       "         40245112.90190762,  40237180.89500019,  40245112.90190762,\n",
       "         40403733.03560153,  41206850.92516299,  42346019.60554998,\n",
       "         43592553.68670066,  44808626.33839324,  45867655.67312469,\n",
       "         46679423.9271175 ,  47099859.02050361,  47204931.82632478,\n",
       "         47321342.20146632,  47445634.51591266,  47571717.34552024,\n",
       "         47697173.08976835,  47827878.81561629,  47955611.56273092,\n",
       "         48075799.7863305 ,  48192744.71940584,  48298220.1675152 ,\n",
       "         48390223.72264213,  48468590.54837503,  48531086.35821081,\n",
       "         48570517.94030315,  48591632.11638964,  48589360.53136179,\n",
       "         48563835.22915134,  48514056.58096257,  48443448.94613266,\n",
       "         48347490.0129754 ,  48232142.34353731,  48097942.04310167,\n",
       "         47947296.642434  ,  47780128.34854781,  47605074.81172603,\n",
       "         47419439.79300679,  47227831.70697258,  47038611.77219462,\n",
       "         46847821.55041635,  46659059.45110548,  46478811.12842196,\n",
       "         46311955.52785212,  45459946.65382417,  43823480.50097738,\n",
       "         41658348.51555323,  39093894.54233992,  36299593.86331485,\n",
       "         33493997.25867943,  31136716.87420676,  30305165.75754855,\n",
       "         30174056.52949794,  30305165.75754855,  31136716.87420676,\n",
       "         33493997.25867943,  36299593.86331485,  39093894.54233992,\n",
       "         41658348.51555323,  43823480.50097738,  45459946.65382417,\n",
       "         46311955.52785212,  46478811.12842196,  46659059.45110548,\n",
       "         46847821.55041635,  47038611.77219462,  47227831.70697258,\n",
       "         47419439.79300679,  47605074.81172603,  47780128.34854781,\n",
       "         47947296.642434  ,  48097942.04310167,  48232142.34353731,\n",
       "         48347490.0129754 ,  48443448.94613266,  48514056.58096257,\n",
       "         48563835.22915134,  48589360.53136179,  48591632.11638964,\n",
       "         48570517.94030315,  48531086.35821081,  48468590.54837503,\n",
       "         48390223.72264213,  48298220.1675152 ,  48192744.71940584,\n",
       "         48075799.7863305 ,  47955611.56273092,  47827878.81561629,\n",
       "         47697173.08976835,  47571717.34552024,  47445634.51591266,\n",
       "         47321342.20146632,  47204931.82632478,  47099859.02050361,\n",
       "         46679423.9271175 ,  45867655.67312469,  44808626.33839324,\n",
       "         43592553.68670066,  42346019.60554998,  41206850.92516299,\n",
       "         40403733.03560153,  40245112.90190762,  40237180.89500019,\n",
       "         40245112.90190762,  40403733.03560153,  41206850.92516299,\n",
       "         42346019.60554998,  43592553.68670066,  44808626.33839324,\n",
       "         45867655.67312469,  46679423.9271175 ,  47099859.02050361]),\n",
       " 'Generic.Bessell.V': array([ 66262756.68972263,  66106118.40387767,  65586197.86632456,\n",
       "         64574088.37862599,  63243143.52978292,  61716720.66249347,\n",
       "         60167995.09437382,  58782020.67073469,  57836011.86374219,\n",
       "         57653473.39490523,  57641751.99684691,  57653473.39490523,\n",
       "         57836011.86374219,  58782020.67073469,  60167995.09437382,\n",
       "         61716720.66249347,  63243143.52978292,  64574088.37862599,\n",
       "         65586197.86632456,  66106118.40387767,  66262756.68972263,\n",
       "         66434295.85411642,  66617681.58326387,  66803760.38084719,\n",
       "         66990582.61585649,  67183959.10412577,  67373658.92765589,\n",
       "         67553545.32417619,  67727773.61671883,  67887070.98923527,\n",
       "         68026234.86657849,  68146439.87406351,  68242964.68750918,\n",
       "         68306296.87327126,  68343054.46662489,  68345444.37870353,\n",
       "         68312822.07415335,  68244133.57519414,  68144182.50087143,\n",
       "         68006526.5779472 ,  67838410.62598749,  67641520.670358  ,\n",
       "         67418342.29234627,  67170582.20944948,  66907912.30859715,\n",
       "         66629146.28346126,  66340422.95782002,  66052111.04217655,\n",
       "         65761964.61246348,  65473860.27388843,  65197830.05235146,\n",
       "         64939363.25223044,  63756727.72707902,  61441992.72813591,\n",
       "         58339602.78901552,  54636320.66317455,  50573499.39369389,\n",
       "         46468503.30291142,  42977699.93847965,  41629927.51261751,\n",
       "         41389162.59989779,  41629927.51261751,  42977699.93847965,\n",
       "         46468503.30291142,  50573499.39369389,  54636320.66317455,\n",
       "         58339602.78901552,  61441992.72813591,  63756727.72707902,\n",
       "         64939363.25223044,  65197830.05235146,  65473860.27388843,\n",
       "         65761964.61246348,  66052111.04217655,  66340422.95782002,\n",
       "         66629146.28346126,  66907912.30859715,  67170582.20944948,\n",
       "         67418342.29234627,  67641520.670358  ,  67838410.62598749,\n",
       "         68006526.5779472 ,  68144182.50087143,  68244133.57519414,\n",
       "         68312822.07415335,  68345444.37870353,  68343054.46662489,\n",
       "         68306296.87327126,  68242964.68750918,  68146439.87406351,\n",
       "         68026234.86657849,  67887070.98923527,  67727773.61671883,\n",
       "         67553545.32417619,  67373658.92765589,  67183959.10412577,\n",
       "         66990582.61585649,  66803760.38084719,  66617681.58326387,\n",
       "         66434295.85411642,  66262756.68972263,  66106118.40387767,\n",
       "         65586197.86632456,  64574088.37862599,  63243143.52978292,\n",
       "         61716720.66249347,  60167995.09437382,  58782020.67073469,\n",
       "         57836011.86374219,  57653473.39490523,  57641751.99684691,\n",
       "         57653473.39490523,  57836011.86374219,  58782020.67073469,\n",
       "         60167995.09437382,  61716720.66249347,  63243143.52978292,\n",
       "         64574088.37862599,  65586197.86632456,  66106118.40387767])}"
      ]
     },
     "execution_count": 5,
     "metadata": {},
     "output_type": "execute_result"
    }
   ],
   "source": [
    "curves"
   ]
  },
  {
   "cell_type": "markdown",
   "metadata": {},
   "source": [
    "## Visualizing the results"
   ]
  },
  {
   "cell_type": "markdown",
   "metadata": {},
   "source": [
    "Resulting light curves can be visualized in very similarly as in the case of `BinarySystem` instance:"
   ]
  },
  {
   "cell_type": "code",
   "execution_count": 6,
   "metadata": {},
   "outputs": [
    {
     "data": {
      "image/png": "[encoded data removed]",
      "text/plain": [
       "<matplotlib.figure.Figure at 0x7fc2b11f76d8>"
      ]
     },
     "metadata": {
      "needs_background": "light"
     },
     "output_type": "display_data"
    }
   ],
   "source": [
    "o.plot.light_curve(phases=phases, curves=curves)"
   ]
  },
  {
   "cell_type": "markdown",
   "metadata": {},
   "source": [
    "## Introducing pulsations"
   ]
  },
  {
   "cell_type": "markdown",
   "metadata": {},
   "source": [
    "One of the main goals of this software package is to generate light curves of the oscillating eclipsing binaries (oEB). Therefore lets demonstrate this capability by introducing pulsations into our binary system bs:"
   ]
  },
  {
   "cell_type": "code",
   "execution_count": 9,
   "metadata": {},
   "outputs": [
    {
     "name": "stderr",
     "output_type": "stream",
     "text": [
      "INFO:PulsationMode:initialising object PulsationMode\n",
      "INFO:BinarySystem:initialising object BinarySystem\n",
      "INFO:BinarySystem:Setting discretization factor of secondary component to 8.17 as a according to discretization factor of the primary component \n"
     ]
    }
   ],
   "source": [
    "pulsations_primary = [\n",
    "        {\n",
    "            'l': 1,\n",
    "            'm': 1,\n",
    "            'amplitude': 50 * u.K,\n",
    "            'frequency': 7 / u.d,\n",
    "            'start_phase': 1.5,\n",
    "#             'mode_axis_theta': 15 * u.deg,\n",
    "#             'mode_axis_phi': 90 * u.deg,\n",
    "        },\n",
    "]\n",
    "\n",
    "primary.pulsations = pulsations_primary\n",
    "bs.init()"
   ]
  },
  {
   "cell_type": "markdown",
   "metadata": {},
   "source": [
    "Our primary component now contains one dipole mode. We can use the same set of commands to produce synthetic light curves and visualize the results (it may take a while): "
   ]
  },
  {
   "cell_type": "code",
   "execution_count": null,
   "metadata": {},
   "outputs": [
    {
     "name": "stderr",
     "output_type": "stream",
     "text": [
      "INFO:Observer:initialising Observer instance\n",
      "INFO:Observer:observation start w/ following configuration {<add>}\n",
      "INFO:BinarySystem:Implementing light curve generator function for synchronous binary system with circular orbit or circular assynchronous systems without spots.\n"
     ]
    }
   ],
   "source": [
    "o = Observer(passband=[  # defining passbands at which calculate a light curve\n",
    "#     'Generic.Bessell.U',\n",
    "    'Generic.Bessell.B',\n",
    "    'Generic.Bessell.V',\n",
    "    'Generic.Bessell.R',\n",
    "#     'Generic.Bessell.I',\n",
    "                      ],\n",
    "             system=bs)\n",
    "\n",
    "phases, curves = o.observe(\n",
    "    from_phase=-0.6,\n",
    "    to_phase=0.6,\n",
    "    phase_step=0.005,\n",
    ")\n",
    "\n",
    "o.plot.light_curve(phases=phases, curves=curves)"
   ]
  },
  {
   "cell_type": "code",
   "execution_count": null,
   "metadata": {},
   "outputs": [],
   "source": []
  }
 ],
 "metadata": {
  "kernelspec": {
   "display_name": "Python 3",
   "language": "python",
   "name": "python3"
  },
  "language_info": {
   "codemirror_mode": {
    "name": "ipython",
    "version": 3
   },
   "file_extension": ".py",
   "mimetype": "text/x-python",
   "name": "python",
   "nbconvert_exporter": "python",
   "pygments_lexer": "ipython3",
   "version": "3.6.8"
  }
 },
 "nbformat": 4,
 "nbformat_minor": 1
}
