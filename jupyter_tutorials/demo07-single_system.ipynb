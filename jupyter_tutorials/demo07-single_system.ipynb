{
 "cells": [
  {
   "cell_type": "markdown",
   "metadata": {},
   "source": [
    "# Demo No. 6 - Single System "
   ]
  },
  {
   "cell_type": "markdown",
   "metadata": {},
   "source": [
    "This particular tutorial will introduce a `SingleSystem` class dedicated to modelling of single star systems with surface features such as spots and pulsations. The syntax is very similar to binary system where we initially import necessary object classes: "
   ]
  },
  {
   "cell_type": "code",
   "execution_count": 5,
   "metadata": {},
   "outputs": [],
   "source": [
    "import numpy as np\n",
    "\n",
    "from astropy import units as u\n",
    "\n",
    "from elisa import SingleSystem\n",
    "from elisa import Star\n",
    "\n",
    "from elisa import Observer\n",
    "from elisa import (\n",
    "    const as c,\n",
    "    units as eu\n",
    ")"
   ]
  },
  {
   "cell_type": "markdown",
   "metadata": {},
   "source": [
    "After that we can define our star and parameters of the single star system. Lets take a solar model as an example:"
   ]
  },
  {
   "cell_type": "code",
   "execution_count": 6,
   "metadata": {},
   "outputs": [
    {
     "name": "stdout",
     "output_type": "stream",
     "text": [
      "2021-04-01 09:20:42,099 - 32483 - single_system.system - INFO: initialising object SingleSystem\n"
     ]
    }
   ],
   "source": [
    "star = Star(\n",
    "    mass=1.0*u.solMass,\n",
    "    t_eff=5772*u.K,\n",
    "    gravity_darkening=0.32,\n",
    "    polar_log_g=4.43775*u.dex(u.cm/u.s**2),\n",
    "    metallicity=0.0,\n",
    "    discretization_factor=2\n",
    ")\n",
    "\n",
    "system = SingleSystem(\n",
    "    star=star,\n",
    "    gamma=0*u.km/u.s,\n",
    "    inclination=90*u.deg,\n",
    "    rotation_period=25.380*u.d,\n",
    "    reference_time=0.0*u.d\n",
    ")"
   ]
  },
  {
   "cell_type": "markdown",
   "metadata": {},
   "source": [
    "As usual, we can acces dependent and independent atributes after system initialization."
   ]
  },
  {
   "cell_type": "markdown",
   "metadata": {},
   "source": [
    "Example of `Star` attributes used in `SingleSystem`:"
   ]
  },
  {
   "cell_type": "code",
   "execution_count": 12,
   "metadata": {},
   "outputs": [
    {
     "name": "stdout",
     "output_type": "stream",
     "text": [
      "mass = 1.99e+30 kg, \n",
      "surface_potential = -1.91e+11, \n",
      "critical_potential = -7.87e+09, \n",
      "polar_radius = 6.96e+08 m, \n",
      "\n"
     ]
    }
   ],
   "source": [
    "print(\n",
    "    f'mass = {system.star.mass * eu.MASS_UNIT:.3}, \\n'\n",
    "    f'surface_potential = {system.star.surface_potential:.3}, \\n'\n",
    "    f'critical_potential = {system.star.critical_surface_potential:.3}' \n",
    ")"
   ]
  },
  {
   "cell_type": "markdown",
   "metadata": {},
   "source": [
    "Additionally, all significant radii of the star can be accessed:"
   ]
  },
  {
   "cell_type": "code",
   "execution_count": 15,
   "metadata": {},
   "outputs": [
    {
     "name": "stdout",
     "output_type": "stream",
     "text": [
      "polar radius = 6.96e+08 m, \n",
      "equatorial radius = 6.96e+08 m, \n",
      "equivalent radius = 6.96e+08 m, \n",
      "\n"
     ]
    }
   ],
   "source": [
    "print(\n",
    "    f'polar radius = {system.star.polar_radius * eu.DISTANCE_UNIT:.3}, \\n'\n",
    "    f'equatorial radius = {system.star.equatorial_radius * eu.DISTANCE_UNIT:.3}, \\n' \n",
    "    f'equivalent radius = {system.star.equivalent_radius * eu.DISTANCE_UNIT:.3}, \\n' \n",
    ")"
   ]
  },
  {
   "cell_type": "markdown",
   "metadata": {},
   "source": [
    "Here are some attributes of the `SingleSystem` instance:"
   ]
  },
  {
   "cell_type": "code",
   "execution_count": 4,
   "metadata": {},
   "outputs": [
    {
     "name": "stdout",
     "output_type": "stream",
     "text": [
      "inclination = 1.57 rad, \n",
      "phase_shift = 0.0, \n",
      "angular_velocity = 2.87e-06 rad / s\n"
     ]
    }
   ],
   "source": [
    "print(\n",
    "    f'inclination = {system.inclination * eu.ARC_UNIT:.3}, \\n'\n",
    "    f'phase_shift = {system.phase_shift:.3}, \\n'  # rotational phase at `reference_time` \n",
    "    f'angular_velocity = {system.angular_velocity * eu.ANGULAR_FREQUENCY_UNIT:.3}'\n",
    ")"
   ]
  },
  {
   "cell_type": "markdown",
   "metadata": {},
   "source": [
    "##  Initializing a SingleSystem from dict/json object"
   ]
  },
  {
   "cell_type": "markdown",
   "metadata": {},
   "source": [
    "Instances of a `SingleSystem` can be also initialized using a dictionary of parameters that can be stored in a json format. This approach enables to define a system using different combination of parameters. Currently, the `standard` and `radius` format are available. Function `SingleSystem.from_json(dict)` is used to initialize the system instance from the combination of parameters:"
   ]
  },
  {
   "cell_type": "code",
   "execution_count": 17,
   "metadata": {},
   "outputs": [
    {
     "name": "stdout",
     "output_type": "stream",
     "text": [
      "2021-04-01 10:31:39,901 - 32483 - single_system.system - INFO: initialising object SingleSystem\n"
     ]
    }
   ],
   "source": [
    "standard_params = {\n",
    "    \"system\": {\n",
    "        \"inclination\": 90.0,\n",
    "        \"rotation_period\": 10.1,\n",
    "        \"gamma\": 10000,\n",
    "        \"reference_time\": 0.5,\n",
    "        \"phase_shift\": 0.0\n",
    "    },\n",
    "    \"star\": {\n",
    "        \"mass\": 1.0,\n",
    "        \"t_eff\": 5772.0,\n",
    "        \"gravity_darkening\": 0.32,\n",
    "        \"discretization_factor\": 5,\n",
    "        \"metallicity\": 0.0,\n",
    "        \"polar_log_g\": \"4.43775 dex(cm.s-2)\"   # you can also use logarithmic units using json/dict input\n",
    "    }\n",
    "}\n",
    "\n",
    "standard_single = SingleSystem.from_json(standard_params)"
   ]
  },
  {
   "cell_type": "markdown",
   "metadata": {},
   "source": [
    "`standard` and `radius` parameter format differ from each other by a manner in which the size of the star is defined. `standard` format requires a logarithm of a polar surface gravity `polar_log_g` whereas the `radius` format uses a `equivalent_radius`:"
   ]
  },
  {
   "cell_type": "code",
   "execution_count": 19,
   "metadata": {},
   "outputs": [
    {
     "name": "stdout",
     "output_type": "stream",
     "text": [
      "2021-04-01 10:52:33,394 - 32483 - single_system.system - INFO: initialising object SingleSystem\n"
     ]
    }
   ],
   "source": [
    "radius_params = {\n",
    "    \"system\": {\n",
    "        \"inclination\": 90.0,\n",
    "        \"rotation_period\": 10.1,\n",
    "        \"gamma\": 10000,\n",
    "        \"reference_time\": 0.5,\n",
    "        \"phase_shift\": 0.0\n",
    "    },\n",
    "    \"star\": {\n",
    "        \"mass\": 1.0,\n",
    "        \"t_eff\": 5772.0,\n",
    "        \"gravity_darkening\": 0.32,\n",
    "        \"discretization_factor\": 5,\n",
    "        \"metallicity\": 0.0,\n",
    "        \"equivalent_radius\": \"1 solRad\"   \n",
    "    }\n",
    "}\n",
    "\n",
    "radius_single = SingleSystem.from_json(radius_params)"
   ]
  },
  {
   "cell_type": "markdown",
   "metadata": {},
   "source": [
    "## Synthetic observations"
   ]
  },
  {
   "cell_type": "markdown",
   "metadata": {},
   "source": [
    "Spots and pulsation are implemented into the `SingleStar` system exactly as in case of `BinarySystem` (see the corresponding tutorials). Approach to light curve calculation is also the same. As an example we can examine a value of a solar constant using our solar model (warning is caused by the usage of `bolometric` \"passband\"):"
   ]
  },
  {
   "cell_type": "code",
   "execution_count": 16,
   "metadata": {},
   "outputs": [
    {
     "name": "stdout",
     "output_type": "stream",
     "text": [
      "2021-04-01 09:44:51,564 - 32483 - observer.observer - INFO: initialising Observer instance\n",
      "2021-04-01 09:44:51,578 - 32483 - observer.observer - INFO: observation is running\n",
      "2021-04-01 09:44:51,600 - 32483 - single_system.surface.mesh - INFO: evaluating spots\n",
      "2021-04-01 09:44:51,603 - 32483 - single_system.surface.mesh - INFO: no spots to evaluate\n",
      "2021-04-01 09:44:51,913 - 32483 - observer.observer - INFO: observation finished\n"
     ]
    },
    {
     "data": {
      "image/png": "[encoded data removed]",
      "text/plain": [
       "<Figure size 576x432 with 1 Axes>"
      ]
     },
     "metadata": {
      "needs_background": "light"
     },
     "output_type": "display_data"
    }
   ],
   "source": [
    "o = Observer(\n",
    "    passband=['bolometric'],\n",
    "    system=system\n",
    ")\n",
    "\n",
    "phases, curves = o.lc(\n",
    "    from_phase=-0.5,\n",
    "    to_phase=0.5,\n",
    "    phase_step=0.1,\n",
    ")\n",
    "\n",
    "# recalculating to flux at distance 1 AU\n",
    "for filter, flux in curves.items():\n",
    "    flux *= 1.0 / (np.power(c.AU, 2))\n",
    "\n",
    "o.plot.phase_curve(\n",
    "    phases=phases,\n",
    "    fluxes=curves,\n",
    "    unit=u.W / u.m ** 2\n",
    ")"
   ]
  },
  {
   "cell_type": "markdown",
   "metadata": {},
   "source": [
    "Accesing surface geometry and other related parameters such as temperature, surface gravity acceleration, etc. is identical as demonstrated in binary system tutorials since all these attributes are stored in class `Star` which is used by both system types."
   ]
  },
  {
   "cell_type": "code",
   "execution_count": null,
   "metadata": {},
   "outputs": [],
   "source": []
  }
 ],
 "metadata": {
  "kernelspec": {
   "display_name": "Python 3",
   "language": "python",
   "name": "python3"
  },
  "language_info": {
   "codemirror_mode": {
    "name": "ipython",
    "version": 3
   },
   "file_extension": ".py",
   "mimetype": "text/x-python",
   "name": "python",
   "nbconvert_exporter": "python",
   "pygments_lexer": "ipython3",
   "version": "3.6.9"
  },
  "pycharm": {
   "stem_cell": {
    "cell_type": "raw",
    "metadata": {
     "collapsed": false
    },
    "source": []
   }
  }
 },
 "nbformat": 4,
 "nbformat_minor": 2
}
